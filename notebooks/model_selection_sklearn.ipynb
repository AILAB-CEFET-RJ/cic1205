{
  "cells": [
    {
      "cell_type": "markdown",
      "metadata": {
        "id": "UWlV6OxwMKhU"
      },
      "source": [
        "# Model Selection\n",
        "\n",
        "The task of producing the most suitable predictive model from a dataset has many nuances. In particular, there are two aspects that need to be defined experimentally before starting to adjust a model:\n",
        "\n",
        "* At first, it may not be clear which learning algorithm is best suited to be used in a given situation.\n",
        "\n",
        "* In addition, each learning algorithm has its own set of *hyperparameters*, which are the parameters of the algorithm itself, to counter the concept of *parameter* of the ML model to be adjusted.\n",
        "\n",
        "Model selection is the process of selecting one of different learning algorithms (e.g., SVM, decision tree learning, logistic regression, etc.) or, once the learning algorithm is selected, choosing between different values ​​of hyperparameters (e.g., in polynomial regression, deciding which polynomial degree to use during training).\n",
        "\n",
        "For a given prediction task, the choice of the most appropriate learning algorithm (and its respective hyperparameter values) is made based on some *estimate* of the generalization error obtained on unused data during training. In other words, different candidate models are evaluated during model selection. The model that has the best predictive performance (according to some pre-established assessment measure) is selected as a result of the model selection process."
      ]
    },
    {
      "cell_type": "markdown",
      "metadata": {
        "id": "_HvrJRmzAqkh"
      },
      "source": [
        "# Two-way holdout method\n",
        "\n",
        "In classification or regression tasks, it is very common to split the available observations (original dataset ) in two datasets:\n",
        "\n",
        "* training dataset: used for training a model M\n",
        "* test dataset: used to estimate the *generalization error* of M\n",
        "\n",
        "This splitting method is commonly named *two-way holdout method*, or simply *holdout method*.\n"
      ]
    },
    {
      "cell_type": "markdown",
      "metadata": {
        "id": "p_Wx4vawBl9n"
      },
      "source": [
        "In Scikit-Learn, we can apply the holdout method by using the `train_test_split` function. This function receives as input a data matrix $X$ and the corresponding response vector $y$.\n",
        "\n",
        "The following image illustrates the effect of applying the function `train_test_split`. As a result, two data matrices and two response vectors are created.\n",
        "\n",
        "<p align=\"center\">\n",
        "<img src=\"https://res.cloudinary.com/dyd911kmh/image/upload/f_auto,q_auto:best/v1543836883/image_6_cfpjpr.png\">\n",
        "</p>\n",
        "\n",
        "Please notice that, each time `train_test_split` is called, it randomly selects which examples to put in the training and test datasets."
      ]
    },
    {
      "cell_type": "markdown",
      "metadata": {
        "id": "Vvv1GLjaNKI1"
      },
      "source": [
        "## Three-way holdout method\n",
        "\n",
        "The application of the two-way holdout method can lead to a misleading estimate of the generalization error if the test data is also used for model selection.\n",
        "\n",
        "Since the test dataset should ideally be used only to produce an estimate of the generalization error **after** training, it is common (at least for relatively large data sets) to further divide the training set into two subsets. The result of this is the production of three datasets, as described below.\n",
        "\n",
        "* Training set: used to adjust the parameters for several candidate models.\n",
        "\n",
        "* Validation set: used to adjust the hyperparameters of the ML algorithm. The predictive performance on this set is used for model selection. i.e., choose the best candidate model.  \n",
        "\n",
        "* Test set: used once to obtain an estimate of the generalization error for the chosen candidate model.\n",
        "\n",
        "The image below ([source](https://datascience.stackexchange.com/questions/52632/cross-validation-vs-train-validate-test)) summarizes the model selection process for a given learning algorithm using the three data sets described above. Initially, the original data set is divided into two subsets, training and testing. Then, the training set is again divided into two, which generates the training, validation and test sets. After that, for each desired combination of hyperparameter values, a model is adjusted on the training set, and its performance on the validation set is computed. In this way, for each of the $ q $ combinations of hyperparameter values, $ q $ performance estimates are obtained. The predictive model corresponding to the combination of hyperparameter values ​​that produces the best performance estimate is selected. Finally, the generalization error estimate for this selected model is produced using the test set.\n",
        "\n",
        "<p align=\"center\">\n",
        "<img src=\"https://i.stack.imgur.com/osBuF.png\">\n",
        "</p>\n",
        "\n",
        "The procedure illustrated in the figure above can be performed once for each of the different learning algorithms candidates in a supervised learning task."
      ]
    },
    {
      "cell_type": "markdown",
      "metadata": {
        "id": "9Vq5YxWvN5_F"
      },
      "source": [
        "### Split proportions\n",
        "\n",
        "Reserving  a test dataset to compute an estimate of the generalization error has the negative side effect of retaining potentially valuable information that the learning algorithm could benefit from. Therefore, choosing the size of the test set  involves a trade-off: allocating a very large test set can retain a lot of information that could be used to improve model fit during training. On the other hand, the smaller the test set, the more inaccurate the generalization error estimate is.\n",
        "\n",
        "In most practical cases, the most used divisions are 60:40,\n",
        "70:30 or 80:20, depending on the size of the initial data set.\n",
        "\n",
        "However, for large data sets, 90:10 or even 99: 1 may be appropriate, since 10% (or even 1%) of a very large sample can still be statistically significant.\n",
        "\n",
        "A common practice is to re-train the estimator on the entire data set (i.e., rejoining the training and test sets), in order to improve predictive performance of the resulting final model."
      ]
    },
    {
      "cell_type": "markdown",
      "metadata": {
        "id": "piO8DLsf93Cv"
      },
      "source": [
        "## $k$-fold Cross-validation\n",
        "\n",
        "There are two disadvantages of the holdout method:\n",
        "\n",
        "* the performance estimate can be very sensitive to the way used to subdivide the training set into the training and validation sets: this estimate will vary for different data samples. Repeating the holdout validation on different subsets of the data would provide a better estimate of the algorithm's performance.\n",
        "\n",
        "* a significant part of the data is not used for training the model. For example, if the split ratio is 50%, half of the data set does not contribute to model training! This can cause problems, especially if the initial data set is small.\n",
        "\n",
        "A more robust technique for performing model selection is *k-fold cross-validation*. This technique corresponds to applying the holdout method $k$ times over $k$ different configurations of training and validation subsets.\n",
        "\n",
        "The following figure ([source](https://sebastianraschka.com/faq/docs/evaluate-a-model.html)) illustrates $k$-fold cross validation. This is an iterative technique. In the first iteration, the training set is subdivided into $k$ disjunct sets (in the figure, $k = 10$). Then, $k-1$ of these subsets are used to fit the predictive model. Once the model has been adjusted, its error is estimated in the examples of the subset that was not used during the adjustment, which produces the value $E_1$ in the figure. In the second iteration, another fold is selected to compute the estimate and again a model is adjusted, which allows to compute another estimate of the error, $E_2$. In all, $k$ iterations are performed, which results in $k$ performance estimates. Finally, a more robust (i.e., less biased) estimate of the model error is obtained by computing the average of the previously produced $k$ estimates.\n",
        "\n",
        "<p align=\"center\">\n",
        "<img src=\"https://sebastianraschka.com/images/faq/evaluate-a-model/k-fold.png\">\n",
        "</p>\n",
        "\n",
        "Keep in mind that, as k increases:\n",
        "* Bias in the estimation of the generalization error decreases;\n",
        "Computational cost also increases.\n",
        "* Empirical evidence shows that k=10 is a good value for datasets of moderate size.\n",
        "* For large sized datasets, k can be safely decreased.\n"
      ]
    },
    {
      "cell_type": "markdown",
      "metadata": {},
      "source": [
        "### Function cross_val_score"
      ]
    },
    {
      "cell_type": "markdown",
      "metadata": {},
      "source": [
        "In the following example, the $k$-fold cross-validation technique is applied, with $k = 2$. The result is two performance estimates, which can be combined (for example, taking the average) to obtain a better measure of the model's generalization performance. This specific form of cross-validation is double cross-validation: we split the original data into two subsets and use each one as a validation set."
      ]
    },
    {
      "cell_type": "code",
      "execution_count": 30,
      "metadata": {},
      "outputs": [
        {
          "data": {
            "text/plain": [
              "(0.92, 0.96)"
            ]
          },
          "execution_count": 30,
          "metadata": {},
          "output_type": "execute_result"
        }
      ],
      "source": [
        "from sklearn.model_selection import train_test_split\n",
        "from sklearn.datasets import load_iris\n",
        "from sklearn.neighbors import KNeighborsClassifier\n",
        "from sklearn.metrics import accuracy_score\n",
        "\n",
        "# Configures k-NN with 1 neighbor\n",
        "\n",
        "iris = load_iris()\n",
        "X = iris.data\n",
        "y = iris.target\n",
        "\n",
        "# divide the original dataset in 2 equal parts\n",
        "X1, X2, y1, y2 = train_test_split(X, y, train_size=0.5)\n",
        "\n",
        "# ajusta e avalia DOIS modelos\n",
        "model = KNeighborsClassifier(n_neighbors=3)\n",
        "model.fit(X1, y1)\n",
        "y1_pred = model.predict(X2)\n",
        "\n",
        "model = KNeighborsClassifier(n_neighbors=3)\n",
        "model.fit(X2, y2)\n",
        "y2_pred = model.predict(X1)\n",
        "\n",
        "accuracy_score(y2, y1_pred), accuracy_score(y1, y2_pred)"
      ]
    },
    {
      "cell_type": "markdown",
      "metadata": {},
      "source": [
        "Implementing $k$-fold cross validation using the approach illustrated in the previous example can be time consuming for greater values of $k$. Scikit-Learn provides the function [`cross_val_score`](https://scikit-learn.org/stable/modules/generated/sklearn.model_selection.cross_val_score.html). This function makes it easier to apply $k$-fold cross validation."
      ]
    },
    {
      "cell_type": "markdown",
      "metadata": {
        "id": "LUXqo-lsHaPo"
      },
      "source": [
        "1. Input Parameters:\n",
        "\n",
        "   - `estimator`: This is the machine learning model to be evaluated (e.g., a Support Vector Machine classifier).\n",
        "   - `X`: This is the data matrix.\n",
        "   - `y`: These are the corresponding target labels for the data matrix.\n",
        "   - `cv` (optional): This defines the number of folds for cross-validation. By default, it's set to 5.\n",
        "   - `scoring` (optional): This specifies the metric used to evaluate the model's performance (e.g., accuracy, precision).\n",
        "\n",
        "2. Splitting the Data:\n",
        "   - `cross_val_score` splits the data (X, y) into the defined number of folds (`cv`).\n",
        "\n",
        "3. Looping Through Folds:\n",
        "   - One fold is used as the testing set (hold-out set).\n",
        "   - The remaining folds are combined to form the training set.\n",
        "   - The model (`estimator`) is trained on the training set.\n",
        "   - The trained model is used to make predictions on the testing set.\n",
        "   - The scoring metric is evaluated based on the predictions and true labels in the testing set.\n",
        "\n",
        "4. Repeating and Averaging:\n",
        "   - This process of training, predicting, and scoring is repeated for all cv folds.\n",
        "   - Finally, `cross_val_score` averages the scores obtained from each fold, providing an overall estimate of the model's performance across the entire dataset.\n",
        "\n",
        "5. Output:\n",
        "   - The function returns a NumPy array containing the scores for each fold of the cross-validation process. This allows you to analyze the variability of the scores across different folds. Notice that, for each fold, the training and tests sets will be different. Therefore, different score values for each fold will be produced. Also notice that we can compute the mean and standard deviation of the resulting scores.\n"
      ]
    },
    {
      "cell_type": "markdown",
      "metadata": {
        "id": "jOlBbOMaGw1h"
      },
      "source": [
        "The following example illustrates the application of the function `cross_val_score` to the case $k = 2$."
      ]
    },
    {
      "cell_type": "code",
      "execution_count": 12,
      "metadata": {
        "colab": {
          "base_uri": "https://localhost:8080/"
        },
        "id": "tSLzxCB_YERc",
        "outputId": "3cd8638a-4933-4ff5-cd86-401b642731e2"
      },
      "outputs": [
        {
          "name": "stdout",
          "output_type": "stream",
          "text": [
            "Scores in each fold: [0.96 0.92]\n",
            "Average score: 0.94\n",
            "Std deviation of scores: 0.019999999999999962\n"
          ]
        }
      ],
      "source": [
        "from sklearn.model_selection import cross_val_score\n",
        "scores = cross_val_score(model, X, y, cv=2, scoring = 'accuracy')\n",
        "print(f'Scores in each fold: {scores}')\n",
        "print(f'Average score: {scores.mean()}')\n",
        "print(f'Std deviation of scores: {scores.std()}')"
      ]
    },
    {
      "cell_type": "markdown",
      "metadata": {
        "id": "mUefpkmoY4v2"
      },
      "source": [
        "Scikit-Learn implements several cross-validation schemes that are useful in particular situations; these are implemented through iterators in the cross_validation module. In practice, we have to define the iterator through the `cv` parameter.\n",
        "\n",
        "As an example, we might want to go to the extreme case where the number of subsets is equal to the number of examples contained in the training set. In this case, in each iteration, a model is fitted using all but one example, and accuracy is measured against the only example not used during training. This type of cross-validation is known as **leave-one-out cross-validation**.\n",
        "\n",
        "The example below illustrates the use of this particular case leave-one-out cross-validation. Since there are 150 samples, the leave-one-out cross-validation produces 150 estimates (1.0 indicates a successful forecast, and 0.0 indicates an unsuccessful one)."
      ]
    },
    {
      "cell_type": "code",
      "execution_count": 4,
      "metadata": {
        "colab": {
          "base_uri": "https://localhost:8080/"
        },
        "id": "paZ5oipGZIoJ",
        "outputId": "a75251c7-2bb0-4743-86d8-8b31ce0ad531"
      },
      "outputs": [
        {
          "data": {
            "text/plain": [
              "array([1., 1., 1., 1., 1., 1., 1., 1., 1., 1., 1., 1., 1., 1., 1., 1., 1.,\n",
              "       1., 1., 1., 1., 1., 1., 1., 1., 1., 1., 1., 1., 1., 1., 1., 1., 1.,\n",
              "       1., 1., 1., 1., 1., 1., 1., 1., 1., 1., 1., 1., 1., 1., 1., 1., 1.,\n",
              "       1., 1., 1., 1., 1., 1., 1., 1., 1., 1., 1., 1., 1., 1., 1., 1., 1.,\n",
              "       1., 1., 0., 1., 0., 1., 1., 1., 1., 1., 1., 1., 1., 1., 1., 0., 1.,\n",
              "       1., 1., 1., 1., 1., 1., 1., 1., 1., 1., 1., 1., 1., 1., 1., 1., 1.,\n",
              "       1., 1., 1., 1., 0., 1., 1., 1., 1., 1., 1., 1., 1., 1., 1., 1., 1.,\n",
              "       0., 1., 1., 1., 1., 1., 1., 1., 1., 1., 1., 1., 1., 1., 0., 1., 1.,\n",
              "       1., 1., 1., 1., 1., 1., 1., 1., 1., 1., 1., 1., 1., 1.])"
            ]
          },
          "execution_count": 4,
          "metadata": {},
          "output_type": "execute_result"
        }
      ],
      "source": [
        "from sklearn.model_selection import LeaveOneOut\n",
        "\n",
        "scores = cross_val_score(model, X, y, cv=LeaveOneOut())\n",
        "scores"
      ]
    },
    {
      "cell_type": "markdown",
      "metadata": {
        "id": "APSamO7pZZ2F"
      },
      "source": [
        "The average of these 150 values ​​corresponds to the estimated error rate of the model produced:"
      ]
    },
    {
      "cell_type": "code",
      "execution_count": 5,
      "metadata": {
        "colab": {
          "base_uri": "https://localhost:8080/"
        },
        "id": "aXh4DFwqZgeG",
        "outputId": "2ae4ae99-0270-42d9-f53d-bcfa08c21461"
      },
      "outputs": [
        {
          "name": "stdout",
          "output_type": "stream",
          "text": [
            "Average score:  0.96\n",
            "Std deviation of scores:  0.19595917942265423\n"
          ]
        }
      ],
      "source": [
        "print('Average score: ', scores.mean())\n",
        "print('Std deviation of scores: ', scores.std())"
      ]
    },
    {
      "cell_type": "markdown",
      "metadata": {
        "id": "yHk15WRYiziA"
      },
      "source": [
        "## Stratified k-fold cross-validation\n",
        "\n",
        "In the context of the classification task, an unbalanced dataset presents unequal proportions of examples for each class. See the image below ([source](https://www.researchgate.net/publication/306376881_Survey_of_resampling_techniques_for_improving_classification_performance_in_unbalanced_datasets)) for an example in the binary classification case.\n",
        "\n",
        "<p align=\"center\">\n",
        "<img src=\"https://miro.medium.com/max/698/1*cd6AorHoJYMFyj7IZd2nOg.png\">\n",
        "</p>\n",
        "\n",
        "For unbalanced datasets, if the vanilla version of $k$-fold cross-validation is used, it can be the case that one or more produced folds end up with zero examples of a particular class. In such situations, it is better to use *stratified $k$-fold cross-validation*. In stratified $k$ cross-validation, class proportions are preserved in each of the $k$ subsets, so that each one is representative of the class proportions in the training data set. The image below (source) illustrates how stratified $k$-fold crors-validation works.\n",
        "\n",
        "<p align=\"center\">\n",
        "<img src=\"https://miro.medium.com/max/562/0*QKJTHrcriSx2ZNYr.png\">\n",
        "</p>\n",
        "\n",
        "In Scikit-Learn, the `StratifiedKFold` class implements the stratified cross-validation method. See the following example, that applies stratified cross-validation to a toy dataset with two classes. Notice that the proportions os classes in each fold is approximately the same as the original dataset."
      ]
    },
    {
      "cell_type": "code",
      "execution_count": 6,
      "metadata": {
        "colab": {
          "base_uri": "https://localhost:8080/"
        },
        "id": "bB_y_3iml9Gs",
        "outputId": "fbc01526-af8e-451f-89c4-8648698c0894"
      },
      "outputs": [
        {
          "name": "stdout",
          "output_type": "stream",
          "text": [
            "StratifiedKFold(n_splits=2, random_state=None, shuffle=False)\n",
            "TRAIN: [ 3  4  5 12 13 14 15 16 17] TEST: [ 0  1  2  6  7  8  9 10 11]\n",
            "TRAIN: [ 0  1  2  6  7  8  9 10 11] TEST: [ 3  4  5 12 13 14 15 16 17]\n"
          ]
        }
      ],
      "source": [
        "import numpy as np\n",
        "from sklearn.model_selection import StratifiedKFold\n",
        "\n",
        "# data matrix\n",
        "X = np.array([[1, 2], [3, 4], [1, 2], [3, 4], [5, 6], [7, 8],\n",
        "              [9, 10], [9, 10], [11, 12], [11, 12],\n",
        "              [1, 2], [3, 4], [5, 6], [7, 8], [4, 5], [5, 6], [7, 8], [4, 5]])\n",
        "\n",
        "# response vector\n",
        "y = np.array([0, 0, 0, 0, 0, 0, 1, 1, 1, 1, 1, 1, 1, 1, 1, 1, 1, 1])\n",
        "\n",
        "skf = StratifiedKFold(n_splits=2)\n",
        "skf.get_n_splits(X, y)\n",
        "\n",
        "print(skf)\n",
        "\n",
        "# print the indices of examples in each fold\n",
        "for train_index, test_index in skf.split(X, y):\n",
        "   print(\"TRAIN:\", train_index, \"TEST:\", test_index)\n",
        "   X_train, X_test = X[train_index], X[test_index]\n",
        "   y_train, y_test = y[train_index], y[test_index]"
      ]
    },
    {
      "cell_type": "markdown",
      "metadata": {
        "id": "UJw6vFxDix6O"
      },
      "source": [
        "# Hyperparameter optimization\n",
        "\n",
        "In machine learning, a **hyperparameter** is a setting that controls the learning process of a model, but it's not directly learned from the data itself. Hyperparameters are essentially dials or knobs that must be adjusted before running the learning algorithm. They define the learning algorithm's overall behavior and influence the model's complexity and capacity. In contrast to the model **parameters** that are learned during training, the values ​​of the hyperparameters are set before the training of a model begins. \n",
        "\n",
        "Some examples of hyperparameters are given below.\n",
        "\n",
        "* the learning rate in logistic regression and in linear regression,\n",
        "* the height of trees in decision tree learning,\n",
        "* the value of $k$ in $k$-NN,\n",
        "* the value of $k$ in $k$-means,\n",
        "* the values of $\\epsilon$ and $\\operatorname{minPoints}$ in DBSCAN,\n",
        "* the regularization term in linear regression,\n",
        "* the polynomial degree in polynomial regression.\n",
        "\n",
        "\n",
        "Hyperparameters can be considered as configurations of a learning algorithm. In general, the ideal settings for the algorithm to generate a suitable model for one dataset may not be the same for another dataset.\n",
        "\n",
        "*Hyperparameter optimization* (aka *hyperparameter tuning*) is the procedure of defining appropriate values for the hyperparameters of a given learning algorithm. The general approach is to generate several combinations of hyperparameter values. Then, a model is trained for each combinatation. Finally, the best combination (according to some evaluation measure applied on the candidate models) is chosen.\n",
        "\n",
        "When the learning algorithm generates an estimator (either a classifier or a regressor), there are two main strategies to *automatically* tune its hyperparameters: *Grid Search* and *Random Search*. Both strategies generate several hyperparameter combinations. Then, for each combination, an estimator is trained a model (on the training set) and evaluateed (on the validation set). The difference between these two strategies is in the way the several combinations are generated, as described below."
      ]
    },
    {
      "cell_type": "markdown",
      "metadata": {
        "id": "iB4Yw9xzVy4j"
      },
      "source": [
        "**Grid search** first defines a grid of hyperparameter combinations. The amount of hyperparameters defines the number of dimensions in the grid. Then, each combination (a point in the grid) ​​is used to produce a model.\n",
        "\n",
        "The image below ([source](https://www.researchgate.net/publication/271771573_TuPAQ_An_Efficient_Planner_for_Large-scale_Predictive_Analytic_Queries/figures?lo=1)) illustrates the GS procedure for a learning algorithm with two hyperparameters. The star represents the combination of hyperparameters that gives the best model. as measured in the validation set. The red dot in picture on the left represents the first combination test by GS. The picture on the center represents the second combination. The picture on the right illustrates all the tested combinations in the 2-dimensional grid.\n",
        "\n",
        "<p align=\"center\">\n",
        "<img src=\"https://www.researchgate.net/profile/Michael_Jordan13/publication/271771573/figure/fig4/AS:668513593217027@1536397469229/Illustration-of-naive-grid-search-for-a-single-model-family-with-two-hyperparameters_W640.jpg\">\n",
        "</p>\n",
        "\n",
        "**Random search** selects random combinations of hyperparameter values ​​(within preconfigured ranges of values for each hyperparameter) to train and evaluate the candidate models. Instead of trying all possible combinations of values, RS performs a pre-defined number of iterations, testing a random combination of hyperparameters ​​in each iteration.\n",
        "\n",
        "Both GS and RS can be very computationally expensive. For example, searching for 20 different values ​​for each of 4 hyperparameters would require 160,000 k-fold cross-validation runs. If $k = 10$ then 1,600,000 model adjustments and 1,600,000 evaluations should be performed\n",
        "\n",
        "The image below ([source](https://community.alteryx.com/t5/Data-Science/Hyperparameter-Tuning-Black-Magic/ba-p/449289)) illustrates the difference between GS and RS. Think of a learning algorithm with just two hyperparameters. This way, each combination of its hyperparameters is a pair of numbers. Suppose one of these hyperparameters (x-axis) has more influence than the other (y-axis) on the predictive performance of the generated models. The plot on the left shows several of these pairs organized in a grid. In total, there are thirty combination in this grid. The picture on the right shows other combinations of pairs; this times these combinations where randomly selected. Notice that RS has the potential to explore more promising combinations than GS.\n",
        "\n",
        "<p align=\"center\">\n",
        "<img src=\"https://pvsmt99345.i.lithium.com/t5/image/serverpage/image-id/74545i97245FDAA10376E9/image-size/large?v=1.0&px=999\">\n",
        "</p>\n",
        "\n",
        "In Scikit-Learn, the classes [GridSearchCV](https://scikit-learn.org/stable/modules/generated/sklearn.model_selection.GridSearchCV.html) and [RandomizedSearchCV](https://scikit-learn.org/stable/modules/generated/sklearn.model_selection.RandomizedSearchCV.html) implement GS and RS, respectively."
      ]
    },
    {
      "cell_type": "markdown",
      "metadata": {
        "id": "hQg_3AcwaZjQ"
      },
      "source": [
        "### Class GridSearchCV"
      ]
    },
    {
      "cell_type": "markdown",
      "metadata": {
        "id": "n59pZ0EI4I_d"
      },
      "source": [
        "Scikit-Learn provides the class `GridSearchCV` to perform grid search.\n",
        "\n",
        "The following code block presents an example of using the `GridSearchCV` class to find the ideal polynomial model for a data set. In this example, a three-dimensional grid of hyperparameters is explored:\n",
        "\n",
        "* the polynomial degree,\n",
        "* a boolean indicator that indicates whether the linear coefficient should be adjusted,\n",
        "* an indicator (boolean) indicating whether the data should be normalized."
      ]
    },
    {
      "cell_type": "code",
      "execution_count": 36,
      "metadata": {
        "id": "SAW_e44vz86E"
      },
      "outputs": [
        {
          "name": "stdout",
          "output_type": "stream",
          "text": [
            "Best configuration of hyperparameters found: {'linearregression__fit_intercept': False, 'polynomialfeatures__degree': 4}\n"
          ]
        }
      ],
      "source": [
        "from sklearn.model_selection import GridSearchCV\n",
        "import numpy as np\n",
        "from sklearn.preprocessing import PolynomialFeatures\n",
        "from sklearn.linear_model import LinearRegression\n",
        "from sklearn.pipeline import make_pipeline\n",
        "\n",
        "def PolynomialRegression(degree=2, **kwargs):\n",
        "    return make_pipeline(PolynomialFeatures(degree),\n",
        "                         LinearRegression(**kwargs))\n",
        "\n",
        "param_grid = {'polynomialfeatures__degree': np.arange(21),\n",
        "              'linearregression__fit_intercept': [True, False]}\n",
        "\n",
        "def make_data(N, err=1.0, rseed=1):\n",
        "    # randomly sample the data\n",
        "    rng = np.random.RandomState(rseed)\n",
        "    X = rng.rand(N, 1) ** 2\n",
        "    y = 10 - 1. / (X.ravel() + 0.1)\n",
        "    if err > 0:\n",
        "        y += err * rng.randn(N)\n",
        "    return X, y\n",
        "\n",
        "X_train, y_train = make_data(40)\n",
        "grid = GridSearchCV(PolynomialRegression(), param_grid, cv=7)\n",
        "grid.fit(X_train, y_train)\n",
        "print(f'Best configuration of hyperparameters found: {grid.best_params_}')"
      ]
    },
    {
      "cell_type": "code",
      "execution_count": 37,
      "metadata": {
        "colab": {
          "base_uri": "https://localhost:8080/",
          "height": 457
        },
        "id": "Uw8ZQ4025wje",
        "outputId": "19aeee88-7272-49b0-fb0a-6b0ba61deada"
      },
      "outputs": [
        {
          "data": {
            "image/png": "[encoded data removed]",
            "text/plain": [
              "<Figure size 640x480 with 1 Axes>"
            ]
          },
          "metadata": {},
          "output_type": "display_data"
        }
      ],
      "source": [
        "%matplotlib inline\n",
        "import matplotlib.pyplot as plt\n",
        "\n",
        "X_test = np.linspace(-0.1, 1.1, 500)[:, None]\n",
        "\n",
        "plt.scatter(X.ravel(), y, color='black')\n",
        "axis = plt.axis()\n",
        "for degree in [1, 3, 4, 5]:\n",
        "    y_test = PolynomialRegression(degree).fit(X, y).predict(X_test)\n",
        "    plt.plot(X_test.ravel(), y_test, label='degree={0}'.format(degree))\n",
        "plt.xlim(-0.1, 1.0)\n",
        "plt.ylim(-2, 12)\n",
        "plt.legend()  # This will automatically use the labels you provided in the plot calls\n",
        "plt.show()"
      ]
    },
    {
      "cell_type": "code",
      "execution_count": 13,
      "metadata": {
        "colab": {
          "base_uri": "https://localhost:8080/",
          "height": 434
        },
        "id": "7FXeoFiP5RTB",
        "outputId": "f03ad85f-868e-43e1-f143-41bb67b1b9a5"
      },
      "outputs": [
        {
          "data": {
            "image/png": "[encoded data removed]",
            "text/plain": [
              "<Figure size 640x480 with 1 Axes>"
            ]
          },
          "metadata": {},
          "output_type": "display_data"
        }
      ],
      "source": [
        "import matplotlib.pyplot as plt\n",
        "\n",
        "model = grid.best_estimator_\n",
        "\n",
        "plt.scatter(X.ravel(), y)\n",
        "lim = plt.axis()\n",
        "y_test = model.fit(X, y).predict(X_test)\n",
        "plt.plot(X_test.ravel(), y_test)\n",
        "plt.axis(lim)"
      ]
    },
    {
      "cell_type": "markdown",
      "metadata": {
        "id": "jTlVoHTlY7EQ"
      },
      "source": [
        "### Class RandomizedSearchCV\n",
        "\n",
        "This allows you to explicitly control the number of parameter combinations that are attempted. The number of search iterations is defined based on time or resources. Scikit Learn offers the RandomizedSearchCV function for this process.\n"
      ]
    },
    {
      "cell_type": "code",
      "execution_count": 14,
      "metadata": {
        "colab": {
          "base_uri": "https://localhost:8080/"
        },
        "id": "sNmXxgGsPhkZ",
        "outputId": "afbcf65a-6a42-4027-d181-b79d9f9756d8"
      },
      "outputs": [
        {
          "name": "stdout",
          "output_type": "stream",
          "text": [
            "Fitting 3 folds for each of 100 candidates, totalling 300 fits\n"
          ]
        },
        {
          "name": "stdout",
          "output_type": "stream",
          "text": [
            "LinearSVC:\n",
            "Best cv accuracy: 0.975\n",
            "Test set score:   1.0\n",
            "Best parameters:  {'C': 54}\n",
            "\n",
            "time to run RandomizedSearchCV: 6.034947991982335\n",
            "########\n",
            "Fitting 3 folds for each of 1099 candidates, totalling 3297 fits\n",
            "LinearSVC:\n",
            "Best cv accuracy: 0.975\n",
            "Test set score:   1.0\n",
            "Best parameters:  {'C': 8}\n",
            "\n",
            "time to run GridSearchCV: 4.930534393992275\n"
          ]
        }
      ],
      "source": [
        "from sklearn.model_selection import train_test_split\n",
        "from sklearn.model_selection import StratifiedKFold\n",
        "from sklearn.model_selection import RandomizedSearchCV\n",
        "from sklearn.model_selection import GridSearchCV\n",
        "from timeit import default_timer as timer\n",
        "from sklearn.svm import LinearSVC\n",
        "\n",
        "def linear_SVC(x, y, param, kfold):\n",
        "    param_grid = {'C':param}\n",
        "    k = StratifiedKFold(n_splits=kfold)\n",
        "    grid = GridSearchCV(LinearSVC(dual=False), param_grid=param_grid, cv=k, n_jobs=4, verbose=1)\n",
        "\n",
        "    return grid.fit(x, y)\n",
        "\n",
        "def Linear_SVC_Rand(x, y, param, kfold, n):\n",
        "    param_grid = {'C':param}\n",
        "    k = StratifiedKFold(n_splits=kfold)\n",
        "    randsearch = RandomizedSearchCV(LinearSVC(dual=False), param_distributions=param_grid, cv=k, n_jobs=4,\n",
        "                                    verbose=1, n_iter=n)\n",
        "\n",
        "    return randsearch.fit(x, y)\n",
        "\n",
        "from sklearn.datasets import load_iris\n",
        "iris = load_iris()\n",
        "X = iris.data\n",
        "y = iris.target\n",
        "\n",
        "x_train, x_test, y_train, y_test = train_test_split(X, y, test_size=0.2)\n",
        "\n",
        "\n",
        "start = timer()\n",
        "param = [i/1000 for i in range(1,1000)]\n",
        "param1 = [i for i in range(1,101)]\n",
        "param.extend(param1)\n",
        "\n",
        "#progress = progressbar.bar.ProgressBar()\n",
        "clf = Linear_SVC_Rand(x=x_train, y=y_train, param=param, kfold=3, n=100)\n",
        "\n",
        "print('LinearSVC:')\n",
        "print('Best cv accuracy: {}' .format(clf.best_score_))\n",
        "print('Test set score:   {}' .format(clf.score(x_test, y_test)))\n",
        "print('Best parameters:  {}' .format(clf.best_params_))\n",
        "print()\n",
        "\n",
        "duration = timer() - start\n",
        "print('time to run RandomizedSearchCV: {}' .format(duration))\n",
        "\n",
        "\n",
        "print('########')\n",
        "\n",
        "#high C means more chance of overfitting\n",
        "\n",
        "start = timer()\n",
        "param = [i/1000 for i in range(1,1000)]\n",
        "param1 = [i for i in range(1,101)]\n",
        "param.extend(param1)\n",
        "\n",
        "clf = linear_SVC(x=x_train, y=y_train, param=param, kfold=3)\n",
        "\n",
        "print('LinearSVC:')\n",
        "print('Best cv accuracy: {}' .format(clf.best_score_))\n",
        "print('Test set score:   {}' .format(clf.score(x_test, y_test)))\n",
        "print('Best parameters:  {}' .format(clf.best_params_))\n",
        "print()\n",
        "\n",
        "duration = timer() - start\n",
        "print('time to run GridSearchCV: {}' .format(duration))"
      ]
    },
    {
      "cell_type": "code",
      "execution_count": 15,
      "metadata": {
        "colab": {
          "base_uri": "https://localhost:8080/"
        },
        "id": "bPaJ9EBODzzR",
        "outputId": "94fc2a29-e772-4e25-b1a7-df883b573ba4"
      },
      "outputs": [
        {
          "name": "stdout",
          "output_type": "stream",
          "text": [
            "RandomizedSearchCV took 7.79 seconds for 20 candidates parameter settings.\n",
            "Model with rank: 1\n",
            "Mean validation score: 0.930 (std: 0.032)\n",
            "Parameters: {'bootstrap': False, 'criterion': 'gini', 'max_depth': None, 'max_features': 9, 'min_samples_split': 9}\n",
            "\n",
            "Model with rank: 2\n",
            "Mean validation score: 0.925 (std: 0.027)\n",
            "Parameters: {'bootstrap': True, 'criterion': 'gini', 'max_depth': None, 'max_features': 3, 'min_samples_split': 3}\n",
            "\n",
            "Model with rank: 3\n",
            "Mean validation score: 0.923 (std: 0.031)\n",
            "Parameters: {'bootstrap': True, 'criterion': 'gini', 'max_depth': None, 'max_features': 10, 'min_samples_split': 6}\n",
            "\n",
            "GridSearchCV took 31.68 seconds for 72 candidate parameter settings.\n",
            "Model with rank: 1\n",
            "Mean validation score: 0.934 (std: 0.020)\n",
            "Parameters: {'bootstrap': False, 'criterion': 'entropy', 'max_depth': None, 'max_features': 10, 'min_samples_split': 2}\n",
            "\n",
            "Model with rank: 2\n",
            "Mean validation score: 0.932 (std: 0.022)\n",
            "Parameters: {'bootstrap': False, 'criterion': 'gini', 'max_depth': None, 'max_features': 3, 'min_samples_split': 3}\n",
            "\n",
            "Model with rank: 3\n",
            "Mean validation score: 0.928 (std: 0.024)\n",
            "Parameters: {'bootstrap': True, 'criterion': 'entropy', 'max_depth': None, 'max_features': 10, 'min_samples_split': 2}\n",
            "\n"
          ]
        }
      ],
      "source": [
        "import numpy as np\n",
        "\n",
        "from time import time\n",
        "from scipy.stats import randint as sp_randint\n",
        "\n",
        "from sklearn.model_selection import GridSearchCV\n",
        "from sklearn.model_selection import RandomizedSearchCV\n",
        "from sklearn.datasets import load_digits\n",
        "from sklearn.ensemble import RandomForestClassifier\n",
        "\n",
        "# get some data\n",
        "digits = load_digits()\n",
        "X, y = digits.data, digits.target\n",
        "\n",
        "# build a classifier\n",
        "clf = RandomForestClassifier(n_estimators=20)\n",
        "\n",
        "# Utility function to report best scores\n",
        "def report(results, n_top=3):\n",
        "    for i in range(1, n_top + 1):\n",
        "        candidates = np.flatnonzero(results['rank_test_score'] == i)\n",
        "        for candidate in candidates:\n",
        "            print(\"Model with rank: {0}\".format(i))\n",
        "            print(\"Mean validation score: {0:.3f} (std: {1:.3f})\".format(\n",
        "                  results['mean_test_score'][candidate],\n",
        "                  results['std_test_score'][candidate]))\n",
        "            print(\"Parameters: {0}\".format(results['params'][candidate]))\n",
        "            print(\"\")\n",
        "\n",
        "\n",
        "# specify parameters and distributions to sample from\n",
        "param_dist = {\"max_depth\": [3, None],\n",
        "              \"max_features\": sp_randint(1, 11),\n",
        "              \"min_samples_split\": sp_randint(2, 11),\n",
        "              \"bootstrap\": [True, False],\n",
        "              \"criterion\": [\"gini\", \"entropy\"]}\n",
        "\n",
        "# run randomized search\n",
        "n_iter_search = 20\n",
        "random_search = RandomizedSearchCV(clf, param_distributions=param_dist,\n",
        "                                   n_iter=n_iter_search, cv=5)\n",
        "\n",
        "start = time()\n",
        "random_search.fit(X, y)\n",
        "print(\"RandomizedSearchCV took %.2f seconds for %d candidates\"\n",
        "      \" parameter settings.\" % ((time() - start), n_iter_search))\n",
        "report(random_search.cv_results_)\n",
        "\n",
        "# use a full grid over all parameters\n",
        "param_grid = {\"max_depth\": [3, None],\n",
        "              \"max_features\": [1, 3, 10],\n",
        "              \"min_samples_split\": [2, 3, 10],\n",
        "              \"bootstrap\": [True, False],\n",
        "              \"criterion\": [\"gini\", \"entropy\"]}\n",
        "\n",
        "# run grid search\n",
        "grid_search = GridSearchCV(clf, param_grid=param_grid, cv=5)\n",
        "start = time()\n",
        "grid_search.fit(X, y)\n",
        "\n",
        "print(\"GridSearchCV took %.2f seconds for %d candidate parameter settings.\"\n",
        "      % (time() - start, len(grid_search.cv_results_['params'])))\n",
        "report(grid_search.cv_results_)"
      ]
    },
    {
      "cell_type": "markdown",
      "metadata": {
        "id": "EkB2DK0laaGr"
      },
      "source": [
        "# Model selection: practical tips\n",
        "\n",
        "* It is appropriate to start with a simple algorithm that can be used quickly.\n",
        "\n",
        "* Use learning curves to decide for more (or less) data, more (or less) attributes, etc.\n",
        "\n",
        "* Another technique used in model selection is *error analysis*, which corresponds to manually checking the examples (in the validation set) that the algorithm has erred. It is sometimes possible to detect a pattern of systematic error in these examples.\n",
        "\n",
        "* The motivation for using k-fold cross-validation is to be able to use a good amount of test or validation data, without significantly reducing the training data set. In situations where there is enough data to have a good-sized training data set, in addition to reasonable amounts of test and validation data, holdout cross validation can be used."
      ]
    }
  ],
  "metadata": {
    "colab": {
      "provenance": []
    },
    "kernelspec": {
      "display_name": "Python 3",
      "name": "python3"
    },
    "language_info": {
      "codemirror_mode": {
        "name": "ipython",
        "version": 3
      },
      "file_extension": ".py",
      "mimetype": "text/x-python",
      "name": "python",
      "nbconvert_exporter": "python",
      "pygments_lexer": "ipython3",
      "version": "3.12.0"
    }
  },
  "nbformat": 4,
  "nbformat_minor": 0
}
