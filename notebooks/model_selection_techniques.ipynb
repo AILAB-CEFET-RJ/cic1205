{
  "cells": [
    {
      "cell_type": "markdown",
      "metadata": {
        "id": "wF1mvseeXh_V"
      },
      "source": [
        "# Credits\n",
        "\n",
        "The code in this notebook is adapted from [here](https://ploomber.io/blog/nested-cv/)."
      ]
    },
    {
      "cell_type": "markdown",
      "metadata": {
        "id": "1wMwXl-eL6Sx"
      },
      "source": [
        "# Testing on the training data\n",
        "\n",
        "**DO NOT DO IT**, since it is methodologically wrong!"
      ]
    },
    {
      "cell_type": "code",
      "execution_count": 1,
      "metadata": {
        "colab": {
          "base_uri": "https://localhost:8080/"
        },
        "id": "Rg4PPnvSLe5Q",
        "outputId": "768a324a-8e0d-493b-9138-62d0eec1b0f0"
      },
      "outputs": [
        {
          "name": "stdout",
          "output_type": "stream",
          "text": [
            "Accuracy: 0.97\n"
          ]
        }
      ],
      "source": [
        "from sklearn.datasets import load_iris\n",
        "from sklearn.ensemble import RandomForestClassifier\n",
        "from sklearn.metrics import accuracy_score\n",
        "\n",
        "iris = load_iris()\n",
        "\n",
        "X = iris.data\n",
        "y = iris.target\n",
        "\n",
        "clf = RandomForestClassifier(n_estimators=2, random_state=0)\n",
        "# X is our training data\n",
        "clf.fit(X, y)\n",
        "\n",
        "# This is an overly optimistic estimation since we are using X again!\n",
        "y_pred = clf.predict(X)\n",
        "acc = accuracy_score(y, y_pred)\n",
        "\n",
        "print(f'Accuracy: {acc:.2f}')"
      ]
    },
    {
      "cell_type": "markdown",
      "metadata": {
        "id": "AGluy49qLjeJ"
      },
      "source": [
        "## Two-way holdout"
      ]
    },
    {
      "cell_type": "code",
      "execution_count": 2,
      "metadata": {
        "colab": {
          "base_uri": "https://localhost:8080/"
        },
        "id": "aj3TlkZWLkj9",
        "outputId": "ce08d511-e61f-41a4-d2db-623a64b51e07"
      },
      "outputs": [
        {
          "name": "stdout",
          "output_type": "stream",
          "text": [
            "Accuracy: 0.91\n"
          ]
        }
      ],
      "source": [
        "from sklearn.model_selection import train_test_split\n",
        "\n",
        "# split in train and test\n",
        "X_train, X_test, y_train, y_test = train_test_split(X, y, test_size=0.3, random_state=0)\n",
        "\n",
        "clf = RandomForestClassifier(n_estimators=2, random_state=0)\n",
        "clf.fit(X_train, y_train)\n",
        "\n",
        "# test with unseen data\n",
        "y_pred = clf.predict(X_test)\n",
        "acc = accuracy_score(y_test, y_pred)\n",
        "\n",
        "print(f'Accuracy: {acc:.2f}')"
      ]
    },
    {
      "cell_type": "markdown",
      "metadata": {
        "id": "z4hoss4eL4IF"
      },
      "source": [
        "# k-fold cross validation"
      ]
    },
    {
      "cell_type": "code",
      "execution_count": 3,
      "metadata": {
        "id": "-_Yf27B-L4pL"
      },
      "outputs": [],
      "source": [
        "from sklearn.model_selection import cross_validate\n",
        "import timeit\n",
        "\n",
        "def do_cross_validation(clf, print_model=False, print_duration=False):\n",
        "    start = timeit.default_timer()\n",
        "    cv = cross_validate(clf, X, y, scoring='accuracy', cv=3)\n",
        "    scores = ' + '.join(f'{s:.2f}' for s in cv[\"test_score\"])\n",
        "    mean_ = cv[\"test_score\"].mean()\n",
        "    msg = f'Cross-validated accuracy: ({scores}) / 3 = {mean_:.2f}'\n",
        "\n",
        "    if print_model:\n",
        "        msg = f'\\nClassifier: {clf}\\n{msg}\\n'\n",
        "\n",
        "    if print_duration:\n",
        "        msg = f'Duration: {timeit.default_timer() - start}{msg}\\n'\n",
        "\n",
        "    print(msg)"
      ]
    },
    {
      "cell_type": "code",
      "execution_count": 4,
      "metadata": {
        "colab": {
          "base_uri": "https://localhost:8080/"
        },
        "id": "XfrxHB93Y_PP",
        "outputId": "aadc11b0-d8d8-4ddb-c8a0-374a0ec6b4a0"
      },
      "outputs": [
        {
          "name": "stdout",
          "output_type": "stream",
          "text": [
            "Duration: 0.04880734300240874\n",
            "Classifier: RandomForestClassifier(n_estimators=2, random_state=0)\n",
            "Cross-validated accuracy: (0.98 + 0.92 + 0.96) / 3 = 0.95\n",
            "\n",
            "\n"
          ]
        }
      ],
      "source": [
        "clf = RandomForestClassifier(n_estimators=2, random_state=0)\n",
        "do_cross_validation(clf, True, True)"
      ]
    },
    {
      "cell_type": "markdown",
      "metadata": {
        "id": "U_qkItbFOEPP"
      },
      "source": [
        "## Applying cross-validation for model selection"
      ]
    },
    {
      "cell_type": "code",
      "execution_count": 5,
      "metadata": {
        "colab": {
          "base_uri": "https://localhost:8080/"
        },
        "id": "AfExmrWAOHMc",
        "outputId": "c9133b2a-429e-430e-88f5-6b4937fc984d"
      },
      "outputs": [
        {
          "name": "stdout",
          "output_type": "stream",
          "text": [
            "Default value for kernel:  rbf\n",
            "Duration: 0.036153421009657905\n",
            "Classifier: SVC(random_state=0)\n",
            "Cross-validated accuracy: (0.96 + 0.98 + 0.94) / 3 = 0.96\n",
            "\n",
            "\n"
          ]
        }
      ],
      "source": [
        "from sklearn.svm import SVC\n",
        "\n",
        "start = timeit.default_timer()\n",
        "svc = SVC(random_state=0)\n",
        "print('Default value for kernel: ', svc.kernel)\n",
        "do_cross_validation(svc, True, True)"
      ]
    },
    {
      "cell_type": "markdown",
      "metadata": {
        "id": "gz7sqaKQOYFo"
      },
      "source": []
    },
    {
      "cell_type": "code",
      "execution_count": 6,
      "metadata": {
        "colab": {
          "base_uri": "https://localhost:8080/"
        },
        "id": "CoxscNzYObI6",
        "outputId": "fbffe700-569b-4886-90ae-6325c203a863"
      },
      "outputs": [
        {
          "name": "stdout",
          "output_type": "stream",
          "text": [
            "\n",
            "Classifier: SVC(kernel='linear', random_state=0)\n",
            "Cross-validated accuracy: (1.00 + 1.00 + 0.98) / 3 = 0.99\n",
            "\n",
            "\n",
            "Classifier: SVC(kernel='poly', random_state=0)\n",
            "Cross-validated accuracy: (0.98 + 0.94 + 0.98) / 3 = 0.97\n",
            "\n",
            "\n",
            "Classifier: RandomForestClassifier(n_estimators=2, random_state=0)\n",
            "Cross-validated accuracy: (0.98 + 0.92 + 0.96) / 3 = 0.95\n",
            "\n",
            "\n",
            "Classifier: RandomForestClassifier(n_estimators=5, random_state=0)\n",
            "Cross-validated accuracy: (0.98 + 0.94 + 0.94) / 3 = 0.95\n",
            "\n"
          ]
        }
      ],
      "source": [
        "do_cross_validation(SVC(kernel='linear', random_state=0), print_model=True)\n",
        "do_cross_validation(SVC(kernel='poly', random_state=0), print_model=True)\n",
        "do_cross_validation(RandomForestClassifier(n_estimators=2, random_state=0), print_model=True)\n",
        "do_cross_validation(RandomForestClassifier(n_estimators=5, random_state=0), print_model=True)"
      ]
    },
    {
      "cell_type": "markdown",
      "metadata": {
        "id": "YasAqT0fPeKe"
      },
      "source": [
        "# Nested cross-validation"
      ]
    },
    {
      "cell_type": "code",
      "execution_count": 9,
      "metadata": {
        "colab": {
          "base_uri": "https://localhost:8080/"
        },
        "id": "2qggaX-dPhsQ",
        "outputId": "913308ae-92da-43d9-d69c-13dc928a99f5"
      },
      "outputs": [
        {
          "name": "stdout",
          "output_type": "stream",
          "text": [
            "Duration: 0.5532464570133016\n",
            "Classifier: GridSearchCV(estimator=RandomForestClassifier(random_state=0),\n",
            "             param_grid={'n_estimators': [2, 5]})\n",
            "Cross-validated accuracy: (0.98 + 0.92 + 0.96) / 3 = 0.95\n",
            "\n",
            "\n",
            "Duration: 0.14918377198046073\n",
            "Classifier: GridSearchCV(estimator=SVC(random_state=0),\n",
            "             param_grid={'kernel': ['linear', 'poly']})\n",
            "Cross-validated accuracy: (1.00 + 0.94 + 0.98) / 3 = 0.97\n",
            "\n",
            "\n"
          ]
        }
      ],
      "source": [
        "from sklearn.model_selection import GridSearchCV\n",
        "\n",
        "start = timeit.default_timer()\n",
        "# random forest inner loop\n",
        "clf_grid = GridSearchCV(RandomForestClassifier(random_state=0), param_grid={'n_estimators': [2, 5]})\n",
        "# random forest outer loop\n",
        "do_cross_validation(clf_grid, print_model=True, print_duration=True)\n",
        "\n",
        "start = timeit.default_timer()\n",
        "# svc inner loop\n",
        "svc_grid = GridSearchCV(SVC(random_state=0), param_grid={'kernel': ['linear', 'poly']})\n",
        "# svc outer loop\n",
        "do_cross_validation(svc_grid, print_model=True, print_duration=True)"
      ]
    }
  ],
  "metadata": {
    "colab": {
      "provenance": [],
      "toc_visible": true
    },
    "kernelspec": {
      "display_name": "Python 3",
      "name": "python3"
    },
    "language_info": {
      "codemirror_mode": {
        "name": "ipython",
        "version": 3
      },
      "file_extension": ".py",
      "mimetype": "text/x-python",
      "name": "python",
      "nbconvert_exporter": "python",
      "pygments_lexer": "ipython3",
      "version": "3.11.5"
    }
  },
  "nbformat": 4,
  "nbformat_minor": 0
}
