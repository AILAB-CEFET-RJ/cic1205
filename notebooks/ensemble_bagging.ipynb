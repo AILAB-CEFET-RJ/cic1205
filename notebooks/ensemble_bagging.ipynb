{
 "cells": [
  {
   "cell_type": "markdown",
   "id": "8787e96d",
   "metadata": {},
   "source": [
    "# Bagging Ensemble Learning with Visualization\n",
    "\n",
    "**Bagging** (Bootstrap Aggregating) is an ensemble learning technique designed to improve the stability and accuracy of machine learning algorithms by combining predictions from multiple models trained on different subsets of the training data."
   ]
  },
  {
   "cell_type": "markdown",
   "id": "b69b1b8f",
   "metadata": {},
   "source": [
    "## How Bagging Works\n",
    "1. Draw multiple bootstrap samples from the original dataset.\n",
    "2. Train a base model on each sample independently.\n",
    "3. Aggregate the predictions (by majority vote for classification or average for regression)."
   ]
  },
  {
   "cell_type": "code",
   "execution_count": null,
   "id": "590f16a4",
   "metadata": {},
   "outputs": [],
   "source": [
    "import numpy as np\n",
    "import matplotlib.pyplot as plt\n",
    "import seaborn as sns\n",
    "from sklearn.datasets import load_breast_cancer\n",
    "from sklearn.model_selection import train_test_split, cross_val_score\n",
    "from sklearn.ensemble import BaggingClassifier, RandomForestClassifier\n",
    "from sklearn.tree import DecisionTreeClassifier\n",
    "from sklearn.metrics import accuracy_score, ConfusionMatrixDisplay\n",
    "sns.set(style='whitegrid')"
   ]
  },
  {
   "cell_type": "code",
   "execution_count": null,
   "id": "649c272f",
   "metadata": {},
   "outputs": [],
   "source": [
    "X, y = load_breast_cancer(return_X_y=True)\n",
    "X_train, X_test, y_train, y_test = train_test_split(X, y, test_size=0.2, random_state=42)"
   ]
  },
  {
   "cell_type": "code",
   "execution_count": null,
   "id": "d9957fe7",
   "metadata": {},
   "outputs": [],
   "source": [
    "dt = DecisionTreeClassifier(random_state=42)\n",
    "bagging_clf = BaggingClassifier(\n",
    "    base_estimator=dt,\n",
    "    n_estimators=50,\n",
    "    bootstrap=True,\n",
    "    oob_score=True,\n",
    "    random_state=42\n",
    ")\n",
    "rf_clf = RandomForestClassifier(n_estimators=50, random_state=42)"
   ]
  },
  {
   "cell_type": "code",
   "execution_count": null,
   "id": "babdbc4f",
   "metadata": {},
   "outputs": [],
   "source": [
    "models = {\n",
    "    'Decision Tree': dt,\n",
    "    'Bagging': bagging_clf,\n",
    "    'Random Forest': rf_clf\n",
    "}\n",
    "\n",
    "cv_results = {}\n",
    "for name, model in models.items():\n",
    "    scores = cross_val_score(model, X_train, y_train, cv=5)\n",
    "    cv_results[name] = scores\n",
    "\n",
    "# Plotting\n",
    "plt.figure(figsize=(10, 6))\n",
    "sns.boxplot(data=list(cv_results.values()), orient='v')\n",
    "plt.xticks(ticks=range(len(cv_results)), labels=cv_results.keys())\n",
    "plt.ylabel('Accuracy')\n",
    "plt.title('Cross-Validation Accuracy Comparison')\n",
    "plt.show()"
   ]
  },
  {
   "cell_type": "code",
   "execution_count": null,
   "id": "8564466a",
   "metadata": {},
   "outputs": [],
   "source": [
    "bagging_clf.fit(X_train, y_train)\n",
    "y_pred = bagging_clf.predict(X_test)\n",
    "print(f\"Test Accuracy (Bagging): {accuracy_score(y_test, y_pred):.4f}\")\n",
    "print(f\"OOB Score (Bagging): {bagging_clf.oob_score_:.4f}\")\n",
    "\n",
    "# Confusion Matrix\n",
    "ConfusionMatrixDisplay.from_estimator(bagging_clf, X_test, y_test)\n",
    "plt.title('Confusion Matrix - Bagging Classifier')\n",
    "plt.show()"
   ]
  },
  {
   "cell_type": "markdown",
   "id": "44d98c16",
   "metadata": {},
   "source": [
    "## Conclusion\n",
    "\n",
    "Bagging improves model performance by reducing variance, making models like decision trees more robust. It is particularly effective when using high-variance, low-bias base learners.\n",
    "\n",
    "**Random Forest** is a widely-used extension of bagging that adds randomness in feature selection to further decorrelate individual trees."
   ]
  }
 ],
 "metadata": {
  "kernelspec": {
   "display_name": "Python 3",
   "language": "python",
   "name": "python3"
  },
  "language_info": {
   "name": "python",
   "version": "3.8"
  }
 },
 "nbformat": 4,
 "nbformat_minor": 5
}
