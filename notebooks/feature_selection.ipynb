{
 "cells": [
  {
   "cell_type": "markdown",
   "metadata": {},
   "source": [
    "# Introduction \n",
    "\n",
    "The choice of attributes (features) used to train a machine learning model has a great influence on the performance that can be achieved. If the original data set contains a very large number of attributes, it is possible that there are dependencies between them. As a result, there will be more dimensions in the attribute space than the minimum required to perform any ML task. In addition, in classification or regression tasks, it is possible that there are attributes that are not relevant to infer the value of the target attribute. In the context described above, we can consider applying techniques of *dimensionality reduction* or *feature selection* on the original data set. The purpose of these families of techniques is to reduce the number of attributes to be used when adjusting some ML model.\n",
    "\n",
    "**Feature selection** is a process in machine learning where **a subset of relevant features (variables, predictors, or attributes) are selected** from a dataset to use in model construction. The goal is to improve model performance, reduce overfitting, shorten training time, and sometimes improve interpretability.\n",
    "\n",
    "### Is feature selection the same as attribute selection?\n",
    "Yes — **feature selection** and **attribute selection** are generally used **interchangeably**. Both refer to choosing which input variables should be included in the model.\n",
    "\n",
    "### Is attribute selection the same as dimensionality reduction?\n",
    "Not exactly — they're related but **not the same thing**. The difference between dimensionality reduction and attribute selection is that the set of attributes resulting from the application of the latter is a subset of the original set of attributes, while the set of attributes produced by dimensionality reduction does not need to be a subset (for example, example, PCA reduces dimensionality by producing new features which are linear combinations of the original features, and then discarding the less important ones). In this way, we can understand the attribute selection as a particular case of dimensionality reduction. In any case, both DR and AS can be used during the pre-processing phase for later application of a learning algorithm (i.e., fitting some ML model).\n",
    "\n",
    "> **Feature selection / attribute selection**: Keep only the most important existing variables.\n",
    "\n",
    "> **Dimensionality reduction**: Create new variables that combine or transform the original ones to reduce dimensionality.\n",
    "\n",
    "The table below lists the main differences:\n",
    "\n",
    "| Aspect | Feature Selection | Dimensionality Reduction |\n",
    "|--------|-------------------|--------------------------|\n",
    "| What it does | Selects a subset of the original features | Transforms the features into a new space (usually with fewer dimensions) |\n",
    "| Output | A smaller set of original features | New features (combinations or projections of original ones) |\n",
    "| Examples | Recursive Feature Elimination (RFE), mutual information, LASSO | Principal Component Analysis (PCA), t-SNE, Autoencoders |\n",
    "| Interpretability | Easy to interpret (original features retained) | Often harder to interpret (features are transformed) |"
   ]
  },
  {
   "cell_type": "markdown",
   "metadata": {
    "id": "D9yeRGYWSEE4"
   },
   "source": [
    "Example (2D to 1D):\n",
    "<center><img src=\"https://shapeofdata.files.wordpress.com/2013/04/projection.png\" alt=\"Drawing\" width=\"600\"/></center>\n",
    "\n",
    "Example (3D to 2D):\n",
    "<center><img src=\"https://i.stack.imgur.com/9ETLr.png\" alt=\"Drawing\" width=\"600\"/></center>"
   ]
  },
  {
   "cell_type": "markdown",
   "metadata": {
    "id": "FhQWEli1cR9G"
   },
   "source": [
    "# Feature selection methods"
   ]
  },
  {
   "cell_type": "markdown",
   "metadata": {
    "id": "shtyhtQycbMs"
   },
   "source": [
    "## Seleção baseada em variância\n",
    "\n",
    "No Scikit-Learn, a classe [`VarianceThreshold`](https://scikit-learn.org/stable/modules/generated/sklearn.feature_selection.VarianceThreshold.html) implementa um procedimento simples para a seleção de atributos. Essa estratégia remove todos os atributos cuja variância não atinge algum limite fornecido. Por padrão, esse procedimento remove todos os atributos cuja variância é zero."
   ]
  },
  {
   "cell_type": "markdown",
   "metadata": {
    "id": "NVbSswAccNiK"
   },
   "source": [
    "A célula a seguir (adaptada deste [exemplo](https://)) ilustra um dataset com três atributos binários. O código descarta os atributos que possuem mais de 80% de zeros (ou de uns). Repare que o primeiro atributo é descartado, visto que há uma probabilidade igual a $5/6$ (maior do que $0.8$) de encontrar um zero.\n",
    "\n",
    "N.B.: a variância de uma variável aleatória de Bernoulli $X$ cuja probabilidade de sucesso é $p$ é dada por $\\operatorname {Var} [X]=p(1-p)$.\n"
   ]
  },
  {
   "cell_type": "code",
   "execution_count": 47,
   "metadata": {
    "colab": {
     "base_uri": "https://localhost:8080/",
     "height": 235
    },
    "executionInfo": {
     "elapsed": 586,
     "status": "ok",
     "timestamp": 1565875495680,
     "user": {
      "displayName": "Eduardo Bezerra",
      "photoUrl": "https://lh3.googleusercontent.com/-wLqpQslR4x0/AAAAAAAAAAI/AAAAAAAADfQ/-7GVOrw4lH4/s64/photo.jpg",
      "userId": "15338717559428153474"
     },
     "user_tz": 180
    },
    "id": "IwUzaRNRcVj9",
    "outputId": "83455805-e5af-467f-822e-597a1569446b"
   },
   "outputs": [
    {
     "name": "stdout",
     "output_type": "stream",
     "text": [
      "[[0 0 1]\n",
      " [0 1 0]\n",
      " [1 0 0]\n",
      " [0 1 1]\n",
      " [0 1 0]\n",
      " [0 1 1]]\n"
     ]
    },
    {
     "data": {
      "text/plain": [
       "array([[0, 1],\n",
       "       [1, 0],\n",
       "       [0, 0],\n",
       "       [1, 1],\n",
       "       [1, 0],\n",
       "       [1, 1]])"
      ]
     },
     "execution_count": 47,
     "metadata": {},
     "output_type": "execute_result"
    }
   ],
   "source": [
    "from sklearn.feature_selection import VarianceThreshold\n",
    "import numpy as np\n",
    "\n",
    "X = [[0, 0, 1], [0, 1, 0], [1, 0, 0], [0, 1, 1], [0, 1, 0], [0, 1, 1]]\n",
    "\n",
    "print(np.asarray(X))\n",
    "\n",
    "sel = VarianceThreshold(threshold=(.8 * (1 - .8)))\n",
    "sel.fit_transform(X)"
   ]
  },
  {
   "cell_type": "markdown",
   "metadata": {
    "id": "5MTdmHG9eFwh"
   },
   "source": [
    "## Seleção de atributos univariada\n",
    "\n",
    "A seleção de atributos univariada é útil para seleção de atributos no contexto da tarefa de **classificação**. Essa estratégia seleciona os melhores atributos com base em algum teste estatístico capaz de medir a dependência entre duas variáveis. \n",
    "\n",
    "O Scikit-learn expõe rotinas de seleção de atributos como classes que implementam o método de transformação `fit_transform`. Esse método recebe como argumentos a matrix de dados $X$ e a matriz alvo $y$.\n",
    "\n",
    "Uma dessas rotinas é fornecida pela classe `SelectKBest`. Essa classe pode ser configurada com um dentre um conjunto de testes estatísticos diferentes para selecionar um número específico de atributos. Um dos parâmetros a ser passado é uma função de pontuação, que deve ser aplicável a um par (𝑋, 𝑦). O resultado é uma matriz de pontuações, com uma pontuação para cada atributo de 𝑋. O objeto `SelectKBest` então simplesmente mantém os primeiros $k$ atributos de 𝑋 com as pontuações mais altas.\n",
    "\n",
    "Se, por exemplo, for passada `chi2` como função de pontuação, `SelectKBest` irá calcular a estatística `chi2` entre cada atributo de 𝑋 e o atributo alvo 𝑦 (presumindo que este último contém os rótulos da classe). Um valor pequeno significará que o atributo é independente de 𝑦. Um valor grande significará que o atributo não está relacionado aleatoriamente a 𝑦 e, portanto, provavelmente fornecerá informações importantes para o estimador. Apenas os 𝑘 atributos de maior pontuação são mantidos.\n",
    "\n",
    "O exemplo abaixo ilustra o uso de `SelectKBest` com o teste estatístico qui quadrado ($\\chi^2$) para selecionar os melhores 4 atributos do conjunto de dados de original."
   ]
  },
  {
   "cell_type": "code",
   "execution_count": 48,
   "metadata": {
    "colab": {
     "base_uri": "https://localhost:8080/",
     "height": 54
    },
    "executionInfo": {
     "elapsed": 585,
     "status": "ok",
     "timestamp": 1565878525505,
     "user": {
      "displayName": "Eduardo Bezerra",
      "photoUrl": "https://lh3.googleusercontent.com/-wLqpQslR4x0/AAAAAAAAAAI/AAAAAAAADfQ/-7GVOrw4lH4/s64/photo.jpg",
      "userId": "15338717559428153474"
     },
     "user_tz": 180
    },
    "id": "bY8uWUhsnMye",
    "outputId": "a99af585-9cc5-4954-d042-23920a71eb54"
   },
   "outputs": [
    {
     "name": "stdout",
     "output_type": "stream",
     "text": [
      "(150, 4)\n",
      "(150, 2)\n"
     ]
    }
   ],
   "source": [
    "from sklearn.datasets import load_iris\n",
    "from sklearn.feature_selection import SelectKBest\n",
    "from sklearn.feature_selection import chi2\n",
    "iris = load_iris()\n",
    "X, y = iris.data, iris.target\n",
    "print(X.shape)\n",
    "\n",
    "X_new = SelectKBest(chi2, k=2).fit_transform(X, y)\n",
    "print(X_new.shape)"
   ]
  },
  {
   "cell_type": "markdown",
   "metadata": {
    "id": "qQvR-wHf3fol"
   },
   "source": [
    "### Seleção por informação mútua\n",
    "\n",
    "A [informação mútua](https://en.wikipedia.org/wiki/Mutual_information) (mutual information, MI) entre duas variáveis aleatórias é um valor não negativo, que mede a dependência entre as variáveis. É igual a zero se e somente se duas variáveis aleatórias forem independentes. Quanto maior o valor de MI, maior a dependência estatística entre as variáveis. \n",
    "\n",
    "Formalmente,  dadas duas variáveis aleatórias $X$ e $Y$, a MI mede o quão diferente a distribuição conjunta do par ${\\displaystyle (X, Y)}$ é do produto de distribuições marginais de ${\\displaystyle X}$ e ${\\displaystyle Y}$.\n",
    "\n",
    "Intuitivamente, MI mede o quanto o conhecimento de uma dessas variáveis reduz a incerteza sobre a outra. Por exemplo, se ${\\displaystyle X}$ e ${\\displaystyle Y}$ forem independentes, saber ${\\displaystyle X}$ não fornecerá informações sobre ${\\displaystyle Y}$ e vice-versa. Portanto, a informação mútua neste caso é zero. No outro extremo, se ${\\displaystyle X}$ é uma função determinística de ${\\displaystyle Y}$ e ${\\displaystyle Y}$ é uma função determinística de ${\\displaystyle X}$, então toda a informação transmitida por ${\\displaystyle X }$ é compartilhada com ${\\displaystyle Y}$: conhecer ${\\displaystyle X}$ determina o valor de ${\\displaystyle Y}$ e vice-versa.\n",
    "\n",
    "A MI não está limitada a variáveis aleatórias de valor real e nem a dependências lineares (como acontece no caso do coeficiente de correlação).\n",
    "\n",
    "No Scikit-Learn, a função [sklearn.feature_selection.mutual_info_classif](https://scikit-learn.org/stable/modules/generated/sklearn.feature_selection.mutual_info_classif.html) permite estimar a *informação mútua* entre cada atributo previsor e um atributo alvo discreto.\n"
   ]
  },
  {
   "cell_type": "code",
   "execution_count": 49,
   "metadata": {
    "colab": {
     "base_uri": "https://localhost:8080/",
     "height": 35
    },
    "executionInfo": {
     "elapsed": 614,
     "status": "ok",
     "timestamp": 1581943412097,
     "user": {
      "displayName": "Eduardo Bezerra",
      "photoUrl": "https://lh3.googleusercontent.com/a-/AAuE7mCyjf3B5BR-yqJ-EVTWPFRq6gjvkIZyStocq5ZQzA=s64",
      "userId": "15338717559428153474"
     },
     "user_tz": 180
    },
    "id": "AjKOPFEcnz2n",
    "outputId": "cd085057-dffd-43e4-ed9b-1d63864b0732"
   },
   "outputs": [
    {
     "data": {
      "text/plain": [
       "array([1.05492017, 0.22314355, 0.39575279, 1.05492017])"
      ]
     },
     "execution_count": 49,
     "metadata": {},
     "output_type": "execute_result"
    }
   ],
   "source": [
    "import numpy as np\n",
    "from sklearn.feature_selection import mutual_info_classif\n",
    "X = np.array([[0, 0, 0, 1],\n",
    "              [1, 1, 0, 2],\n",
    "              [2, 0, 1, 3],\n",
    "              [2, 0, 1, 3],\n",
    "              [1, 0, 1, 2]])\n",
    "y = np.array([0, 1, 2, 2, 1])\n",
    "mutual_info_classif(X, y, discrete_features=True)"
   ]
  },
  {
   "cell_type": "code",
   "execution_count": 50,
   "metadata": {
    "colab": {
     "base_uri": "https://localhost:8080/",
     "height": 35
    },
    "executionInfo": {
     "elapsed": 639,
     "status": "ok",
     "timestamp": 1581943714584,
     "user": {
      "displayName": "Eduardo Bezerra",
      "photoUrl": "https://lh3.googleusercontent.com/a-/AAuE7mCyjf3B5BR-yqJ-EVTWPFRq6gjvkIZyStocq5ZQzA=s64",
      "userId": "15338717559428153474"
     },
     "user_tz": 180
    },
    "id": "H_8APMn7MO8A",
    "outputId": "9c17fd4b-cd6d-4594-86d4-9981431e65d4"
   },
   "outputs": [
    {
     "name": "stdout",
     "output_type": "stream",
     "text": [
      "[0 1 2 2 1]\n"
     ]
    }
   ],
   "source": [
    "print(X[:,0])"
   ]
  },
  {
   "cell_type": "markdown",
   "metadata": {
    "id": "URCWiPDaV245"
   },
   "source": [
    "As duas células a seguir ilustram de que forma a computação da MI pode ser implementada. Para entendimento deste código, vale a leitura do link a seguir: https://en.wikipedia.org/wiki/G-test#Relation_to_mutual_information."
   ]
  },
  {
   "cell_type": "code",
   "execution_count": 51,
   "metadata": {
    "colab": {
     "base_uri": "https://localhost:8080/",
     "height": 69
    },
    "executionInfo": {
     "elapsed": 656,
     "status": "ok",
     "timestamp": 1581944384531,
     "user": {
      "displayName": "Eduardo Bezerra",
      "photoUrl": "https://lh3.googleusercontent.com/a-/AAuE7mCyjf3B5BR-yqJ-EVTWPFRq6gjvkIZyStocq5ZQzA=s64",
      "userId": "15338717559428153474"
     },
     "user_tz": 180
    },
    "id": "PCZJMZ0wNY_8",
    "outputId": "8d0753a2-20af-4a14-d1c0-d4f1534d2529"
   },
   "outputs": [
    {
     "name": "stdout",
     "output_type": "stream",
     "text": [
      "[[0. 0. 2.]\n",
      " [1. 0. 0.]\n",
      " [0. 2. 0.]]\n"
     ]
    }
   ],
   "source": [
    "import numpy as np\n",
    "x = np.array([1, 2, 0, 0, 2])\n",
    "y = np.array([0, 1, 2, 2, 1])\n",
    "bins = 3\n",
    "c_xy = np.histogram2d(x, y, bins)[0]\n",
    "print(c_xy)"
   ]
  },
  {
   "cell_type": "code",
   "execution_count": 52,
   "metadata": {
    "colab": {
     "base_uri": "https://localhost:8080/",
     "height": 35
    },
    "executionInfo": {
     "elapsed": 638,
     "status": "ok",
     "timestamp": 1581944921760,
     "user": {
      "displayName": "Eduardo Bezerra",
      "photoUrl": "https://lh3.googleusercontent.com/a-/AAuE7mCyjf3B5BR-yqJ-EVTWPFRq6gjvkIZyStocq5ZQzA=s64",
      "userId": "15338717559428153474"
     },
     "user_tz": 180
    },
    "id": "wYOVhIRYMGPF",
    "outputId": "2470e081-acee-478c-d0ea-aad0b6885074"
   },
   "outputs": [
    {
     "data": {
      "text/plain": [
       "1.0549201679861442"
      ]
     },
     "execution_count": 52,
     "metadata": {},
     "output_type": "execute_result"
    }
   ],
   "source": [
    "from scipy.stats import chi2_contingency\n",
    "\n",
    "def calc_MI(x, y, bins):\n",
    "    c_xy = np.histogram2d(x, y, bins)[0]\n",
    "    g, p, dof, expected = chi2_contingency(c_xy, lambda_=\"log-likelihood\")\n",
    "    mi = 0.5 * g / c_xy.sum()\n",
    "    return mi\n",
    "calc_MI(X[:,0], y, 3)"
   ]
  },
  {
   "cell_type": "markdown",
   "metadata": {
    "id": "EDa23lhhK7Wt"
   },
   "source": [
    "A classe `SelectPercentile` funciona de forma similar. Essa classe também deve ser configurada com uma função de pontuação. Entretanto, em vez de passar a *quantidade* de atributos que devem permanecer, passamos a *porcentagem* de atributos que devem permanecer (relativamente à quantidade total de atributos em $X$).\n",
    "\n",
    "No exemplo a seguir, $X$ contém 64 atributos. Após a seleção (repare o uso do parâmetro `percentile` para definir que 10% dos atributos devem ser retidos), o conjunto de dados contém apenas 7 atributos."
   ]
  },
  {
   "cell_type": "code",
   "execution_count": 53,
   "metadata": {
    "colab": {
     "base_uri": "https://localhost:8080/",
     "height": 52
    },
    "executionInfo": {
     "elapsed": 677,
     "status": "ok",
     "timestamp": 1581946739874,
     "user": {
      "displayName": "Eduardo Bezerra",
      "photoUrl": "https://lh3.googleusercontent.com/a-/AAuE7mCyjf3B5BR-yqJ-EVTWPFRq6gjvkIZyStocq5ZQzA=s64",
      "userId": "15338717559428153474"
     },
     "user_tz": 180
    },
    "id": "5gYDonlDntbW",
    "outputId": "2f30746d-e2da-4fed-95ec-aa58892e5768"
   },
   "outputs": [
    {
     "name": "stdout",
     "output_type": "stream",
     "text": [
      "Antes da seleção: (1797, 64)\n",
      "Depois da seleção: (1797, 7)\n"
     ]
    }
   ],
   "source": [
    "from sklearn.datasets import load_digits\n",
    "from sklearn.feature_selection import SelectPercentile, chi2\n",
    "X, y = load_digits(return_X_y=True)\n",
    "print('Antes da seleção:', X.shape)\n",
    "\n",
    "X_new = SelectPercentile(chi2, percentile=10).fit_transform(X, y)\n",
    "print('Depois da seleção:', X_new.shape)"
   ]
  },
  {
   "cell_type": "markdown",
   "metadata": {
    "id": "fNbo0k_U-PhC"
   },
   "source": [
    "## Recursive Feature Elimination"
   ]
  },
  {
   "cell_type": "markdown",
   "metadata": {
    "id": "siUCyJmRMxOt"
   },
   "source": [
    "A estratégia *Recursive Feature Elimination*, implementada na classe [sklearn.feature_selection.RFE](https://scikit-learn.org/stable/modules/generated/sklearn.feature_selection.RFE.html) utiliza algum algoritmo de ML que gere modelos preditivos (classificador ou regressor) para selecionar atributos. Essa estratégia é útil em tarefas de classificação ou de regressão, nas quais há um conjunto de atributos previsores e um atributo alvo. A RFE permite selecionar os atributos previsores mais relevantes para predizer o atributo alvo.\n",
    "\n",
    "O RFE ajusta um modelo preditivo (classificador ou regressor) a diferentes combinações de atributos. Para cada combinação, ele usa a acurácia do modelo ajustado para identificar quais atributos contribuem mais para prever o atributo alvo. Sendo assim, uma pressuposição para aplicar o RFE é que o algoritmo usado para ajuste do modelo a um conjunto de dados $X$ produz um peso (i.e., um indicador numérido de importância) para cada atributo em $X$. \n",
    "\n",
    "Inicialmente, o algoritmo de ML é aplicado ao conjunto de dados original $X$. Em seguida, o atributo menos relevante (de acordo com os coeficientes retornados pelo modelo ajustado) é removido de $X$, o que resulta em um novo conjunto de dados $X^\\prime$. Um novo modelo é então ajustado sobre novo conjunto de dados $X^\\prime$, para gerar uma nova lista de coeficientes de importância. Esse procedimento é realizado recursivamente, até que a quantidade de atributos desejada seja alcançada.\n",
    "\n",
    "A classe `RFE` possui dois atributos, `support_` e `ranking_`, vetores (do tipo *numpy array*) que podem ser consultados para analisar o resultado da seleção de atributos."
   ]
  },
  {
   "cell_type": "markdown",
   "metadata": {
    "id": "0NdiBH9lu9q5"
   },
   "source": [
    "No código de exemplo abaixo, o conjunto de dados Iris é usado para ilustrar o uso de RFE. O conjunto de dados Iris tem 4 atributos previsores, todos medidos em cm:\n",
    "* comprimento da sépala, \n",
    "* largura da sépala, \n",
    "* comprimento da pétala, \n",
    "* largura da pétala. \n",
    "\n",
    "No exemplo  abaixo, o vetor `ranking_` resultante é `[2 1 1 1]`, o que significa que a largura da sépala, o comprimento da pétala e a largura da pétala são todos mais importantes do que o comprimento da sépala."
   ]
  },
  {
   "cell_type": "code",
   "execution_count": 54,
   "metadata": {
    "colab": {
     "base_uri": "https://localhost:8080/",
     "height": 141
    },
    "executionInfo": {
     "elapsed": 617,
     "status": "ok",
     "timestamp": 1581947225252,
     "user": {
      "displayName": "Eduardo Bezerra",
      "photoUrl": "https://lh3.googleusercontent.com/a-/AAuE7mCyjf3B5BR-yqJ-EVTWPFRq6gjvkIZyStocq5ZQzA=s64",
      "userId": "15338717559428153474"
     },
     "user_tz": 180
    },
    "id": "IMvpWDdKu9Sq",
    "outputId": "15f6dbcf-1444-4131-e76f-e2f158ebac98"
   },
   "outputs": [
    {
     "name": "stdout",
     "output_type": "stream",
     "text": [
      "[False  True  True  True]\n",
      "[2 1 1 1]\n"
     ]
    }
   ],
   "source": [
    "from sklearn.svm import LinearSVC\n",
    "from sklearn.feature_selection import RFE\n",
    "from sklearn import datasets\n",
    "\n",
    "dataset = datasets.load_iris()\n",
    "\n",
    "svm = LinearSVC()\n",
    "\n",
    "# create the RFE model for the svm classifier \n",
    "# and select attributes\n",
    "rfe = RFE(svm, n_features_to_select=3)\n",
    "rfe = rfe.fit(dataset.data, dataset.target)\n",
    "\n",
    "#\n",
    "# imprime sumários relativos aos atributos selecionados\n",
    "#\n",
    "\n",
    "# um array com valores booleanos para indicar os atributos selecionados\n",
    "print(rfe.support_)\n",
    "\n",
    "# um array de inteiros positivos para indicar o ranking de atributos\n",
    "# (pontuação mais baixa indica um ranking mais alto) \n",
    "print(rfe.ranking_)"
   ]
  },
  {
   "cell_type": "code",
   "execution_count": 55,
   "metadata": {
    "colab": {
     "base_uri": "https://localhost:8080/",
     "height": 51
    },
    "executionInfo": {
     "elapsed": 595,
     "status": "ok",
     "timestamp": 1566053193529,
     "user": {
      "displayName": "Eduardo Bezerra",
      "photoUrl": "https://lh3.googleusercontent.com/-wLqpQslR4x0/AAAAAAAAAAI/AAAAAAAADfQ/-7GVOrw4lH4/s64/photo.jpg",
      "userId": "15338717559428153474"
     },
     "user_tz": 180
    },
    "id": "LOWAL7edWppm",
    "outputId": "76c568fb-23ec-47c6-9c22-494e866f888e"
   },
   "outputs": [
    {
     "name": "stdout",
     "output_type": "stream",
     "text": [
      "[ True  True  True  True  True False False False False False]\n",
      "[1 1 1 1 1 6 4 3 2 5]\n"
     ]
    }
   ],
   "source": [
    "from sklearn.datasets import make_friedman1\n",
    "from sklearn.feature_selection import RFE\n",
    "from sklearn.svm import SVR\n",
    "X, y = make_friedman1(n_samples=50, n_features=10, random_state=0)\n",
    "estimator = SVR(kernel=\"linear\")\n",
    "selector = RFE(estimator, n_features_to_select=5, step=1)\n",
    "selector = selector.fit(X, y)\n",
    "\n",
    "print(selector.support_)\n",
    "\n",
    "\n",
    "print(selector.ranking_)\n"
   ]
  },
  {
   "cell_type": "markdown",
   "metadata": {
    "id": "02P-FOvo8cXn"
   },
   "source": [
    "Outra classe do scikit-learn fornecida para seleção de atributos é [`RFECV`](https://scikit-learn.org/stable/modules/generated/sklearn.feature_selection.RFECV.html).  Essa é uma sublcasse de RFE.\n",
    "\n",
    "Uma desvantagem da classe RFE é que a quantidade de atributos a selecionar deve ser fornecida por meio do parâmetro `n_features_to_select`. A classe RFECV ajuda a ajustar (i.e., determinar) o valor desse parâmetro usando validação cruzada. Para cada etapa em que o número de atributos definido em `steps` é eliminado, a RFECV calcula a acurácia em um conjunto de dados de validação. A combinação de atributos que fornece a acurácia máxima nos dados de validação é retornada."
   ]
  },
  {
   "cell_type": "code",
   "execution_count": 56,
   "metadata": {
    "colab": {
     "base_uri": "https://localhost:8080/",
     "height": 34
    },
    "executionInfo": {
     "elapsed": 685,
     "status": "ok",
     "timestamp": 1566053668783,
     "user": {
      "displayName": "Eduardo Bezerra",
      "photoUrl": "https://lh3.googleusercontent.com/-wLqpQslR4x0/AAAAAAAAAAI/AAAAAAAADfQ/-7GVOrw4lH4/s64/photo.jpg",
      "userId": "15338717559428153474"
     },
     "user_tz": 180
    },
    "id": "dOeW9i6AMw5S",
    "outputId": "08840ff4-421b-4967-c718-f27fa5d5d1bd"
   },
   "outputs": [
    {
     "name": "stdout",
     "output_type": "stream",
     "text": [
      "Quantidade ótima de atributos: 5\n"
     ]
    }
   ],
   "source": [
    "from sklearn.feature_selection import RFECV\n",
    "regression = SVR(kernel=\"linear\")\n",
    "selector = RFECV(estimator=regression, cv=10)\n",
    "selector.fit(X, y)\n",
    "print(\"Quantidade ótima de atributos: %d\" % selector.n_features_)"
   ]
  },
  {
   "cell_type": "code",
   "execution_count": 57,
   "metadata": {
    "colab": {
     "base_uri": "https://localhost:8080/",
     "height": 34
    },
    "executionInfo": {
     "elapsed": 698,
     "status": "ok",
     "timestamp": 1566053684535,
     "user": {
      "displayName": "Eduardo Bezerra",
      "photoUrl": "https://lh3.googleusercontent.com/-wLqpQslR4x0/AAAAAAAAAAI/AAAAAAAADfQ/-7GVOrw4lH4/s64/photo.jpg",
      "userId": "15338717559428153474"
     },
     "user_tz": 180
    },
    "id": "ic-3i1S_N6wU",
    "outputId": "eb301f5b-b131-4853-d778-5b4a0bf754ca"
   },
   "outputs": [
    {
     "data": {
      "text/plain": [
       "array([1, 1, 1, 1, 1, 6, 4, 3, 2, 5])"
      ]
     },
     "execution_count": 57,
     "metadata": {},
     "output_type": "execute_result"
    }
   ],
   "source": [
    "from sklearn.datasets import make_friedman1\n",
    "from sklearn.feature_selection import RFECV\n",
    "from sklearn.svm import SVR\n",
    "X, y = make_friedman1(n_samples=50, n_features=10, random_state=0)\n",
    "estimator = SVR(kernel=\"linear\")\n",
    "selector = RFECV(estimator, step=1, cv=5)\n",
    "selector = selector.fit(X, y)\n",
    "selector.support_ \n",
    "\n",
    "\n",
    "selector.ranking_"
   ]
  },
  {
   "cell_type": "markdown",
   "metadata": {},
   "source": [
    "### RFECV\n",
    "\n",
    "The `RFECV` class in **scikit-learn** stands for **Recursive Feature Elimination with Cross-Validation**. It's a feature selection method that recursively removes less important features, using cross-validation to determine the optimal number of features to keep.\n",
    "\n",
    "#### Steps:\n",
    "1. **Start with all features** in the dataset.\n",
    "2. **Fit a model** (e.g., a classifier or regressor) on the training data.\n",
    "3. **Rank the features** based on importance weights from the estimator (e.g., `coef_` or `feature_importances_`).\n",
    "4. **Eliminate the least important features** (by default, one at a time).\n",
    "5. **Use cross-validation** to evaluate the performance of the model at each iteration.\n",
    "6. **Repeat** the process until the desired number of features is reached.\n",
    "7. **Select the number of features** that gives the best cross-validation score.\n",
    "\n",
    "---\n",
    "\n",
    "#### Main Parameters:\n",
    "\n",
    "- `estimator`: A model that exposes either `coef_` or `feature_importances_` (e.g., `LogisticRegression`, `RandomForestClassifier`).\n",
    "- `step`: Number of features to remove at each iteration (can be an integer or float).\n",
    "- `cv`: Cross-validation splitting strategy (e.g., integer for K-Fold).\n",
    "- `scoring`: A string or callable to evaluate the model (e.g., `'accuracy'`, `'neg_mean_squared_error'`).\n",
    "- `min_features_to_select`: Minimum number of features to keep.\n",
    "\n",
    "#### Attributes:\n",
    "\n",
    "- `n_features_`: Number of features selected.\n",
    "- `support_`: Boolean mask of selected features.\n",
    "- `ranking_`: Feature ranking (1 is best).\n",
    "- `grid_scores_` (deprecated) or `cv_results_`: CV scores at each step."
   ]
  },
  {
   "cell_type": "code",
   "execution_count": 58,
   "metadata": {
    "colab": {
     "base_uri": "https://localhost:8080/",
     "height": 334
    },
    "executionInfo": {
     "elapsed": 3212,
     "status": "ok",
     "timestamp": 1566053717387,
     "user": {
      "displayName": "Eduardo Bezerra",
      "photoUrl": "https://lh3.googleusercontent.com/-wLqpQslR4x0/AAAAAAAAAAI/AAAAAAAADfQ/-7GVOrw4lH4/s64/photo.jpg",
      "userId": "15338717559428153474"
     },
     "user_tz": 180
    },
    "id": "WEs52zrzTKi4",
    "outputId": "7d55f893-41d6-418e-daef-113f033f319a"
   },
   "outputs": [
    {
     "name": "stdout",
     "output_type": "stream",
     "text": [
      "Optimal number of features: 20\n",
      "Selected features mask: [ True  True False False  True  True  True  True  True False  True  True\n",
      "  True  True False False False False False False  True  True  True False\n",
      "  True  True  True  True  True  True]\n",
      "Feature ranking: [ 1  1  3 10  1  1  1  1  1  6  1  1  1  1  8  2  7  5  4  9  1  1  1 11\n",
      "  1  1  1  1  1  1]\n"
     ]
    }
   ],
   "source": [
    "from sklearn.datasets import load_breast_cancer\n",
    "from sklearn.linear_model import LogisticRegression\n",
    "from sklearn.feature_selection import RFECV\n",
    "from sklearn.model_selection import StratifiedKFold\n",
    "\n",
    "X, y = load_breast_cancer(return_X_y=True)\n",
    "estimator = LogisticRegression(max_iter=10000)\n",
    "\n",
    "rfecv = RFECV(estimator=estimator, step=1, cv=StratifiedKFold(5), scoring='accuracy')\n",
    "rfecv.fit(X, y)\n",
    "\n",
    "print(\"Optimal number of features:\", rfecv.n_features_)\n",
    "print(\"Selected features mask:\", rfecv.support_)\n",
    "print(\"Feature ranking:\", rfecv.ranking_)"
   ]
  },
  {
   "cell_type": "code",
   "execution_count": 59,
   "metadata": {
    "id": "IYn9kA_lm0Km"
   },
   "outputs": [],
   "source": [
    "import pandas as pd\n",
    "data = pd.read_csv('../data/breast-cancer.csv')"
   ]
  },
  {
   "cell_type": "code",
   "execution_count": 60,
   "metadata": {
    "colab": {
     "base_uri": "https://localhost:8080/",
     "height": 241
    },
    "executionInfo": {
     "elapsed": 739,
     "status": "ok",
     "timestamp": 1565911808072,
     "user": {
      "displayName": "Eduardo Bezerra",
      "photoUrl": "https://lh3.googleusercontent.com/-wLqpQslR4x0/AAAAAAAAAAI/AAAAAAAADfQ/-7GVOrw4lH4/s64/photo.jpg",
      "userId": "15338717559428153474"
     },
     "user_tz": 180
    },
    "id": "ttwhAX4enezj",
    "outputId": "33e070cb-c5f4-422a-f037-1e587abcc2fe"
   },
   "outputs": [
    {
     "data": {
      "text/html": [
       "<div>\n",
       "<style scoped>\n",
       "    .dataframe tbody tr th:only-of-type {\n",
       "        vertical-align: middle;\n",
       "    }\n",
       "\n",
       "    .dataframe tbody tr th {\n",
       "        vertical-align: top;\n",
       "    }\n",
       "\n",
       "    .dataframe thead th {\n",
       "        text-align: right;\n",
       "    }\n",
       "</style>\n",
       "<table border=\"1\" class=\"dataframe\">\n",
       "  <thead>\n",
       "    <tr style=\"text-align: right;\">\n",
       "      <th></th>\n",
       "      <th>id</th>\n",
       "      <th>diagnosis</th>\n",
       "      <th>radius_mean</th>\n",
       "      <th>texture_mean</th>\n",
       "      <th>perimeter_mean</th>\n",
       "      <th>area_mean</th>\n",
       "      <th>smoothness_mean</th>\n",
       "      <th>compactness_mean</th>\n",
       "      <th>concavity_mean</th>\n",
       "      <th>concave points_mean</th>\n",
       "      <th>...</th>\n",
       "      <th>texture_worst</th>\n",
       "      <th>perimeter_worst</th>\n",
       "      <th>area_worst</th>\n",
       "      <th>smoothness_worst</th>\n",
       "      <th>compactness_worst</th>\n",
       "      <th>concavity_worst</th>\n",
       "      <th>concave points_worst</th>\n",
       "      <th>symmetry_worst</th>\n",
       "      <th>fractal_dimension_worst</th>\n",
       "      <th>Unnamed: 32</th>\n",
       "    </tr>\n",
       "  </thead>\n",
       "  <tbody>\n",
       "    <tr>\n",
       "      <th>0</th>\n",
       "      <td>842302</td>\n",
       "      <td>M</td>\n",
       "      <td>17.99</td>\n",
       "      <td>10.38</td>\n",
       "      <td>122.80</td>\n",
       "      <td>1001.0</td>\n",
       "      <td>0.11840</td>\n",
       "      <td>0.27760</td>\n",
       "      <td>0.3001</td>\n",
       "      <td>0.14710</td>\n",
       "      <td>...</td>\n",
       "      <td>17.33</td>\n",
       "      <td>184.60</td>\n",
       "      <td>2019.0</td>\n",
       "      <td>0.1622</td>\n",
       "      <td>0.6656</td>\n",
       "      <td>0.7119</td>\n",
       "      <td>0.2654</td>\n",
       "      <td>0.4601</td>\n",
       "      <td>0.11890</td>\n",
       "      <td>NaN</td>\n",
       "    </tr>\n",
       "    <tr>\n",
       "      <th>1</th>\n",
       "      <td>842517</td>\n",
       "      <td>M</td>\n",
       "      <td>20.57</td>\n",
       "      <td>17.77</td>\n",
       "      <td>132.90</td>\n",
       "      <td>1326.0</td>\n",
       "      <td>0.08474</td>\n",
       "      <td>0.07864</td>\n",
       "      <td>0.0869</td>\n",
       "      <td>0.07017</td>\n",
       "      <td>...</td>\n",
       "      <td>23.41</td>\n",
       "      <td>158.80</td>\n",
       "      <td>1956.0</td>\n",
       "      <td>0.1238</td>\n",
       "      <td>0.1866</td>\n",
       "      <td>0.2416</td>\n",
       "      <td>0.1860</td>\n",
       "      <td>0.2750</td>\n",
       "      <td>0.08902</td>\n",
       "      <td>NaN</td>\n",
       "    </tr>\n",
       "    <tr>\n",
       "      <th>2</th>\n",
       "      <td>84300903</td>\n",
       "      <td>M</td>\n",
       "      <td>19.69</td>\n",
       "      <td>21.25</td>\n",
       "      <td>130.00</td>\n",
       "      <td>1203.0</td>\n",
       "      <td>0.10960</td>\n",
       "      <td>0.15990</td>\n",
       "      <td>0.1974</td>\n",
       "      <td>0.12790</td>\n",
       "      <td>...</td>\n",
       "      <td>25.53</td>\n",
       "      <td>152.50</td>\n",
       "      <td>1709.0</td>\n",
       "      <td>0.1444</td>\n",
       "      <td>0.4245</td>\n",
       "      <td>0.4504</td>\n",
       "      <td>0.2430</td>\n",
       "      <td>0.3613</td>\n",
       "      <td>0.08758</td>\n",
       "      <td>NaN</td>\n",
       "    </tr>\n",
       "    <tr>\n",
       "      <th>3</th>\n",
       "      <td>84348301</td>\n",
       "      <td>M</td>\n",
       "      <td>11.42</td>\n",
       "      <td>20.38</td>\n",
       "      <td>77.58</td>\n",
       "      <td>386.1</td>\n",
       "      <td>0.14250</td>\n",
       "      <td>0.28390</td>\n",
       "      <td>0.2414</td>\n",
       "      <td>0.10520</td>\n",
       "      <td>...</td>\n",
       "      <td>26.50</td>\n",
       "      <td>98.87</td>\n",
       "      <td>567.7</td>\n",
       "      <td>0.2098</td>\n",
       "      <td>0.8663</td>\n",
       "      <td>0.6869</td>\n",
       "      <td>0.2575</td>\n",
       "      <td>0.6638</td>\n",
       "      <td>0.17300</td>\n",
       "      <td>NaN</td>\n",
       "    </tr>\n",
       "    <tr>\n",
       "      <th>4</th>\n",
       "      <td>84358402</td>\n",
       "      <td>M</td>\n",
       "      <td>20.29</td>\n",
       "      <td>14.34</td>\n",
       "      <td>135.10</td>\n",
       "      <td>1297.0</td>\n",
       "      <td>0.10030</td>\n",
       "      <td>0.13280</td>\n",
       "      <td>0.1980</td>\n",
       "      <td>0.10430</td>\n",
       "      <td>...</td>\n",
       "      <td>16.67</td>\n",
       "      <td>152.20</td>\n",
       "      <td>1575.0</td>\n",
       "      <td>0.1374</td>\n",
       "      <td>0.2050</td>\n",
       "      <td>0.4000</td>\n",
       "      <td>0.1625</td>\n",
       "      <td>0.2364</td>\n",
       "      <td>0.07678</td>\n",
       "      <td>NaN</td>\n",
       "    </tr>\n",
       "  </tbody>\n",
       "</table>\n",
       "<p>5 rows × 33 columns</p>\n",
       "</div>"
      ],
      "text/plain": [
       "         id diagnosis  radius_mean  texture_mean  perimeter_mean  area_mean  \\\n",
       "0    842302         M        17.99         10.38          122.80     1001.0   \n",
       "1    842517         M        20.57         17.77          132.90     1326.0   \n",
       "2  84300903         M        19.69         21.25          130.00     1203.0   \n",
       "3  84348301         M        11.42         20.38           77.58      386.1   \n",
       "4  84358402         M        20.29         14.34          135.10     1297.0   \n",
       "\n",
       "   smoothness_mean  compactness_mean  concavity_mean  concave points_mean  \\\n",
       "0          0.11840           0.27760          0.3001              0.14710   \n",
       "1          0.08474           0.07864          0.0869              0.07017   \n",
       "2          0.10960           0.15990          0.1974              0.12790   \n",
       "3          0.14250           0.28390          0.2414              0.10520   \n",
       "4          0.10030           0.13280          0.1980              0.10430   \n",
       "\n",
       "   ...  texture_worst  perimeter_worst  area_worst  smoothness_worst  \\\n",
       "0  ...          17.33           184.60      2019.0            0.1622   \n",
       "1  ...          23.41           158.80      1956.0            0.1238   \n",
       "2  ...          25.53           152.50      1709.0            0.1444   \n",
       "3  ...          26.50            98.87       567.7            0.2098   \n",
       "4  ...          16.67           152.20      1575.0            0.1374   \n",
       "\n",
       "   compactness_worst  concavity_worst  concave points_worst  symmetry_worst  \\\n",
       "0             0.6656           0.7119                0.2654          0.4601   \n",
       "1             0.1866           0.2416                0.1860          0.2750   \n",
       "2             0.4245           0.4504                0.2430          0.3613   \n",
       "3             0.8663           0.6869                0.2575          0.6638   \n",
       "4             0.2050           0.4000                0.1625          0.2364   \n",
       "\n",
       "   fractal_dimension_worst  Unnamed: 32  \n",
       "0                  0.11890          NaN  \n",
       "1                  0.08902          NaN  \n",
       "2                  0.08758          NaN  \n",
       "3                  0.17300          NaN  \n",
       "4                  0.07678          NaN  \n",
       "\n",
       "[5 rows x 33 columns]"
      ]
     },
     "execution_count": 60,
     "metadata": {},
     "output_type": "execute_result"
    }
   ],
   "source": [
    "data.head()"
   ]
  },
  {
   "cell_type": "code",
   "execution_count": 61,
   "metadata": {
    "colab": {
     "base_uri": "https://localhost:8080/",
     "height": 187
    },
    "executionInfo": {
     "elapsed": 602,
     "status": "ok",
     "timestamp": 1565911846258,
     "user": {
      "displayName": "Eduardo Bezerra",
      "photoUrl": "https://lh3.googleusercontent.com/-wLqpQslR4x0/AAAAAAAAAAI/AAAAAAAADfQ/-7GVOrw4lH4/s64/photo.jpg",
      "userId": "15338717559428153474"
     },
     "user_tz": 180
    },
    "id": "CwuCqczsnoCk",
    "outputId": "d4a9c247-5715-462c-bbc6-fad3648dca7a"
   },
   "outputs": [
    {
     "name": "stdout",
     "output_type": "stream",
     "text": [
      "Index(['id', 'diagnosis', 'radius_mean', 'texture_mean', 'perimeter_mean',\n",
      "       'area_mean', 'smoothness_mean', 'compactness_mean', 'concavity_mean',\n",
      "       'concave points_mean', 'symmetry_mean', 'fractal_dimension_mean',\n",
      "       'radius_se', 'texture_se', 'perimeter_se', 'area_se', 'smoothness_se',\n",
      "       'compactness_se', 'concavity_se', 'concave points_se', 'symmetry_se',\n",
      "       'fractal_dimension_se', 'radius_worst', 'texture_worst',\n",
      "       'perimeter_worst', 'area_worst', 'smoothness_worst',\n",
      "       'compactness_worst', 'concavity_worst', 'concave points_worst',\n",
      "       'symmetry_worst', 'fractal_dimension_worst', 'Unnamed: 32'],\n",
      "      dtype='object')\n"
     ]
    }
   ],
   "source": [
    "# feature names as a list\n",
    "col = data.columns       # .columns gives columns names in data \n",
    "print(col)"
   ]
  },
  {
   "cell_type": "code",
   "execution_count": 62,
   "metadata": {
    "colab": {
     "base_uri": "https://localhost:8080/",
     "height": 241
    },
    "executionInfo": {
     "elapsed": 605,
     "status": "ok",
     "timestamp": 1565911863266,
     "user": {
      "displayName": "Eduardo Bezerra",
      "photoUrl": "https://lh3.googleusercontent.com/-wLqpQslR4x0/AAAAAAAAAAI/AAAAAAAADfQ/-7GVOrw4lH4/s64/photo.jpg",
      "userId": "15338717559428153474"
     },
     "user_tz": 180
    },
    "id": "6rCH0utZnseU",
    "outputId": "3c03efec-d447-4a5d-cbd2-a6d542f5081a"
   },
   "outputs": [
    {
     "data": {
      "text/html": [
       "<div>\n",
       "<style scoped>\n",
       "    .dataframe tbody tr th:only-of-type {\n",
       "        vertical-align: middle;\n",
       "    }\n",
       "\n",
       "    .dataframe tbody tr th {\n",
       "        vertical-align: top;\n",
       "    }\n",
       "\n",
       "    .dataframe thead th {\n",
       "        text-align: right;\n",
       "    }\n",
       "</style>\n",
       "<table border=\"1\" class=\"dataframe\">\n",
       "  <thead>\n",
       "    <tr style=\"text-align: right;\">\n",
       "      <th></th>\n",
       "      <th>radius_mean</th>\n",
       "      <th>texture_mean</th>\n",
       "      <th>perimeter_mean</th>\n",
       "      <th>area_mean</th>\n",
       "      <th>smoothness_mean</th>\n",
       "      <th>compactness_mean</th>\n",
       "      <th>concavity_mean</th>\n",
       "      <th>concave points_mean</th>\n",
       "      <th>symmetry_mean</th>\n",
       "      <th>fractal_dimension_mean</th>\n",
       "      <th>...</th>\n",
       "      <th>radius_worst</th>\n",
       "      <th>texture_worst</th>\n",
       "      <th>perimeter_worst</th>\n",
       "      <th>area_worst</th>\n",
       "      <th>smoothness_worst</th>\n",
       "      <th>compactness_worst</th>\n",
       "      <th>concavity_worst</th>\n",
       "      <th>concave points_worst</th>\n",
       "      <th>symmetry_worst</th>\n",
       "      <th>fractal_dimension_worst</th>\n",
       "    </tr>\n",
       "  </thead>\n",
       "  <tbody>\n",
       "    <tr>\n",
       "      <th>0</th>\n",
       "      <td>17.99</td>\n",
       "      <td>10.38</td>\n",
       "      <td>122.80</td>\n",
       "      <td>1001.0</td>\n",
       "      <td>0.11840</td>\n",
       "      <td>0.27760</td>\n",
       "      <td>0.3001</td>\n",
       "      <td>0.14710</td>\n",
       "      <td>0.2419</td>\n",
       "      <td>0.07871</td>\n",
       "      <td>...</td>\n",
       "      <td>25.38</td>\n",
       "      <td>17.33</td>\n",
       "      <td>184.60</td>\n",
       "      <td>2019.0</td>\n",
       "      <td>0.1622</td>\n",
       "      <td>0.6656</td>\n",
       "      <td>0.7119</td>\n",
       "      <td>0.2654</td>\n",
       "      <td>0.4601</td>\n",
       "      <td>0.11890</td>\n",
       "    </tr>\n",
       "    <tr>\n",
       "      <th>1</th>\n",
       "      <td>20.57</td>\n",
       "      <td>17.77</td>\n",
       "      <td>132.90</td>\n",
       "      <td>1326.0</td>\n",
       "      <td>0.08474</td>\n",
       "      <td>0.07864</td>\n",
       "      <td>0.0869</td>\n",
       "      <td>0.07017</td>\n",
       "      <td>0.1812</td>\n",
       "      <td>0.05667</td>\n",
       "      <td>...</td>\n",
       "      <td>24.99</td>\n",
       "      <td>23.41</td>\n",
       "      <td>158.80</td>\n",
       "      <td>1956.0</td>\n",
       "      <td>0.1238</td>\n",
       "      <td>0.1866</td>\n",
       "      <td>0.2416</td>\n",
       "      <td>0.1860</td>\n",
       "      <td>0.2750</td>\n",
       "      <td>0.08902</td>\n",
       "    </tr>\n",
       "    <tr>\n",
       "      <th>2</th>\n",
       "      <td>19.69</td>\n",
       "      <td>21.25</td>\n",
       "      <td>130.00</td>\n",
       "      <td>1203.0</td>\n",
       "      <td>0.10960</td>\n",
       "      <td>0.15990</td>\n",
       "      <td>0.1974</td>\n",
       "      <td>0.12790</td>\n",
       "      <td>0.2069</td>\n",
       "      <td>0.05999</td>\n",
       "      <td>...</td>\n",
       "      <td>23.57</td>\n",
       "      <td>25.53</td>\n",
       "      <td>152.50</td>\n",
       "      <td>1709.0</td>\n",
       "      <td>0.1444</td>\n",
       "      <td>0.4245</td>\n",
       "      <td>0.4504</td>\n",
       "      <td>0.2430</td>\n",
       "      <td>0.3613</td>\n",
       "      <td>0.08758</td>\n",
       "    </tr>\n",
       "    <tr>\n",
       "      <th>3</th>\n",
       "      <td>11.42</td>\n",
       "      <td>20.38</td>\n",
       "      <td>77.58</td>\n",
       "      <td>386.1</td>\n",
       "      <td>0.14250</td>\n",
       "      <td>0.28390</td>\n",
       "      <td>0.2414</td>\n",
       "      <td>0.10520</td>\n",
       "      <td>0.2597</td>\n",
       "      <td>0.09744</td>\n",
       "      <td>...</td>\n",
       "      <td>14.91</td>\n",
       "      <td>26.50</td>\n",
       "      <td>98.87</td>\n",
       "      <td>567.7</td>\n",
       "      <td>0.2098</td>\n",
       "      <td>0.8663</td>\n",
       "      <td>0.6869</td>\n",
       "      <td>0.2575</td>\n",
       "      <td>0.6638</td>\n",
       "      <td>0.17300</td>\n",
       "    </tr>\n",
       "    <tr>\n",
       "      <th>4</th>\n",
       "      <td>20.29</td>\n",
       "      <td>14.34</td>\n",
       "      <td>135.10</td>\n",
       "      <td>1297.0</td>\n",
       "      <td>0.10030</td>\n",
       "      <td>0.13280</td>\n",
       "      <td>0.1980</td>\n",
       "      <td>0.10430</td>\n",
       "      <td>0.1809</td>\n",
       "      <td>0.05883</td>\n",
       "      <td>...</td>\n",
       "      <td>22.54</td>\n",
       "      <td>16.67</td>\n",
       "      <td>152.20</td>\n",
       "      <td>1575.0</td>\n",
       "      <td>0.1374</td>\n",
       "      <td>0.2050</td>\n",
       "      <td>0.4000</td>\n",
       "      <td>0.1625</td>\n",
       "      <td>0.2364</td>\n",
       "      <td>0.07678</td>\n",
       "    </tr>\n",
       "  </tbody>\n",
       "</table>\n",
       "<p>5 rows × 30 columns</p>\n",
       "</div>"
      ],
      "text/plain": [
       "   radius_mean  texture_mean  perimeter_mean  area_mean  smoothness_mean  \\\n",
       "0        17.99         10.38          122.80     1001.0          0.11840   \n",
       "1        20.57         17.77          132.90     1326.0          0.08474   \n",
       "2        19.69         21.25          130.00     1203.0          0.10960   \n",
       "3        11.42         20.38           77.58      386.1          0.14250   \n",
       "4        20.29         14.34          135.10     1297.0          0.10030   \n",
       "\n",
       "   compactness_mean  concavity_mean  concave points_mean  symmetry_mean  \\\n",
       "0           0.27760          0.3001              0.14710         0.2419   \n",
       "1           0.07864          0.0869              0.07017         0.1812   \n",
       "2           0.15990          0.1974              0.12790         0.2069   \n",
       "3           0.28390          0.2414              0.10520         0.2597   \n",
       "4           0.13280          0.1980              0.10430         0.1809   \n",
       "\n",
       "   fractal_dimension_mean  ...  radius_worst  texture_worst  perimeter_worst  \\\n",
       "0                 0.07871  ...         25.38          17.33           184.60   \n",
       "1                 0.05667  ...         24.99          23.41           158.80   \n",
       "2                 0.05999  ...         23.57          25.53           152.50   \n",
       "3                 0.09744  ...         14.91          26.50            98.87   \n",
       "4                 0.05883  ...         22.54          16.67           152.20   \n",
       "\n",
       "   area_worst  smoothness_worst  compactness_worst  concavity_worst  \\\n",
       "0      2019.0            0.1622             0.6656           0.7119   \n",
       "1      1956.0            0.1238             0.1866           0.2416   \n",
       "2      1709.0            0.1444             0.4245           0.4504   \n",
       "3       567.7            0.2098             0.8663           0.6869   \n",
       "4      1575.0            0.1374             0.2050           0.4000   \n",
       "\n",
       "   concave points_worst  symmetry_worst  fractal_dimension_worst  \n",
       "0                0.2654          0.4601                  0.11890  \n",
       "1                0.1860          0.2750                  0.08902  \n",
       "2                0.2430          0.3613                  0.08758  \n",
       "3                0.2575          0.6638                  0.17300  \n",
       "4                0.1625          0.2364                  0.07678  \n",
       "\n",
       "[5 rows x 30 columns]"
      ]
     },
     "execution_count": 62,
     "metadata": {},
     "output_type": "execute_result"
    }
   ],
   "source": [
    "# y includes our labels and x includes our features\n",
    "y = data.diagnosis                          # M or B \n",
    "list = ['Unnamed: 32','id','diagnosis']\n",
    "x = data.drop(list,axis = 1 )\n",
    "x.head()"
   ]
  },
  {
   "cell_type": "code",
   "execution_count": 63,
   "metadata": {
    "colab": {
     "base_uri": "https://localhost:8080/",
     "height": 317
    },
    "executionInfo": {
     "elapsed": 594,
     "status": "ok",
     "timestamp": 1565911907632,
     "user": {
      "displayName": "Eduardo Bezerra",
      "photoUrl": "https://lh3.googleusercontent.com/-wLqpQslR4x0/AAAAAAAAAAI/AAAAAAAADfQ/-7GVOrw4lH4/s64/photo.jpg",
      "userId": "15338717559428153474"
     },
     "user_tz": 180
    },
    "id": "nA65Elxkn0I-",
    "outputId": "f69eccca-14cc-4d17-c2eb-74b72d696b65"
   },
   "outputs": [
    {
     "name": "stdout",
     "output_type": "stream",
     "text": [
      "Number of Benign:  357\n",
      "Number of Malignant :  212\n"
     ]
    },
    {
     "data": {
      "image/png": "[encoded data removed]",
      "text/plain": [
       "<Figure size 640x480 with 1 Axes>"
      ]
     },
     "metadata": {},
     "output_type": "display_data"
    }
   ],
   "source": [
    "import seaborn as sns\n",
    "ax = sns.countplot(y,label=\"Count\")       # M = 212, B = 357\n",
    "B, M = y.value_counts()\n",
    "print('Number of Benign: ',B)\n",
    "print('Number of Malignant : ',M)"
   ]
  },
  {
   "cell_type": "markdown",
   "metadata": {
    "id": "H-OKauXPHmBL"
   },
   "source": [
    "## SelectFromModel\n",
    "\n",
    "A classe [sklearn.feature_selection.SelectFromModel](https://scikit-learn.org/stable/modules/generated/sklearn.feature_selection.SelectFromModel.html) pode ser usada com qualquer estimador que tenha campos `coef_` ou `feature_importances_`. Os atributos considerados sem importância são aqueles cujos correspondentes em `coef_` (ou em `feature_importances_`) estiverem abaixo do parâmetro de limite fornecido (`threshold`).\n",
    "\n",
    "<center>`threshold : string, float, optional default None`</center>\n",
    "\n",
    "> *The threshold value to use for feature selection. Features whose importance is greater or equal are kept while the others are discarded. If “median” (resp. “mean”), then the threshold value is the median (resp. the mean) of the feature importances. A scaling factor (e.g., “1.25*mean”) may also be used. If None and if the estimator has a parameter penalty set to l1, either explicitly or implicitly (e.g, Lasso), the threshold used is 1e-5. Otherwise, “mean” is used by default.*\n"
   ]
  },
  {
   "cell_type": "code",
   "execution_count": 64,
   "metadata": {
    "colab": {
     "base_uri": "https://localhost:8080/",
     "height": 107
    },
    "executionInfo": {
     "elapsed": 894,
     "status": "ok",
     "timestamp": 1581949751874,
     "user": {
      "displayName": "Eduardo Bezerra",
      "photoUrl": "https://lh3.googleusercontent.com/a-/AAuE7mCyjf3B5BR-yqJ-EVTWPFRq6gjvkIZyStocq5ZQzA=s64",
      "userId": "15338717559428153474"
     },
     "user_tz": 180
    },
    "id": "Gl4aWBcJn0Ew",
    "outputId": "a7b30d8b-9382-426f-d935-c6ad81d0eea2"
   },
   "outputs": [
    {
     "name": "stdout",
     "output_type": "stream",
     "text": [
      "\n",
      "Feature Importances:\n",
      "       Attribute  Importance\n",
      "3   petal_width    0.451211\n",
      "2  petal_length    0.390083\n",
      "0  sepal_length    0.100764\n",
      "1   sepal_width    0.057942\n",
      "\n",
      "Average importance: 0.24999999999999994\n",
      "\n",
      "Reduced feature set:\n",
      " ['petal_length', 'petal_width']\n"
     ]
    },
    {
     "name": "stderr",
     "output_type": "stream",
     "text": [
      "/home/ebezerra/anaconda3/envs/cic1205/lib/python3.12/site-packages/sklearn/base.py:486: UserWarning: X has feature names, but SelectFromModel was fitted without feature names\n",
      "  warnings.warn(\n"
     ]
    }
   ],
   "source": [
    "from sklearn.ensemble import ExtraTreesClassifier\n",
    "from sklearn.feature_selection import SelectFromModel\n",
    "import seaborn as sns\n",
    "import numpy as np\n",
    "import pandas as pd\n",
    "\n",
    "# Load the dataset\n",
    "df_iris = sns.load_dataset('iris')\n",
    "X = df_iris.drop('species', axis=1)  # remove target from feature matrix\n",
    "y = df_iris['species']  # target attribute\n",
    "\n",
    "# Train the model\n",
    "clf = ExtraTreesClassifier(n_estimators=250)\n",
    "clf = clf.fit(X, y)\n",
    "\n",
    "# Create a DataFrame with feature importances\n",
    "feature_importances = pd.DataFrame({\n",
    "    'Attribute': X.columns,\n",
    "    'Importance': clf.feature_importances_\n",
    "}).sort_values(by='Importance', ascending=False)\n",
    "\n",
    "print(\"\\nFeature Importances:\\n\", feature_importances)\n",
    "print(\"\\nAverage importance:\", clf.feature_importances_.mean())\n",
    "\n",
    "# Feature selection\n",
    "model = SelectFromModel(clf, prefit=True)\n",
    "model.set_output(transform=\"pandas\")  # Ensures output keeps feature names\n",
    "X_new = model.transform(X)\n",
    "# model = SelectFromModel(clf, prefit=True)\n",
    "# X_new = model.transform(X)\n",
    "print(\"\\nReduced feature set:\\n\", X_new.columns.to_list())"
   ]
  },
  {
   "cell_type": "markdown",
   "metadata": {
    "id": "qCV6RXYImCz8"
   },
   "source": [
    "O próximo exemplo é retirado da própria documentação do scikit-learn ([Feature importances with forests of trees](https://scikit-learn.org/stable/auto_examples/ensemble/plot_forest_importances.html#sphx-glr-auto-examples-ensemble-plot-forest-importances-py))"
   ]
  },
  {
   "cell_type": "code",
   "execution_count": 65,
   "metadata": {
    "colab": {
     "base_uri": "https://localhost:8080/",
     "height": 481
    },
    "executionInfo": {
     "elapsed": 1266,
     "status": "ok",
     "timestamp": 1566146464878,
     "user": {
      "displayName": "Eduardo Bezerra",
      "photoUrl": "https://lh3.googleusercontent.com/-wLqpQslR4x0/AAAAAAAAAAI/AAAAAAAADfQ/-7GVOrw4lH4/s64/photo.jpg",
      "userId": "15338717559428153474"
     },
     "user_tz": 180
    },
    "id": "q_5ghS80nz_q",
    "outputId": "40e821a9-1349-426f-91e4-15d8f801b5c2"
   },
   "outputs": [
    {
     "name": "stdout",
     "output_type": "stream",
     "text": [
      "Feature ranking:\n",
      "1. feature 1 (0.295902)\n",
      "2. feature 2 (0.208351)\n",
      "3. feature 0 (0.177632)\n",
      "4. feature 3 (0.047121)\n",
      "5. feature 6 (0.046303)\n",
      "6. feature 8 (0.046013)\n",
      "7. feature 7 (0.045575)\n",
      "8. feature 4 (0.044614)\n",
      "9. feature 9 (0.044577)\n",
      "10. feature 5 (0.043912)\n"
     ]
    },
    {
     "data": {
      "image/png": "[encoded data removed]",
      "text/plain": [
       "<Figure size 640x480 with 1 Axes>"
      ]
     },
     "metadata": {},
     "output_type": "display_data"
    }
   ],
   "source": [
    "import numpy as np\n",
    "import matplotlib.pyplot as plt\n",
    "\n",
    "from sklearn.datasets import make_classification\n",
    "from sklearn.ensemble import ExtraTreesClassifier\n",
    "\n",
    "# Build a classification task using 3 informative features\n",
    "X, y = make_classification(n_samples=1000,\n",
    "                           n_features=10,\n",
    "                           n_informative=3,\n",
    "                           n_redundant=0,\n",
    "                           n_repeated=0,\n",
    "                           n_classes=2,\n",
    "                           random_state=0,\n",
    "                           shuffle=False)\n",
    "\n",
    "# Build a forest and compute the feature importances\n",
    "forest = ExtraTreesClassifier(n_estimators=250,\n",
    "                              random_state=0)\n",
    "\n",
    "forest.fit(X, y)\n",
    "importances = forest.feature_importances_\n",
    "std = np.std([tree.feature_importances_ for tree in forest.estimators_],\n",
    "             axis=0)\n",
    "indices = np.argsort(importances)[::-1]\n",
    "\n",
    "# Print the feature ranking\n",
    "print(\"Feature ranking:\")\n",
    "\n",
    "for f in range(X.shape[1]):\n",
    "    print(\"%d. feature %d (%f)\" % (f + 1, indices[f], importances[indices[f]]))\n",
    "\n",
    "# Plot the feature importances of the forest\n",
    "plt.figure()\n",
    "plt.title(\"Feature importances\")\n",
    "plt.bar(range(X.shape[1]), importances[indices],\n",
    "       color=\"r\", yerr=std[indices], align=\"center\")\n",
    "plt.xticks(range(X.shape[1]), indices)\n",
    "plt.xlim([-1, X.shape[1]])\n",
    "plt.show()"
   ]
  },
  {
   "cell_type": "markdown",
   "metadata": {
    "id": "j2mFDOPUq01W"
   },
   "source": [
    "## RFE vs SelectFromModel \n",
    "\n",
    "As estratégias de seleção de atributos implementadas em RFE e SelectFromModel têm o mesmo propósito, a saber, selecionar um conjunto de atributos relevantes para uma tarefa de predição, mas a metodologia usada em cada técnica varia, conforme descrito a seguir.\n",
    "\n",
    "* `RFE` remove atributos menos relevantes de forma iterativa: primeiro remove alguns atributos que não são importantes e, em seguida, ajusta novo modelo e remove novamente outros atributos e ajusta novo modelo. Essa estratégia repete essa iteração até atingir um número pré-estabelecido de atributos.\n",
    "\n",
    "* `SelectFromModel` apenas remove atributos menos importantes com base em um limite fornecido como um parâmetro. Não há iteração envolvida."
   ]
  },
  {
   "cell_type": "markdown",
   "metadata": {
    "id": "vnT7_yIFkIQd"
   },
   "source": [
    "# Exercícios\n",
    "\n",
    "**1** - Considere que a matrix de dados abaixo corresponde a notas de 5 estudantes, nas disciplinas Matemática, Português e Artes. Construa a matriz de covariâncias correspondente à matriz de dados fornecida. Qual o teste que possui maior variância? Qual par de disciplinas está mais correlacionado?\n",
    "$$\n",
    "\\begin{matrix} \n",
    "90 & 60 & 90 \\\\ \n",
    "90 & 90 & 30 \\\\ \n",
    "60 & 60 & 60  \\\\\n",
    "60 & 60 & 90 \\\\ \n",
    "30 & 30 & 30 \\\\ \n",
    "\\end{matrix}\n",
    "$$\n",
    "\n",
    "**2** - Neste exercício, considere a implementação em PCA em numpy e scipy fornecida. O que você espera que os conjuntos de dados projetados sejam para a matriz de dados $X1$ fornecida abaixo? Explique os resultados para $k = 3$ e $k = 1$.\n",
    "\n",
    "```\n",
    "X1 = np.array([\n",
    "        [1,   2, -.05],\n",
    "        [2,   4, -.05],\n",
    "        [4,   8, -.05],\n",
    "        [8,  16, -.05],\n",
    "    ])\n",
    "pca(X=X1, k=3)\n",
    "pca(X=X1, k=1)\n",
    "```\n",
    "\n",
    "\n",
    "**3** - Considere o conjunto de dados [MNIST](https://en.wikipedia.org/wiki/MNIST_database), composto de imagens de dígitos de 28x28 pixels. A dimensão original deste conjunto de dados é 784. Utilizando a abordagem de plotar a soma acumulada das variâncias explicadas, determine a dimensão intrínseca desse conjunto de dados. Abaixo, é fornecido o código para carregar o conjunto de dados. \n",
    "\n",
    "```\n",
    "# Load data from https://www.openml.org/d/554\n",
    "X_mnist, y_mnist = fetch_openml('mnist_784', version=1, return_X_y=True)\n",
    "\n",
    "print(X_mnist.data.shape)\n",
    "```\n",
    "\n",
    "**4** - Considere o conjunto de dados PIMA Indians (fornecido como arquivo em formato CSV). Use as abordagens de seleção de atributos univariada e RFE para determinar quais os atributos mais relevantes relativamente ao atributo alvo.\n",
    "\n",
    "\n"
   ]
  }
 ],
 "metadata": {
  "colab": {
   "authorship_tag": "ABX9TyOO61ICT+JezAkcCUoloHUE",
   "collapsed_sections": [
    "57wHtb9RkLgX",
    "B9bffGsU_bjs",
    "2q-e_0I5SWQ1",
    "qQvR-wHf3fol"
   ],
   "name": "ml_ppcic_dim_reduc.ipynb",
   "provenance": [],
   "toc_visible": true
  },
  "kernelspec": {
   "display_name": "cic1205",
   "language": "python",
   "name": "python3"
  },
  "language_info": {
   "codemirror_mode": {
    "name": "ipython",
    "version": 3
   },
   "file_extension": ".py",
   "mimetype": "text/x-python",
   "name": "python",
   "nbconvert_exporter": "python",
   "pygments_lexer": "ipython3",
   "version": "3.12.0"
  }
 },
 "nbformat": 4,
 "nbformat_minor": 0
}
