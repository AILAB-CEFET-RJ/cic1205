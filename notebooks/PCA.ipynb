{
 "cells": [
  {
   "cell_type": "code",
   "execution_count": 95,
   "metadata": {
    "collapsed": true
   },
   "outputs": [],
   "source": [
    "import numpy as np\n",
    "from scipy import linalg as LA\n",
    "\n",
    "def project_dataset(X, k):\n",
    "    print('**************')\n",
    "\n",
    "    #centering the data\n",
    "    mu = np.mean(X, axis = 0)\n",
    "    print('mu: ' + str(mu))\n",
    "    centered_X = X - mu  \n",
    "    print('centered data:\\n ' + str(centered_X))\n",
    "\n",
    "    Sigma = np.cov(centered_X, rowvar = False)\n",
    "\n",
    "    print('***** SVD decomposition ****')\n",
    "\n",
    "    U, S, V = LA.svd(Sigma)\n",
    "    print('U:\\n' + str(U))\n",
    "    print('S:\\n' + str(S))\n",
    "    print('V:\\n' + str(V))\n",
    "\n",
    "    #Verifying that eivenvector are indeed unit vectors\n",
    "    print('Norms of eigenvectors (columns of U):')\n",
    "    print(np.linalg.norm(U[:,0]), np.linalg.norm(U[:,1]), np.linalg.norm(U[:,2]))\n",
    "\n",
    "    print('Percentages of variation:\\n', str(S/np.sum(S) * 100))\n",
    "\n",
    "    # If we wish to reduce dimensionality to k, we first need to compute U_redux\n",
    "    U_redux = U[:, 0:k]\n",
    "    print('U_redux:\\n', str(U_redux))\n",
    "\n",
    "    #Now we compute Z, the matrix of projected points in k-dimensional space.\n",
    "    Z = np.matmul(U_redux.T,X.T)\n",
    "    print('Projected dataset (k=' + str(k) + '):\\n' + str(Z.T))\n",
    "    \n",
    "    return U_redux, Z\n",
    "\n",
    "def reconstruct_data(U_redux, Z):\n",
    "    print('Reconstructed dataset:\\n' + str(np.matmul(U_redux, Z).T))"
   ]
  },
  {
   "cell_type": "code",
   "execution_count": 78,
   "metadata": {},
   "outputs": [
    {
     "name": "stdout",
     "output_type": "stream",
     "text": [
      "**************\n",
      "mu: [9.08500e-01 9.13125e+03 5.03250e+00]\n",
      "centered data:\n",
      " [[-5.21500e-01 -4.25325e+03  3.87500e-01]\n",
      " [-1.85500e-01  2.97275e+03  2.17500e-01]\n",
      " [ 9.15000e-02  3.62475e+03  4.87500e-01]\n",
      " [ 6.15500e-01 -2.34425e+03 -1.09250e+00]]\n",
      "***** SVD decomposition ****\n",
      "U:\n",
      "[[-1.21901390e-05  5.66460727e-01  8.24088736e-01]\n",
      " [-9.99999997e-01  5.32639789e-05 -5.14047691e-05]\n",
      " [-7.30130279e-05 -8.24088734e-01  5.66460725e-01]]\n",
      "S:\n",
      "[1.51872330e+07 6.70619604e-01 2.02485956e-02]\n",
      "V:\n",
      "[[-1.21901390e-05 -9.99999997e-01 -7.30130279e-05]\n",
      " [ 5.66460727e-01  5.32639789e-05 -8.24088734e-01]\n",
      " [ 8.24088736e-01 -5.14047691e-05  5.66460725e-01]]\n",
      "Norms of eigenvectors (columns of U):\n",
      "0.9999999999999998 1.0 0.9999999999999997\n",
      "Percentages of variation:\n",
      " [9.99999955e+01 4.41567976e-06 1.33326424e-07]\n",
      "U_redux:\n",
      " [[-1.21901390e-05  5.66460727e-01]\n",
      " [-9.99999997e-01  5.32639789e-05]\n",
      " [-7.30130279e-05 -8.24088734e-01]]\n",
      "Projected dataset:\n",
      "[[-4.87800039e+03 -3.98751895e+00]\n",
      " [-1.21040004e+04 -3.27220755e+00]\n",
      " [-1.27560004e+04 -3.30307377e+00]\n",
      " [-6.78700029e+03 -2.02212084e+00]]\n"
     ]
    },
    {
     "data": {
      "text/plain": [
       "(array([[-1.21901390e-05,  5.66460727e-01],\n",
       "        [-9.99999997e-01,  5.32639789e-05],\n",
       "        [-7.30130279e-05, -8.24088734e-01]]),\n",
       " array([[-4.87800039e+03, -1.21040004e+04, -1.27560004e+04,\n",
       "         -6.78700029e+03],\n",
       "        [-3.98751895e+00, -3.27220755e+00, -3.30307377e+00,\n",
       "         -2.02212084e+00]]))"
      ]
     },
     "execution_count": 78,
     "metadata": {},
     "output_type": "execute_result"
    }
   ],
   "source": [
    "X = np.array([\n",
    "        [0.387,  4878, 5.42],\n",
    "        [0.723, 12104, 5.25],\n",
    "        [1,     12756, 5.52],\n",
    "        [1.524,  6787, 3.94],\n",
    "    ])\n",
    "\n",
    "project_dataset(X, 2)"
   ]
  },
  {
   "cell_type": "code",
   "execution_count": 94,
   "metadata": {},
   "outputs": [
    {
     "name": "stdout",
     "output_type": "stream",
     "text": [
      "**************\n",
      "mu: [3.75 2.5  0.  ]\n",
      "centered data:\n",
      " [[ -2.75  -4.5   -0.05]\n",
      " [ -1.75   1.5    0.05]\n",
      " [  0.25 -10.5   -0.1 ]\n",
      " [  4.25  13.5    0.1 ]]\n",
      "***** SVD decomposition ****\n",
      "U:\n",
      "[[-0.21011096  0.97765515  0.00661783]\n",
      " [-0.97764219 -0.21004099 -0.00992594]\n",
      " [-0.00831413 -0.00855542  0.99992884]]\n",
      "S:\n",
      "[1.09628348e+02 4.96292646e+00 3.92101053e-04]\n",
      "V:\n",
      "[[-0.21011096 -0.97764219 -0.00831413]\n",
      " [ 0.97765515 -0.21004099 -0.00855542]\n",
      " [ 0.00661783 -0.00992594  0.99992884]]\n",
      "Norms of eigenvectors (columns of U):\n",
      "1.0000000000000002 1.0 0.9999999999999999\n",
      "Percentages of variation:\n",
      " [9.56686915e+01 4.33096630e+00 3.42172398e-04]\n",
      "U_redux:\n",
      " [[-0.21011096  0.97765515]\n",
      " [-0.97764219 -0.21004099]\n",
      " [-0.00831413 -0.00855542]]\n",
      "Projected dataset (k=2):\n",
      "[[  1.74558913   1.3981649 ]\n",
      " [ -4.33120641   1.11471857]\n",
      " [  6.98152512   5.59180404]\n",
      " [-17.32399421   4.45972983]]\n",
      "Reconstructed dataset\n",
      ": [[ 1.0001557  -2.00023352 -0.02647493]\n",
      " [ 1.99984429  4.00023354  0.02647331]\n",
      " [ 3.99996105 -7.99994158 -0.1058855 ]\n",
      " [ 8.00003891 15.99994164  0.10587902]]\n"
     ]
    }
   ],
   "source": [
    "X = np.array([\n",
    "        [1,  -2, -.05],\n",
    "        [2, 4, +.05],\n",
    "        [4, -8, -.1],\n",
    "        [8,  16, +.1],\n",
    "    ])\n",
    "U_redux, Z = project_dataset(X, k=2)\n",
    "\n",
    "reconstruct_data(U_redux, Z)"
   ]
  },
  {
   "cell_type": "markdown",
   "metadata": {},
   "source": [
    "What do you expect the projected datasets would be for the data matrix X? Explain the results for k=3 and k = 1. Compare with the results obtained in the cell above."
   ]
  },
  {
   "cell_type": "code",
   "execution_count": 85,
   "metadata": {},
   "outputs": [
    {
     "name": "stdout",
     "output_type": "stream",
     "text": [
      "**************\n",
      "mu: [ 3.75  7.5  -0.05]\n",
      "centered data:\n",
      " [[-2.75 -5.5   0.  ]\n",
      " [-1.75 -3.5   0.  ]\n",
      " [ 0.25  0.5   0.  ]\n",
      " [ 4.25  8.5   0.  ]]\n",
      "***** SVD decomposition ****\n",
      "U:\n",
      "[[-0.4472136  -0.89442719  0.        ]\n",
      " [-0.89442719  0.4472136   0.        ]\n",
      " [ 0.          0.          1.        ]]\n",
      "S:\n",
      "[4.79166667e+01 6.35528743e-15 0.00000000e+00]\n",
      "V:\n",
      "[[-0.4472136  -0.89442719 -0.        ]\n",
      " [-0.89442719  0.4472136   0.        ]\n",
      " [ 0.          0.          1.        ]]\n",
      "Norms of eigenvectors (columns of U):\n",
      "0.9999999999999998 0.9999999999999999 1.0\n",
      "Percentages of variation:\n",
      " [1.00000000e+02 1.32632086e-14 0.00000000e+00]\n",
      "U_redux:\n",
      " [[-0.4472136  -0.89442719  0.        ]\n",
      " [-0.89442719  0.4472136   0.        ]\n",
      " [ 0.          0.          1.        ]]\n",
      "Projected dataset (k=3):\n",
      "[[-2.23606798e+00 -1.11022302e-16 -5.00000000e-02]\n",
      " [-4.47213595e+00 -2.22044605e-16 -5.00000000e-02]\n",
      " [-8.94427191e+00 -4.44089210e-16 -5.00000000e-02]\n",
      " [-1.78885438e+01 -8.88178420e-16 -5.00000000e-02]]\n",
      "**************\n",
      "mu: [ 3.75  7.5  -0.05]\n",
      "centered data:\n",
      " [[-2.75 -5.5   0.  ]\n",
      " [-1.75 -3.5   0.  ]\n",
      " [ 0.25  0.5   0.  ]\n",
      " [ 4.25  8.5   0.  ]]\n",
      "***** SVD decomposition ****\n",
      "U:\n",
      "[[-0.4472136  -0.89442719  0.        ]\n",
      " [-0.89442719  0.4472136   0.        ]\n",
      " [ 0.          0.          1.        ]]\n",
      "S:\n",
      "[4.79166667e+01 6.35528743e-15 0.00000000e+00]\n",
      "V:\n",
      "[[-0.4472136  -0.89442719 -0.        ]\n",
      " [-0.89442719  0.4472136   0.        ]\n",
      " [ 0.          0.          1.        ]]\n",
      "Norms of eigenvectors (columns of U):\n",
      "0.9999999999999998 0.9999999999999999 1.0\n",
      "Percentages of variation:\n",
      " [1.00000000e+02 1.32632086e-14 0.00000000e+00]\n",
      "U_redux:\n",
      " [[-0.4472136 ]\n",
      " [-0.89442719]\n",
      " [ 0.        ]]\n",
      "Projected dataset (k=1):\n",
      "[[ -2.23606798]\n",
      " [ -4.47213595]\n",
      " [ -8.94427191]\n",
      " [-17.88854382]]\n"
     ]
    },
    {
     "data": {
      "text/plain": [
       "(array([[-0.4472136 ],\n",
       "        [-0.89442719],\n",
       "        [ 0.        ]]),\n",
       " array([[ -2.23606798,  -4.47213595,  -8.94427191, -17.88854382]]))"
      ]
     },
     "execution_count": 85,
     "metadata": {},
     "output_type": "execute_result"
    }
   ],
   "source": [
    "X1 = np.array([\n",
    "        [1,   2, -.05],\n",
    "        [2,   4, -.05],\n",
    "        [4,   8, -.05],\n",
    "        [8,  16, -.05],\n",
    "    ])\n",
    "project_dataset(X=X1, k=3)\n",
    "project_dataset(X=X1, k=1)"
   ]
  },
  {
   "cell_type": "code",
   "execution_count": null,
   "metadata": {
    "collapsed": true
   },
   "outputs": [],
   "source": []
  }
 ],
 "metadata": {
  "kernelspec": {
   "display_name": "Python 3",
   "language": "python",
   "name": "python3"
  },
  "language_info": {
   "codemirror_mode": {
    "name": "ipython",
    "version": 3
   },
   "file_extension": ".py",
   "mimetype": "text/x-python",
   "name": "python",
   "nbconvert_exporter": "python",
   "pygments_lexer": "ipython3",
   "version": "3.6.1"
  }
 },
 "nbformat": 4,
 "nbformat_minor": 2
}
