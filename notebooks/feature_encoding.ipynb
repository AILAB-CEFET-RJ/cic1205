{
 "cells": [
  {
   "cell_type": "markdown",
   "metadata": {},
   "source": [
    "There are several techniques used for encoding categorical features (nominal or ordinal) in machine learning tasks. They are commonly used when dealing with discrete variables in machine learning algorithms that require numerical inputs. Each has its own advantages/disadvantages and is chosen based on the characteristics of the data and the requirements of the model being used.\n",
    "\n",
    "Code examples shown in this notebook use the following libraries: Scikit-Learn, Pandas, and [Category Encoders](https://contrib.scikit-learn.org/category_encoders/). To install the latter, follow this [link](https://contrib.scikit-learn.org/category_encoders/).\n",
    "\n",
    "Also, some of these examples use the `banking` dataset."
   ]
  },
  {
   "cell_type": "code",
   "execution_count": 1,
   "metadata": {},
   "outputs": [],
   "source": [
    "# pip install category_encoders"
   ]
  },
  {
   "cell_type": "code",
   "execution_count": 2,
   "metadata": {},
   "outputs": [],
   "source": [
    "import pandas as pd\n",
    "\n",
    "df_train = pd.read_csv(\"../data/banking/train.csv\", sep=';')\n",
    "df_test = pd.read_csv(\"../data/banking/test.csv\", sep=';')"
   ]
  },
  {
   "cell_type": "code",
   "execution_count": 3,
   "metadata": {},
   "outputs": [
    {
     "data": {
      "text/html": [
       "<div>\n",
       "<style scoped>\n",
       "    .dataframe tbody tr th:only-of-type {\n",
       "        vertical-align: middle;\n",
       "    }\n",
       "\n",
       "    .dataframe tbody tr th {\n",
       "        vertical-align: top;\n",
       "    }\n",
       "\n",
       "    .dataframe thead th {\n",
       "        text-align: right;\n",
       "    }\n",
       "</style>\n",
       "<table border=\"1\" class=\"dataframe\">\n",
       "  <thead>\n",
       "    <tr style=\"text-align: right;\">\n",
       "      <th></th>\n",
       "      <th>age</th>\n",
       "      <th>job</th>\n",
       "      <th>marital</th>\n",
       "      <th>education</th>\n",
       "      <th>default</th>\n",
       "      <th>balance</th>\n",
       "      <th>housing</th>\n",
       "      <th>loan</th>\n",
       "      <th>contact</th>\n",
       "      <th>day</th>\n",
       "      <th>month</th>\n",
       "      <th>duration</th>\n",
       "      <th>campaign</th>\n",
       "      <th>pdays</th>\n",
       "      <th>previous</th>\n",
       "      <th>poutcome</th>\n",
       "      <th>y</th>\n",
       "    </tr>\n",
       "  </thead>\n",
       "  <tbody>\n",
       "    <tr>\n",
       "      <th>0</th>\n",
       "      <td>58</td>\n",
       "      <td>management</td>\n",
       "      <td>married</td>\n",
       "      <td>tertiary</td>\n",
       "      <td>no</td>\n",
       "      <td>2143</td>\n",
       "      <td>yes</td>\n",
       "      <td>no</td>\n",
       "      <td>unknown</td>\n",
       "      <td>5</td>\n",
       "      <td>may</td>\n",
       "      <td>261</td>\n",
       "      <td>1</td>\n",
       "      <td>-1</td>\n",
       "      <td>0</td>\n",
       "      <td>unknown</td>\n",
       "      <td>no</td>\n",
       "    </tr>\n",
       "    <tr>\n",
       "      <th>1</th>\n",
       "      <td>44</td>\n",
       "      <td>technician</td>\n",
       "      <td>single</td>\n",
       "      <td>secondary</td>\n",
       "      <td>no</td>\n",
       "      <td>29</td>\n",
       "      <td>yes</td>\n",
       "      <td>no</td>\n",
       "      <td>unknown</td>\n",
       "      <td>5</td>\n",
       "      <td>may</td>\n",
       "      <td>151</td>\n",
       "      <td>1</td>\n",
       "      <td>-1</td>\n",
       "      <td>0</td>\n",
       "      <td>unknown</td>\n",
       "      <td>no</td>\n",
       "    </tr>\n",
       "    <tr>\n",
       "      <th>2</th>\n",
       "      <td>33</td>\n",
       "      <td>entrepreneur</td>\n",
       "      <td>married</td>\n",
       "      <td>secondary</td>\n",
       "      <td>no</td>\n",
       "      <td>2</td>\n",
       "      <td>yes</td>\n",
       "      <td>yes</td>\n",
       "      <td>unknown</td>\n",
       "      <td>5</td>\n",
       "      <td>may</td>\n",
       "      <td>76</td>\n",
       "      <td>1</td>\n",
       "      <td>-1</td>\n",
       "      <td>0</td>\n",
       "      <td>unknown</td>\n",
       "      <td>no</td>\n",
       "    </tr>\n",
       "    <tr>\n",
       "      <th>3</th>\n",
       "      <td>47</td>\n",
       "      <td>blue-collar</td>\n",
       "      <td>married</td>\n",
       "      <td>unknown</td>\n",
       "      <td>no</td>\n",
       "      <td>1506</td>\n",
       "      <td>yes</td>\n",
       "      <td>no</td>\n",
       "      <td>unknown</td>\n",
       "      <td>5</td>\n",
       "      <td>may</td>\n",
       "      <td>92</td>\n",
       "      <td>1</td>\n",
       "      <td>-1</td>\n",
       "      <td>0</td>\n",
       "      <td>unknown</td>\n",
       "      <td>no</td>\n",
       "    </tr>\n",
       "    <tr>\n",
       "      <th>4</th>\n",
       "      <td>33</td>\n",
       "      <td>unknown</td>\n",
       "      <td>single</td>\n",
       "      <td>unknown</td>\n",
       "      <td>no</td>\n",
       "      <td>1</td>\n",
       "      <td>no</td>\n",
       "      <td>no</td>\n",
       "      <td>unknown</td>\n",
       "      <td>5</td>\n",
       "      <td>may</td>\n",
       "      <td>198</td>\n",
       "      <td>1</td>\n",
       "      <td>-1</td>\n",
       "      <td>0</td>\n",
       "      <td>unknown</td>\n",
       "      <td>no</td>\n",
       "    </tr>\n",
       "    <tr>\n",
       "      <th>5</th>\n",
       "      <td>35</td>\n",
       "      <td>management</td>\n",
       "      <td>married</td>\n",
       "      <td>tertiary</td>\n",
       "      <td>no</td>\n",
       "      <td>231</td>\n",
       "      <td>yes</td>\n",
       "      <td>no</td>\n",
       "      <td>unknown</td>\n",
       "      <td>5</td>\n",
       "      <td>may</td>\n",
       "      <td>139</td>\n",
       "      <td>1</td>\n",
       "      <td>-1</td>\n",
       "      <td>0</td>\n",
       "      <td>unknown</td>\n",
       "      <td>no</td>\n",
       "    </tr>\n",
       "    <tr>\n",
       "      <th>6</th>\n",
       "      <td>28</td>\n",
       "      <td>management</td>\n",
       "      <td>single</td>\n",
       "      <td>tertiary</td>\n",
       "      <td>no</td>\n",
       "      <td>447</td>\n",
       "      <td>yes</td>\n",
       "      <td>yes</td>\n",
       "      <td>unknown</td>\n",
       "      <td>5</td>\n",
       "      <td>may</td>\n",
       "      <td>217</td>\n",
       "      <td>1</td>\n",
       "      <td>-1</td>\n",
       "      <td>0</td>\n",
       "      <td>unknown</td>\n",
       "      <td>no</td>\n",
       "    </tr>\n",
       "    <tr>\n",
       "      <th>7</th>\n",
       "      <td>42</td>\n",
       "      <td>entrepreneur</td>\n",
       "      <td>divorced</td>\n",
       "      <td>tertiary</td>\n",
       "      <td>yes</td>\n",
       "      <td>2</td>\n",
       "      <td>yes</td>\n",
       "      <td>no</td>\n",
       "      <td>unknown</td>\n",
       "      <td>5</td>\n",
       "      <td>may</td>\n",
       "      <td>380</td>\n",
       "      <td>1</td>\n",
       "      <td>-1</td>\n",
       "      <td>0</td>\n",
       "      <td>unknown</td>\n",
       "      <td>no</td>\n",
       "    </tr>\n",
       "    <tr>\n",
       "      <th>8</th>\n",
       "      <td>58</td>\n",
       "      <td>retired</td>\n",
       "      <td>married</td>\n",
       "      <td>primary</td>\n",
       "      <td>no</td>\n",
       "      <td>121</td>\n",
       "      <td>yes</td>\n",
       "      <td>no</td>\n",
       "      <td>unknown</td>\n",
       "      <td>5</td>\n",
       "      <td>may</td>\n",
       "      <td>50</td>\n",
       "      <td>1</td>\n",
       "      <td>-1</td>\n",
       "      <td>0</td>\n",
       "      <td>unknown</td>\n",
       "      <td>no</td>\n",
       "    </tr>\n",
       "    <tr>\n",
       "      <th>9</th>\n",
       "      <td>43</td>\n",
       "      <td>technician</td>\n",
       "      <td>single</td>\n",
       "      <td>secondary</td>\n",
       "      <td>no</td>\n",
       "      <td>593</td>\n",
       "      <td>yes</td>\n",
       "      <td>no</td>\n",
       "      <td>unknown</td>\n",
       "      <td>5</td>\n",
       "      <td>may</td>\n",
       "      <td>55</td>\n",
       "      <td>1</td>\n",
       "      <td>-1</td>\n",
       "      <td>0</td>\n",
       "      <td>unknown</td>\n",
       "      <td>no</td>\n",
       "    </tr>\n",
       "  </tbody>\n",
       "</table>\n",
       "</div>"
      ],
      "text/plain": [
       "   age           job   marital  education default  balance housing loan  \\\n",
       "0   58    management   married   tertiary      no     2143     yes   no   \n",
       "1   44    technician    single  secondary      no       29     yes   no   \n",
       "2   33  entrepreneur   married  secondary      no        2     yes  yes   \n",
       "3   47   blue-collar   married    unknown      no     1506     yes   no   \n",
       "4   33       unknown    single    unknown      no        1      no   no   \n",
       "5   35    management   married   tertiary      no      231     yes   no   \n",
       "6   28    management    single   tertiary      no      447     yes  yes   \n",
       "7   42  entrepreneur  divorced   tertiary     yes        2     yes   no   \n",
       "8   58       retired   married    primary      no      121     yes   no   \n",
       "9   43    technician    single  secondary      no      593     yes   no   \n",
       "\n",
       "   contact  day month  duration  campaign  pdays  previous poutcome   y  \n",
       "0  unknown    5   may       261         1     -1         0  unknown  no  \n",
       "1  unknown    5   may       151         1     -1         0  unknown  no  \n",
       "2  unknown    5   may        76         1     -1         0  unknown  no  \n",
       "3  unknown    5   may        92         1     -1         0  unknown  no  \n",
       "4  unknown    5   may       198         1     -1         0  unknown  no  \n",
       "5  unknown    5   may       139         1     -1         0  unknown  no  \n",
       "6  unknown    5   may       217         1     -1         0  unknown  no  \n",
       "7  unknown    5   may       380         1     -1         0  unknown  no  \n",
       "8  unknown    5   may        50         1     -1         0  unknown  no  \n",
       "9  unknown    5   may        55         1     -1         0  unknown  no  "
      ]
     },
     "execution_count": 3,
     "metadata": {},
     "output_type": "execute_result"
    }
   ],
   "source": [
    "# First 10 rows of the training dataset\n",
    "df_train.head(10)"
   ]
  },
  {
   "cell_type": "code",
   "execution_count": 4,
   "metadata": {},
   "outputs": [
    {
     "data": {
      "text/plain": [
       "array(['management', 'technician', 'entrepreneur', 'blue-collar',\n",
       "       'unknown', 'retired', 'admin.', 'services', 'self-employed',\n",
       "       'unemployed', 'housemaid', 'student'], dtype=object)"
      ]
     },
     "execution_count": 4,
     "metadata": {},
     "output_type": "execute_result"
    }
   ],
   "source": [
    "df_train.job.unique()"
   ]
  },
  {
   "cell_type": "code",
   "execution_count": 5,
   "metadata": {},
   "outputs": [
    {
     "data": {
      "text/plain": [
       "array(['married', 'single', 'divorced'], dtype=object)"
      ]
     },
     "execution_count": 5,
     "metadata": {},
     "output_type": "execute_result"
    }
   ],
   "source": [
    "df_train.marital.unique()"
   ]
  },
  {
   "cell_type": "code",
   "execution_count": 6,
   "metadata": {},
   "outputs": [
    {
     "data": {
      "text/plain": [
       "array(['tertiary', 'secondary', 'unknown', 'primary'], dtype=object)"
      ]
     },
     "execution_count": 6,
     "metadata": {},
     "output_type": "execute_result"
    }
   ],
   "source": [
    "df_train.education.unique()"
   ]
  },
  {
   "cell_type": "code",
   "execution_count": 7,
   "metadata": {},
   "outputs": [
    {
     "data": {
      "text/plain": [
       "array(['unknown', 'cellular', 'telephone'], dtype=object)"
      ]
     },
     "execution_count": 7,
     "metadata": {},
     "output_type": "execute_result"
    }
   ],
   "source": [
    "df_train.contact.unique()"
   ]
  },
  {
   "cell_type": "code",
   "execution_count": 8,
   "metadata": {},
   "outputs": [
    {
     "data": {
      "text/plain": [
       "array(['may', 'jun', 'jul', 'aug', 'oct', 'nov', 'dec', 'jan', 'feb',\n",
       "       'mar', 'apr', 'sep'], dtype=object)"
      ]
     },
     "execution_count": 8,
     "metadata": {},
     "output_type": "execute_result"
    }
   ],
   "source": [
    "df_train.month.unique()"
   ]
  },
  {
   "cell_type": "code",
   "execution_count": 9,
   "metadata": {},
   "outputs": [
    {
     "data": {
      "text/plain": [
       "array(['unknown', 'failure', 'other', 'success'], dtype=object)"
      ]
     },
     "execution_count": 9,
     "metadata": {},
     "output_type": "execute_result"
    }
   ],
   "source": [
    "df_train.poutcome.unique()"
   ]
  },
  {
   "cell_type": "markdown",
   "metadata": {},
   "source": [
    "# Binary Encoding\n",
    "\n",
    "Binary encoding converts each category into binary digits and then encodes those digits into separate columns. It's a compromise between one-hot encoding (high memory usage) and label encoding (ordinality assumption)."
   ]
  },
  {
   "cell_type": "code",
   "execution_count": 10,
   "metadata": {},
   "outputs": [
    {
     "name": "stdout",
     "output_type": "stream",
     "text": [
      "    Male\n",
      "0   True\n",
      "1  False\n",
      "2   True\n",
      "3  False\n",
      "4   True\n"
     ]
    }
   ],
   "source": [
    "# Example: Suppose we have a categorical variable \"Gender\" with two categories: Male and Female.\n",
    "\n",
    "# Sample data\n",
    "data = {'Gender': ['Male', 'Female', 'Male', 'Female', 'Male']}\n",
    "df = pd.DataFrame(data)\n",
    "\n",
    "# Binary encoding\n",
    "binary_encoded = pd.get_dummies(df['Gender'], drop_first=True)\n",
    "\n",
    "print(binary_encoded)"
   ]
  },
  {
   "cell_type": "markdown",
   "metadata": {},
   "source": [
    "# Frequency Encoding\n",
    "\n",
    "Frequency encoding replaces categories with the frequency (count) of each category in the dataset. It can be useful when categories have some sort of ordinal relationship with the target variable."
   ]
  },
  {
   "cell_type": "code",
   "execution_count": 11,
   "metadata": {},
   "outputs": [
    {
     "name": "stdout",
     "output_type": "stream",
     "text": [
      "Color\n",
      "Red      0.4\n",
      "Green    0.4\n",
      "Blue     0.2\n",
      "Name: proportion, dtype: float64\n"
     ]
    }
   ],
   "source": [
    "import pandas as pd\n",
    "\n",
    "# Sample data\n",
    "data = {'Color': ['Red', 'Blue', 'Green', 'Red', 'Green']}\n",
    "df = pd.DataFrame(data)\n",
    "\n",
    "# Frequency encoding\n",
    "frequency_encoded = df['Color'].value_counts(normalize=True)\n",
    "\n",
    "print(frequency_encoded)"
   ]
  },
  {
   "cell_type": "markdown",
   "metadata": {},
   "source": [
    "# Label Encoding\n",
    "\n",
    "Label encoding converts each category into a unique integer."
   ]
  },
  {
   "cell_type": "code",
   "execution_count": 12,
   "metadata": {},
   "outputs": [
    {
     "name": "stdout",
     "output_type": "stream",
     "text": [
      "     Size  Size_encoded\n",
      "0   Small             2\n",
      "1  Medium             1\n",
      "2   Large             0\n",
      "3  Medium             1\n",
      "4   Small             2\n"
     ]
    }
   ],
   "source": [
    "# Example: Continuing with the \"Size\" example:\n",
    "\n",
    "from sklearn.preprocessing import LabelEncoder\n",
    "\n",
    "# Sample data\n",
    "data = {'Size': ['Small', 'Medium', 'Large', 'Medium', 'Small']}\n",
    "df = pd.DataFrame(data)\n",
    "\n",
    "# Label encoding\n",
    "label_encoder = LabelEncoder()\n",
    "df['Size_encoded'] = label_encoder.fit_transform(df['Size'])\n",
    "\n",
    "print(df)"
   ]
  },
  {
   "cell_type": "markdown",
   "metadata": {},
   "source": [
    "# Dummy Encoding\n",
    "\n",
    "Dummy Encoding converts categorical variables into dummy variables (also known as indicator variables or binary variables), which are fictitious variables that take on values of 0 or 1 to indicate the presence or absence of a particular category.\n",
    "\n",
    "Basic steps of how Dummy Encoder works:\n",
    "\n",
    "1. Identification of Categorical Variables: The first step is to identify categorical variables in the dataset. These are variables that represent different categories but do not have an intrinsic order.\n",
    "\n",
    "2. Creation of Dummy Variables: For each unique category in the categorical variable, the Dummy Encoder creates a new binary variable (dummy). If the observation belongs to a certain category, the corresponding dummy variable receives the value 1; otherwise, it receives the value 0.\n",
    "\n",
    "3. Elimination of a Reference Category (optional): In many cases, it is desirable to eliminate one of the dummy variables to avoid the so-called \"dummy variable trap,\" which occurs when variables are highly correlated. This is often done by eliminating one of the categories, considering it as the reference. All other dummy variables are then interpreted in relation to this reference."
   ]
  },
  {
   "cell_type": "code",
   "execution_count": 13,
   "metadata": {},
   "outputs": [
    {
     "name": "stdout",
     "output_type": "stream",
     "text": [
      "    Blue  Green    Red\n",
      "0  False  False   True\n",
      "1   True  False  False\n",
      "2  False   True  False\n",
      "3  False  False   True\n",
      "4  False   True  False\n"
     ]
    }
   ],
   "source": [
    "import pandas as pd\n",
    "\n",
    "# Sample data\n",
    "data = {'Color': ['Red', 'Blue', 'Green', 'Red', 'Green']}\n",
    "df = pd.DataFrame(data)\n",
    "\n",
    "# One-hot encoding\n",
    "one_hot_encoded = pd.get_dummies(df['Color'])\n",
    "\n",
    "print(one_hot_encoded)"
   ]
  },
  {
   "cell_type": "code",
   "execution_count": 14,
   "metadata": {},
   "outputs": [
    {
     "name": "stdout",
     "output_type": "stream",
     "text": [
      "       telephone  unknown\n",
      "0          False     True\n",
      "1          False     True\n",
      "2          False     True\n",
      "3          False     True\n",
      "4          False     True\n",
      "...          ...      ...\n",
      "45206      False    False\n",
      "45207      False    False\n",
      "45208      False    False\n",
      "45209       True    False\n",
      "45210      False    False\n",
      "\n",
      "[45211 rows x 2 columns]\n"
     ]
    }
   ],
   "source": [
    "import pandas as pd\n",
    "\n",
    "df = df_train.copy()\n",
    "X_train = df['contact']\n",
    "y_train = df['y']\n",
    "\n",
    "\n",
    "# Aplicando o Dummy Encoder\n",
    "df_encoded = pd.get_dummies(X_train, columns=['contact'], drop_first=True)\n",
    "\n",
    "print(df_encoded)\n"
   ]
  },
  {
   "cell_type": "markdown",
   "metadata": {},
   "source": [
    "# Ordinal Encoding\n",
    "\n",
    "Ordinal Encoding is used to encode ordinal categorical variables into numerical values. Ordinal categorical variables have an intrinsic meaning of order, meaning there is a relationship of order between the categories, but the distance between them is not defined.\n",
    "\n",
    "Transformation steps:\n",
    "\n",
    "1. Numeric Label Assignment: The OrdinalEncoder maps each unique category of the categorical variable to a numerical value based on the specified order. This mapping is usually defined by the user or inferred from the original order of the categories.\n",
    "\n",
    "2. Variable Encoding: Replaces the categories in the dataset with the numerical labels assigned to each category.\n",
    "\n",
    "Here are two simple examples using Pandas and scikit-learn:"
   ]
  },
  {
   "cell_type": "code",
   "execution_count": 15,
   "metadata": {},
   "outputs": [
    {
     "name": "stdout",
     "output_type": "stream",
     "text": [
      "     Size  Size_encoded\n",
      "0   Small             1\n",
      "1  Medium             2\n",
      "2   Large             3\n",
      "3  Medium             2\n",
      "4   Small             1\n"
     ]
    }
   ],
   "source": [
    "# Suppose we have an ordinal categorical variable \"Size\" with three categories: Small, Medium, and Large.\n",
    "\n",
    "# Sample data\n",
    "data = {'Size': ['Small', 'Medium', 'Large', 'Medium', 'Small']}\n",
    "df = pd.DataFrame(data)\n",
    "\n",
    "# Ordinal encoding\n",
    "size_mapping = {'Small': 1, 'Medium': 2, 'Large': 3}\n",
    "df['Size_encoded'] = df['Size'].map(size_mapping)\n",
    "\n",
    "print(df)"
   ]
  },
  {
   "cell_type": "code",
   "execution_count": 16,
   "metadata": {},
   "outputs": [
    {
     "name": "stdout",
     "output_type": "stream",
     "text": [
      "       education\n",
      "0       tertiary\n",
      "1      secondary\n",
      "2      secondary\n",
      "3        unknown\n",
      "4        unknown\n",
      "...          ...\n",
      "45206   tertiary\n",
      "45207    primary\n",
      "45208  secondary\n",
      "45209  secondary\n",
      "45210  secondary\n",
      "\n",
      "[45211 rows x 1 columns]\n",
      "       education  education_encoded\n",
      "0       tertiary                3.0\n",
      "1      secondary                2.0\n",
      "2      secondary                2.0\n",
      "3        unknown                0.0\n",
      "4        unknown                0.0\n",
      "...          ...                ...\n",
      "45206   tertiary                3.0\n",
      "45207    primary                1.0\n",
      "45208  secondary                2.0\n",
      "45209  secondary                2.0\n",
      "45210  secondary                2.0\n",
      "\n",
      "[45211 rows x 2 columns]\n"
     ]
    },
    {
     "name": "stderr",
     "output_type": "stream",
     "text": [
      "/tmp/ipykernel_10190/2197705283.py:16: SettingWithCopyWarning: \n",
      "A value is trying to be set on a copy of a slice from a DataFrame.\n",
      "Try using .loc[row_indexer,col_indexer] = value instead\n",
      "\n",
      "See the caveats in the documentation: https://pandas.pydata.org/pandas-docs/stable/user_guide/indexing.html#returning-a-view-versus-a-copy\n",
      "  X_train['education_encoded'] = encoder.fit_transform(X_train[['education']])\n"
     ]
    }
   ],
   "source": [
    "from sklearn.preprocessing import OrdinalEncoder\n",
    "\n",
    "df = df_train.copy()\n",
    "X_train = df[['education']]\n",
    "y_train = df['y']\n",
    "\n",
    "# Definindo a ordem das categorias\n",
    "ordem_categorias = [ 'unknown', 'primary', 'secondary', 'tertiary']\n",
    "\n",
    "# Inicializando o OrdinalEncoder com a ordem especificada\n",
    "encoder = OrdinalEncoder(categories=[ordem_categorias])\n",
    "\n",
    "print(X_train)\n",
    "\n",
    "# Ajustando e transformando os dados\n",
    "X_train['education_encoded'] = encoder.fit_transform(X_train[['education']])\n",
    "\n",
    "print(X_train)\n"
   ]
  },
  {
   "cell_type": "markdown",
   "metadata": {},
   "source": [
    "# Target Encoding\n",
    "\n",
    "Target Encoding uses information from the target variable to assign numerical values to the categories. The basic process of `TargetEncoder` involves the following:\n",
    "\n",
    "1. **Calculate the target variable means per category:** For each category in the categorical variable you are encoding, the `TargetEncoder` calculates the mean of the target variable (which is typically a binary variable indicating the class, e.g., 0 or 1).\n",
    "\n",
    "2. **Assign the target variable mean to the category:** The numerical value assigned to each category is the mean of the target variable for that category. This means that categories with a high mean of the target variable will receive a higher value, while those with a low mean will receive a lower value.\n",
    "\n",
    "3. **Encode the categories in the dataset:** Replaces the original categories in the dataset with the values calculated in the previous step.\n",
    "\n",
    "The idea behind `TargetEncoder` is to capture the relationship between the categorical variable and the target variable, making it useful in predictive models. However, it's important to be cautious when using `TargetEncoder` to avoid information leakage. Leakage occurs when statistics (such as the mean of the target variable) are calculated using information from the test set, which can result in an optimistic evaluation of the model's performance.\n",
    "\n",
    "Here's an example using the Pandas library:"
   ]
  },
  {
   "cell_type": "code",
   "execution_count": 17,
   "metadata": {},
   "outputs": [
    {
     "name": "stdout",
     "output_type": "stream",
     "text": [
      "          City  Salary  City_encoded\n",
      "0     New York   80000       82500.0\n",
      "1  Los Angeles   75000       75000.0\n",
      "2      Chicago   70000       71000.0\n",
      "3     New York   85000       82500.0\n",
      "4      Chicago   72000       71000.0\n"
     ]
    }
   ],
   "source": [
    "# Target encoding replaces categorical values with the mean of the target variable for each category. \n",
    "# It can be useful for categorical variables with high cardinality.\n",
    "\n",
    "# Suppose we have a categorical variable \"City\" and a target variable \"Salary\".\n",
    "\n",
    "# Sample data\n",
    "data = {'City': ['New York', 'Los Angeles', 'Chicago', 'New York', 'Chicago'],\n",
    "        'Salary': [80000, 75000, 70000, 85000, 72000]}\n",
    "df = pd.DataFrame(data)\n",
    "\n",
    "# Target encoding\n",
    "city_means = df.groupby('City')['Salary'].mean()\n",
    "df['City_encoded'] = df['City'].map(city_means)\n",
    "\n",
    "print(df)"
   ]
  },
  {
   "cell_type": "markdown",
   "metadata": {},
   "source": [
    "The Python library [category_encoders](https://pypi.org/project/category-encoders/) offers an implementation of the `TargetEncoder` that can be used as exemplified in the code below. Make sure to check the [library documentation](https://contrib.scikit-learn.org/category_encoders/targetencoder.html) for specific details about the parameters and options available."
   ]
  },
  {
   "cell_type": "code",
   "execution_count": 18,
   "metadata": {},
   "outputs": [
    {
     "name": "stdout",
     "output_type": "stream",
     "text": [
      "Encoded Training Data:\n",
      "            job\n",
      "0      0.862444\n",
      "1      0.889430\n",
      "2      0.917283\n",
      "3      0.927250\n",
      "4      0.881944\n",
      "...         ...\n",
      "45206  0.889430\n",
      "45207  0.772085\n",
      "45208  0.772085\n",
      "45209  0.927250\n",
      "45210  0.917283\n",
      "\n",
      "[45211 rows x 1 columns]\n"
     ]
    }
   ],
   "source": [
    "import pandas as pd\n",
    "from sklearn.model_selection import train_test_split\n",
    "from category_encoders import TargetEncoder\n",
    "\n",
    "df = df_train.copy()\n",
    "\n",
    "# Split the data into features and target\n",
    "X_train = df['job']\n",
    "y_train = df['y']\n",
    "\n",
    "y_train = y_train.replace({'yes': 0, 'no': 1})\n",
    "\n",
    "# Initialize the TargetEncoder\n",
    "encoder = TargetEncoder()\n",
    "\n",
    "# Fit the encoder on the training data and transform both the training and testing data\n",
    "X_train_encoded = encoder.fit_transform(X_train, y_train)\n",
    "# X_test_encoded = encoder.transform(X_test)\n",
    "\n",
    "# Display the encoded data\n",
    "print(\"Encoded Training Data:\")\n",
    "print(X_train_encoded)"
   ]
  },
  {
   "cell_type": "markdown",
   "metadata": {},
   "source": [
    "# References\n",
    "\n",
    "- [A preprocessing scheme for high-cardinality categorical attributes in classification and prediction problems](https://dl.acm.org/doi/10.1145/507533.507538)"
   ]
  }
 ],
 "metadata": {
  "kernelspec": {
   "display_name": "gcc1734",
   "language": "python",
   "name": "python3"
  },
  "language_info": {
   "codemirror_mode": {
    "name": "ipython",
    "version": 3
   },
   "file_extension": ".py",
   "mimetype": "text/x-python",
   "name": "python",
   "nbconvert_exporter": "python",
   "pygments_lexer": "ipython3",
   "version": "3.12.0"
  }
 },
 "nbformat": 4,
 "nbformat_minor": 2
}
