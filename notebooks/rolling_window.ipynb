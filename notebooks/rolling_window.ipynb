{
 "cells": [
  {
   "cell_type": "markdown",
   "metadata": {},
   "source": [
    "The code provided defines a Python function `apply_windowing` that takes as input a numpy array `X`, representing a dataset, and performs a windowing operation to prepare the data for machine learning, specifically for sequence prediction tasks.\n",
    "\n",
    "Here's a detailed explanation of the code:\n",
    "\n",
    "1. Importing Libraries:\n",
    "   - The code begins by importing the necessary libraries: `pandas` and `numpy`. These libraries are commonly used for data manipulation and array operations.\n",
    "\n",
    "2. Function Definition:\n",
    "   - The `apply_windowing` function is defined with the following parameters:\n",
    "     - `X`: A numpy array representing the dataset, where rows represent samples, and columns represent features.\n",
    "     - `initial_time_step`: The starting time step for the windowing operation.\n",
    "     - `max_time_step`: The maximum time step to consider in the windowing operation.\n",
    "     - `window_size`: The size of the rolling window.\n",
    "     - `target_idx`: The index of the target variable in the dataset.\n",
    "\n",
    "3. Input Data Validation:\n",
    "   - The function starts by performing various input data validation checks using `assert` statements. It checks if the `target_idx` is within the valid column index range and if the time steps are non-negative and within a valid range.\n",
    "\n",
    "4. Window Creation:\n",
    "   - The code calculates the indices for creating sub-windows within the dataset. It creates an array `sub_windows` that represents the indices of the rolling windows. It uses the `numpy` functions `expand_dims` and `arange` to generate these indices. The `sub_windows` array is a 2D array where each row corresponds to the indices of a rolling window.\n",
    "\n",
    "5. Data Slicing:\n",
    "   - The function then uses the calculated `sub_windows` array to slice the original dataset `X` and create `X_temp`, which contains the rolling windows of the data.\n",
    "   - It also creates `y_temp`, which represents the target variable for the rolling windows. `y_temp` is obtained by slicing the target variable from `X`, considering the corresponding time steps.\n",
    "\n",
    "6. Handling Missing Values:\n",
    "   - The code identifies and filters out rows in `y_temp` where the target values are missing (NaN). This is done by creating an index array `idx_y_train_not_nan` containing the valid target indices.\n",
    "\n",
    "7. Handling NaN Values in Features:\n",
    "   - The code identifies and records indices where there are NaN values in the rolling windows of features. The indices of NaN values in the rolling windows are stored in the `x_train_is_nan_idx` array.\n",
    "\n",
    "8. Return Values:\n",
    "   - Finally, the function returns two values:\n",
    "     - `X_temp`: The rolling windows of feature data.\n",
    "     - `y_temp`: The corresponding target values for the rolling windows.\n",
    "\n",
    "This function is designed to facilitate the preparation of data for sequence prediction tasks where rolling windows of data are used, and it handles the extraction of feature windows and corresponding target values."
   ]
  },
  {
   "cell_type": "code",
   "execution_count": 15,
   "metadata": {},
   "outputs": [],
   "source": [
    "import pandas as pd\n",
    "import numpy as np\n",
    "\n",
    "def apply_windowing(X,\n",
    "                    initial_time_step,\n",
    "                    max_time_step,\n",
    "                    window_size,\n",
    "                    target_idx):\n",
    "\n",
    "    assert target_idx >= 0 and target_idx < X.shape[1]\n",
    "    assert initial_time_step >= 0\n",
    "    assert max_time_step >= initial_time_step\n",
    "\n",
    "    start = initial_time_step\n",
    "\n",
    "    sub_windows = (\n",
    "        start +\n",
    "        np.expand_dims(np.arange(window_size), 0) +\n",
    "        np.expand_dims(np.arange(max_time_step + 1), 0).T\n",
    "    )\n",
    "\n",
    "    X_temp, y_temp = X[sub_windows], X[window_size:(\n",
    "        max_time_step+window_size+1):1, target_idx]\n",
    "\n",
    "    idx_y_train_not_nan = np.where(~np.isnan(y_temp))[0]\n",
    "    assert len(idx_y_train_not_nan) == len(y_temp)\n",
    "\n",
    "    x_train_is_nan_idx = np.unique(np.where(np.isnan(X_temp)))\n",
    "\n",
    "    return X_temp, y_temp"
   ]
  },
  {
   "cell_type": "code",
   "execution_count": 17,
   "metadata": {},
   "outputs": [
    {
     "name": "stdout",
     "output_type": "stream",
     "text": [
      "            feature1  feature2\n",
      "2023-01-01         1        10\n",
      "2023-01-02         2        20\n",
      "2023-01-03         3        30\n",
      "2023-01-04         4        40\n",
      "2023-01-05         5        50\n",
      "2023-01-06         6        60\n",
      "2023-01-07         7        70\n",
      "2023-01-08         8        80\n",
      "2023-01-09         9        90\n"
     ]
    }
   ],
   "source": [
    "import pandas as pd\n",
    "import numpy as np\n",
    "\n",
    "# Sample multivariate time series data in a DataFrame\n",
    "data = pd.DataFrame({\n",
    "    'feature1': [1, 2, 3, 4, 5, 6, 7, 8, 9],\n",
    "    'feature2': [10, 20, 30, 40, 50, 60, 70, 80, 90]\n",
    "}, index=pd.date_range(start='2023-01-01', periods=9, freq='D'))\n",
    "\n",
    "print(data)"
   ]
  },
  {
   "cell_type": "code",
   "execution_count": 18,
   "metadata": {},
   "outputs": [
    {
     "data": {
      "text/plain": [
       "(array([[[ 1, 10],\n",
       "         [ 2, 20],\n",
       "         [ 3, 30]],\n",
       " \n",
       "        [[ 2, 20],\n",
       "         [ 3, 30],\n",
       "         [ 4, 40]],\n",
       " \n",
       "        [[ 3, 30],\n",
       "         [ 4, 40],\n",
       "         [ 5, 50]],\n",
       " \n",
       "        [[ 4, 40],\n",
       "         [ 5, 50],\n",
       "         [ 6, 60]],\n",
       " \n",
       "        [[ 5, 50],\n",
       "         [ 6, 60],\n",
       "         [ 7, 70]],\n",
       " \n",
       "        [[ 6, 60],\n",
       "         [ 7, 70],\n",
       "         [ 8, 80]]]),\n",
       " array([40, 50, 60, 70, 80, 90]))"
      ]
     },
     "execution_count": 18,
     "metadata": {},
     "output_type": "execute_result"
    }
   ],
   "source": [
    "window_size = 3\n",
    "apply_windowing(\n",
    "    X = data.to_numpy(), \n",
    "    initial_time_step = 0, \n",
    "    max_time_step = len(data) - window_size - 1, \n",
    "    window_size = window_size,\n",
    "    target_idx = 1)"
   ]
  }
 ],
 "metadata": {
  "kernelspec": {
   "display_name": "cic1205",
   "language": "python",
   "name": "python3"
  },
  "language_info": {
   "codemirror_mode": {
    "name": "ipython",
    "version": 3
   },
   "file_extension": ".py",
   "mimetype": "text/x-python",
   "name": "python",
   "nbconvert_exporter": "python",
   "pygments_lexer": "ipython3",
   "version": "3.12.0"
  }
 },
 "nbformat": 4,
 "nbformat_minor": 2
}
