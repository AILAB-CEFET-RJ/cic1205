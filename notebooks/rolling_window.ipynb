{
 "cells": [
  {
   "cell_type": "code",
   "execution_count": 1,
   "metadata": {},
   "outputs": [],
   "source": [
    "import pandas as pd\n",
    "import numpy as np\n",
    "\n",
    "def apply_rolling_window(X,\n",
    "                    initial_time_step,\n",
    "                    max_time_step,\n",
    "                    window_size,\n",
    "                    target_idx):\n",
    "    \"\"\"\n",
    "    Apply rolling window operation on a time series for sequence prediction tasks.\n",
    "\n",
    "    Parameters:\n",
    "    - X (numpy.ndarray): The input dataset, where rows are samples and columns are features.\n",
    "    - initial_time_step (int): The starting time step for the windowing operation.\n",
    "    - max_time_step (int): The maximum time step to consider in the windowing operation.\n",
    "    - window_size (int): The size of the rolling window.\n",
    "    - target_idx (int): The index of the target variable in the dataset.\n",
    "\n",
    "    Returns:\n",
    "    - X_temp (numpy.ndarray): Rolling windows of feature data.\n",
    "    - y_temp (numpy.ndarray): Corresponding target values for the rolling windows.\n",
    "\n",
    "    The function applies a rolling window to the dataset, creating sub-windows of feature data and\n",
    "    their corresponding target values. It handles missing values and ensures that the input data\n",
    "    is valid for sequence prediction tasks.\n",
    "\n",
    "    The rolling window is defined by 'initial_time_step', 'max_time_step', and 'window_size'.\n",
    "    The 'target_idx' specifies the index of the target variable within the dataset.\n",
    "\n",
    "    Note:\n",
    "    - Ensure 'target_idx' is a valid column index within the dataset (0 <= target_idx < X.shape[1]).\n",
    "    - The time steps should be non-negative (initial_time_step >= 0) and within a valid range\n",
    "      (max_time_step >= initial_time_step).\n",
    "    - The function handles missing (NaN) target values and identifies NaN values in feature windows.\n",
    "\n",
    "    Example usage:\n",
    "    >>> X_temp, y_temp = apply_windowing(X, initial_time_step=0, max_time_step=10, window_size=3, target_idx=0)\n",
    "    \"\"\"\n",
    "    assert target_idx >= 0 and target_idx < X.shape[1]\n",
    "    assert initial_time_step >= 0\n",
    "    assert max_time_step >= initial_time_step\n",
    "\n",
    "    start = initial_time_step\n",
    "\n",
    "    sub_windows = (\n",
    "        start +\n",
    "        np.expand_dims(np.arange(window_size), 0) +\n",
    "        np.expand_dims(np.arange(max_time_step + 1), 0).T\n",
    "    )\n",
    "\n",
    "    X_temp, y_temp = X[sub_windows], X[window_size:(\n",
    "        max_time_step+window_size+1):1, target_idx]\n",
    "\n",
    "    idx_y_train_not_nan = np.where(~np.isnan(y_temp))[0]\n",
    "    assert len(idx_y_train_not_nan) == len(y_temp)\n",
    "\n",
    "    x_train_is_nan_idx = np.unique(np.where(np.isnan(X_temp)))\n",
    "\n",
    "    return X_temp, y_temp"
   ]
  },
  {
   "cell_type": "code",
   "execution_count": 2,
   "metadata": {},
   "outputs": [
    {
     "name": "stdout",
     "output_type": "stream",
     "text": [
      "            feature1  feature2\n",
      "2023-01-01         1        10\n",
      "2023-01-02         2        20\n",
      "2023-01-03         3        30\n",
      "2023-01-04         4        40\n",
      "2023-01-05         5        50\n",
      "2023-01-06         6        60\n",
      "2023-01-07         7        70\n",
      "2023-01-08         8        80\n",
      "2023-01-09         9        90\n"
     ]
    }
   ],
   "source": [
    "import pandas as pd\n",
    "import numpy as np\n",
    "\n",
    "# Sample multivariate time series data in a DataFrame\n",
    "data = pd.DataFrame({\n",
    "    'feature1': [1, 2, 3, 4, 5, 6, 7, 8, 9],\n",
    "    'feature2': [10, 20, 30, 40, 50, 60, 70, 80, 90]\n",
    "}, index=pd.date_range(start='2023-01-01', periods=9, freq='D'))\n",
    "\n",
    "print(data)"
   ]
  },
  {
   "cell_type": "code",
   "execution_count": 3,
   "metadata": {},
   "outputs": [
    {
     "data": {
      "text/plain": [
       "(array([[[ 1, 10],\n",
       "         [ 2, 20],\n",
       "         [ 3, 30]],\n",
       " \n",
       "        [[ 2, 20],\n",
       "         [ 3, 30],\n",
       "         [ 4, 40]],\n",
       " \n",
       "        [[ 3, 30],\n",
       "         [ 4, 40],\n",
       "         [ 5, 50]],\n",
       " \n",
       "        [[ 4, 40],\n",
       "         [ 5, 50],\n",
       "         [ 6, 60]],\n",
       " \n",
       "        [[ 5, 50],\n",
       "         [ 6, 60],\n",
       "         [ 7, 70]],\n",
       " \n",
       "        [[ 6, 60],\n",
       "         [ 7, 70],\n",
       "         [ 8, 80]]]),\n",
       " array([40, 50, 60, 70, 80, 90]))"
      ]
     },
     "execution_count": 3,
     "metadata": {},
     "output_type": "execute_result"
    }
   ],
   "source": [
    "window_size = 3\n",
    "apply_rolling_window(\n",
    "    X = data.to_numpy(), \n",
    "    initial_time_step = 0, \n",
    "    max_time_step = len(data) - window_size - 1, \n",
    "    window_size = window_size,\n",
    "    target_idx = 1)"
   ]
  }
 ],
 "metadata": {
  "kernelspec": {
   "display_name": "cic1205",
   "language": "python",
   "name": "python3"
  },
  "language_info": {
   "codemirror_mode": {
    "name": "ipython",
    "version": 3
   },
   "file_extension": ".py",
   "mimetype": "text/x-python",
   "name": "python",
   "nbconvert_exporter": "python",
   "pygments_lexer": "ipython3",
   "version": "3.12.0"
  }
 },
 "nbformat": 4,
 "nbformat_minor": 2
}
