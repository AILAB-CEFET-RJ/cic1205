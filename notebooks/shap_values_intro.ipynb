{
 "cells": [
  {
   "cell_type": "markdown",
   "id": "b3ceff69",
   "metadata": {},
   "source": [
    "This notebook shows how the toy example can be implemented in the SHAP Library.\n",
    "\n",
    "> Notice however that there is no sense to apply SHAP values in the toy model. This is just for didactic purposes."
   ]
  },
  {
   "cell_type": "code",
   "execution_count": 4,
   "id": "00e6e7c8",
   "metadata": {},
   "outputs": [
    {
     "name": "stdout",
     "output_type": "stream",
     "text": [
      "Requirement already satisfied: shap in /Users/ebezerra/miniconda3/envs/cic1205/lib/python3.12/site-packages (0.47.2)\n",
      "Requirement already satisfied: numpy in /Users/ebezerra/miniconda3/envs/cic1205/lib/python3.12/site-packages (from shap) (1.26.0)\n",
      "Requirement already satisfied: scipy in /Users/ebezerra/miniconda3/envs/cic1205/lib/python3.12/site-packages (from shap) (1.11.3)\n",
      "Requirement already satisfied: scikit-learn in /Users/ebezerra/miniconda3/envs/cic1205/lib/python3.12/site-packages (from shap) (1.6.1)\n",
      "Requirement already satisfied: pandas in /Users/ebezerra/miniconda3/envs/cic1205/lib/python3.12/site-packages (from shap) (2.1.1)\n",
      "Requirement already satisfied: tqdm>=4.27.0 in /Users/ebezerra/miniconda3/envs/cic1205/lib/python3.12/site-packages (from shap) (4.67.1)\n",
      "Requirement already satisfied: packaging>20.9 in /Users/ebezerra/miniconda3/envs/cic1205/lib/python3.12/site-packages (from shap) (24.1)\n",
      "Requirement already satisfied: slicer==0.0.8 in /Users/ebezerra/miniconda3/envs/cic1205/lib/python3.12/site-packages (from shap) (0.0.8)\n",
      "Requirement already satisfied: numba>=0.54 in /Users/ebezerra/miniconda3/envs/cic1205/lib/python3.12/site-packages (from shap) (0.61.2)\n",
      "Requirement already satisfied: cloudpickle in /Users/ebezerra/miniconda3/envs/cic1205/lib/python3.12/site-packages (from shap) (3.1.1)\n",
      "Requirement already satisfied: typing-extensions in /Users/ebezerra/miniconda3/envs/cic1205/lib/python3.12/site-packages (from shap) (4.12.2)\n",
      "Requirement already satisfied: llvmlite<0.45,>=0.44.0dev0 in /Users/ebezerra/miniconda3/envs/cic1205/lib/python3.12/site-packages (from numba>=0.54->shap) (0.44.0)\n",
      "Requirement already satisfied: python-dateutil>=2.8.2 in /Users/ebezerra/miniconda3/envs/cic1205/lib/python3.12/site-packages (from pandas->shap) (2.8.2)\n",
      "Requirement already satisfied: pytz>=2020.1 in /Users/ebezerra/miniconda3/envs/cic1205/lib/python3.12/site-packages (from pandas->shap) (2024.1)\n",
      "Requirement already satisfied: tzdata>=2022.1 in /Users/ebezerra/miniconda3/envs/cic1205/lib/python3.12/site-packages (from pandas->shap) (2023.3)\n",
      "Requirement already satisfied: joblib>=1.2.0 in /Users/ebezerra/miniconda3/envs/cic1205/lib/python3.12/site-packages (from scikit-learn->shap) (1.4.2)\n",
      "Requirement already satisfied: threadpoolctl>=3.1.0 in /Users/ebezerra/miniconda3/envs/cic1205/lib/python3.12/site-packages (from scikit-learn->shap) (3.5.0)\n",
      "Requirement already satisfied: six>=1.5 in /Users/ebezerra/miniconda3/envs/cic1205/lib/python3.12/site-packages (from python-dateutil>=2.8.2->pandas->shap) (1.16.0)\n",
      "Note: you may need to restart the kernel to use updated packages.\n"
     ]
    }
   ],
   "source": [
    "#pip install shap"
   ]
  },
  {
   "cell_type": "code",
   "execution_count": 5,
   "id": "8a9bc843",
   "metadata": {},
   "outputs": [
    {
     "name": "stderr",
     "output_type": "stream",
     "text": [
      "100%|██████████| 1/1 [00:00<00:00, 55.79it/s]"
     ]
    },
    {
     "name": "stdout",
     "output_type": "stream",
     "text": [
      "SHAP values for input [1, 1]: [[1.5 2.5]]\n",
      "Sum of SHAP values + baseline: 8.0\n"
     ]
    },
    {
     "name": "stderr",
     "output_type": "stream",
     "text": [
      "\n"
     ]
    },
    {
     "data": {
      "image/png": "[encoded data removed]",
      "text/plain": [
       "<Figure size 800x250 with 3 Axes>"
      ]
     },
     "metadata": {},
     "output_type": "display_data"
    }
   ],
   "source": [
    "import shap\n",
    "import numpy as np\n",
    "import pandas as pd\n",
    "\n",
    "# 1. Define the model\n",
    "def model(X):\n",
    "    x1 = X[:, 0]\n",
    "    x2 = X[:, 1]\n",
    "    return 3 * x1 + 5 * x2\n",
    "\n",
    "# 2. Define background dataset (4 possible combinations)\n",
    "background = np.array([\n",
    "    [0, 0],\n",
    "    [0, 1],\n",
    "    [1, 0],\n",
    "    [1, 1]\n",
    "])\n",
    "\n",
    "# 3. Define input to explain\n",
    "x_to_explain = np.array([[1, 1]])\n",
    "\n",
    "# 4. Create SHAP KernelExplainer\n",
    "explainer = shap.KernelExplainer(model, background)\n",
    "\n",
    "# 5. Compute SHAP values\n",
    "shap_values = explainer.shap_values(x_to_explain)\n",
    "\n",
    "# 6. Print results\n",
    "print(\"SHAP values for input [1, 1]:\", shap_values)\n",
    "print(\"Sum of SHAP values + baseline:\", np.sum(shap_values) + explainer.expected_value)\n",
    "\n",
    "# Optional: plot waterfall\n",
    "shap.plots.waterfall(shap.Explanation(\n",
    "    values=shap_values[0],\n",
    "    base_values=explainer.expected_value,\n",
    "    data=x_to_explain[0],\n",
    "    feature_names=[\"x1\", \"x2\"]\n",
    "))\n"
   ]
  }
 ],
 "metadata": {
  "kernelspec": {
   "display_name": "cic1205",
   "language": "python",
   "name": "python3"
  },
  "language_info": {
   "codemirror_mode": {
    "name": "ipython",
    "version": 3
   },
   "file_extension": ".py",
   "mimetype": "text/x-python",
   "name": "python",
   "nbconvert_exporter": "python",
   "pygments_lexer": "ipython3",
   "version": "3.12.0"
  }
 },
 "nbformat": 4,
 "nbformat_minor": 5
}
