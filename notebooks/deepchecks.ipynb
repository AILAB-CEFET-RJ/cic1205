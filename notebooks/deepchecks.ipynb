{
 "cells": [
  {
   "cell_type": "code",
   "execution_count": 1,
   "metadata": {},
   "outputs": [
    {
     "name": "stdout",
     "output_type": "stream",
     "text": [
      "Collecting deepchecks\n",
      "  Downloading deepchecks-0.18.1-py3-none-any.whl.metadata (5.7 kB)\n",
      "Requirement already satisfied: pandas<2.2.0,>=1.1.5 in /home/ebezerra/anaconda3/envs/cic1205/lib/python3.12/site-packages (from deepchecks) (2.1.1)\n",
      "Requirement already satisfied: scikit-learn<1.4.0,>=0.23.2 in /home/ebezerra/anaconda3/envs/cic1205/lib/python3.12/site-packages (from deepchecks) (1.3.2)\n",
      "Collecting jsonpickle>=2 (from deepchecks)\n",
      "  Downloading jsonpickle-3.0.3-py3-none-any.whl.metadata (7.3 kB)\n",
      "Collecting PyNomaly>=0.3.3 (from deepchecks)\n",
      "  Downloading PyNomaly-0.3.3.tar.gz (8.3 kB)\n",
      "  Preparing metadata (setup.py) ... \u001b[?25ldone\n",
      "\u001b[?25hRequirement already satisfied: typing-extensions>=4.0.0 in /home/ebezerra/anaconda3/envs/cic1205/lib/python3.12/site-packages (from deepchecks) (4.8.0)\n",
      "Requirement already satisfied: tqdm>=4.62.3 in /home/ebezerra/anaconda3/envs/cic1205/lib/python3.12/site-packages (from deepchecks) (4.66.1)\n",
      "Collecting category-encoders>=2.3.0 (from deepchecks)\n",
      "  Downloading category_encoders-2.6.3-py2.py3-none-any.whl.metadata (8.0 kB)\n",
      "Collecting scipy<=1.10.1,>=1.4.1 (from deepchecks)\n",
      "  Downloading scipy-1.9.3.tar.gz (42.1 MB)\n",
      "\u001b[2K     \u001b[90m━━━━━━━━━━━━━━━━━━━━━━━━━━━━━━━━━━━━━━━━\u001b[0m \u001b[32m42.1/42.1 MB\u001b[0m \u001b[31m4.9 MB/s\u001b[0m eta \u001b[36m0:00:00\u001b[0m00:01\u001b[0m00:01\u001b[0m\n",
      "\u001b[?25h  Installing build dependencies ... \u001b[?25ldone\n",
      "\u001b[?25h  Getting requirements to build wheel ... \u001b[?25ldone\n",
      "\u001b[?25h  Installing backend dependencies ... \u001b[?25ldone\n",
      "\u001b[?25h  Preparing metadata (pyproject.toml) ... \u001b[?25lerror\n",
      "  \u001b[1;31merror\u001b[0m: \u001b[1msubprocess-exited-with-error\u001b[0m\n",
      "  \n",
      "  \u001b[31m×\u001b[0m \u001b[32mPreparing metadata \u001b[0m\u001b[1;32m(\u001b[0m\u001b[32mpyproject.toml\u001b[0m\u001b[1;32m)\u001b[0m did not run successfully.\n",
      "  \u001b[31m│\u001b[0m exit code: \u001b[1;36m1\u001b[0m\n",
      "  \u001b[31m╰─>\u001b[0m \u001b[31m[32 lines of output]\u001b[0m\n",
      "  \u001b[31m   \u001b[0m \u001b[36m\u001b[1m+ meson setup /tmp/pip-install-byfif7ei/scipy_a7cadfcdf2f847da9897d3aa543af623 /tmp/pip-install-byfif7ei/scipy_a7cadfcdf2f847da9897d3aa543af623/.mesonpy-97ks7ack -Dbuildtype=release -Db_ndebug=if-release -Db_vscrt=md --native-file=/tmp/pip-install-byfif7ei/scipy_a7cadfcdf2f847da9897d3aa543af623/.mesonpy-97ks7ack/meson-python-native-file.ini\u001b[0m\n",
      "  \u001b[31m   \u001b[0m The Meson build system\n",
      "  \u001b[31m   \u001b[0m Version: 1.4.0\n",
      "  \u001b[31m   \u001b[0m Source dir: /tmp/pip-install-byfif7ei/scipy_a7cadfcdf2f847da9897d3aa543af623\n",
      "  \u001b[31m   \u001b[0m Build dir: /tmp/pip-install-byfif7ei/scipy_a7cadfcdf2f847da9897d3aa543af623/.mesonpy-97ks7ack\n",
      "  \u001b[31m   \u001b[0m Build type: native build\n",
      "  \u001b[31m   \u001b[0m Project name: SciPy\n",
      "  \u001b[31m   \u001b[0m Project version: 1.9.3\n",
      "  \u001b[31m   \u001b[0m C compiler for the host machine: cc (gcc 9.4.0 \"cc (Ubuntu 9.4.0-1ubuntu1~20.04.2) 9.4.0\")\n",
      "  \u001b[31m   \u001b[0m C linker for the host machine: cc ld.bfd 2.34\n",
      "  \u001b[31m   \u001b[0m C++ compiler for the host machine: c++ (gcc 9.4.0 \"c++ (Ubuntu 9.4.0-1ubuntu1~20.04.2) 9.4.0\")\n",
      "  \u001b[31m   \u001b[0m C++ linker for the host machine: c++ ld.bfd 2.34\n",
      "  \u001b[31m   \u001b[0m Host machine cpu family: x86_64\n",
      "  \u001b[31m   \u001b[0m Host machine cpu: x86_64\n",
      "  \u001b[31m   \u001b[0m Compiler for C supports arguments -Wno-unused-but-set-variable: YES\n",
      "  \u001b[31m   \u001b[0m Compiler for C supports arguments -Wno-unused-but-set-variable: YES (cached)\n",
      "  \u001b[31m   \u001b[0m Compiler for C supports arguments -Wno-unused-function: YES\n",
      "  \u001b[31m   \u001b[0m Compiler for C supports arguments -Wno-conversion: YES\n",
      "  \u001b[31m   \u001b[0m Compiler for C supports arguments -Wno-misleading-indentation: YES\n",
      "  \u001b[31m   \u001b[0m Compiler for C supports arguments -Wno-incompatible-pointer-types: YES\n",
      "  \u001b[31m   \u001b[0m Library m found: YES\n",
      "  \u001b[31m   \u001b[0m Fortran compiler for the host machine: gfortran (gcc 9.4.0 \"GNU Fortran (Ubuntu 9.4.0-1ubuntu1~20.04.2) 9.4.0\")\n",
      "  \u001b[31m   \u001b[0m Fortran linker for the host machine: gfortran ld.bfd 2.34\n",
      "  \u001b[31m   \u001b[0m Compiler for Fortran supports arguments -Wno-conversion: YES\n",
      "  \u001b[31m   \u001b[0m Program cython found: YES (/tmp/pip-build-env-f8ce9_uc/overlay/bin/cython)\n",
      "  \u001b[31m   \u001b[0m Program pythran found: YES (/tmp/pip-build-env-f8ce9_uc/overlay/bin/pythran)\n",
      "  \u001b[31m   \u001b[0m Program cp found: YES (/usr/bin/cp)\n",
      "  \u001b[31m   \u001b[0m Program python found: YES (/home/ebezerra/anaconda3/envs/cic1205/bin/python)\n",
      "  \u001b[31m   \u001b[0m \n",
      "  \u001b[31m   \u001b[0m ../meson.build:85:2: ERROR: Problem encountered: Your Python version is too new. SciPy 1.9 supports Python 3.8-3.11; if you are trying to build from source for the most recent SciPy version you may hit this error as well. Please build from the `main` branch on GitHub instead.\n",
      "  \u001b[31m   \u001b[0m \n",
      "  \u001b[31m   \u001b[0m A full log can be found at /tmp/pip-install-byfif7ei/scipy_a7cadfcdf2f847da9897d3aa543af623/.mesonpy-97ks7ack/meson-logs/meson-log.txt\n",
      "  \u001b[31m   \u001b[0m \u001b[31m[end of output]\u001b[0m\n",
      "  \n",
      "  \u001b[1;35mnote\u001b[0m: This error originates from a subprocess, and is likely not a problem with pip.\n",
      "\u001b[?25h\u001b[1;31merror\u001b[0m: \u001b[1mmetadata-generation-failed\u001b[0m\n",
      "\n",
      "\u001b[31m×\u001b[0m Encountered error while generating package metadata.\n",
      "\u001b[31m╰─>\u001b[0m See above for output.\n",
      "\n",
      "\u001b[1;35mnote\u001b[0m: This is an issue with the package mentioned above, not pip.\n",
      "\u001b[1;36mhint\u001b[0m: See above for details.\n",
      "Note: you may need to restart the kernel to use updated packages.\n"
     ]
    }
   ],
   "source": [
    "pip install deepchecks -U --user"
   ]
  }
 ],
 "metadata": {
  "kernelspec": {
   "display_name": "cic1205",
   "language": "python",
   "name": "python3"
  },
  "language_info": {
   "codemirror_mode": {
    "name": "ipython",
    "version": 3
   },
   "file_extension": ".py",
   "mimetype": "text/x-python",
   "name": "python",
   "nbconvert_exporter": "python",
   "pygments_lexer": "ipython3",
   "version": "3.12.0"
  }
 },
 "nbformat": 4,
 "nbformat_minor": 2
}
