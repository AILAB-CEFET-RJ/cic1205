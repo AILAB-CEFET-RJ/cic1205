{
 "cells": [
  {
   "cell_type": "markdown",
   "id": "598b70a1",
   "metadata": {},
   "source": [
    "# Interactive Exploration of R² and MSE\n",
    "\n",
    "This notebook lets you explore how R² changes as a function of MSE using interactive widgets. You can vary the values of $n$ (sample size) and TSS (total sum of squares) to see how they affect the relationship.\n"
   ]
  },
  {
   "cell_type": "markdown",
   "id": "bb5791d7",
   "metadata": {},
   "source": [
    "## 📐 Formula Recap\n",
    "The formula connecting MSE and R² is:\n",
    "\n",
    "$$\n",
    "R^2 = 1 - \\frac{n \\cdot \\text{MSE}}{\\text{TSS}}\n",
    "$$\n",
    "This is a linear transformation of the MSE.\n"
   ]
  },
  {
   "cell_type": "code",
   "execution_count": null,
   "id": "3bf7ac2d",
   "metadata": {},
   "outputs": [],
   "source": [
    "import matplotlib.pyplot as plt\n",
    "import numpy as np\n",
    "import ipywidgets as widgets\n",
    "from ipywidgets import interact\n"
   ]
  },
  {
   "cell_type": "code",
   "execution_count": null,
   "id": "171b8363",
   "metadata": {},
   "outputs": [],
   "source": [
    "def plot_r2_vs_mse(n=100, TSS=50):\n",
    "    mse_values = np.linspace(0, 5, 200)\n",
    "    r2_values = 1 - (n * mse_values / TSS)\n",
    "\n",
    "    plt.figure(figsize=(8, 5))\n",
    "    plt.plot(mse_values, r2_values, label=r'$R^2 = 1 - \\frac{n \\cdot MSE}{TSS}$')\n",
    "    plt.axhline(0, color='gray', linestyle='--', linewidth=0.8)\n",
    "    plt.axvline(TSS / n, color='red', linestyle='--', linewidth=0.8, label='MSE = TSS/n → R² = 0')\n",
    "    plt.title(\"Interactive: R² vs MSE\")\n",
    "    plt.xlabel(\"Mean Squared Error (MSE)\")\n",
    "    plt.ylabel(\"R²\")\n",
    "    plt.grid(True)\n",
    "    plt.legend()\n",
    "    plt.tight_layout()\n",
    "    plt.show()\n"
   ]
  },
  {
   "cell_type": "code",
   "execution_count": null,
   "id": "12afece2",
   "metadata": {},
   "outputs": [],
   "source": [
    "interact(plot_r2_vs_mse,\n",
    "         n=widgets.IntSlider(value=100, min=10, max=500, step=10, description='n'),\n",
    "         TSS=widgets.FloatSlider(value=50, min=10, max=200, step=5, description='TSS'))"
   ]
  }
 ],
 "metadata": {},
 "nbformat": 4,
 "nbformat_minor": 5
}
