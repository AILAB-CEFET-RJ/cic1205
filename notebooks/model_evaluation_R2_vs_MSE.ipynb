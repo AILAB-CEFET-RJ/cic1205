{
 "cells": [
  {
   "cell_type": "markdown",
   "id": "598b70a1",
   "metadata": {},
   "source": [
    "# Relationship between R² and MSE\n",
    "\n",
    "Consider the following statement:\n",
    "\n",
    "> _\"r² is just a scaled (and translated) version of the MSE\"_ \n",
    "\n",
    "This statement reflects the mathematical relationship between **R² (coefficient of determination)** and the **MSE (mean squared error)** when comparing a regression model's predictions to a baseline. Let’s break it down with definitions, derivation, and a concrete example.\n",
    "\n",
    "### Definitions\n",
    "\n",
    "For a regression problem with:\n",
    "- true values: $y_1, y_2, \\dots, y_n$\n",
    "- predicted values: $\\hat{y}_1, \\hat{y}_2, \\dots, \\hat{y}_n$\n",
    "- mean of true values: $\\bar{y} = \\frac{1}{n} \\sum_{i=1}^n y_i$\n",
    "\n",
    "We define:\n",
    "\n",
    "- **MSE (Mean Squared Error)**:\n",
    "  $$\n",
    "  \\text{MSE} = \\frac{1}{n} \\sum_{i=1}^n (y_i - \\hat{y}_i)^2\n",
    "  $$\n",
    "\n",
    "- **TSS (Total Sum of Squares)** (variance of the target, scaled by \\( n \\)):\n",
    "  $$\n",
    "  \\text{TSS} = \\sum_{i=1}^n (y_i - \\bar{y})^2\n",
    "  $$\n",
    "\n",
    "- **RSS (Residual Sum of Squares)**:\n",
    "  $$\n",
    "  \\text{RSS} = \\sum_{i=1}^n (y_i - \\hat{y}_i)^2 = n \\cdot \\text{MSE}\n",
    "  $$\n",
    "\n",
    "- **R²**:\n",
    "  $$\n",
    "  R^2 = 1 - \\frac{\\text{RSS}}{\\text{TSS}} = 1 - \\frac{n \\cdot \\text{MSE}}{\\text{TSS}}\n",
    "  $$\n",
    "\n",
    "---\n",
    "\n",
    "### Rearranging R² in terms of MSE\n",
    "\n",
    "From the formula:\n",
    "$$\n",
    "R^2 = 1 - \\frac{n \\cdot \\text{MSE}}{\\text{TSS}}\n",
    "$$\n",
    "\n",
    "This shows that R² is a **linear transformation** of MSE:\n",
    "$$\n",
    "R^2 = -\\left(\\frac{n}{\\text{TSS}}\\right) \\cdot \\text{MSE} + 1\n",
    "$$\n",
    "\n",
    "This is a **scaling** (by $-\\frac{n}{\\text{TSS}}$) and **translation** (adding 1). That’s exactly what the original statement refers to.\n",
    "\n",
    "### Example\n",
    "\n",
    "Let’s walk through a simple example.\n",
    "\n",
    "#### Given:\n",
    "- True values: $y = [3, 4, 5]$\n",
    "- Predicted values: $\\hat{y} = [2.5, 4.0, 5.5]$\n",
    "\n",
    "#### Step 1: Compute MSE\n",
    "\n",
    "$$\n",
    "\\text{MSE} = \\frac{1}{3}[(3 - 2.5)^2 + (4 - 4.0)^2 + (5 - 5.5)^2] = \\frac{1}{3}(0.25 + 0 + 0.25) = \\frac{0.5}{3} \\approx 0.167\n",
    "$$\n",
    "\n",
    "#### Step 2: Compute TSS\n",
    "\n",
    "$$\n",
    "\\bar{y} = \\frac{3 + 4 + 5}{3} = 4\n",
    "$$\n",
    "\n",
    "$$\n",
    "\\text{TSS} = (3 - 4)^2 + (4 - 4)^2 + (5 - 4)^2 = 1 + 0 + 1 = 2\n",
    "$$\n",
    "\n",
    "#### Step 3: Compute R²\n",
    "\n",
    "$$\n",
    "R^2 = 1 - \\frac{n \\cdot \\text{MSE}}{\\text{TSS}} = 1 - \\frac{3 \\cdot 0.167}{2} = 1 - 0.25 = 0.75\n",
    "$$\n",
    "\n",
    "---\n",
    "\n",
    "### Summary\n",
    "\n",
    "So, the equation:\n",
    "$$\n",
    "R^2 = -\\left(\\frac{n}{\\text{TSS}}\\right) \\cdot \\text{MSE} + 1\n",
    "$$\n",
    "shows that **R² is essentially MSE rescaled and shifted**, which supports the claim that it's a scaled (and translated) version of MSE.\n",
    "\n",
    "While MSE measures error in absolute terms (same units as the target), R² provides a **relative measure** of how much better the model is than simply predicting the mean. But mathematically, they are tightly linked through a linear transformation."
   ]
  },
  {
   "cell_type": "markdown",
   "id": "dd293c91",
   "metadata": {},
   "source": [
    "The code below lets you explore how R² changes as a function of MSE using interactive widgets. You can vary the values of $n$ (sample size) and TSS (total sum of squares) to see how they affect the relationship."
   ]
  },
  {
   "cell_type": "code",
   "execution_count": 4,
   "id": "3bf7ac2d",
   "metadata": {},
   "outputs": [],
   "source": [
    "import matplotlib.pyplot as plt\n",
    "import numpy as np\n",
    "import ipywidgets as widgets\n",
    "from ipywidgets import interact"
   ]
  },
  {
   "cell_type": "code",
   "execution_count": 2,
   "id": "171b8363",
   "metadata": {},
   "outputs": [],
   "source": [
    "def plot_r2_vs_mse(n=100, TSS=50):\n",
    "    mse_values = np.linspace(0, 5, 200)\n",
    "    r2_values = 1 - (n * mse_values / TSS)\n",
    "\n",
    "    plt.figure(figsize=(8, 5))\n",
    "    plt.plot(mse_values, r2_values, label=r'$R^2 = 1 - \\frac{n \\cdot MSE}{TSS}$')\n",
    "    plt.axhline(0, color='gray', linestyle='--', linewidth=0.8)\n",
    "    plt.axvline(TSS / n, color='red', linestyle='--', linewidth=0.8, label='MSE = TSS/n → R² = 0')\n",
    "    plt.title(\"Interactive: R² vs MSE\")\n",
    "    plt.xlabel(\"Mean Squared Error (MSE)\")\n",
    "    plt.ylabel(\"R²\")\n",
    "    plt.grid(True)\n",
    "    plt.legend()\n",
    "    plt.tight_layout()\n",
    "    plt.show()\n"
   ]
  },
  {
   "cell_type": "code",
   "execution_count": 3,
   "id": "12afece2",
   "metadata": {},
   "outputs": [
    {
     "data": {
      "application/vnd.jupyter.widget-view+json": {
       "model_id": "f9399924462441ce82ab23c4c29bb514",
       "version_major": 2,
       "version_minor": 0
      },
      "text/plain": [
       "interactive(children=(IntSlider(value=100, description='n', max=500, min=10, step=10), FloatSlider(value=50.0,…"
      ]
     },
     "metadata": {},
     "output_type": "display_data"
    },
    {
     "data": {
      "text/plain": [
       "<function __main__.plot_r2_vs_mse(n=100, TSS=50)>"
      ]
     },
     "execution_count": 3,
     "metadata": {},
     "output_type": "execute_result"
    }
   ],
   "source": [
    "interact(plot_r2_vs_mse,\n",
    "         n=widgets.IntSlider(value=100, min=10, max=500, step=10, description='n'),\n",
    "         TSS=widgets.FloatSlider(value=50, min=10, max=200, step=5, description='TSS'))"
   ]
  }
 ],
 "metadata": {
  "kernelspec": {
   "display_name": "cic1205",
   "language": "python",
   "name": "python3"
  },
  "language_info": {
   "codemirror_mode": {
    "name": "ipython",
    "version": 3
   },
   "file_extension": ".py",
   "mimetype": "text/x-python",
   "name": "python",
   "nbconvert_exporter": "python",
   "pygments_lexer": "ipython3",
   "version": "3.12.0"
  }
 },
 "nbformat": 4,
 "nbformat_minor": 5
}
