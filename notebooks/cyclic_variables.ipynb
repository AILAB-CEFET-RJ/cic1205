{
 "cells": [
  {
   "cell_type": "markdown",
   "metadata": {},
   "source": [
    "Transforming cyclic variables, also known as circular predictors, is essential in some machine learning tasks, especially when dealing with time-related or angular data like time of day, months of the year, or compass directions. To represent cyclic variables in a meaningful way, you can use techniques like **circular encoding** or **trigonometric encoding**. In this notebook, you find examples of both methods in Python."
   ]
  },
  {
   "cell_type": "markdown",
   "metadata": {},
   "source": [
    "# Circular Encoding\n",
    "\n",
    "Circular encoding transforms cyclic variables into two new features by using trigonometric functions like sine and cosine. These two features represent the cyclic variable's position on a unit circle.\n",
    "\n",
    "Here's an example using the hour of the day as a cyclic variable:"
   ]
  },
  {
   "cell_type": "code",
   "execution_count": 1,
   "metadata": {},
   "outputs": [
    {
     "name": "stdout",
     "output_type": "stream",
     "text": [
      "   hour_of_day      hour_sin  hour_cos\n",
      "0            0  0.000000e+00  1.000000\n",
      "1            3  7.071068e-01  0.707107\n",
      "2           12  1.224647e-16 -1.000000\n",
      "3           15 -7.071068e-01 -0.707107\n",
      "4           21 -7.071068e-01  0.707107\n"
     ]
    }
   ],
   "source": [
    "import pandas as pd\n",
    "import numpy as np\n",
    "\n",
    "# Sample data\n",
    "data = pd.DataFrame({'hour_of_day': [0, 3, 12, 15, 21]})\n",
    "\n",
    "# Circular encoding\n",
    "data['hour_sin'] = np.sin(2 * np.pi * data['hour_of_day'] / 24)\n",
    "data['hour_cos'] = np.cos(2 * np.pi * data['hour_of_day'] / 24)\n",
    "\n",
    "print(data)"
   ]
  },
  {
   "cell_type": "markdown",
   "metadata": {},
   "source": [
    "In this example, 'hour_sin' and 'hour_cos' are the circular encoding of the 'hour_of_day' variable. They represent the time of day as points on the unit circle."
   ]
  },
  {
   "cell_type": "markdown",
   "metadata": {},
   "source": [
    "# Trigonometric Encoding\n",
    "\n",
    "Trigonometric encoding is similar to circular encoding but combines sine and cosine into a single feature, providing both amplitude and phase information.\n",
    "\n",
    "Here's how you can use trigonometric encoding for the hour of the day:"
   ]
  },
  {
   "cell_type": "code",
   "execution_count": 2,
   "metadata": {},
   "outputs": [
    {
     "name": "stdout",
     "output_type": "stream",
     "text": [
      "   hour_of_day           hour_trig\n",
      "0            0  0.000000+1.000000j\n",
      "1            3  0.707107+0.707107j\n",
      "2           12  0.000000-1.000000j\n",
      "3           15 -0.707107-0.707107j\n",
      "4           21 -0.707107+0.707107j\n"
     ]
    }
   ],
   "source": [
    "import pandas as pd\n",
    "import numpy as np\n",
    "\n",
    "# Sample data\n",
    "data = pd.DataFrame({'hour_of_day': [0, 3, 12, 15, 21]})\n",
    "\n",
    "# Trigonometric encoding\n",
    "data['hour_trig'] = np.sin(2 * np.pi * data['hour_of_day'] / 24) + 1j * np.cos(2 * np.pi * data['hour_of_day'] / 24)\n",
    "\n",
    "print(data)"
   ]
  },
  {
   "cell_type": "markdown",
   "metadata": {},
   "source": [
    "In this example, 'hour_trig' is a complex number that represents the hour of the day, combining amplitude and phase information.\n",
    "\n",
    "You can apply these encoding techniques to other cyclic variables like days of the week, months of the year, or compass directions. Just make sure to adjust the scaling factor (e.g., 24 for hours of the day, 7 for days of the week, etc.) accordingly."
   ]
  },
  {
   "cell_type": "markdown",
   "metadata": {},
   "source": [
    "# Remarks\n",
    "\n",
    "- When using these transformed features in your machine learning pipeline, remember to scale or standardize them along with your other features to ensure they have similar magnitudes."
   ]
  },
  {
   "cell_type": "code",
   "execution_count": null,
   "metadata": {},
   "outputs": [],
   "source": []
  }
 ],
 "metadata": {
  "kernelspec": {
   "display_name": "cic1205",
   "language": "python",
   "name": "python3"
  },
  "language_info": {
   "codemirror_mode": {
    "name": "ipython",
    "version": 3
   },
   "file_extension": ".py",
   "mimetype": "text/x-python",
   "name": "python",
   "nbconvert_exporter": "python",
   "pygments_lexer": "ipython3",
   "version": "3.12.0"
  }
 },
 "nbformat": 4,
 "nbformat_minor": 2
}
