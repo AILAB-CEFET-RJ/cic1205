{
 "cells": [
  {
   "cell_type": "markdown",
   "metadata": {},
   "source": [
    "# Introduction\n",
    "\n",
    "Conformal prediction is a framework in supervised machine learning that provides a measure of confidence or uncertainty for individual predictions. Traditional ML algorithms provide a way to learning the underlying patterns in the data. In addition to this, conformal prediction provides a way to quantify uncertainty in predictions made by a ML model. Concretely, instead of outputing a single point estimate, conformal prediction provides prediction intervals or sets, indicating the range of possible outcomes along with a measure of confidence associated with each prediction. \n",
    "\n",
    "This framework is particularly useful in scenarios where understanding the uncertainty associated with predictions is crucial, such as in medical diagnosis, financial forecasting, or safety-critical systems.\n",
    "\n",
    "Below are the steps to apply conformal prediction:\n",
    "\n",
    "1. **Training Phase**. In the training phase, the model is trained on a labeled dataset just like any other supervised learning algorithm.\n",
    "\n",
    "2. **Calibration Phase**. After training, the model enters a calibration phase where it learns how to assign confidence levels to its predictions. This is done using a calibration set, which is typically a portion of the training data that the model hasn't seen before. The model generates predictions for this calibration set and assesses its own reliability by comparing its predictions to the actual outcomes.\n",
    "\n",
    "3. **Conformal Prediction Phase**. Once the model is calibrated, it can be used to make predictions on new, unseen data. For each prediction, the model doesn't just output a single point estimate, but rather a prediction set or interval along with a confidence level. This prediction set contains all possible outcomes that the model deems plausible, based on its training and calibration.\n",
    "\n",
    "5. **Evaluation**. The performance of a conformal prediction model can be evaluated based on how well the predicted intervals match the actual outcomes. Metrics such as coverage probability (the proportion of actual outcomes within the predicted intervals) and width of the intervals can be used to assess the model's reliability and calibration.\n",
    "\n",
    "More formally, given a test example $\\mathbf{x}_{m+1}$ and a user-specified significance level $\\alpha \\in (0,1)$, a conformal predictor outputs a prediction region that contains the true output value with probability $1-\\alpha$. The value $(1-\\alpha)$ is called **confidence level**."
   ]
  },
  {
   "cell_type": "markdown",
   "metadata": {},
   "source": [
    "# A Simple Example"
   ]
  },
  {
   "cell_type": "code",
   "execution_count": 31,
   "metadata": {},
   "outputs": [],
   "source": [
    "import numpy as np\n",
    "from sklearn.datasets import load_iris\n",
    "from sklearn.ensemble import RandomForestClassifier\n",
    "from sklearn.calibration import CalibratedClassifierCV\n",
    "from sklearn.model_selection import train_test_split\n",
    "from sklearn.metrics import accuracy_score\n",
    "\n",
    "# Load the Iris dataset\n",
    "iris = load_iris()\n",
    "X, y = iris.data, iris.target\n",
    "\n",
    "# Split the data into training and testing sets\n",
    "X_train, X_test, y_train, y_test = train_test_split(X, y, test_size=0.2, random_state=42)\n",
    "\n",
    "# Train a Random Forest classifier\n",
    "clf = RandomForestClassifier(n_estimators=100)\n",
    "clf.fit(X_train, y_train)\n",
    "\n",
    "# Calibrate the classifier to get probabilities\n",
    "calibrated_clf = CalibratedClassifierCV(clf, method='sigmoid', cv='prefit')\n",
    "calibrated_clf.fit(X_train, y_train)\n",
    "\n",
    "# Now let's implement conformal prediction for each test instance\n",
    "prediction_intervals = []\n",
    "\n",
    "for instance, true_label in zip(X_test, y_test):\n",
    "    # Get class probabilities for the instance\n",
    "    probabilities = calibrated_clf.predict_proba([instance])[0]\n",
    "    \n",
    "    # Calculate p-values for each class\n",
    "    p_values = [1 - probabilities[i] for i in range(len(probabilities))]\n",
    "    \n",
    "    # Define significance level (alpha) - you can adjust this based on your needs\n",
    "    alpha = 0.05\n",
    "    \n",
    "    # Calculate the size of the prediction interval based on the p-values\n",
    "    k = int(np.floor(alpha * len(p_values))) + 1\n",
    "    \n",
    "    # Extract the k smallest p-values\n",
    "    smallest_p_values = sorted(p_values)[:k]\n",
    "    \n",
    "    # Determine the prediction interval\n",
    "    lower_bound = min(smallest_p_values)\n",
    "    upper_bound = max(smallest_p_values)\n",
    "    \n",
    "    prediction_intervals.append((lower_bound, upper_bound))\n",
    "\n",
    "# Now you have prediction intervals for each test instance\n",
    "# You can use these intervals along with the actual labels to evaluate the performance of conformal prediction\n"
   ]
  },
  {
   "cell_type": "code",
   "execution_count": 32,
   "metadata": {},
   "outputs": [
    {
     "name": "stdout",
     "output_type": "stream",
     "text": [
      "Prediction Interval: (0.021691180653692466, 0.021691180653692466)\n",
      "True Label: 1\n"
     ]
    }
   ],
   "source": [
    "import numpy as np\n",
    "from sklearn.datasets import load_iris\n",
    "from sklearn.ensemble import RandomForestClassifier\n",
    "from sklearn.calibration import CalibratedClassifierCV\n",
    "from sklearn.model_selection import train_test_split\n",
    "\n",
    "# Load the Iris dataset\n",
    "iris = load_iris()\n",
    "X, y = iris.data, iris.target\n",
    "\n",
    "# Split the data into training and testing sets\n",
    "X_train, X_test, y_train, y_test = train_test_split(X, y, test_size=0.2, random_state=42)\n",
    "\n",
    "# Train a Random Forest classifier\n",
    "clf = RandomForestClassifier(n_estimators=100)\n",
    "clf.fit(X_train, y_train)\n",
    "\n",
    "# Calibrate the classifier to get probabilities\n",
    "calibrated_clf = CalibratedClassifierCV(clf, method='sigmoid', cv='prefit')\n",
    "calibrated_clf.fit(X_train, y_train)\n",
    "\n",
    "# Select a single test example\n",
    "test_instance = X_test[0]\n",
    "true_label = y_test[0]\n",
    "\n",
    "# Get class probabilities for the test example\n",
    "probabilities = calibrated_clf.predict_proba([test_instance])[0]\n",
    "\n",
    "# Calculate p-values for each class\n",
    "p_values = [1 - probabilities[i] for i in range(len(probabilities))]\n",
    "\n",
    "# Define significance level (alpha) - you can adjust this based on your needs\n",
    "alpha = 0.05\n",
    "\n",
    "# Calculate the size of the prediction interval based on the p-values\n",
    "k = int(np.floor(alpha * len(p_values))) + 1\n",
    "\n",
    "# Extract the k smallest p-values\n",
    "smallest_p_values = sorted(p_values)[:k]\n",
    "\n",
    "# Determine the prediction interval\n",
    "lower_bound = min(smallest_p_values)\n",
    "upper_bound = max(smallest_p_values)\n",
    "\n",
    "# Print the prediction interval and the true label\n",
    "print(\"Prediction Interval:\", (lower_bound, upper_bound))\n",
    "print(\"True Label:\", true_label)"
   ]
  },
  {
   "cell_type": "markdown",
   "metadata": {},
   "source": [
    "# Case Study"
   ]
  },
  {
   "cell_type": "code",
   "execution_count": 33,
   "metadata": {},
   "outputs": [],
   "source": [
    "import pandas as pd\n",
    "\n",
    "df = pd.read_csv('../data/insurance.csv')"
   ]
  },
  {
   "cell_type": "code",
   "execution_count": 34,
   "metadata": {},
   "outputs": [
    {
     "data": {
      "text/plain": [
       "array(['southwest', 'southeast', 'northwest', 'northeast'], dtype=object)"
      ]
     },
     "execution_count": 34,
     "metadata": {},
     "output_type": "execute_result"
    }
   ],
   "source": [
    "df.region.unique()"
   ]
  },
  {
   "cell_type": "code",
   "execution_count": 35,
   "metadata": {},
   "outputs": [
    {
     "data": {
      "text/html": [
       "<div>\n",
       "<style scoped>\n",
       "    .dataframe tbody tr th:only-of-type {\n",
       "        vertical-align: middle;\n",
       "    }\n",
       "\n",
       "    .dataframe tbody tr th {\n",
       "        vertical-align: top;\n",
       "    }\n",
       "\n",
       "    .dataframe thead th {\n",
       "        text-align: right;\n",
       "    }\n",
       "</style>\n",
       "<table border=\"1\" class=\"dataframe\">\n",
       "  <thead>\n",
       "    <tr style=\"text-align: right;\">\n",
       "      <th></th>\n",
       "      <th>age</th>\n",
       "      <th>sex</th>\n",
       "      <th>bmi</th>\n",
       "      <th>children</th>\n",
       "      <th>smoker</th>\n",
       "      <th>region</th>\n",
       "      <th>charges</th>\n",
       "    </tr>\n",
       "  </thead>\n",
       "  <tbody>\n",
       "    <tr>\n",
       "      <th>0</th>\n",
       "      <td>19</td>\n",
       "      <td>female</td>\n",
       "      <td>27.900</td>\n",
       "      <td>0</td>\n",
       "      <td>yes</td>\n",
       "      <td>southwest</td>\n",
       "      <td>16884.92400</td>\n",
       "    </tr>\n",
       "    <tr>\n",
       "      <th>1</th>\n",
       "      <td>18</td>\n",
       "      <td>male</td>\n",
       "      <td>33.770</td>\n",
       "      <td>1</td>\n",
       "      <td>no</td>\n",
       "      <td>southeast</td>\n",
       "      <td>1725.55230</td>\n",
       "    </tr>\n",
       "    <tr>\n",
       "      <th>2</th>\n",
       "      <td>28</td>\n",
       "      <td>male</td>\n",
       "      <td>33.000</td>\n",
       "      <td>3</td>\n",
       "      <td>no</td>\n",
       "      <td>southeast</td>\n",
       "      <td>4449.46200</td>\n",
       "    </tr>\n",
       "    <tr>\n",
       "      <th>3</th>\n",
       "      <td>33</td>\n",
       "      <td>male</td>\n",
       "      <td>22.705</td>\n",
       "      <td>0</td>\n",
       "      <td>no</td>\n",
       "      <td>northwest</td>\n",
       "      <td>21984.47061</td>\n",
       "    </tr>\n",
       "    <tr>\n",
       "      <th>4</th>\n",
       "      <td>32</td>\n",
       "      <td>male</td>\n",
       "      <td>28.880</td>\n",
       "      <td>0</td>\n",
       "      <td>no</td>\n",
       "      <td>northwest</td>\n",
       "      <td>3866.85520</td>\n",
       "    </tr>\n",
       "  </tbody>\n",
       "</table>\n",
       "</div>"
      ],
      "text/plain": [
       "   age     sex     bmi  children smoker     region      charges\n",
       "0   19  female  27.900         0    yes  southwest  16884.92400\n",
       "1   18    male  33.770         1     no  southeast   1725.55230\n",
       "2   28    male  33.000         3     no  southeast   4449.46200\n",
       "3   33    male  22.705         0     no  northwest  21984.47061\n",
       "4   32    male  28.880         0     no  northwest   3866.85520"
      ]
     },
     "execution_count": 35,
     "metadata": {},
     "output_type": "execute_result"
    }
   ],
   "source": [
    "df.head()"
   ]
  },
  {
   "cell_type": "code",
   "execution_count": 36,
   "metadata": {},
   "outputs": [
    {
     "data": {
      "text/html": [
       "<div>\n",
       "<style scoped>\n",
       "    .dataframe tbody tr th:only-of-type {\n",
       "        vertical-align: middle;\n",
       "    }\n",
       "\n",
       "    .dataframe tbody tr th {\n",
       "        vertical-align: top;\n",
       "    }\n",
       "\n",
       "    .dataframe thead th {\n",
       "        text-align: right;\n",
       "    }\n",
       "</style>\n",
       "<table border=\"1\" class=\"dataframe\">\n",
       "  <thead>\n",
       "    <tr style=\"text-align: right;\">\n",
       "      <th></th>\n",
       "      <th>age</th>\n",
       "      <th>bmi</th>\n",
       "      <th>children</th>\n",
       "      <th>charges</th>\n",
       "      <th>sex_male</th>\n",
       "      <th>smoker_yes</th>\n",
       "      <th>region_northwest</th>\n",
       "      <th>region_southeast</th>\n",
       "      <th>region_southwest</th>\n",
       "    </tr>\n",
       "  </thead>\n",
       "  <tbody>\n",
       "    <tr>\n",
       "      <th>0</th>\n",
       "      <td>19</td>\n",
       "      <td>27.900</td>\n",
       "      <td>0</td>\n",
       "      <td>16884.92400</td>\n",
       "      <td>False</td>\n",
       "      <td>True</td>\n",
       "      <td>False</td>\n",
       "      <td>False</td>\n",
       "      <td>True</td>\n",
       "    </tr>\n",
       "    <tr>\n",
       "      <th>1</th>\n",
       "      <td>18</td>\n",
       "      <td>33.770</td>\n",
       "      <td>1</td>\n",
       "      <td>1725.55230</td>\n",
       "      <td>True</td>\n",
       "      <td>False</td>\n",
       "      <td>False</td>\n",
       "      <td>True</td>\n",
       "      <td>False</td>\n",
       "    </tr>\n",
       "    <tr>\n",
       "      <th>2</th>\n",
       "      <td>28</td>\n",
       "      <td>33.000</td>\n",
       "      <td>3</td>\n",
       "      <td>4449.46200</td>\n",
       "      <td>True</td>\n",
       "      <td>False</td>\n",
       "      <td>False</td>\n",
       "      <td>True</td>\n",
       "      <td>False</td>\n",
       "    </tr>\n",
       "    <tr>\n",
       "      <th>3</th>\n",
       "      <td>33</td>\n",
       "      <td>22.705</td>\n",
       "      <td>0</td>\n",
       "      <td>21984.47061</td>\n",
       "      <td>True</td>\n",
       "      <td>False</td>\n",
       "      <td>True</td>\n",
       "      <td>False</td>\n",
       "      <td>False</td>\n",
       "    </tr>\n",
       "    <tr>\n",
       "      <th>4</th>\n",
       "      <td>32</td>\n",
       "      <td>28.880</td>\n",
       "      <td>0</td>\n",
       "      <td>3866.85520</td>\n",
       "      <td>True</td>\n",
       "      <td>False</td>\n",
       "      <td>True</td>\n",
       "      <td>False</td>\n",
       "      <td>False</td>\n",
       "    </tr>\n",
       "  </tbody>\n",
       "</table>\n",
       "</div>"
      ],
      "text/plain": [
       "   age     bmi  children      charges  sex_male  smoker_yes  region_northwest  \\\n",
       "0   19  27.900         0  16884.92400     False        True             False   \n",
       "1   18  33.770         1   1725.55230      True       False             False   \n",
       "2   28  33.000         3   4449.46200      True       False             False   \n",
       "3   33  22.705         0  21984.47061      True       False              True   \n",
       "4   32  28.880         0   3866.85520      True       False              True   \n",
       "\n",
       "   region_southeast  region_southwest  \n",
       "0             False              True  \n",
       "1              True             False  \n",
       "2              True             False  \n",
       "3             False             False  \n",
       "4             False             False  "
      ]
     },
     "execution_count": 36,
     "metadata": {},
     "output_type": "execute_result"
    }
   ],
   "source": [
    "df1 = pd.get_dummies(df, drop_first=True)\n",
    "df1.head()"
   ]
  },
  {
   "cell_type": "code",
   "execution_count": 37,
   "metadata": {},
   "outputs": [],
   "source": [
    "df = df1"
   ]
  },
  {
   "cell_type": "code",
   "execution_count": 38,
   "metadata": {},
   "outputs": [],
   "source": [
    "target_column_name = 'charges'\n",
    "train_percentage = 0.7\n",
    "cal_percentage = 0.2\n",
    "X = df.drop(columns=[target_column_name]).to_numpy()\n",
    "Y = df[target_column_name].to_numpy()\n",
    "n_total = X.shape[0]\n",
    "n_train = int(train_percentage*n_total)\n",
    "n_cal = int(cal_percentage*n_total) + n_train\n",
    "train_data = X[:n_train, :]\n",
    "train_target = Y[:n_train]\n",
    "cal_data = X[n_train:n_cal, :]\n",
    "cal_target = Y[n_train:n_cal]\n",
    "test_data = X[n_cal:, :]\n",
    "test_target = Y[n_cal:]"
   ]
  },
  {
   "cell_type": "code",
   "execution_count": 39,
   "metadata": {},
   "outputs": [
    {
     "data": {
      "text/plain": [
       "(135, 8)"
      ]
     },
     "execution_count": 39,
     "metadata": {},
     "output_type": "execute_result"
    }
   ],
   "source": [
    "test_data.shape"
   ]
  },
  {
   "cell_type": "code",
   "execution_count": 40,
   "metadata": {},
   "outputs": [],
   "source": [
    "#pip install nonconformist"
   ]
  },
  {
   "cell_type": "code",
   "execution_count": 41,
   "metadata": {},
   "outputs": [],
   "source": [
    "# pip install lightgbm"
   ]
  },
  {
   "cell_type": "code",
   "execution_count": 42,
   "metadata": {},
   "outputs": [],
   "source": [
    "x_train = train_data\n",
    "y_train = train_target\n",
    "\n",
    "x_cal = cal_data\n",
    "y_cal = cal_target\n",
    "\n",
    "x_test = test_data\n",
    "y_test = test_target"
   ]
  },
  {
   "cell_type": "code",
   "execution_count": 43,
   "metadata": {},
   "outputs": [
    {
     "name": "stdout",
     "output_type": "stream",
     "text": [
      "[LightGBM] [Info] Auto-choosing col-wise multi-threading, the overhead of testing was 0.000093 seconds.\n",
      "You can set `force_col_wise=true` to remove the overhead.\n",
      "[LightGBM] [Info] Total Bins 317\n",
      "[LightGBM] [Info] Number of data points in the train set: 936, number of used features: 8\n",
      "[LightGBM] [Info] Start training from score 13113.527470\n"
     ]
    }
   ],
   "source": [
    "from nonconformist.cp import IcpRegressor\n",
    "from nonconformist.cp import IcpClassifier\n",
    "from nonconformist.nc import NcFactory\n",
    "import lightgbm as lgbm\n",
    "# Create the underlying model\n",
    "model = lgbm.LGBMRegressor()\n",
    "# Default nonconformity measure\n",
    "nc = NcFactory.create_nc(model)\n",
    "# Inductive conformal regressor\n",
    "icp = IcpRegressor(nc)\n",
    "# Fit the ICP using the proper training set\n",
    "icp.fit(x_train, y_train)\n",
    "# Calibrate the ICP using the calibration set\n",
    "icp.calibrate(x_cal, y_cal)\n",
    "# Desired coverage\n",
    "confidence = 0.8\n",
    "# Produce predictions for the test set\n",
    "prediction = icp.predict(x_test, significance=(1-confidence))\n",
    "lower_b = prediction[:, 0]\n",
    "upper_b = prediction[:, 1]"
   ]
  },
  {
   "cell_type": "code",
   "execution_count": 44,
   "metadata": {},
   "outputs": [
    {
     "data": {
      "text/plain": [
       "(135, 2)"
      ]
     },
     "execution_count": 44,
     "metadata": {},
     "output_type": "execute_result"
    }
   ],
   "source": [
    "prediction.shape"
   ]
  },
  {
   "cell_type": "code",
   "execution_count": 45,
   "metadata": {},
   "outputs": [
    {
     "data": {
      "text/plain": [
       "array([8359.13412558, 8359.13412558, 8359.13412558, 8359.13412558,\n",
       "       8359.13412558, 8359.13412558, 8359.13412558, 8359.13412558,\n",
       "       8359.13412558, 8359.13412558, 8359.13412558, 8359.13412558,\n",
       "       8359.13412558, 8359.13412558, 8359.13412558, 8359.13412558,\n",
       "       8359.13412558, 8359.13412558, 8359.13412558, 8359.13412558,\n",
       "       8359.13412558, 8359.13412558, 8359.13412558, 8359.13412558,\n",
       "       8359.13412558, 8359.13412558, 8359.13412558, 8359.13412558,\n",
       "       8359.13412558, 8359.13412558, 8359.13412558, 8359.13412558,\n",
       "       8359.13412558, 8359.13412558, 8359.13412558, 8359.13412558,\n",
       "       8359.13412558, 8359.13412558, 8359.13412558, 8359.13412558,\n",
       "       8359.13412558, 8359.13412558, 8359.13412558, 8359.13412558,\n",
       "       8359.13412558, 8359.13412558, 8359.13412558, 8359.13412558,\n",
       "       8359.13412558, 8359.13412558, 8359.13412558, 8359.13412558,\n",
       "       8359.13412558, 8359.13412558, 8359.13412558, 8359.13412558,\n",
       "       8359.13412558, 8359.13412558, 8359.13412558, 8359.13412558,\n",
       "       8359.13412558, 8359.13412558, 8359.13412558, 8359.13412558,\n",
       "       8359.13412558, 8359.13412558, 8359.13412558, 8359.13412558,\n",
       "       8359.13412558, 8359.13412558, 8359.13412558, 8359.13412558,\n",
       "       8359.13412558, 8359.13412558, 8359.13412558, 8359.13412558,\n",
       "       8359.13412558, 8359.13412558, 8359.13412558, 8359.13412558,\n",
       "       8359.13412558, 8359.13412558, 8359.13412558, 8359.13412558,\n",
       "       8359.13412558, 8359.13412558, 8359.13412558, 8359.13412558,\n",
       "       8359.13412558, 8359.13412558, 8359.13412558, 8359.13412558,\n",
       "       8359.13412558, 8359.13412558, 8359.13412558, 8359.13412558,\n",
       "       8359.13412558, 8359.13412558, 8359.13412558, 8359.13412558,\n",
       "       8359.13412558, 8359.13412558, 8359.13412558, 8359.13412558,\n",
       "       8359.13412558, 8359.13412558, 8359.13412558, 8359.13412558,\n",
       "       8359.13412558, 8359.13412558, 8359.13412558, 8359.13412558,\n",
       "       8359.13412558, 8359.13412558, 8359.13412558, 8359.13412558,\n",
       "       8359.13412558, 8359.13412558, 8359.13412558, 8359.13412558,\n",
       "       8359.13412558, 8359.13412558, 8359.13412558, 8359.13412558,\n",
       "       8359.13412558, 8359.13412558, 8359.13412558, 8359.13412558,\n",
       "       8359.13412558, 8359.13412558, 8359.13412558, 8359.13412558,\n",
       "       8359.13412558, 8359.13412558, 8359.13412558])"
      ]
     },
     "execution_count": 45,
     "metadata": {},
     "output_type": "execute_result"
    }
   ],
   "source": [
    "upper_b - lower_b "
   ]
  },
  {
   "cell_type": "code",
   "execution_count": 46,
   "metadata": {},
   "outputs": [],
   "source": [
    "y_pred = (lower_b+upper_b)/2"
   ]
  },
  {
   "cell_type": "code",
   "execution_count": 23,
   "metadata": {},
   "outputs": [
    {
     "data": {
      "text/plain": [
       "(135,)"
      ]
     },
     "execution_count": 23,
     "metadata": {},
     "output_type": "execute_result"
    }
   ],
   "source": [
    "y_pred.shape"
   ]
  },
  {
   "cell_type": "code",
   "execution_count": 47,
   "metadata": {},
   "outputs": [
    {
     "data": {
      "text/plain": [
       "((135,), (135,), (135,), (135,))"
      ]
     },
     "execution_count": 47,
     "metadata": {},
     "output_type": "execute_result"
    }
   ],
   "source": [
    "y_test.shape, prediction[:,1].shape, lower_b.shape, upper_b.shape"
   ]
  },
  {
   "cell_type": "code",
   "execution_count": 48,
   "metadata": {},
   "outputs": [],
   "source": [
    "# taken from MAPIE docs\n",
    "\n",
    "def sort_y_values(y_test, y_pred, lower_b, upper_b):\n",
    "    \"\"\"\n",
    "    Sorting the dataset in order to make plots using the fill_between function.\n",
    "    \"\"\"\n",
    "    indices = np.argsort(y_test)\n",
    "    y_test_sorted = np.array(y_test)[indices]\n",
    "    y_pred_sorted = y_pred[indices]\n",
    "    y_lower_bound = lower_b[indices]\n",
    "    y_upper_bound = upper_b[indices]\n",
    "    return y_test_sorted, y_pred_sorted, y_lower_bound, y_upper_bound"
   ]
  },
  {
   "cell_type": "code",
   "execution_count": 49,
   "metadata": {},
   "outputs": [],
   "source": [
    "(y_test_sorted, y_pred_sorted, lower_bound_sorted, upper_bound_sorted) = sort_y_values(y_test, y_pred, lower_b, upper_b)"
   ]
  },
  {
   "cell_type": "code",
   "execution_count": 50,
   "metadata": {},
   "outputs": [
    {
     "data": {
      "image/png": "[encoded data removed]",
      "text/plain": [
       "<Figure size 1000x600 with 1 Axes>"
      ]
     },
     "metadata": {},
     "output_type": "display_data"
    }
   ],
   "source": [
    "import matplotlib.pyplot as plt\n",
    "\n",
    "x_test = range(len(prediction))\n",
    "\n",
    "# Create the plot\n",
    "plt.figure(figsize=(10, 6))  # Adjust figure size as needed\n",
    "plt.plot(x_test, y_test_sorted, label=\"Prediction\", color=\"blue\")\n",
    "plt.fill_between(x_test, lower_bound_sorted, upper_bound_sorted, alpha=0.2, label=\"Confidence Interval\", color=\"lightblue\")\n",
    "\n",
    "# Enhance plot aesthetics\n",
    "plt.xlabel(\"X-axis (Time or Independent Variable)\")  # Set meaningful x-axis label\n",
    "plt.ylabel(\"Target Variable\")  # Set meaningful y-axis label\n",
    "plt.title(\"Predictions with 80% Confidence Intervals\")\n",
    "plt.legend()\n",
    "\n",
    "# Customize plot for clarity\n",
    "plt.xticks(rotation=45)  # Rotate x-axis labels for readability\n",
    "plt.grid(True)\n",
    "\n",
    "# Show the plot\n",
    "plt.tight_layout()  # Adjust layout to prevent overlapping labels\n",
    "plt.show()"
   ]
  },
  {
   "cell_type": "markdown",
   "metadata": {},
   "source": [
    "# References\n",
    "\n",
    "## Books\n",
    "1. Vovk, V., Gammerman, A., & Shafer, G. (2022). [Algorithmic Learning in a Random World](https://alrw.net). An [excerpt](https://download.e-bookshelf.de/download/0000/0004/78/L-G-0000000478-0002330810.pdf).\n",
    "\n",
    "## Papers\n",
    "1. [A Gentle Introduction to Conformal Prediction and Distribution-Free Uncertainty Quantification](https://arxiv.org/abs/2107.07511), by Anastasios N. Angelopoulos and Stephen Bates\n",
    "\n",
    "## Videos\n",
    "1. [Three Easy Steps to Understand Conformal Prediction (CP), Conformity Score, Python Implementation](https://youtu.be/oqK6rM8fbkk), by Dr. Data Science channel\n",
    "2. [A Tutorial on Conformal Prediction](https://youtu.be/nql000Lu_iE), by Anastasios Nikolas Angelopoulos\n",
    "3. [Conformal Prediction Tutorial](https://youtu.be/0MsGri8nmJQ), by Henrik Linusson\n",
    "4. [Maria Navarro: Quantifying uncertainty in Machine Learning predictions | PyData London 2019](https://youtu.be/r6bhm_A-YcQ)\n",
    "5. [Emmanuel Candès - A Taste of Conformal Prediction](https://www.youtube.com/watch?v=YzTzN3RyFrk)\n",
    "\n",
    "Misc\n",
    "1. [Wikipedia entry for 'Quantile'](https://en.wikipedia.org/wiki/Quantile)\n",
    "2. [Conformal Prediction: An easy way to estimate prediction intervals](https://medium.com/bain-inside-advanced-analytics/conformal-prediction-an-easy-way-to-estimate-prediction-intervals-c0de34c47494)\n",
    "3. [Are sample quantiles consistent with population quantiles?](https://stats.stackexchange.com/questions/637467/are-sample-quantiles-consistent-with-population-quantiles)\n",
    "4. [Conformal Prediction: An easy way to estimate prediction intervals](https://medium.com/bain-inside-advanced-analytics/conformal-prediction-an-easy-way-to-estimate-prediction-intervals-c0de34c47494)\n",
    "5. [Getting Started With Conformal Prediction For Classification](https://mindfulmodeler.substack.com/p/week-1-getting-started-with-conformal)\n",
    "6. [An Introduction to Conformal Prediction](https://cml.rhul.ac.uk/copa2017/presentations/CP_Tutorial_2017.pdf)\n",
    "7. [Percentile vs quantile vs quartile (What is the difference between the three terms?) ](https://stats.stackexchange.com/questions/156778/percentile-vs-quantile-vs-quartile)"
   ]
  }
 ],
 "metadata": {
  "kernelspec": {
   "display_name": "cic1205",
   "language": "python",
   "name": "python3"
  },
  "language_info": {
   "codemirror_mode": {
    "name": "ipython",
    "version": 3
   },
   "file_extension": ".py",
   "mimetype": "text/x-python",
   "name": "python",
   "nbconvert_exporter": "python",
   "pygments_lexer": "ipython3",
   "version": "3.12.0"
  }
 },
 "nbformat": 4,
 "nbformat_minor": 2
}
