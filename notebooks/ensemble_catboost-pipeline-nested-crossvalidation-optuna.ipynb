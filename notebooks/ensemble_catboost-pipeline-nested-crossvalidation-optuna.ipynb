{
 "cells": [
  {
   "cell_type": "markdown",
   "metadata": {
    "papermill": {
     "duration": 0.051594,
     "end_time": "2021-03-16T23:15:52.213936",
     "exception": false,
     "start_time": "2021-03-16T23:15:52.162342",
     "status": "completed"
    },
    "tags": []
   },
   "source": [
    "<a id=\"top\"></a>\n",
    "<div class=\"list-group\" id=\"list-tab\" role=\"tablist\">\n",
    "<h1 class=\"list-group-item list-group-item-action active\" data-toggle=\"list\" style='background:#005097; border:0' role=\"tab\" aria-controls=\"home\"><center>Market Response Modeling</center></h1>"
   ]
  },
  {
   "cell_type": "code",
   "execution_count": 20,
   "metadata": {
    "_kg_hide-input": true,
    "_kg_hide-output": true,
    "execution": {
     "iopub.execute_input": "2021-03-16T23:15:52.317476Z",
     "iopub.status.busy": "2021-03-16T23:15:52.316718Z",
     "iopub.status.idle": "2021-03-16T23:16:26.852567Z",
     "shell.execute_reply": "2021-03-16T23:16:26.851653Z"
    },
    "papermill": {
     "duration": 34.590483,
     "end_time": "2021-03-16T23:16:26.852805",
     "exception": false,
     "start_time": "2021-03-16T23:15:52.262322",
     "status": "completed"
    },
    "tags": []
   },
   "outputs": [],
   "source": [
    "# !pip install scikit-learn-extra"
   ]
  },
  {
   "cell_type": "code",
   "execution_count": 21,
   "metadata": {},
   "outputs": [],
   "source": [
    "# pip install catboost"
   ]
  },
  {
   "cell_type": "code",
   "execution_count": 22,
   "metadata": {},
   "outputs": [],
   "source": [
    "# pip install scikit-plot"
   ]
  },
  {
   "cell_type": "code",
   "execution_count": 23,
   "metadata": {},
   "outputs": [],
   "source": [
    "# pip install optuna"
   ]
  },
  {
   "cell_type": "code",
   "execution_count": 24,
   "metadata": {
    "_kg_hide-input": true,
    "_kg_hide-output": true,
    "execution": {
     "iopub.execute_input": "2021-03-16T23:16:26.987530Z",
     "iopub.status.busy": "2021-03-16T23:16:26.986778Z",
     "iopub.status.idle": "2021-03-16T23:16:31.010931Z",
     "shell.execute_reply": "2021-03-16T23:16:31.011501Z"
    },
    "papermill": {
     "duration": 4.101981,
     "end_time": "2021-03-16T23:16:31.011733",
     "exception": false,
     "start_time": "2021-03-16T23:16:26.909752",
     "status": "completed"
    },
    "tags": []
   },
   "outputs": [],
   "source": [
    "import numpy as np\n",
    "from imblearn.combine import SMOTETomek\n",
    "from numpy import isnan\n",
    "import pandas as pd\n",
    "import seaborn as sns\n",
    "import matplotlib.pyplot as plt\n",
    "import plotly.express as px\n",
    "import datetime\n",
    "from datetime import date\n",
    "from sklearn.preprocessing import PowerTransformer\n",
    "from sklearn.linear_model import LogisticRegression\n",
    "import scipy.stats as stats\n",
    "from sklearn.preprocessing import StandardScaler,RobustScaler\n",
    "\n",
    "# from sklearn_extra.cluster import KMedoids\n",
    "\n",
    "from imblearn.over_sampling import SMOTE\n",
    "from catboost import CatBoostClassifier\n",
    "from sklearn.model_selection import GridSearchCV\n",
    "from statsmodels.stats.outliers_influence import variance_inflation_factor \n",
    "from sklearn.model_selection import cross_val_score\n",
    "from sklearn import preprocessing\n",
    "from sklearn.model_selection import train_test_split\n",
    "import scikitplot as skplt\n",
    "from sklearn.metrics import classification_report,confusion_matrix\n",
    "import optuna\n",
    "from sklearn.metrics import f1_score\n",
    "from sklearn.model_selection import StratifiedKFold\n",
    "from functools import partial\n",
    "from sklearn.feature_selection import VarianceThreshold\n",
    "from optuna import Trial, visualization\n",
    "from sklearn.base import BaseEstimator, TransformerMixin\n",
    "from sklearn.impute import SimpleImputer\n",
    "from sklearn.pipeline import FeatureUnion\n",
    "from imblearn.pipeline import Pipeline\n",
    "from sklearn.feature_selection import SelectKBest,f_classif\n",
    "import collections\n",
    "from collections import Counter\n",
    "from sklearn.svm import SVC\n",
    "from sklearn.neighbors import KNeighborsClassifier\n",
    "from sklearn.ensemble import RandomForestClassifier\n",
    "from numpy import mean\n",
    "from numpy import std\n",
    "from sklearn.discriminant_analysis import LinearDiscriminantAnalysis\n",
    "import warnings\n",
    "warnings.filterwarnings('ignore')\n",
    "\n",
    "\n",
    "# import os\n",
    "# !ls ../input/\n",
    "# for dirname, _, filenames in os.walk('/kaggle/input'):\n",
    "#     for filename in filenames:\n",
    "#         print(os.path.join(dirname, filename))\n",
    "# data_folder = \"/kaggle/input/arketing-campaign/\"\n",
    "# dataset=pd.read_csv(data_folder+'marketing_campaign.csv',header=0,sep=';') "
   ]
  },
  {
   "cell_type": "code",
   "execution_count": 25,
   "metadata": {},
   "outputs": [
    {
     "name": "stdout",
     "output_type": "stream",
     "text": [
      "1.6.1\n"
     ]
    }
   ],
   "source": [
    "import sklearn\n",
    "print(sklearn.__version__)"
   ]
  },
  {
   "cell_type": "code",
   "execution_count": 26,
   "metadata": {},
   "outputs": [],
   "source": [
    "data_folder = \"../data/\"\n",
    "dataset=pd.read_csv(data_folder+'marketing_campaign.csv',header=0,sep=';') "
   ]
  },
  {
   "cell_type": "markdown",
   "metadata": {
    "papermill": {
     "duration": 0.058091,
     "end_time": "2021-03-16T23:16:31.128061",
     "exception": false,
     "start_time": "2021-03-16T23:16:31.069970",
     "status": "completed"
    },
    "tags": []
   },
   "source": [
    "### Table of Contents\n",
    "\n",
    "* [1. Data Preprocessing](#section_1)\n",
    "    * [A. Custom transformers creation](#section_1_1)\n",
    "    * [B. Data types and data completeness](#section_1_2)\n",
    "    * [C. Class distribution](#section_1_3)\n",
    "    * [D. Feature engineering](#section_1_4)\n",
    "    * [E. Feature selection](#section_1_5)\n",
    "    \n",
    "    ___\n",
    "* [2. Model Creation](#section_2)\n",
    "    * [A. Evaluate algorithm baseline performance with nested cross-validation](#section_2_1)\n",
    "    * [B. Hyperparameter tuning with Optuna](#section_2_2)\n",
    "    \n",
    "    ---\n",
    "* [3. Model results](#section_3)\n",
    "    * [A. Visual Hyperparameter Optimization Analysis](#section_3_1)\n",
    "    * [B. Model Evaluation Metrics and Confusion Matrix](#section_3_2)\n",
    "    * [C. Cumulative Gains and Lift charts](#section_3_3)\n",
    "    \n",
    "    ---"
   ]
  },
  {
   "cell_type": "markdown",
   "metadata": {
    "papermill": {
     "duration": 0.058397,
     "end_time": "2021-03-16T23:16:31.245866",
     "exception": false,
     "start_time": "2021-03-16T23:16:31.187469",
     "status": "completed"
    },
    "tags": []
   },
   "source": [
    "# 1. Data Preprocessing <a class=\"anchor\" id=\"section_1\"></a>"
   ]
  },
  {
   "cell_type": "markdown",
   "metadata": {
    "papermill": {
     "duration": 0.057692,
     "end_time": "2021-03-16T23:16:31.361522",
     "exception": false,
     "start_time": "2021-03-16T23:16:31.303830",
     "status": "completed"
    },
    "tags": []
   },
   "source": [
    "### A. Custom transformers creation <a class=\"anchor\" id=\"section_1_1\"></a>"
   ]
  },
  {
   "cell_type": "markdown",
   "metadata": {
    "papermill": {
     "duration": 0.058303,
     "end_time": "2021-03-16T23:16:31.478056",
     "exception": false,
     "start_time": "2021-03-16T23:16:31.419753",
     "status": "completed"
    },
    "tags": []
   },
   "source": [
    "#### Feature type selection (click to view code)"
   ]
  },
  {
   "cell_type": "code",
   "execution_count": 27,
   "metadata": {
    "_kg_hide-input": true,
    "execution": {
     "iopub.execute_input": "2021-03-16T23:16:31.605740Z",
     "iopub.status.busy": "2021-03-16T23:16:31.605015Z",
     "iopub.status.idle": "2021-03-16T23:16:31.608588Z",
     "shell.execute_reply": "2021-03-16T23:16:31.607946Z"
    },
    "papermill": {
     "duration": 0.072422,
     "end_time": "2021-03-16T23:16:31.608752",
     "exception": false,
     "start_time": "2021-03-16T23:16:31.536330",
     "status": "completed"
    },
    "tags": []
   },
   "outputs": [],
   "source": [
    "class feat_sel(BaseEstimator, TransformerMixin):\n",
    "    def __init__(self, dtype='numeric'):\n",
    "        self.dtype = dtype\n",
    "\n",
    "    def fit( self, X, y=None ):\n",
    "        return self \n",
    "\n",
    "    def transform(self, X, y=None):\n",
    "        if self.dtype == 'numeric':\n",
    "            num_cols = X.columns[X.dtypes != object].tolist()\n",
    "            return X[num_cols]\n",
    "        elif self.dtype == 'category':\n",
    "            cat_cols = X.columns[X.dtypes == object].tolist()\n",
    "            return X[cat_cols]\n",
    "    def get_feature_names(self):\n",
    "        if self.dtype == 'numeric':\n",
    "            num_cols = X.columns[X.dtypes != object].tolist()\n",
    "            return X[num_cols]\n",
    "        elif self.dtype == 'category':\n",
    "            cat_cols = X.columns[X.dtypes == object].tolist()\n",
    "            return X[cat_cols]"
   ]
  },
  {
   "cell_type": "markdown",
   "metadata": {
    "papermill": {
     "duration": 0.058373,
     "end_time": "2021-03-16T23:16:31.725511",
     "exception": false,
     "start_time": "2021-03-16T23:16:31.667138",
     "status": "completed"
    },
    "tags": []
   },
   "source": [
    " #### Label encoder (click to view code)"
   ]
  },
  {
   "cell_type": "code",
   "execution_count": 28,
   "metadata": {
    "_kg_hide-input": true,
    "execution": {
     "iopub.execute_input": "2021-03-16T23:16:31.846426Z",
     "iopub.status.busy": "2021-03-16T23:16:31.845431Z",
     "iopub.status.idle": "2021-03-16T23:16:31.855303Z",
     "shell.execute_reply": "2021-03-16T23:16:31.854735Z"
    },
    "papermill": {
     "duration": 0.071667,
     "end_time": "2021-03-16T23:16:31.855467",
     "exception": false,
     "start_time": "2021-03-16T23:16:31.783800",
     "status": "completed"
    },
    "tags": []
   },
   "outputs": [],
   "source": [
    "class Label_encode(BaseEstimator, TransformerMixin):\n",
    "    def fit(self, X, y=None):\n",
    "        return self\n",
    "    def transform(self,X,y=None):\n",
    "        #Ordinal encoding by LTV values : Champions have highest LTV followed by Loyal customers etc...\n",
    "            #(see previous notebook called \"RFM segmentation and CLV modeling\" if needed)\n",
    "        X['Segment']=X['Segment'].replace({'Champions':9,'Loyal customers':8,'Cant loose them':7,'At risk':6,\n",
    "                                           'Potential loyalist':5,'Need attention':4,'Promising':3,'New customers':2,\n",
    "                                           'About to sleep':1,'Lost':0}, regex=True)\n",
    "        #1=In couple, 0=Alone\n",
    "        X['Marital_Status']=X['Marital_Status'].replace({'Divorced':0,'Single':0,\n",
    "                                                                        'Married':1,'Together':1,                                                  \n",
    "                                                         'Absurd':0,'Widow':0,'YOLO':0,'Alone':0}, regex=True)\n",
    "        self.columns = X.columns\n",
    "        return X\n",
    "    def get_feature_names(self):\n",
    "        return list(self.columns)"
   ]
  },
  {
   "cell_type": "markdown",
   "metadata": {
    "papermill": {
     "duration": 0.058876,
     "end_time": "2021-03-16T23:16:31.973675",
     "exception": false,
     "start_time": "2021-03-16T23:16:31.914799",
     "status": "completed"
    },
    "tags": []
   },
   "source": [
    "#### Power transformation (click to view code)"
   ]
  },
  {
   "cell_type": "code",
   "execution_count": 29,
   "metadata": {
    "_kg_hide-input": true,
    "execution": {
     "iopub.execute_input": "2021-03-16T23:16:32.102817Z",
     "iopub.status.busy": "2021-03-16T23:16:32.101769Z",
     "iopub.status.idle": "2021-03-16T23:16:32.105506Z",
     "shell.execute_reply": "2021-03-16T23:16:32.104914Z"
    },
    "papermill": {
     "duration": 0.073247,
     "end_time": "2021-03-16T23:16:32.105669",
     "exception": false,
     "start_time": "2021-03-16T23:16:32.032422",
     "status": "completed"
    },
    "tags": []
   },
   "outputs": [],
   "source": [
    "class df_unskewed(TransformerMixin,BaseEstimator):\n",
    "    \n",
    "    def __init__(self, method='yeo-johnson'):\n",
    "        \n",
    "        self.method = method\n",
    "        self.standardize=False #Standardize = False as we use the custom class \"df_scaler\"\n",
    "\n",
    "    def fit(self, X, y=None):\n",
    "        if self.method == 'yeo-johnson':\n",
    "            self.scl = PowerTransformer(method=self.method,standardize=False)\n",
    "            self.scl.fit(X)\n",
    "            return self\n",
    "        elif self.method == 'None':\n",
    "            return self\n",
    "\n",
    "    def transform(self, X):\n",
    "        if self.method == 'yeo-johnson':\n",
    "            Xscl = self.scl.transform(X)\n",
    "            Xscaled = pd.DataFrame(Xscl, index=X.index, columns=X.columns)\n",
    "            self.columns = X.columns\n",
    "            return Xscaled\n",
    "        elif self.method == 'None':\n",
    "            Xscl = X\n",
    "            Xscaled = pd.DataFrame(Xscl, index=X.index, columns=X.columns)\n",
    "            self.columns = X.columns\n",
    "            return Xscaled\n",
    "    def get_feature_names(self):\n",
    "        return list(self.columns)"
   ]
  },
  {
   "cell_type": "markdown",
   "metadata": {
    "papermill": {
     "duration": 0.059679,
     "end_time": "2021-03-16T23:16:32.224033",
     "exception": false,
     "start_time": "2021-03-16T23:16:32.164354",
     "status": "completed"
    },
    "tags": []
   },
   "source": [
    "#### Feature scaling (click to view code)"
   ]
  },
  {
   "cell_type": "code",
   "execution_count": 30,
   "metadata": {
    "_kg_hide-input": true,
    "execution": {
     "iopub.execute_input": "2021-03-16T23:16:32.350500Z",
     "iopub.status.busy": "2021-03-16T23:16:32.349750Z",
     "iopub.status.idle": "2021-03-16T23:16:32.352116Z",
     "shell.execute_reply": "2021-03-16T23:16:32.352666Z"
    },
    "papermill": {
     "duration": 0.069833,
     "end_time": "2021-03-16T23:16:32.352858",
     "exception": false,
     "start_time": "2021-03-16T23:16:32.283025",
     "status": "completed"
    },
    "tags": []
   },
   "outputs": [],
   "source": [
    "class df_scaler(BaseEstimator, TransformerMixin):\n",
    "    def __init__(self, method=StandardScaler()):\n",
    "        super().__init__()\n",
    "        self.method = method        \n",
    "\n",
    "    def fit(self, X, y=None):\n",
    "        return self.method.fit(X)\n",
    "\n",
    "    def transform(self, X, y=None):\n",
    "        Xscl = self.method.transform(X)\n",
    "        Xscaled = pd.DataFrame(Xscl, index=X.index, columns=X.columns)\n",
    "        self.columns = X.columns\n",
    "        return Xscaled\n",
    "    def get_feature_names(self):\n",
    "        return list(self.columns)  "
   ]
  },
  {
   "cell_type": "markdown",
   "metadata": {
    "papermill": {
     "duration": 0.059101,
     "end_time": "2021-03-16T23:16:32.470706",
     "exception": false,
     "start_time": "2021-03-16T23:16:32.411605",
     "status": "completed"
    },
    "tags": []
   },
   "source": [
    "#### FeatureUnion (click to view code)"
   ]
  },
  {
   "cell_type": "code",
   "execution_count": 31,
   "metadata": {
    "_kg_hide-input": true,
    "execution": {
     "iopub.execute_input": "2021-03-16T23:16:32.592135Z",
     "iopub.status.busy": "2021-03-16T23:16:32.591431Z",
     "iopub.status.idle": "2021-03-16T23:16:32.601052Z",
     "shell.execute_reply": "2021-03-16T23:16:32.601601Z"
    },
    "papermill": {
     "duration": 0.07238,
     "end_time": "2021-03-16T23:16:32.601806",
     "exception": false,
     "start_time": "2021-03-16T23:16:32.529426",
     "status": "completed"
    },
    "tags": []
   },
   "outputs": [],
   "source": [
    "class FeatureUnion_df(TransformerMixin, BaseEstimator):\n",
    "    \n",
    "    def __init__(self, transformer_list, n_jobs=None, transformer_weights=None, verbose=False):\n",
    "        self.transformer_list = transformer_list\n",
    "        self.n_jobs = n_jobs\n",
    "        self.transformer_weights = transformer_weights\n",
    "        self.verbose = verbose  \n",
    "        self.feat_un = FeatureUnion(self.transformer_list, \n",
    "                                    n_jobs = self.n_jobs, \n",
    "                                    transformer_weights = self.transformer_weights, \n",
    "                                    verbose = self.verbose)\n",
    "    def fit(self, X, y=None):\n",
    "        self.feat_un.fit(X)\n",
    "        return self\n",
    "\n",
    "    def transform(self, X, y=None):\n",
    "        X_tr = self.feat_un.transform(X)\n",
    "        columns = []\n",
    "        \n",
    "        for trsnf in self.transformer_list:\n",
    "            cols = trsnf[1].steps[-1][1].get_feature_names()  \n",
    "            columns += list(cols)\n",
    "\n",
    "        X_tr = pd.DataFrame(X_tr, index=X.index, columns=columns)\n",
    "        \n",
    "        return X_tr\n",
    "\n",
    "    def get_params(self, deep=True): \n",
    "        return self.feat_un.get_params(deep=deep)\n",
    "    def get_feature_names(self):\n",
    "        return self.columns"
   ]
  },
  {
   "cell_type": "markdown",
   "metadata": {
    "papermill": {
     "duration": 0.058378,
     "end_time": "2021-03-16T23:16:32.718932",
     "exception": false,
     "start_time": "2021-03-16T23:16:32.660554",
     "status": "completed"
    },
    "tags": []
   },
   "source": [
    "#### Model selection (click to view code)"
   ]
  },
  {
   "cell_type": "code",
   "execution_count": 32,
   "metadata": {
    "_kg_hide-input": true,
    "execution": {
     "iopub.execute_input": "2021-03-16T23:16:32.840569Z",
     "iopub.status.busy": "2021-03-16T23:16:32.839865Z",
     "iopub.status.idle": "2021-03-16T23:16:32.849696Z",
     "shell.execute_reply": "2021-03-16T23:16:32.849084Z"
    },
    "papermill": {
     "duration": 0.072296,
     "end_time": "2021-03-16T23:16:32.849873",
     "exception": false,
     "start_time": "2021-03-16T23:16:32.777577",
     "status": "completed"
    },
    "tags": []
   },
   "outputs": [],
   "source": [
    "class Model_selection(BaseEstimator):\n",
    "    def __init__(self, estimator = CatBoostClassifier()):\n",
    "        self.estimator = estimator\n",
    "    def fit(self, X, y=None, **kwargs):\n",
    "        self.estimator.fit(X, y)\n",
    "        return self\n",
    "    def predict(self, X, y=None):\n",
    "        return self.estimator.predict(X)\n",
    "    def predict_proba(self, X):\n",
    "        return self.estimator.predict_proba(X)\n",
    "    def score(self, X, y):\n",
    "        return self.estimator.score(X, y)"
   ]
  },
  {
   "cell_type": "markdown",
   "metadata": {
    "papermill": {
     "duration": 0.058977,
     "end_time": "2021-03-16T23:16:32.968920",
     "exception": false,
     "start_time": "2021-03-16T23:16:32.909943",
     "status": "completed"
    },
    "tags": []
   },
   "source": [
    "### A. Data types and data completeness <a class=\"anchor\" id=\"section_1_1\"></a>"
   ]
  },
  {
   "cell_type": "code",
   "execution_count": 33,
   "metadata": {
    "execution": {
     "iopub.execute_input": "2021-03-16T23:16:33.092376Z",
     "iopub.status.busy": "2021-03-16T23:16:33.091207Z",
     "iopub.status.idle": "2021-03-16T23:16:33.126261Z",
     "shell.execute_reply": "2021-03-16T23:16:33.127119Z"
    },
    "papermill": {
     "duration": 0.099406,
     "end_time": "2021-03-16T23:16:33.127368",
     "exception": false,
     "start_time": "2021-03-16T23:16:33.027962",
     "status": "completed"
    },
    "tags": []
   },
   "outputs": [
    {
     "name": "stdout",
     "output_type": "stream",
     "text": [
      "<class 'pandas.core.frame.DataFrame'>\n",
      "RangeIndex: 2240 entries, 0 to 2239\n",
      "Data columns (total 29 columns):\n",
      " #   Column               Non-Null Count  Dtype  \n",
      "---  ------               --------------  -----  \n",
      " 0   ID                   2240 non-null   int64  \n",
      " 1   Year_Birth           2240 non-null   int64  \n",
      " 2   Education            2240 non-null   object \n",
      " 3   Marital_Status       2240 non-null   object \n",
      " 4   Income               2216 non-null   float64\n",
      " 5   Kidhome              2240 non-null   int64  \n",
      " 6   Teenhome             2240 non-null   int64  \n",
      " 7   Dt_Customer          2240 non-null   object \n",
      " 8   Recency              2240 non-null   int64  \n",
      " 9   MntWines             2240 non-null   int64  \n",
      " 10  MntFruits            2240 non-null   int64  \n",
      " 11  MntMeatProducts      2240 non-null   int64  \n",
      " 12  MntFishProducts      2240 non-null   int64  \n",
      " 13  MntSweetProducts     2240 non-null   int64  \n",
      " 14  MntGoldProds         2240 non-null   int64  \n",
      " 15  NumDealsPurchases    2240 non-null   int64  \n",
      " 16  NumWebPurchases      2240 non-null   int64  \n",
      " 17  NumCatalogPurchases  2240 non-null   int64  \n",
      " 18  NumStorePurchases    2240 non-null   int64  \n",
      " 19  NumWebVisitsMonth    2240 non-null   int64  \n",
      " 20  AcceptedCmp3         2240 non-null   int64  \n",
      " 21  AcceptedCmp4         2240 non-null   int64  \n",
      " 22  AcceptedCmp5         2240 non-null   int64  \n",
      " 23  AcceptedCmp1         2240 non-null   int64  \n",
      " 24  AcceptedCmp2         2240 non-null   int64  \n",
      " 25  Complain             2240 non-null   int64  \n",
      " 26  Z_CostContact        2240 non-null   int64  \n",
      " 27  Z_Revenue            2240 non-null   int64  \n",
      " 28  Response             2240 non-null   int64  \n",
      "dtypes: float64(1), int64(25), object(3)\n",
      "memory usage: 507.6+ KB\n",
      "None\n"
     ]
    }
   ],
   "source": [
    "print(dataset.info())"
   ]
  },
  {
   "cell_type": "markdown",
   "metadata": {
    "papermill": {
     "duration": 0.05933,
     "end_time": "2021-03-16T23:16:33.248347",
     "exception": false,
     "start_time": "2021-03-16T23:16:33.189017",
     "status": "completed"
    },
    "tags": []
   },
   "source": [
    "Using the __*info function*__, we can pull the following information from our dataset :\n",
    ">- We have __3 categorical variables__ and __26 numerical variables__\n",
    ">- We have __missing values__ for the __*Income*__ variable\n",
    "\n",
    "As a result : __Imputing missing values__ and __encoding catgorical features__ may be necessary if features are kept for prediction"
   ]
  },
  {
   "cell_type": "markdown",
   "metadata": {
    "papermill": {
     "duration": 0.059701,
     "end_time": "2021-03-16T23:16:33.367746",
     "exception": false,
     "start_time": "2021-03-16T23:16:33.308045",
     "status": "completed"
    },
    "tags": []
   },
   "source": [
    "### B. Class distribution <a class=\"anchor\" id=\"section_1_2\"></a>"
   ]
  },
  {
   "cell_type": "markdown",
   "metadata": {
    "papermill": {
     "duration": 0.059109,
     "end_time": "2021-03-16T23:16:33.486561",
     "exception": false,
     "start_time": "2021-03-16T23:16:33.427452",
     "status": "completed"
    },
    "tags": []
   },
   "source": [
    "On classification problems, analyzing the class distribution is always an important step as highly imbalanced data are common and need special treatment.  \n",
    "Let's check if data are imbalanced :"
   ]
  },
  {
   "cell_type": "code",
   "execution_count": 34,
   "metadata": {
    "_kg_hide-input": true,
    "execution": {
     "iopub.execute_input": "2021-03-16T23:16:33.613453Z",
     "iopub.status.busy": "2021-03-16T23:16:33.612520Z",
     "iopub.status.idle": "2021-03-16T23:16:33.616141Z",
     "shell.execute_reply": "2021-03-16T23:16:33.616677Z"
    },
    "papermill": {
     "duration": 0.070862,
     "end_time": "2021-03-16T23:16:33.616860",
     "exception": false,
     "start_time": "2021-03-16T23:16:33.545998",
     "status": "completed"
    },
    "tags": []
   },
   "outputs": [
    {
     "name": "stdout",
     "output_type": "stream",
     "text": [
      "Class=1, Count=334, Percentage=14.91%\n",
      "Class=0, Count=1906, Percentage=85.09%\n"
     ]
    }
   ],
   "source": [
    "target = dataset['Response']\n",
    "counter = Counter(target)\n",
    "for k,v in counter.items():\n",
    "    per = v / len(target) * 100\n",
    "    print('Class=%s, Count=%d, Percentage=%.2f%%' % (k, v, per))"
   ]
  },
  {
   "cell_type": "markdown",
   "metadata": {
    "papermill": {
     "duration": 0.059328,
     "end_time": "2021-03-16T23:16:33.736652",
     "exception": false,
     "start_time": "2021-03-16T23:16:33.677324",
     "status": "completed"
    },
    "tags": []
   },
   "source": [
    "The dataset is imbalanced. We will have to add a resampling step in our pipeline.  \n",
    "We will use the SMOTETomek technique which combine a synthetic oversampling sequence (SMOTE) followed by an undersampling sequence (TOMEK)  \n",
    "**Step 1 :** Oversampling synthetically the minority class  \n",
    "**Step 2 :** Undersampling by cleaning the noise generated by the SMOTE technique"
   ]
  },
  {
   "cell_type": "markdown",
   "metadata": {
    "papermill": {
     "duration": 0.059406,
     "end_time": "2021-03-16T23:16:33.855981",
     "exception": false,
     "start_time": "2021-03-16T23:16:33.796575",
     "status": "completed"
    },
    "tags": []
   },
   "source": [
    "### C. Feature Engineering <a class=\"anchor\" id=\"section_1_3\"></a>"
   ]
  },
  {
   "cell_type": "code",
   "execution_count": 35,
   "metadata": {
    "_kg_hide-input": true,
    "execution": {
     "iopub.execute_input": "2021-03-16T23:16:33.985751Z",
     "iopub.status.busy": "2021-03-16T23:16:33.984977Z",
     "iopub.status.idle": "2021-03-16T23:16:34.011985Z",
     "shell.execute_reply": "2021-03-16T23:16:34.012524Z"
    },
    "papermill": {
     "duration": 0.096766,
     "end_time": "2021-03-16T23:16:34.012682",
     "exception": false,
     "start_time": "2021-03-16T23:16:33.915916",
     "status": "completed"
    },
    "tags": []
   },
   "outputs": [
    {
     "data": {
      "text/html": [
       "<div>\n",
       "<style scoped>\n",
       "    .dataframe tbody tr th:only-of-type {\n",
       "        vertical-align: middle;\n",
       "    }\n",
       "\n",
       "    .dataframe tbody tr th {\n",
       "        vertical-align: top;\n",
       "    }\n",
       "\n",
       "    .dataframe thead th {\n",
       "        text-align: right;\n",
       "    }\n",
       "</style>\n",
       "<table border=\"1\" class=\"dataframe\">\n",
       "  <thead>\n",
       "    <tr style=\"text-align: right;\">\n",
       "      <th></th>\n",
       "      <th>ID</th>\n",
       "      <th>Year_Birth</th>\n",
       "      <th>Education</th>\n",
       "      <th>Marital_Status</th>\n",
       "      <th>Income</th>\n",
       "      <th>Kidhome</th>\n",
       "      <th>Teenhome</th>\n",
       "      <th>Dt_Customer</th>\n",
       "      <th>Recency</th>\n",
       "      <th>MntWines</th>\n",
       "      <th>...</th>\n",
       "      <th>NumWebVisitsMonth</th>\n",
       "      <th>AcceptedCmp3</th>\n",
       "      <th>AcceptedCmp4</th>\n",
       "      <th>AcceptedCmp5</th>\n",
       "      <th>AcceptedCmp1</th>\n",
       "      <th>AcceptedCmp2</th>\n",
       "      <th>Complain</th>\n",
       "      <th>Z_CostContact</th>\n",
       "      <th>Z_Revenue</th>\n",
       "      <th>Response</th>\n",
       "    </tr>\n",
       "  </thead>\n",
       "  <tbody>\n",
       "    <tr>\n",
       "      <th>0</th>\n",
       "      <td>5524</td>\n",
       "      <td>1957</td>\n",
       "      <td>Graduation</td>\n",
       "      <td>Single</td>\n",
       "      <td>58138.0</td>\n",
       "      <td>0</td>\n",
       "      <td>0</td>\n",
       "      <td>2012-09-04</td>\n",
       "      <td>58</td>\n",
       "      <td>635</td>\n",
       "      <td>...</td>\n",
       "      <td>7</td>\n",
       "      <td>0</td>\n",
       "      <td>0</td>\n",
       "      <td>0</td>\n",
       "      <td>0</td>\n",
       "      <td>0</td>\n",
       "      <td>0</td>\n",
       "      <td>3</td>\n",
       "      <td>11</td>\n",
       "      <td>1</td>\n",
       "    </tr>\n",
       "    <tr>\n",
       "      <th>1</th>\n",
       "      <td>2174</td>\n",
       "      <td>1954</td>\n",
       "      <td>Graduation</td>\n",
       "      <td>Single</td>\n",
       "      <td>46344.0</td>\n",
       "      <td>1</td>\n",
       "      <td>1</td>\n",
       "      <td>2014-03-08</td>\n",
       "      <td>38</td>\n",
       "      <td>11</td>\n",
       "      <td>...</td>\n",
       "      <td>5</td>\n",
       "      <td>0</td>\n",
       "      <td>0</td>\n",
       "      <td>0</td>\n",
       "      <td>0</td>\n",
       "      <td>0</td>\n",
       "      <td>0</td>\n",
       "      <td>3</td>\n",
       "      <td>11</td>\n",
       "      <td>0</td>\n",
       "    </tr>\n",
       "    <tr>\n",
       "      <th>2</th>\n",
       "      <td>4141</td>\n",
       "      <td>1965</td>\n",
       "      <td>Graduation</td>\n",
       "      <td>Together</td>\n",
       "      <td>71613.0</td>\n",
       "      <td>0</td>\n",
       "      <td>0</td>\n",
       "      <td>2013-08-21</td>\n",
       "      <td>26</td>\n",
       "      <td>426</td>\n",
       "      <td>...</td>\n",
       "      <td>4</td>\n",
       "      <td>0</td>\n",
       "      <td>0</td>\n",
       "      <td>0</td>\n",
       "      <td>0</td>\n",
       "      <td>0</td>\n",
       "      <td>0</td>\n",
       "      <td>3</td>\n",
       "      <td>11</td>\n",
       "      <td>0</td>\n",
       "    </tr>\n",
       "    <tr>\n",
       "      <th>3</th>\n",
       "      <td>6182</td>\n",
       "      <td>1984</td>\n",
       "      <td>Graduation</td>\n",
       "      <td>Together</td>\n",
       "      <td>26646.0</td>\n",
       "      <td>1</td>\n",
       "      <td>0</td>\n",
       "      <td>2014-02-10</td>\n",
       "      <td>26</td>\n",
       "      <td>11</td>\n",
       "      <td>...</td>\n",
       "      <td>6</td>\n",
       "      <td>0</td>\n",
       "      <td>0</td>\n",
       "      <td>0</td>\n",
       "      <td>0</td>\n",
       "      <td>0</td>\n",
       "      <td>0</td>\n",
       "      <td>3</td>\n",
       "      <td>11</td>\n",
       "      <td>0</td>\n",
       "    </tr>\n",
       "    <tr>\n",
       "      <th>4</th>\n",
       "      <td>5324</td>\n",
       "      <td>1981</td>\n",
       "      <td>PhD</td>\n",
       "      <td>Married</td>\n",
       "      <td>58293.0</td>\n",
       "      <td>1</td>\n",
       "      <td>0</td>\n",
       "      <td>2014-01-19</td>\n",
       "      <td>94</td>\n",
       "      <td>173</td>\n",
       "      <td>...</td>\n",
       "      <td>5</td>\n",
       "      <td>0</td>\n",
       "      <td>0</td>\n",
       "      <td>0</td>\n",
       "      <td>0</td>\n",
       "      <td>0</td>\n",
       "      <td>0</td>\n",
       "      <td>3</td>\n",
       "      <td>11</td>\n",
       "      <td>0</td>\n",
       "    </tr>\n",
       "    <tr>\n",
       "      <th>5</th>\n",
       "      <td>7446</td>\n",
       "      <td>1967</td>\n",
       "      <td>Master</td>\n",
       "      <td>Together</td>\n",
       "      <td>62513.0</td>\n",
       "      <td>0</td>\n",
       "      <td>1</td>\n",
       "      <td>2013-09-09</td>\n",
       "      <td>16</td>\n",
       "      <td>520</td>\n",
       "      <td>...</td>\n",
       "      <td>6</td>\n",
       "      <td>0</td>\n",
       "      <td>0</td>\n",
       "      <td>0</td>\n",
       "      <td>0</td>\n",
       "      <td>0</td>\n",
       "      <td>0</td>\n",
       "      <td>3</td>\n",
       "      <td>11</td>\n",
       "      <td>0</td>\n",
       "    </tr>\n",
       "    <tr>\n",
       "      <th>6</th>\n",
       "      <td>965</td>\n",
       "      <td>1971</td>\n",
       "      <td>Graduation</td>\n",
       "      <td>Divorced</td>\n",
       "      <td>55635.0</td>\n",
       "      <td>0</td>\n",
       "      <td>1</td>\n",
       "      <td>2012-11-13</td>\n",
       "      <td>34</td>\n",
       "      <td>235</td>\n",
       "      <td>...</td>\n",
       "      <td>6</td>\n",
       "      <td>0</td>\n",
       "      <td>0</td>\n",
       "      <td>0</td>\n",
       "      <td>0</td>\n",
       "      <td>0</td>\n",
       "      <td>0</td>\n",
       "      <td>3</td>\n",
       "      <td>11</td>\n",
       "      <td>0</td>\n",
       "    </tr>\n",
       "    <tr>\n",
       "      <th>7</th>\n",
       "      <td>6177</td>\n",
       "      <td>1985</td>\n",
       "      <td>PhD</td>\n",
       "      <td>Married</td>\n",
       "      <td>33454.0</td>\n",
       "      <td>1</td>\n",
       "      <td>0</td>\n",
       "      <td>2013-05-08</td>\n",
       "      <td>32</td>\n",
       "      <td>76</td>\n",
       "      <td>...</td>\n",
       "      <td>8</td>\n",
       "      <td>0</td>\n",
       "      <td>0</td>\n",
       "      <td>0</td>\n",
       "      <td>0</td>\n",
       "      <td>0</td>\n",
       "      <td>0</td>\n",
       "      <td>3</td>\n",
       "      <td>11</td>\n",
       "      <td>0</td>\n",
       "    </tr>\n",
       "    <tr>\n",
       "      <th>8</th>\n",
       "      <td>4855</td>\n",
       "      <td>1974</td>\n",
       "      <td>PhD</td>\n",
       "      <td>Together</td>\n",
       "      <td>30351.0</td>\n",
       "      <td>1</td>\n",
       "      <td>0</td>\n",
       "      <td>2013-06-06</td>\n",
       "      <td>19</td>\n",
       "      <td>14</td>\n",
       "      <td>...</td>\n",
       "      <td>9</td>\n",
       "      <td>0</td>\n",
       "      <td>0</td>\n",
       "      <td>0</td>\n",
       "      <td>0</td>\n",
       "      <td>0</td>\n",
       "      <td>0</td>\n",
       "      <td>3</td>\n",
       "      <td>11</td>\n",
       "      <td>1</td>\n",
       "    </tr>\n",
       "    <tr>\n",
       "      <th>9</th>\n",
       "      <td>5899</td>\n",
       "      <td>1950</td>\n",
       "      <td>PhD</td>\n",
       "      <td>Together</td>\n",
       "      <td>5648.0</td>\n",
       "      <td>1</td>\n",
       "      <td>1</td>\n",
       "      <td>2014-03-13</td>\n",
       "      <td>68</td>\n",
       "      <td>28</td>\n",
       "      <td>...</td>\n",
       "      <td>20</td>\n",
       "      <td>1</td>\n",
       "      <td>0</td>\n",
       "      <td>0</td>\n",
       "      <td>0</td>\n",
       "      <td>0</td>\n",
       "      <td>0</td>\n",
       "      <td>3</td>\n",
       "      <td>11</td>\n",
       "      <td>0</td>\n",
       "    </tr>\n",
       "  </tbody>\n",
       "</table>\n",
       "<p>10 rows × 29 columns</p>\n",
       "</div>"
      ],
      "text/plain": [
       "     ID  Year_Birth   Education Marital_Status   Income  Kidhome  Teenhome  \\\n",
       "0  5524        1957  Graduation         Single  58138.0        0         0   \n",
       "1  2174        1954  Graduation         Single  46344.0        1         1   \n",
       "2  4141        1965  Graduation       Together  71613.0        0         0   \n",
       "3  6182        1984  Graduation       Together  26646.0        1         0   \n",
       "4  5324        1981         PhD        Married  58293.0        1         0   \n",
       "5  7446        1967      Master       Together  62513.0        0         1   \n",
       "6   965        1971  Graduation       Divorced  55635.0        0         1   \n",
       "7  6177        1985         PhD        Married  33454.0        1         0   \n",
       "8  4855        1974         PhD       Together  30351.0        1         0   \n",
       "9  5899        1950         PhD       Together   5648.0        1         1   \n",
       "\n",
       "  Dt_Customer  Recency  MntWines  ...  NumWebVisitsMonth  AcceptedCmp3  \\\n",
       "0  2012-09-04       58       635  ...                  7             0   \n",
       "1  2014-03-08       38        11  ...                  5             0   \n",
       "2  2013-08-21       26       426  ...                  4             0   \n",
       "3  2014-02-10       26        11  ...                  6             0   \n",
       "4  2014-01-19       94       173  ...                  5             0   \n",
       "5  2013-09-09       16       520  ...                  6             0   \n",
       "6  2012-11-13       34       235  ...                  6             0   \n",
       "7  2013-05-08       32        76  ...                  8             0   \n",
       "8  2013-06-06       19        14  ...                  9             0   \n",
       "9  2014-03-13       68        28  ...                 20             1   \n",
       "\n",
       "   AcceptedCmp4  AcceptedCmp5  AcceptedCmp1  AcceptedCmp2  Complain  \\\n",
       "0             0             0             0             0         0   \n",
       "1             0             0             0             0         0   \n",
       "2             0             0             0             0         0   \n",
       "3             0             0             0             0         0   \n",
       "4             0             0             0             0         0   \n",
       "5             0             0             0             0         0   \n",
       "6             0             0             0             0         0   \n",
       "7             0             0             0             0         0   \n",
       "8             0             0             0             0         0   \n",
       "9             0             0             0             0         0   \n",
       "\n",
       "   Z_CostContact  Z_Revenue  Response  \n",
       "0              3         11         1  \n",
       "1              3         11         0  \n",
       "2              3         11         0  \n",
       "3              3         11         0  \n",
       "4              3         11         0  \n",
       "5              3         11         0  \n",
       "6              3         11         0  \n",
       "7              3         11         0  \n",
       "8              3         11         1  \n",
       "9              3         11         0  \n",
       "\n",
       "[10 rows x 29 columns]"
      ]
     },
     "execution_count": 35,
     "metadata": {},
     "output_type": "execute_result"
    }
   ],
   "source": [
    "dataset.head(10)"
   ]
  },
  {
   "cell_type": "markdown",
   "metadata": {
    "papermill": {
     "duration": 0.060424,
     "end_time": "2021-03-16T23:16:34.132185",
     "exception": false,
     "start_time": "2021-03-16T23:16:34.071761",
     "status": "completed"
    },
    "tags": []
   },
   "source": [
    "Having a first look at the row data enables us to start thinking at some useful variables we could create in order to better understand our dataset and reveal precious information.  \n",
    "\n",
    "We will create several variables :\n",
    "\n",
    ">- Variable __*Seniority*__ as the number of months the customer is enrolled with the company\n",
    ">- Variable __*Educationnal years*__ as the total number of years of education the individual achieved according to its diploma\n",
    ">- Variable __*Accepted offers*__ as the total number of offers accepted during the 5 past marketing campaigns\n",
    ">- Variable __*Segment*__ created from the <a href=\"https://www.kaggle.com/raphael2711/rfm-segmentation-and-clv-modeling\">RFM segmentation </a>  \n",
    "\n",
    "As seen in the <a href=\"https://www.kaggle.com/raphael2711/data-prep-visual-eda-and-statistical-hypothesis\">previous notebooks</a>, we will remove the outlier in *Income* variable along with removing unused variables"
   ]
  },
  {
   "cell_type": "code",
   "execution_count": 36,
   "metadata": {
    "_kg_hide-input": true,
    "execution": {
     "iopub.execute_input": "2021-03-16T23:16:34.255772Z",
     "iopub.status.busy": "2021-03-16T23:16:34.255080Z",
     "iopub.status.idle": "2021-03-16T23:16:34.310297Z",
     "shell.execute_reply": "2021-03-16T23:16:34.310878Z"
    },
    "papermill": {
     "duration": 0.118106,
     "end_time": "2021-03-16T23:16:34.311076",
     "exception": false,
     "start_time": "2021-03-16T23:16:34.192970",
     "status": "completed"
    },
    "tags": []
   },
   "outputs": [],
   "source": [
    "#features creation\n",
    "last_date = date(2014,10, 4)\n",
    "dataset['Seniority']=pd.to_datetime(dataset['Dt_Customer'], dayfirst=True,format = '%Y-%m-%d')\n",
    "dataset['Seniority'] = pd.to_numeric(dataset['Seniority'].dt.date.apply(lambda x: (last_date - x)).dt.days, downcast='integer')/30\n",
    "dataset['Accepted_offers']=dataset['AcceptedCmp1']+dataset['AcceptedCmp2']+dataset['AcceptedCmp3']+dataset['AcceptedCmp4']+dataset['AcceptedCmp5']\n",
    "dataset['Educationnal_years']=dataset['Education'].replace({'Basic':5,'2n Cycle':8,'Graduation':12,'Master':18,'PhD':21})\n",
    "dataset = dataset[dataset['NumWebPurchases']+dataset['NumCatalogPurchases']+dataset['NumStorePurchases'] > 0]\n",
    "dataset=dataset.drop(columns=['AcceptedCmp1','AcceptedCmp2','AcceptedCmp3','AcceptedCmp4','AcceptedCmp5','Education','Dt_Customer','Z_CostContact','Z_Revenue'])\n",
    "#1.Outliers removal\n",
    "dataset = dataset.drop(dataset[dataset['Income']> 600000].index).reset_index(drop=True)"
   ]
  },
  {
   "cell_type": "markdown",
   "metadata": {
    "papermill": {
     "duration": 0.059716,
     "end_time": "2021-03-16T23:16:34.430873",
     "exception": false,
     "start_time": "2021-03-16T23:16:34.371157",
     "status": "completed"
    },
    "tags": []
   },
   "source": [
    "### RFM calculation"
   ]
  },
  {
   "cell_type": "code",
   "execution_count": 37,
   "metadata": {
    "_kg_hide-input": true,
    "execution": {
     "iopub.execute_input": "2021-03-16T23:16:34.574627Z",
     "iopub.status.busy": "2021-03-16T23:16:34.573825Z",
     "iopub.status.idle": "2021-03-16T23:16:35.734431Z",
     "shell.execute_reply": "2021-03-16T23:16:35.734892Z"
    },
    "papermill": {
     "duration": 1.244503,
     "end_time": "2021-03-16T23:16:35.735073",
     "exception": false,
     "start_time": "2021-03-16T23:16:34.490570",
     "status": "completed"
    },
    "tags": []
   },
   "outputs": [
    {
     "ename": "NameError",
     "evalue": "name 'KMedoids' is not defined",
     "output_type": "error",
     "traceback": [
      "\u001b[0;31m---------------------------------------------------------------------------\u001b[0m",
      "\u001b[0;31mNameError\u001b[0m                                 Traceback (most recent call last)",
      "Cell \u001b[0;32mIn[37], line 15\u001b[0m\n\u001b[1;32m     12\u001b[0m RFM\u001b[38;5;241m.\u001b[39mcolumns \u001b[38;5;241m=\u001b[39m [\u001b[38;5;124m'\u001b[39m\u001b[38;5;124mID\u001b[39m\u001b[38;5;124m'\u001b[39m,\u001b[38;5;124m'\u001b[39m\u001b[38;5;124mRecency\u001b[39m\u001b[38;5;124m'\u001b[39m,\u001b[38;5;124m'\u001b[39m\u001b[38;5;124mFrequency\u001b[39m\u001b[38;5;124m'\u001b[39m,\u001b[38;5;124m'\u001b[39m\u001b[38;5;124mMonetary\u001b[39m\u001b[38;5;124m'\u001b[39m]\n\u001b[1;32m     14\u001b[0m \u001b[38;5;66;03m#2.Clusters creation\u001b[39;00m\n\u001b[0;32m---> 15\u001b[0m kmedoids_recency \u001b[38;5;241m=\u001b[39m \u001b[43mKMedoids\u001b[49m(n_clusters\u001b[38;5;241m=\u001b[39m\u001b[38;5;241m5\u001b[39m, random_state\u001b[38;5;241m=\u001b[39m\u001b[38;5;241m0\u001b[39m, max_iter\u001b[38;5;241m=\u001b[39m\u001b[38;5;241m1000\u001b[39m,init\u001b[38;5;241m=\u001b[39m\u001b[38;5;124m'\u001b[39m\u001b[38;5;124mk-medoids++\u001b[39m\u001b[38;5;124m'\u001b[39m,metric\u001b[38;5;241m=\u001b[39m\u001b[38;5;124m'\u001b[39m\u001b[38;5;124meuclidean\u001b[39m\u001b[38;5;124m'\u001b[39m)\u001b[38;5;241m.\u001b[39mfit(RFM[[\u001b[38;5;124m'\u001b[39m\u001b[38;5;124mRecency\u001b[39m\u001b[38;5;124m'\u001b[39m]])\n\u001b[1;32m     16\u001b[0m RFM[\u001b[38;5;124m'\u001b[39m\u001b[38;5;124mRecencyCluster\u001b[39m\u001b[38;5;124m'\u001b[39m] \u001b[38;5;241m=\u001b[39m kmedoids_recency\u001b[38;5;241m.\u001b[39mpredict(RFM[[\u001b[38;5;124m'\u001b[39m\u001b[38;5;124mRecency\u001b[39m\u001b[38;5;124m'\u001b[39m]])\n\u001b[1;32m     17\u001b[0m kmedoids_frequency \u001b[38;5;241m=\u001b[39m KMedoids(n_clusters\u001b[38;5;241m=\u001b[39m\u001b[38;5;241m5\u001b[39m, random_state\u001b[38;5;241m=\u001b[39m\u001b[38;5;241m0\u001b[39m, max_iter\u001b[38;5;241m=\u001b[39m\u001b[38;5;241m1000\u001b[39m,init\u001b[38;5;241m=\u001b[39m\u001b[38;5;124m'\u001b[39m\u001b[38;5;124mk-medoids++\u001b[39m\u001b[38;5;124m'\u001b[39m,metric\u001b[38;5;241m=\u001b[39m\u001b[38;5;124m'\u001b[39m\u001b[38;5;124meuclidean\u001b[39m\u001b[38;5;124m'\u001b[39m)\u001b[38;5;241m.\u001b[39mfit(RFM[[\u001b[38;5;124m'\u001b[39m\u001b[38;5;124mFrequency\u001b[39m\u001b[38;5;124m'\u001b[39m]])\n",
      "\u001b[0;31mNameError\u001b[0m: name 'KMedoids' is not defined"
     ]
    }
   ],
   "source": [
    "#1.Dataframe creation\n",
    "recency_df = dataset[['ID','Recency']]\n",
    "frequency_df = dataset[['ID','NumWebPurchases','NumCatalogPurchases','NumStorePurchases']]\n",
    "frequency_df['Transactions']=frequency_df['NumWebPurchases']+frequency_df['NumCatalogPurchases']+frequency_df['NumStorePurchases']\n",
    "frequency_df=frequency_df.drop(columns=['NumWebPurchases','NumCatalogPurchases','NumStorePurchases'])\n",
    "\n",
    "temp_df = recency_df.merge(frequency_df,on='ID')\n",
    "monetary_df = dataset[['ID','MntWines','MntFruits','MntMeatProducts','MntFishProducts','MntSweetProducts','MntGoldProds']]\n",
    "monetary_df['Spending']=monetary_df['MntWines']+dataset['MntFruits']+dataset['MntMeatProducts']+dataset['MntFishProducts']+dataset['MntSweetProducts']+dataset['MntGoldProds']\n",
    "monetary_df=monetary_df.drop(columns=['MntWines','MntFruits','MntMeatProducts','MntFishProducts','MntSweetProducts','MntGoldProds'])\n",
    "RFM=recency_df.merge(frequency_df,on='ID').merge(monetary_df,on='ID')\n",
    "RFM.columns = ['ID','Recency','Frequency','Monetary']\n",
    "\n",
    "#2.Clusters creation\n",
    "kmedoids_recency = KMedoids(n_clusters=5, random_state=0, max_iter=1000,init='k-medoids++',metric='euclidean').fit(RFM[['Recency']])\n",
    "RFM['RecencyCluster'] = kmedoids_recency.predict(RFM[['Recency']])\n",
    "kmedoids_frequency = KMedoids(n_clusters=5, random_state=0, max_iter=1000,init='k-medoids++',metric='euclidean').fit(RFM[['Frequency']])\n",
    "RFM['FrequencyCluster'] = kmedoids_frequency.predict(RFM[['Frequency']])\n",
    "kmedoids_monetary = KMedoids(n_clusters=5, random_state=0, max_iter=1000,init='k-medoids++',metric='euclidean').fit(RFM[['Monetary']])\n",
    "RFM['MonetaryCluster'] = kmedoids_monetary.predict(RFM[['Monetary']])\n",
    "\n",
    "3.#Clusters ordering\n",
    "#function for ordering cluster numbers\n",
    "def order_cluster(cluster_field_name, target_field_name,df,ascending):\n",
    "    new_cluster_field_name = 'new_' + cluster_field_name\n",
    "    df_new = df.groupby(cluster_field_name)[target_field_name].mean().reset_index()\n",
    "    df_new = df_new.sort_values(by=target_field_name,ascending=ascending).reset_index(drop=True)\n",
    "    df_new['index'] = df_new.index\n",
    "    df_final = pd.merge(df,df_new[[cluster_field_name,'index']], on=cluster_field_name)\n",
    "    df_final = df_final.drop([cluster_field_name],axis=1)\n",
    "    df_final = df_final.rename(columns={\"index\":cluster_field_name})\n",
    "    return df_final\n",
    "\n",
    "RFM = order_cluster('RecencyCluster', 'Recency',RFM,False)\n",
    "RFM = order_cluster('FrequencyCluster', 'Frequency',RFM,True)\n",
    "RFM = order_cluster('MonetaryCluster', 'Monetary',RFM,True)\n",
    "\n",
    "\n",
    "#4.Segments creation\n",
    "segt_map = {\n",
    "    r'30': 'Promising',\n",
    "    r'23': 'Loyal customers',\n",
    "    r'24': 'Loyal customers',\n",
    "    r'33': 'Loyal customers',\n",
    "    r'34': 'Loyal customers',\n",
    "    r'43': 'Loyal customers',\n",
    "    r'32': 'Potential loyalist',\n",
    "    r'31': 'Potential loyalist',\n",
    "    r'42': 'Potential loyalist',\n",
    "    r'41': 'Potential loyalist',\n",
    "    r'21': 'Need attention',\n",
    "    r'22': 'Need attention',\n",
    "    r'12': 'Need attention',\n",
    "    r'11': 'Need attention',\n",
    "    r'40': 'New customers',\n",
    "    r'20': 'About to sleep',\n",
    "    r'14': 'Cant loose them',\n",
    "    r'04': 'Cant loose them',\n",
    "    r'10': 'Lost',\n",
    "    r'00': 'Lost',\n",
    "    r'01': 'Lost',\n",
    "    r'02': 'At risk',\n",
    "    r'03': 'At risk',\n",
    "    r'13': 'At risk',\n",
    "    r'44': 'Champions',\n",
    "}\n",
    "#We create the segment and merge with our main dataset\n",
    "RFM['Segment'] = RFM['RecencyCluster'].map(str) + RFM['FrequencyCluster'].map(str)\n",
    "RFM['Segment'] = RFM['Segment'].replace(segt_map, regex=True)\n",
    "dataset=dataset.merge(RFM[['ID','Segment']],on='ID')"
   ]
  },
  {
   "cell_type": "code",
   "execution_count": 81,
   "metadata": {
    "_kg_hide-input": true,
    "execution": {
     "iopub.execute_input": "2021-03-16T23:16:35.859091Z",
     "iopub.status.busy": "2021-03-16T23:16:35.858473Z",
     "iopub.status.idle": "2021-03-16T23:16:36.075134Z",
     "shell.execute_reply": "2021-03-16T23:16:36.074564Z"
    },
    "papermill": {
     "duration": 0.280213,
     "end_time": "2021-03-16T23:16:36.075298",
     "exception": false,
     "start_time": "2021-03-16T23:16:35.795085",
     "status": "completed"
    },
    "tags": []
   },
   "outputs": [
    {
     "data": {
      "image/png": "[encoded data removed]",
      "text/plain": [
       "<Figure size 640x480 with 1 Axes>"
      ]
     },
     "metadata": {},
     "output_type": "display_data"
    }
   ],
   "source": [
    "# count the number of customers in each segment\n",
    "segments_counts = dataset['Segment'].value_counts().sort_values(ascending=True)\n",
    "\n",
    "fig, ax = plt.subplots()\n",
    "\n",
    "bars = ax.barh(range(len(segments_counts)),\n",
    "              segments_counts,\n",
    "              color='silver')\n",
    "ax.set_frame_on(False)\n",
    "ax.tick_params(left=False,\n",
    "               bottom=False,\n",
    "               labelbottom=False)\n",
    "ax.set_yticks(range(len(segments_counts)))\n",
    "ax.set_yticklabels(segments_counts.index)\n",
    "\n",
    "for i, bar in enumerate(bars):\n",
    "        value = bar.get_width()\n",
    "        if segments_counts.index[i] in ['Champions', 'Loyal customers']:\n",
    "            bar.set_color('firebrick')\n",
    "        ax.text(value,\n",
    "                bar.get_y() + bar.get_height()/2,\n",
    "                '{:,} ({:}%)'.format(int(value),\n",
    "                                   int(value*100/segments_counts.sum())),\n",
    "                va='center',\n",
    "                ha='left'\n",
    "               )\n",
    "plt.show()"
   ]
  },
  {
   "cell_type": "markdown",
   "metadata": {
    "papermill": {
     "duration": 0.060888,
     "end_time": "2021-03-16T23:16:36.196782",
     "exception": false,
     "start_time": "2021-03-16T23:16:36.135894",
     "status": "completed"
    },
    "tags": []
   },
   "source": [
    "### D. Skew of univariate distribution <a class=\"anchor\" id=\"section_1_4\"></a>"
   ]
  },
  {
   "cell_type": "code",
   "execution_count": 82,
   "metadata": {
    "_kg_hide-input": true,
    "execution": {
     "iopub.execute_input": "2021-03-16T23:16:36.327499Z",
     "iopub.status.busy": "2021-03-16T23:16:36.326837Z",
     "iopub.status.idle": "2021-03-16T23:16:36.413766Z",
     "shell.execute_reply": "2021-03-16T23:16:36.414298Z"
    },
    "papermill": {
     "duration": 0.156029,
     "end_time": "2021-03-16T23:16:36.414498",
     "exception": false,
     "start_time": "2021-03-16T23:16:36.258469",
     "status": "completed"
    },
    "tags": []
   },
   "outputs": [
    {
     "name": "stdout",
     "output_type": "stream",
     "text": [
      "We have 22 skewed numerical features\n"
     ]
    },
    {
     "data": {
      "text/html": [
       "<style type=\"text/css\">\n",
       "#T_3c6f6_row0_col0 {\n",
       "  background-color: #67000d;\n",
       "  color: #f1f1f1;\n",
       "}\n",
       "#T_3c6f6_row1_col0 {\n",
       "  background-color: #fcae92;\n",
       "  color: #000000;\n",
       "}\n",
       "#T_3c6f6_row2_col0 {\n",
       "  background-color: #fcbba1;\n",
       "  color: #000000;\n",
       "}\n",
       "#T_3c6f6_row3_col0 {\n",
       "  background-color: #fcbfa7;\n",
       "  color: #000000;\n",
       "}\n",
       "#T_3c6f6_row4_col0, #T_3c6f6_row5_col0 {\n",
       "  background-color: #fcc1a8;\n",
       "  color: #000000;\n",
       "}\n",
       "#T_3c6f6_row6_col0 {\n",
       "  background-color: #fcc4ad;\n",
       "  color: #000000;\n",
       "}\n",
       "#T_3c6f6_row7_col0 {\n",
       "  background-color: #fdc5ae;\n",
       "  color: #000000;\n",
       "}\n",
       "#T_3c6f6_row8_col0, #T_3c6f6_row9_col0 {\n",
       "  background-color: #fdc6b0;\n",
       "  color: #000000;\n",
       "}\n",
       "#T_3c6f6_row10_col0 {\n",
       "  background-color: #fdd4c2;\n",
       "  color: #000000;\n",
       "}\n",
       "#T_3c6f6_row11_col0 {\n",
       "  background-color: #fedaca;\n",
       "  color: #000000;\n",
       "}\n",
       "#T_3c6f6_row12_col0 {\n",
       "  background-color: #fee5d8;\n",
       "  color: #000000;\n",
       "}\n",
       "#T_3c6f6_row13_col0 {\n",
       "  background-color: #fee6da;\n",
       "  color: #000000;\n",
       "}\n",
       "#T_3c6f6_row14_col0 {\n",
       "  background-color: #fee9df;\n",
       "  color: #000000;\n",
       "}\n",
       "#T_3c6f6_row15_col0 {\n",
       "  background-color: #ffebe2;\n",
       "  color: #000000;\n",
       "}\n",
       "#T_3c6f6_row16_col0 {\n",
       "  background-color: #ffece4;\n",
       "  color: #000000;\n",
       "}\n",
       "#T_3c6f6_row17_col0 {\n",
       "  background-color: #ffefe8;\n",
       "  color: #000000;\n",
       "}\n",
       "#T_3c6f6_row18_col0, #T_3c6f6_row19_col0, #T_3c6f6_row20_col0 {\n",
       "  background-color: #fff0e8;\n",
       "  color: #000000;\n",
       "}\n",
       "#T_3c6f6_row21_col0 {\n",
       "  background-color: #fff5f0;\n",
       "  color: #000000;\n",
       "}\n",
       "</style>\n",
       "<table id=\"T_3c6f6\">\n",
       "  <thead>\n",
       "    <tr>\n",
       "      <th class=\"blank level0\" >&nbsp;</th>\n",
       "      <th id=\"T_3c6f6_level0_col0\" class=\"col_heading level0 col0\" >Skew</th>\n",
       "    </tr>\n",
       "  </thead>\n",
       "  <tbody>\n",
       "    <tr>\n",
       "      <th id=\"T_3c6f6_level0_row0\" class=\"row_heading level0 row0\" >Complain</th>\n",
       "      <td id=\"T_3c6f6_row0_col0\" class=\"data row0 col0\" >10.172602</td>\n",
       "    </tr>\n",
       "    <tr>\n",
       "      <th id=\"T_3c6f6_level0_row1\" class=\"row_heading level0 row1\" >Accepted_offers</th>\n",
       "      <td id=\"T_3c6f6_row1_col0\" class=\"data row1 col0\" >2.716985</td>\n",
       "    </tr>\n",
       "    <tr>\n",
       "      <th id=\"T_3c6f6_level0_row2\" class=\"row_heading level0 row2\" >NumDealsPurchases</th>\n",
       "      <td id=\"T_3c6f6_row2_col0\" class=\"data row2 col0\" >2.319934</td>\n",
       "    </tr>\n",
       "    <tr>\n",
       "      <th id=\"T_3c6f6_level0_row3\" class=\"row_heading level0 row3\" >MntSweetProducts</th>\n",
       "      <td id=\"T_3c6f6_row3_col0\" class=\"data row3 col0\" >2.131652</td>\n",
       "    </tr>\n",
       "    <tr>\n",
       "      <th id=\"T_3c6f6_level0_row4\" class=\"row_heading level0 row4\" >MntFruits</th>\n",
       "      <td id=\"T_3c6f6_row4_col0\" class=\"data row4 col0\" >2.097533</td>\n",
       "    </tr>\n",
       "    <tr>\n",
       "      <th id=\"T_3c6f6_level0_row5\" class=\"row_heading level0 row5\" >MntMeatProducts</th>\n",
       "      <td id=\"T_3c6f6_row5_col0\" class=\"data row5 col0\" >2.079495</td>\n",
       "    </tr>\n",
       "    <tr>\n",
       "      <th id=\"T_3c6f6_level0_row6\" class=\"row_heading level0 row6\" >Response</th>\n",
       "      <td id=\"T_3c6f6_row6_col0\" class=\"data row6 col0\" >1.966394</td>\n",
       "    </tr>\n",
       "    <tr>\n",
       "      <th id=\"T_3c6f6_level0_row7\" class=\"row_heading level0 row7\" >MntFishProducts</th>\n",
       "      <td id=\"T_3c6f6_row7_col0\" class=\"data row7 col0\" >1.915384</td>\n",
       "    </tr>\n",
       "    <tr>\n",
       "      <th id=\"T_3c6f6_level0_row8\" class=\"row_heading level0 row8\" >MntGoldProds</th>\n",
       "      <td id=\"T_3c6f6_row8_col0\" class=\"data row8 col0\" >1.882951</td>\n",
       "    </tr>\n",
       "    <tr>\n",
       "      <th id=\"T_3c6f6_level0_row9\" class=\"row_heading level0 row9\" >NumCatalogPurchases</th>\n",
       "      <td id=\"T_3c6f6_row9_col0\" class=\"data row9 col0\" >1.878763</td>\n",
       "    </tr>\n",
       "    <tr>\n",
       "      <th id=\"T_3c6f6_level0_row10\" class=\"row_heading level0 row10\" >NumWebPurchases</th>\n",
       "      <td id=\"T_3c6f6_row10_col0\" class=\"data row10 col0\" >1.389101</td>\n",
       "    </tr>\n",
       "    <tr>\n",
       "      <th id=\"T_3c6f6_level0_row11\" class=\"row_heading level0 row11\" >MntWines</th>\n",
       "      <td id=\"T_3c6f6_row11_col0\" class=\"data row11 col0\" >1.172188</td>\n",
       "    </tr>\n",
       "    <tr>\n",
       "      <th id=\"T_3c6f6_level0_row12\" class=\"row_heading level0 row12\" >NumStorePurchases</th>\n",
       "      <td id=\"T_3c6f6_row12_col0\" class=\"data row12 col0\" >0.710610</td>\n",
       "    </tr>\n",
       "    <tr>\n",
       "      <th id=\"T_3c6f6_level0_row13\" class=\"row_heading level0 row13\" >Kidhome</th>\n",
       "      <td id=\"T_3c6f6_row13_col0\" class=\"data row13 col0\" >0.636075</td>\n",
       "    </tr>\n",
       "    <tr>\n",
       "      <th id=\"T_3c6f6_level0_row14\" class=\"row_heading level0 row14\" >Teenhome</th>\n",
       "      <td id=\"T_3c6f6_row14_col0\" class=\"data row14 col0\" >0.403670</td>\n",
       "    </tr>\n",
       "    <tr>\n",
       "      <th id=\"T_3c6f6_level0_row15\" class=\"row_heading level0 row15\" >Income</th>\n",
       "      <td id=\"T_3c6f6_row15_col0\" class=\"data row15 col0\" >0.280544</td>\n",
       "    </tr>\n",
       "    <tr>\n",
       "      <th id=\"T_3c6f6_level0_row16\" class=\"row_heading level0 row16\" >Educationnal_years</th>\n",
       "      <td id=\"T_3c6f6_row16_col0\" class=\"data row16 col0\" >0.201206</td>\n",
       "    </tr>\n",
       "    <tr>\n",
       "      <th id=\"T_3c6f6_level0_row17\" class=\"row_heading level0 row17\" >ID</th>\n",
       "      <td id=\"T_3c6f6_row17_col0\" class=\"data row17 col0\" >0.041567</td>\n",
       "    </tr>\n",
       "    <tr>\n",
       "      <th id=\"T_3c6f6_level0_row18\" class=\"row_heading level0 row18\" >NumWebVisitsMonth</th>\n",
       "      <td id=\"T_3c6f6_row18_col0\" class=\"data row18 col0\" >0.017233</td>\n",
       "    </tr>\n",
       "    <tr>\n",
       "      <th id=\"T_3c6f6_level0_row19\" class=\"row_heading level0 row19\" >Recency</th>\n",
       "      <td id=\"T_3c6f6_row19_col0\" class=\"data row19 col0\" >-0.001881</td>\n",
       "    </tr>\n",
       "    <tr>\n",
       "      <th id=\"T_3c6f6_level0_row20\" class=\"row_heading level0 row20\" >Seniority</th>\n",
       "      <td id=\"T_3c6f6_row20_col0\" class=\"data row20 col0\" >-0.016204</td>\n",
       "    </tr>\n",
       "    <tr>\n",
       "      <th id=\"T_3c6f6_level0_row21\" class=\"row_heading level0 row21\" >Year_Birth</th>\n",
       "      <td id=\"T_3c6f6_row21_col0\" class=\"data row21 col0\" >-0.349436</td>\n",
       "    </tr>\n",
       "  </tbody>\n",
       "</table>\n"
      ],
      "text/plain": [
       "<pandas.io.formats.style.Styler at 0x7f3e10061c40>"
      ]
     },
     "metadata": {},
     "output_type": "display_data"
    }
   ],
   "source": [
    "num_feats=dataset.dtypes[dataset.dtypes!='object'].index\n",
    "skew_feats=dataset[num_feats].skew().sort_values(ascending=False)\n",
    "skewness=pd.DataFrame({'Skew':skew_feats})\n",
    "print('We have {} skewed numerical features'.format(skewness[abs(skewness) > 0.75].shape[0]))\n",
    "display(skewness.style.background_gradient(cmap = 'Reds', axis = 0))"
   ]
  },
  {
   "cell_type": "markdown",
   "metadata": {
    "papermill": {
     "duration": 0.062261,
     "end_time": "2021-03-16T23:16:36.538586",
     "exception": false,
     "start_time": "2021-03-16T23:16:36.476325",
     "status": "completed"
    },
    "tags": []
   },
   "source": [
    "We will add a power transform step in our pipeline. Depending on the selected model, making data more Gaussian-like could improve the obtained performance"
   ]
  },
  {
   "cell_type": "markdown",
   "metadata": {
    "papermill": {
     "duration": 0.0608,
     "end_time": "2021-03-16T23:16:36.660900",
     "exception": false,
     "start_time": "2021-03-16T23:16:36.600100",
     "status": "completed"
    },
    "tags": []
   },
   "source": [
    "### E. Feature Selection <a class=\"anchor\" id=\"section_1_5\"></a>"
   ]
  },
  {
   "cell_type": "markdown",
   "metadata": {
    "papermill": {
     "duration": 0.061685,
     "end_time": "2021-03-16T23:16:36.784362",
     "exception": false,
     "start_time": "2021-03-16T23:16:36.722677",
     "status": "completed"
    },
    "tags": []
   },
   "source": [
    "Feature selction enables us to :\n",
    ">- Remove redundant data leading to reducing overfitting\n",
    ">- Remove irrelevant data leading to improving accuracy\n",
    ">- Reduce number of features leading to faster training time\n",
    "\n",
    "Variance analysis, correlation analysis and multicollinearity analysis will be done.   \n",
    "Univariate feature selection will be done with ANOVA F-value calculation and will be integrated in the gridsearching process"
   ]
  },
  {
   "cell_type": "markdown",
   "metadata": {
    "papermill": {
     "duration": 0.061263,
     "end_time": "2021-03-16T23:16:36.907068",
     "exception": false,
     "start_time": "2021-03-16T23:16:36.845805",
     "status": "completed"
    },
    "tags": []
   },
   "source": [
    "### Feature variance analysis"
   ]
  },
  {
   "cell_type": "markdown",
   "metadata": {
    "papermill": {
     "duration": 0.062179,
     "end_time": "2021-03-16T23:16:37.030665",
     "exception": false,
     "start_time": "2021-03-16T23:16:36.968486",
     "status": "completed"
    },
    "tags": []
   },
   "source": [
    "Features with low variances are believed to contain very few information as they are approximatively constant and will probably not improve the performance of the model"
   ]
  },
  {
   "cell_type": "code",
   "execution_count": 83,
   "metadata": {
    "_kg_hide-input": true,
    "execution": {
     "iopub.execute_input": "2021-03-16T23:16:37.171548Z",
     "iopub.status.busy": "2021-03-16T23:16:37.170857Z",
     "iopub.status.idle": "2021-03-16T23:16:37.205877Z",
     "shell.execute_reply": "2021-03-16T23:16:37.206408Z"
    },
    "papermill": {
     "duration": 0.11267,
     "end_time": "2021-03-16T23:16:37.206597",
     "exception": false,
     "start_time": "2021-03-16T23:16:37.093927",
     "status": "completed"
    },
    "tags": []
   },
   "outputs": [
    {
     "data": {
      "text/html": [
       "<style type=\"text/css\">\n",
       "#T_989e0_row0_col1 {\n",
       "  background-color: #67000d;\n",
       "  color: #f1f1f1;\n",
       "}\n",
       "#T_989e0_row1_col1 {\n",
       "  background-color: #bc141a;\n",
       "  color: #f1f1f1;\n",
       "}\n",
       "#T_989e0_row2_col1 {\n",
       "  background-color: #f34a36;\n",
       "  color: #f1f1f1;\n",
       "}\n",
       "#T_989e0_row3_col1 {\n",
       "  background-color: #f96245;\n",
       "  color: #f1f1f1;\n",
       "}\n",
       "#T_989e0_row4_col1 {\n",
       "  background-color: #fa6849;\n",
       "  color: #f1f1f1;\n",
       "}\n",
       "#T_989e0_row5_col1 {\n",
       "  background-color: #fb7d5d;\n",
       "  color: #f1f1f1;\n",
       "}\n",
       "#T_989e0_row6_col1 {\n",
       "  background-color: #fcb79c;\n",
       "  color: #000000;\n",
       "}\n",
       "#T_989e0_row7_col1 {\n",
       "  background-color: #fcc4ad;\n",
       "  color: #000000;\n",
       "}\n",
       "#T_989e0_row8_col1 {\n",
       "  background-color: #fdcdb9;\n",
       "  color: #000000;\n",
       "}\n",
       "#T_989e0_row9_col1 {\n",
       "  background-color: #fdd0bc;\n",
       "  color: #000000;\n",
       "}\n",
       "#T_989e0_row10_col1 {\n",
       "  background-color: #fdd1be;\n",
       "  color: #000000;\n",
       "}\n",
       "#T_989e0_row11_col1 {\n",
       "  background-color: #fdd2bf;\n",
       "  color: #000000;\n",
       "}\n",
       "#T_989e0_row12_col1 {\n",
       "  background-color: #fdd3c1;\n",
       "  color: #000000;\n",
       "}\n",
       "#T_989e0_row13_col1 {\n",
       "  background-color: #ffeee7;\n",
       "  color: #000000;\n",
       "}\n",
       "#T_989e0_row14_col1 {\n",
       "  background-color: #fff0e9;\n",
       "  color: #000000;\n",
       "}\n",
       "#T_989e0_row15_col1 {\n",
       "  background-color: #fff1ea;\n",
       "  color: #000000;\n",
       "}\n",
       "#T_989e0_row16_col1, #T_989e0_row17_col1 {\n",
       "  background-color: #fff2ec;\n",
       "  color: #000000;\n",
       "}\n",
       "#T_989e0_row18_col1, #T_989e0_row19_col1 {\n",
       "  background-color: #fff4ef;\n",
       "  color: #000000;\n",
       "}\n",
       "#T_989e0_row20_col1 {\n",
       "  background-color: #fff5f0;\n",
       "  color: #000000;\n",
       "}\n",
       "</style>\n",
       "<table id=\"T_989e0\">\n",
       "  <thead>\n",
       "    <tr>\n",
       "      <th class=\"blank level0\" >&nbsp;</th>\n",
       "      <th id=\"T_989e0_level0_col0\" class=\"col_heading level0 col0\" >Feature</th>\n",
       "      <th id=\"T_989e0_level0_col1\" class=\"col_heading level0 col1\" >Count%</th>\n",
       "      <th id=\"T_989e0_level0_col2\" class=\"col_heading level0 col2\" >Variance</th>\n",
       "    </tr>\n",
       "  </thead>\n",
       "  <tbody>\n",
       "    <tr>\n",
       "      <th id=\"T_989e0_level0_row0\" class=\"row_heading level0 row0\" >17</th>\n",
       "      <td id=\"T_989e0_row0_col0\" class=\"data row0 col0\" >Complain</td>\n",
       "      <td id=\"T_989e0_row0_col1\" class=\"data row0 col1\" >99.060000</td>\n",
       "      <td id=\"T_989e0_row0_col2\" class=\"data row0 col2\" >0.009320</td>\n",
       "    </tr>\n",
       "    <tr>\n",
       "      <th id=\"T_989e0_level0_row1\" class=\"row_heading level0 row1\" >19</th>\n",
       "      <td id=\"T_989e0_row1_col0\" class=\"data row1 col0\" >Accepted_offers</td>\n",
       "      <td id=\"T_989e0_row1_col1\" class=\"data row1 col1\" >79.270000</td>\n",
       "      <td id=\"T_989e0_row1_col2\" class=\"data row1 col2\" >0.461365</td>\n",
       "    </tr>\n",
       "    <tr>\n",
       "      <th id=\"T_989e0_level0_row2\" class=\"row_heading level0 row2\" >3</th>\n",
       "      <td id=\"T_989e0_row2_col0\" class=\"data row2 col0\" >Kidhome</td>\n",
       "      <td id=\"T_989e0_row2_col1\" class=\"data row2 col1\" >57.730000</td>\n",
       "      <td id=\"T_989e0_row2_col2\" class=\"data row2 col2\" >0.290013</td>\n",
       "    </tr>\n",
       "    <tr>\n",
       "      <th id=\"T_989e0_level0_row3\" class=\"row_heading level0 row3\" >4</th>\n",
       "      <td id=\"T_989e0_row3_col0\" class=\"data row3 col0\" >Teenhome</td>\n",
       "      <td id=\"T_989e0_row3_col1\" class=\"data row3 col1\" >51.590000</td>\n",
       "      <td id=\"T_989e0_row3_col2\" class=\"data row3 col2\" >0.296652</td>\n",
       "    </tr>\n",
       "    <tr>\n",
       "      <th id=\"T_989e0_level0_row4\" class=\"row_heading level0 row4\" >20</th>\n",
       "      <td id=\"T_989e0_row4_col0\" class=\"data row4 col0\" >Educationnal_years</td>\n",
       "      <td id=\"T_989e0_row4_col1\" class=\"data row4 col1\" >50.250000</td>\n",
       "      <td id=\"T_989e0_row4_col2\" class=\"data row4 col2\" >20.352580</td>\n",
       "    </tr>\n",
       "    <tr>\n",
       "      <th id=\"T_989e0_level0_row5\" class=\"row_heading level0 row5\" >12</th>\n",
       "      <td id=\"T_989e0_row5_col0\" class=\"data row5 col0\" >NumDealsPurchases</td>\n",
       "      <td id=\"T_989e0_row5_col1\" class=\"data row5 col1\" >43.440000</td>\n",
       "      <td id=\"T_989e0_row5_col2\" class=\"data row5 col2\" >3.590287</td>\n",
       "    </tr>\n",
       "    <tr>\n",
       "      <th id=\"T_989e0_level0_row6\" class=\"row_heading level0 row6\" >14</th>\n",
       "      <td id=\"T_989e0_row6_col0\" class=\"data row6 col0\" >NumCatalogPurchases</td>\n",
       "      <td id=\"T_989e0_row6_col1\" class=\"data row6 col1\" >25.970000</td>\n",
       "      <td id=\"T_989e0_row6_col2\" class=\"data row6 col2\" >8.550965</td>\n",
       "    </tr>\n",
       "    <tr>\n",
       "      <th id=\"T_989e0_level0_row7\" class=\"row_heading level0 row7\" >15</th>\n",
       "      <td id=\"T_989e0_row7_col0\" class=\"data row7 col0\" >NumStorePurchases</td>\n",
       "      <td id=\"T_989e0_row7_col1\" class=\"data row7 col1\" >21.900000</td>\n",
       "      <td id=\"T_989e0_row7_col2\" class=\"data row7 col2\" >10.507980</td>\n",
       "    </tr>\n",
       "    <tr>\n",
       "      <th id=\"T_989e0_level0_row8\" class=\"row_heading level0 row8\" >10</th>\n",
       "      <td id=\"T_989e0_row8_col0\" class=\"data row8 col0\" >MntSweetProducts</td>\n",
       "      <td id=\"T_989e0_row8_col1\" class=\"data row8 col1\" >18.670000</td>\n",
       "      <td id=\"T_989e0_row8_col2\" class=\"data row8 col2\" >1707.239112</td>\n",
       "    </tr>\n",
       "    <tr>\n",
       "      <th id=\"T_989e0_level0_row9\" class=\"row_heading level0 row9\" >7</th>\n",
       "      <td id=\"T_989e0_row9_col0\" class=\"data row9 col0\" >MntFruits</td>\n",
       "      <td id=\"T_989e0_row9_col1\" class=\"data row9 col1\" >17.870000</td>\n",
       "      <td id=\"T_989e0_row9_col2\" class=\"data row9 col2\" >1585.069898</td>\n",
       "    </tr>\n",
       "    <tr>\n",
       "      <th id=\"T_989e0_level0_row10\" class=\"row_heading level0 row10\" >16</th>\n",
       "      <td id=\"T_989e0_row10_col0\" class=\"data row10 col0\" >NumWebVisitsMonth</td>\n",
       "      <td id=\"T_989e0_row10_col1\" class=\"data row10 col1\" >17.600000</td>\n",
       "      <td id=\"T_989e0_row10_col2\" class=\"data row10 col2\" >5.633230</td>\n",
       "    </tr>\n",
       "    <tr>\n",
       "      <th id=\"T_989e0_level0_row11\" class=\"row_heading level0 row11\" >9</th>\n",
       "      <td id=\"T_989e0_row11_col0\" class=\"data row11 col0\" >MntFishProducts</td>\n",
       "      <td id=\"T_989e0_row11_col1\" class=\"data row11 col1\" >17.150000</td>\n",
       "      <td id=\"T_989e0_row11_col2\" class=\"data row11 col2\" >2989.662267</td>\n",
       "    </tr>\n",
       "    <tr>\n",
       "      <th id=\"T_989e0_level0_row12\" class=\"row_heading level0 row12\" >13</th>\n",
       "      <td id=\"T_989e0_row12_col0\" class=\"data row12 col0\" >NumWebPurchases</td>\n",
       "      <td id=\"T_989e0_row12_col1\" class=\"data row12 col1\" >16.700000</td>\n",
       "      <td id=\"T_989e0_row12_col2\" class=\"data row12 col2\" >7.699955</td>\n",
       "    </tr>\n",
       "    <tr>\n",
       "      <th id=\"T_989e0_level0_row13\" class=\"row_heading level0 row13\" >1</th>\n",
       "      <td id=\"T_989e0_row13_col0\" class=\"data row13 col0\" >Year_Birth</td>\n",
       "      <td id=\"T_989e0_row13_col1\" class=\"data row13 col1\" >3.990000</td>\n",
       "      <td id=\"T_989e0_row13_col2\" class=\"data row13 col2\" >143.813670</td>\n",
       "    </tr>\n",
       "    <tr>\n",
       "      <th id=\"T_989e0_level0_row14\" class=\"row_heading level0 row14\" >11</th>\n",
       "      <td id=\"T_989e0_row14_col0\" class=\"data row14 col0\" >MntGoldProds</td>\n",
       "      <td id=\"T_989e0_row14_col1\" class=\"data row14 col1\" >3.130000</td>\n",
       "      <td id=\"T_989e0_row14_col2\" class=\"data row14 col2\" >2724.524881</td>\n",
       "    </tr>\n",
       "    <tr>\n",
       "      <th id=\"T_989e0_level0_row15\" class=\"row_heading level0 row15\" >8</th>\n",
       "      <td id=\"T_989e0_row15_col0\" class=\"data row15 col0\" >MntMeatProducts</td>\n",
       "      <td id=\"T_989e0_row15_col1\" class=\"data row15 col1\" >2.370000</td>\n",
       "      <td id=\"T_989e0_row15_col2\" class=\"data row15 col2\" >51023.422446</td>\n",
       "    </tr>\n",
       "    <tr>\n",
       "      <th id=\"T_989e0_level0_row16\" class=\"row_heading level0 row16\" >6</th>\n",
       "      <td id=\"T_989e0_row16_col0\" class=\"data row16 col0\" >MntWines</td>\n",
       "      <td id=\"T_989e0_row16_col1\" class=\"data row16 col1\" >1.750000</td>\n",
       "      <td id=\"T_989e0_row16_col2\" class=\"data row16 col2\" >113368.465104</td>\n",
       "    </tr>\n",
       "    <tr>\n",
       "      <th id=\"T_989e0_level0_row17\" class=\"row_heading level0 row17\" >5</th>\n",
       "      <td id=\"T_989e0_row17_col0\" class=\"data row17 col0\" >Recency</td>\n",
       "      <td id=\"T_989e0_row17_col1\" class=\"data row17 col1\" >1.610000</td>\n",
       "      <td id=\"T_989e0_row17_col2\" class=\"data row17 col2\" >839.420930</td>\n",
       "    </tr>\n",
       "    <tr>\n",
       "      <th id=\"T_989e0_level0_row18\" class=\"row_heading level0 row18\" >18</th>\n",
       "      <td id=\"T_989e0_row18_col0\" class=\"data row18 col0\" >Seniority</td>\n",
       "      <td id=\"T_989e0_row18_col1\" class=\"data row18 col1\" >0.540000</td>\n",
       "      <td id=\"T_989e0_row18_col2\" class=\"data row18 col2\" >45.338457</td>\n",
       "    </tr>\n",
       "    <tr>\n",
       "      <th id=\"T_989e0_level0_row19\" class=\"row_heading level0 row19\" >2</th>\n",
       "      <td id=\"T_989e0_row19_col0\" class=\"data row19 col0\" >Income</td>\n",
       "      <td id=\"T_989e0_row19_col1\" class=\"data row19 col1\" >0.540000</td>\n",
       "      <td id=\"T_989e0_row19_col2\" class=\"data row19 col2\" >450691730.076735</td>\n",
       "    </tr>\n",
       "    <tr>\n",
       "      <th id=\"T_989e0_level0_row20\" class=\"row_heading level0 row20\" >0</th>\n",
       "      <td id=\"T_989e0_row20_col0\" class=\"data row20 col0\" >ID</td>\n",
       "      <td id=\"T_989e0_row20_col1\" class=\"data row20 col1\" >0.040000</td>\n",
       "      <td id=\"T_989e0_row20_col2\" class=\"data row20 col2\" >10529202.653641</td>\n",
       "    </tr>\n",
       "  </tbody>\n",
       "</table>\n"
      ],
      "text/plain": [
       "<pandas.io.formats.style.Styler at 0x7f3e1444d970>"
      ]
     },
     "metadata": {},
     "output_type": "display_data"
    }
   ],
   "source": [
    "Features = []\n",
    "val=[]\n",
    "var=[]\n",
    "X=dataset.drop(columns=['Segment','Marital_Status','Response'])\n",
    "\n",
    "for column in X:\n",
    "    most_freq_value = np.round((X[column].value_counts(normalize = True).iloc[0])*100, 2)\n",
    "    variance=X[column].var()\n",
    "    Features.append(column)\n",
    "    val.append(most_freq_value)\n",
    "    var.append(variance)\n",
    "count = pd.DataFrame(list(zip(Features, val,var)), columns =['Feature', 'Count%','Variance']).sort_values(ascending=False,by='Count%')\n",
    "display(count.style.background_gradient(cmap = 'Reds', axis = 0,subset='Count%'))"
   ]
  },
  {
   "cell_type": "markdown",
   "metadata": {
    "papermill": {
     "duration": 0.063216,
     "end_time": "2021-03-16T23:16:37.333311",
     "exception": false,
     "start_time": "2021-03-16T23:16:37.270095",
     "status": "completed"
    },
    "tags": []
   },
   "source": [
    "We can see that \"Complain\" variable has a variance almost equal to 0 and that 99% of the rows have the same value.  \n",
    "We will therefore remove it."
   ]
  },
  {
   "cell_type": "markdown",
   "metadata": {
    "papermill": {
     "duration": 0.062881,
     "end_time": "2021-03-16T23:16:37.458772",
     "exception": false,
     "start_time": "2021-03-16T23:16:37.395891",
     "status": "completed"
    },
    "tags": []
   },
   "source": [
    "### Correlation analysis"
   ]
  },
  {
   "cell_type": "markdown",
   "metadata": {
    "papermill": {
     "duration": 0.068856,
     "end_time": "2021-03-16T23:16:37.600639",
     "exception": false,
     "start_time": "2021-03-16T23:16:37.531783",
     "status": "completed"
    },
    "tags": []
   },
   "source": [
    "Correlation refers to the relationship between two variables and how they move together.  "
   ]
  },
  {
   "cell_type": "code",
   "execution_count": 84,
   "metadata": {
    "_kg_hide-input": true,
    "execution": {
     "iopub.execute_input": "2021-03-16T23:16:37.749131Z",
     "iopub.status.busy": "2021-03-16T23:16:37.748488Z",
     "iopub.status.idle": "2021-03-16T23:16:41.307186Z",
     "shell.execute_reply": "2021-03-16T23:16:41.307744Z"
    },
    "papermill": {
     "duration": 3.635205,
     "end_time": "2021-03-16T23:16:41.307924",
     "exception": false,
     "start_time": "2021-03-16T23:16:37.672719",
     "status": "completed"
    },
    "tags": []
   },
   "outputs": [],
   "source": [
    "# # Finding the relations between the variables.\n",
    "# plt.figure(figsize=(20,10))\n",
    "# c= dataset.corr(method='spearman')\n",
    "# sns.heatmap(c,annot=True);"
   ]
  },
  {
   "cell_type": "markdown",
   "metadata": {
    "papermill": {
     "duration": 0.072853,
     "end_time": "2021-03-16T23:16:41.453951",
     "exception": false,
     "start_time": "2021-03-16T23:16:41.381098",
     "status": "completed"
    },
    "tags": []
   },
   "source": [
    "We can see the variable *Income* has a high correlation with other variables. This can inform us of the presence of multicollinearity."
   ]
  },
  {
   "cell_type": "markdown",
   "metadata": {
    "papermill": {
     "duration": 0.072608,
     "end_time": "2021-03-16T23:16:41.598940",
     "exception": false,
     "start_time": "2021-03-16T23:16:41.526332",
     "status": "completed"
    },
    "tags": []
   },
   "source": [
    "### Multicollinearity analysis"
   ]
  },
  {
   "cell_type": "markdown",
   "metadata": {
    "papermill": {
     "duration": 0.07248,
     "end_time": "2021-03-16T23:16:41.744691",
     "exception": false,
     "start_time": "2021-03-16T23:16:41.672211",
     "status": "completed"
    },
    "tags": []
   },
   "source": [
    "To detect multicollinearity, we will use the __*Variable Inflation Factors*__ method (VIF). It measures the strength of the correlation between our independant variables.  \n",
    "We set our max threshold at 10"
   ]
  },
  {
   "cell_type": "code",
   "execution_count": 85,
   "metadata": {
    "_kg_hide-input": true,
    "execution": {
     "iopub.execute_input": "2021-03-16T23:16:41.897478Z",
     "iopub.status.busy": "2021-03-16T23:16:41.896743Z",
     "iopub.status.idle": "2021-03-16T23:16:42.055026Z",
     "shell.execute_reply": "2021-03-16T23:16:42.055957Z"
    },
    "papermill": {
     "duration": 0.239025,
     "end_time": "2021-03-16T23:16:42.056270",
     "exception": false,
     "start_time": "2021-03-16T23:16:41.817245",
     "status": "completed"
    },
    "tags": []
   },
   "outputs": [
    {
     "data": {
      "text/html": [
       "<style type=\"text/css\">\n",
       "#T_a74ac_row0_col1 {\n",
       "  background-color: #67000d;\n",
       "  color: #f1f1f1;\n",
       "}\n",
       "#T_a74ac_row1_col1 {\n",
       "  background-color: #f96044;\n",
       "  color: #f1f1f1;\n",
       "}\n",
       "#T_a74ac_row2_col1 {\n",
       "  background-color: #fcb499;\n",
       "  color: #000000;\n",
       "}\n",
       "#T_a74ac_row3_col1 {\n",
       "  background-color: #fdccb8;\n",
       "  color: #000000;\n",
       "}\n",
       "#T_a74ac_row4_col1 {\n",
       "  background-color: #fedbcc;\n",
       "  color: #000000;\n",
       "}\n",
       "#T_a74ac_row5_col1 {\n",
       "  background-color: #fee3d7;\n",
       "  color: #000000;\n",
       "}\n",
       "#T_a74ac_row6_col1 {\n",
       "  background-color: #fee7dc;\n",
       "  color: #000000;\n",
       "}\n",
       "#T_a74ac_row7_col1 {\n",
       "  background-color: #fee8de;\n",
       "  color: #000000;\n",
       "}\n",
       "#T_a74ac_row8_col1 {\n",
       "  background-color: #feeae1;\n",
       "  color: #000000;\n",
       "}\n",
       "#T_a74ac_row9_col1 {\n",
       "  background-color: #ffece4;\n",
       "  color: #000000;\n",
       "}\n",
       "#T_a74ac_row10_col1 {\n",
       "  background-color: #ffeee7;\n",
       "  color: #000000;\n",
       "}\n",
       "#T_a74ac_row11_col1, #T_a74ac_row12_col1 {\n",
       "  background-color: #ffefe8;\n",
       "  color: #000000;\n",
       "}\n",
       "#T_a74ac_row13_col1 {\n",
       "  background-color: #fff1ea;\n",
       "  color: #000000;\n",
       "}\n",
       "#T_a74ac_row14_col1 {\n",
       "  background-color: #fff2eb;\n",
       "  color: #000000;\n",
       "}\n",
       "#T_a74ac_row15_col1, #T_a74ac_row16_col1, #T_a74ac_row17_col1 {\n",
       "  background-color: #fff2ec;\n",
       "  color: #000000;\n",
       "}\n",
       "#T_a74ac_row18_col1 {\n",
       "  background-color: #fff3ed;\n",
       "  color: #000000;\n",
       "}\n",
       "#T_a74ac_row19_col1 {\n",
       "  background-color: #fff5f0;\n",
       "  color: #000000;\n",
       "}\n",
       "</style>\n",
       "<table id=\"T_a74ac\">\n",
       "  <thead>\n",
       "    <tr>\n",
       "      <th class=\"blank level0\" >&nbsp;</th>\n",
       "      <th id=\"T_a74ac_level0_col0\" class=\"col_heading level0 col0\" >Feature</th>\n",
       "      <th id=\"T_a74ac_level0_col1\" class=\"col_heading level0 col1\" >VIF</th>\n",
       "    </tr>\n",
       "  </thead>\n",
       "  <tbody>\n",
       "    <tr>\n",
       "      <th id=\"T_a74ac_level0_row0\" class=\"row_heading level0 row0\" >1</th>\n",
       "      <td id=\"T_a74ac_row0_col0\" class=\"data row0 col0\" >Year_Birth</td>\n",
       "      <td id=\"T_a74ac_row0_col1\" class=\"data row0 col1\" >60.754982</td>\n",
       "    </tr>\n",
       "    <tr>\n",
       "      <th id=\"T_a74ac_level0_row1\" class=\"row_heading level0 row1\" >2</th>\n",
       "      <td id=\"T_a74ac_row1_col0\" class=\"data row1 col0\" >Income</td>\n",
       "      <td id=\"T_a74ac_row1_col1\" class=\"data row1 col1\" >32.860941</td>\n",
       "    </tr>\n",
       "    <tr>\n",
       "      <th id=\"T_a74ac_level0_row2\" class=\"row_heading level0 row2\" >16</th>\n",
       "      <td id=\"T_a74ac_row2_col0\" class=\"data row2 col0\" >NumWebVisitsMonth</td>\n",
       "      <td id=\"T_a74ac_row2_col1\" class=\"data row2 col1\" >17.777929</td>\n",
       "    </tr>\n",
       "    <tr>\n",
       "      <th id=\"T_a74ac_level0_row3\" class=\"row_heading level0 row3\" >19</th>\n",
       "      <td id=\"T_a74ac_row3_col0\" class=\"data row3 col0\" >Educationnal_years</td>\n",
       "      <td id=\"T_a74ac_row3_col1\" class=\"data row3 col1\" >13.278072</td>\n",
       "    </tr>\n",
       "    <tr>\n",
       "      <th id=\"T_a74ac_level0_row4\" class=\"row_heading level0 row4\" >15</th>\n",
       "      <td id=\"T_a74ac_row4_col0\" class=\"data row4 col0\" >NumStorePurchases</td>\n",
       "      <td id=\"T_a74ac_row4_col1\" class=\"data row4 col1\" >10.207984</td>\n",
       "    </tr>\n",
       "    <tr>\n",
       "      <th id=\"T_a74ac_level0_row5\" class=\"row_heading level0 row5\" >17</th>\n",
       "      <td id=\"T_a74ac_row5_col0\" class=\"data row5 col0\" >Seniority</td>\n",
       "      <td id=\"T_a74ac_row5_col1\" class=\"data row5 col1\" >8.087439</td>\n",
       "    </tr>\n",
       "    <tr>\n",
       "      <th id=\"T_a74ac_level0_row6\" class=\"row_heading level0 row6\" >13</th>\n",
       "      <td id=\"T_a74ac_row6_col0\" class=\"data row6 col0\" >NumWebPurchases</td>\n",
       "      <td id=\"T_a74ac_row6_col1\" class=\"data row6 col1\" >6.710313</td>\n",
       "    </tr>\n",
       "    <tr>\n",
       "      <th id=\"T_a74ac_level0_row7\" class=\"row_heading level0 row7\" >6</th>\n",
       "      <td id=\"T_a74ac_row7_col0\" class=\"data row7 col0\" >MntWines</td>\n",
       "      <td id=\"T_a74ac_row7_col1\" class=\"data row7 col1\" >6.354739</td>\n",
       "    </tr>\n",
       "    <tr>\n",
       "      <th id=\"T_a74ac_level0_row8\" class=\"row_heading level0 row8\" >14</th>\n",
       "      <td id=\"T_a74ac_row8_col0\" class=\"data row8 col0\" >NumCatalogPurchases</td>\n",
       "      <td id=\"T_a74ac_row8_col1\" class=\"data row8 col1\" >5.655007</td>\n",
       "    </tr>\n",
       "    <tr>\n",
       "      <th id=\"T_a74ac_level0_row9\" class=\"row_heading level0 row9\" >8</th>\n",
       "      <td id=\"T_a74ac_row9_col0\" class=\"data row9 col0\" >MntMeatProducts</td>\n",
       "      <td id=\"T_a74ac_row9_col1\" class=\"data row9 col1\" >4.958247</td>\n",
       "    </tr>\n",
       "    <tr>\n",
       "      <th id=\"T_a74ac_level0_row10\" class=\"row_heading level0 row10\" >12</th>\n",
       "      <td id=\"T_a74ac_row10_col0\" class=\"data row10 col0\" >NumDealsPurchases</td>\n",
       "      <td id=\"T_a74ac_row10_col1\" class=\"data row10 col1\" >4.297696</td>\n",
       "    </tr>\n",
       "    <tr>\n",
       "      <th id=\"T_a74ac_level0_row11\" class=\"row_heading level0 row11\" >0</th>\n",
       "      <td id=\"T_a74ac_row11_col0\" class=\"data row11 col0\" >ID</td>\n",
       "      <td id=\"T_a74ac_row11_col1\" class=\"data row11 col1\" >3.987486</td>\n",
       "    </tr>\n",
       "    <tr>\n",
       "      <th id=\"T_a74ac_level0_row12\" class=\"row_heading level0 row12\" >5</th>\n",
       "      <td id=\"T_a74ac_row12_col0\" class=\"data row12 col0\" >Recency</td>\n",
       "      <td id=\"T_a74ac_row12_col1\" class=\"data row12 col1\" >3.903320</td>\n",
       "    </tr>\n",
       "    <tr>\n",
       "      <th id=\"T_a74ac_level0_row13\" class=\"row_heading level0 row13\" >3</th>\n",
       "      <td id=\"T_a74ac_row13_col0\" class=\"data row13 col0\" >Kidhome</td>\n",
       "      <td id=\"T_a74ac_row13_col1\" class=\"data row13 col1\" >3.219478</td>\n",
       "    </tr>\n",
       "    <tr>\n",
       "      <th id=\"T_a74ac_level0_row14\" class=\"row_heading level0 row14\" >9</th>\n",
       "      <td id=\"T_a74ac_row14_col0\" class=\"data row14 col0\" >MntFishProducts</td>\n",
       "      <td id=\"T_a74ac_row14_col1\" class=\"data row14 col1\" >3.122129</td>\n",
       "    </tr>\n",
       "    <tr>\n",
       "      <th id=\"T_a74ac_level0_row15\" class=\"row_heading level0 row15\" >4</th>\n",
       "      <td id=\"T_a74ac_row15_col0\" class=\"data row15 col0\" >Teenhome</td>\n",
       "      <td id=\"T_a74ac_row15_col1\" class=\"data row15 col1\" >2.954294</td>\n",
       "    </tr>\n",
       "    <tr>\n",
       "      <th id=\"T_a74ac_level0_row16\" class=\"row_heading level0 row16\" >7</th>\n",
       "      <td id=\"T_a74ac_row16_col0\" class=\"data row16 col0\" >MntFruits</td>\n",
       "      <td id=\"T_a74ac_row16_col1\" class=\"data row16 col1\" >2.814689</td>\n",
       "    </tr>\n",
       "    <tr>\n",
       "      <th id=\"T_a74ac_level0_row17\" class=\"row_heading level0 row17\" >10</th>\n",
       "      <td id=\"T_a74ac_row17_col0\" class=\"data row17 col0\" >MntSweetProducts</td>\n",
       "      <td id=\"T_a74ac_row17_col1\" class=\"data row17 col1\" >2.785976</td>\n",
       "    </tr>\n",
       "    <tr>\n",
       "      <th id=\"T_a74ac_level0_row18\" class=\"row_heading level0 row18\" >11</th>\n",
       "      <td id=\"T_a74ac_row18_col0\" class=\"data row18 col0\" >MntGoldProds</td>\n",
       "      <td id=\"T_a74ac_row18_col1\" class=\"data row18 col1\" >2.603584</td>\n",
       "    </tr>\n",
       "    <tr>\n",
       "      <th id=\"T_a74ac_level0_row19\" class=\"row_heading level0 row19\" >18</th>\n",
       "      <td id=\"T_a74ac_row19_col0\" class=\"data row19 col0\" >Accepted_offers</td>\n",
       "      <td id=\"T_a74ac_row19_col1\" class=\"data row19 col1\" >1.810098</td>\n",
       "    </tr>\n",
       "  </tbody>\n",
       "</table>\n"
      ],
      "text/plain": [
       "<pandas.io.formats.style.Styler at 0x7f3e10250440>"
      ]
     },
     "execution_count": 85,
     "metadata": {},
     "output_type": "execute_result"
    }
   ],
   "source": [
    "#Filter on non null value and exclude categoricals + target + Complain (because will be removed as seen earlier)\n",
    "VIF = dataset[dataset['Income'].notnull()].drop(columns=['Segment','Marital_Status','Response','Complain'])\n",
    "vif_data = pd.DataFrame()\n",
    "vif_data[\"Feature\"] = VIF.columns\n",
    "# calculating VIF for each feature \n",
    "vif_data[\"VIF\"] = [variance_inflation_factor(VIF.values, i) for i in range(len(VIF.columns))]\n",
    "vif_data=vif_data.sort_values(by='VIF',ascending=False)\n",
    "vif_data.style.background_gradient(cmap = 'Reds', axis = 0)"
   ]
  },
  {
   "cell_type": "markdown",
   "metadata": {
    "papermill": {
     "duration": 0.073951,
     "end_time": "2021-03-16T23:16:42.245359",
     "exception": false,
     "start_time": "2021-03-16T23:16:42.171408",
     "status": "completed"
    },
    "tags": []
   },
   "source": [
    "We can see that *NumStorePurchases*, *NumWebVisitsMonth*, *Year_Birth*, *Income* and *Educationnal_years* have high VIF.  \n",
    ">- As presumed, the high correlation coefficient of Income result in a high VIF\n",
    ">- We assume Year_Birth to be a variable that can be easily predicted by others like Kidhome, Teenhome, Income...  \n",
    "\n",
    "We will remove the variable Year_Birth and Income and recheck if the VIF of other variables dropped"
   ]
  },
  {
   "cell_type": "code",
   "execution_count": 86,
   "metadata": {
    "_kg_hide-input": true,
    "execution": {
     "iopub.execute_input": "2021-03-16T23:16:42.404058Z",
     "iopub.status.busy": "2021-03-16T23:16:42.402796Z",
     "iopub.status.idle": "2021-03-16T23:16:42.528372Z",
     "shell.execute_reply": "2021-03-16T23:16:42.529213Z"
    },
    "papermill": {
     "duration": 0.210223,
     "end_time": "2021-03-16T23:16:42.529507",
     "exception": false,
     "start_time": "2021-03-16T23:16:42.319284",
     "status": "completed"
    },
    "tags": []
   },
   "outputs": [
    {
     "data": {
      "text/html": [
       "<style type=\"text/css\">\n",
       "#T_59398_row0_col1 {\n",
       "  background-color: #67000d;\n",
       "  color: #f1f1f1;\n",
       "}\n",
       "#T_59398_row1_col1 {\n",
       "  background-color: #f0402f;\n",
       "  color: #f1f1f1;\n",
       "}\n",
       "#T_59398_row2_col1 {\n",
       "  background-color: #f85d42;\n",
       "  color: #f1f1f1;\n",
       "}\n",
       "#T_59398_row3_col1 {\n",
       "  background-color: #fc8060;\n",
       "  color: #f1f1f1;\n",
       "}\n",
       "#T_59398_row4_col1 {\n",
       "  background-color: #fedecf;\n",
       "  color: #000000;\n",
       "}\n",
       "#T_59398_row5_col1 {\n",
       "  background-color: #ffeee7;\n",
       "  color: #000000;\n",
       "}\n",
       "#T_59398_row6_col1 {\n",
       "  background-color: #fff5f0;\n",
       "  color: #000000;\n",
       "}\n",
       "</style>\n",
       "<table id=\"T_59398\">\n",
       "  <thead>\n",
       "    <tr>\n",
       "      <th class=\"blank level0\" >&nbsp;</th>\n",
       "      <th id=\"T_59398_level0_col0\" class=\"col_heading level0 col0\" >Feature</th>\n",
       "      <th id=\"T_59398_level0_col1\" class=\"col_heading level0 col1\" >VIF</th>\n",
       "    </tr>\n",
       "  </thead>\n",
       "  <tbody>\n",
       "    <tr>\n",
       "      <th id=\"T_59398_level0_row0\" class=\"row_heading level0 row0\" >14</th>\n",
       "      <td id=\"T_59398_row0_col0\" class=\"data row0 col0\" >NumWebVisitsMonth</td>\n",
       "      <td id=\"T_59398_row0_col1\" class=\"data row0 col1\" >11.333074</td>\n",
       "    </tr>\n",
       "    <tr>\n",
       "      <th id=\"T_59398_level0_row1\" class=\"row_heading level0 row1\" >17</th>\n",
       "      <td id=\"T_59398_row1_col0\" class=\"data row1 col0\" >Educationnal_years</td>\n",
       "      <td id=\"T_59398_row1_col1\" class=\"data row1 col1\" >8.988499</td>\n",
       "    </tr>\n",
       "    <tr>\n",
       "      <th id=\"T_59398_level0_row2\" class=\"row_heading level0 row2\" >13</th>\n",
       "      <td id=\"T_59398_row2_col0\" class=\"data row2 col0\" >NumStorePurchases</td>\n",
       "      <td id=\"T_59398_row2_col1\" class=\"data row2 col1\" >8.512775</td>\n",
       "    </tr>\n",
       "    <tr>\n",
       "      <th id=\"T_59398_level0_row3\" class=\"row_heading level0 row3\" >15</th>\n",
       "      <td id=\"T_59398_row3_col0\" class=\"data row3 col0\" >Seniority</td>\n",
       "      <td id=\"T_59398_row3_col1\" class=\"data row3 col1\" >7.914376</td>\n",
       "    </tr>\n",
       "    <tr>\n",
       "      <th id=\"T_59398_level0_row4\" class=\"row_heading level0 row4\" >11</th>\n",
       "      <td id=\"T_59398_row4_col0\" class=\"data row4 col0\" >NumWebPurchases</td>\n",
       "      <td id=\"T_59398_row4_col1\" class=\"data row4 col1\" >6.129052</td>\n",
       "    </tr>\n",
       "    <tr>\n",
       "      <th id=\"T_59398_level0_row5\" class=\"row_heading level0 row5\" >4</th>\n",
       "      <td id=\"T_59398_row5_col0\" class=\"data row5 col0\" >MntWines</td>\n",
       "      <td id=\"T_59398_row5_col1\" class=\"data row5 col1\" >5.557228</td>\n",
       "    </tr>\n",
       "    <tr>\n",
       "      <th id=\"T_59398_level0_row6\" class=\"row_heading level0 row6\" >12</th>\n",
       "      <td id=\"T_59398_row6_col0\" class=\"data row6 col0\" >NumCatalogPurchases</td>\n",
       "      <td id=\"T_59398_row6_col1\" class=\"data row6 col1\" >5.308098</td>\n",
       "    </tr>\n",
       "  </tbody>\n",
       "</table>\n"
      ],
      "text/plain": [
       "<pandas.io.formats.style.Styler at 0x7f3e10067650>"
      ]
     },
     "execution_count": 86,
     "metadata": {},
     "output_type": "execute_result"
    }
   ],
   "source": [
    "#We remove Year_Birth + Income and recalculate the VIF of other features \n",
    "VIF_filter=dataset.drop(columns=['Income','Segment','Marital_Status','Response','Complain','Year_Birth'])\n",
    "vif_filtered_data = pd.DataFrame() \n",
    "vif_filtered_data[\"Feature\"] = VIF_filter.columns \n",
    "vif_filtered_data[\"VIF\"] = [variance_inflation_factor(VIF_filter.values, i) for i in range(len(VIF_filter.columns))]\n",
    "#Filter to variables with VIF greater than 5 as the others are ok\n",
    "vif_filtered_data=vif_filtered_data[vif_filtered_data[\"VIF\"] > 5]\n",
    "vif_filtered_data=vif_filtered_data.sort_values(by='VIF',ascending=False)\n",
    "vif_filtered_data.style.background_gradient(cmap = 'Reds', axis = 0)"
   ]
  },
  {
   "cell_type": "markdown",
   "metadata": {
    "papermill": {
     "duration": 0.074246,
     "end_time": "2021-03-16T23:16:42.722015",
     "exception": false,
     "start_time": "2021-03-16T23:16:42.647769",
     "status": "completed"
    },
    "tags": []
   },
   "source": [
    "We can see that VIF of *Educational_years* decreased. Nonetheless, the VIF of *NumWebVisitsMonth* remains above 10.  \n",
    "As this variable is not a direct aggregation of others variables, we decide to remove this single variable and keep the others.\n",
    "\n",
    "`Nota Bene : From here, we will also remove the variable ID as it's the unique identifier of the customer and it will be useless for the classification model`"
   ]
  },
  {
   "cell_type": "code",
   "execution_count": 87,
   "metadata": {
    "execution": {
     "iopub.execute_input": "2021-03-16T23:16:42.900255Z",
     "iopub.status.busy": "2021-03-16T23:16:42.899432Z",
     "iopub.status.idle": "2021-03-16T23:16:42.903175Z",
     "shell.execute_reply": "2021-03-16T23:16:42.903676Z"
    },
    "papermill": {
     "duration": 0.107183,
     "end_time": "2021-03-16T23:16:42.903855",
     "exception": false,
     "start_time": "2021-03-16T23:16:42.796672",
     "status": "completed"
    },
    "tags": []
   },
   "outputs": [
    {
     "data": {
      "text/html": [
       "<div>\n",
       "<style scoped>\n",
       "    .dataframe tbody tr th:only-of-type {\n",
       "        vertical-align: middle;\n",
       "    }\n",
       "\n",
       "    .dataframe tbody tr th {\n",
       "        vertical-align: top;\n",
       "    }\n",
       "\n",
       "    .dataframe thead th {\n",
       "        text-align: right;\n",
       "    }\n",
       "</style>\n",
       "<table border=\"1\" class=\"dataframe\">\n",
       "  <thead>\n",
       "    <tr style=\"text-align: right;\">\n",
       "      <th></th>\n",
       "      <th>Marital_Status</th>\n",
       "      <th>Kidhome</th>\n",
       "      <th>Teenhome</th>\n",
       "      <th>Recency</th>\n",
       "      <th>MntWines</th>\n",
       "      <th>MntFruits</th>\n",
       "      <th>MntMeatProducts</th>\n",
       "      <th>MntFishProducts</th>\n",
       "      <th>MntSweetProducts</th>\n",
       "      <th>MntGoldProds</th>\n",
       "      <th>NumDealsPurchases</th>\n",
       "      <th>NumWebPurchases</th>\n",
       "      <th>NumCatalogPurchases</th>\n",
       "      <th>NumStorePurchases</th>\n",
       "      <th>Response</th>\n",
       "      <th>Seniority</th>\n",
       "      <th>Accepted_offers</th>\n",
       "      <th>Educationnal_years</th>\n",
       "      <th>Segment</th>\n",
       "    </tr>\n",
       "  </thead>\n",
       "  <tbody>\n",
       "    <tr>\n",
       "      <th>0</th>\n",
       "      <td>Single</td>\n",
       "      <td>0</td>\n",
       "      <td>0</td>\n",
       "      <td>58</td>\n",
       "      <td>635</td>\n",
       "      <td>88</td>\n",
       "      <td>546</td>\n",
       "      <td>172</td>\n",
       "      <td>88</td>\n",
       "      <td>88</td>\n",
       "      <td>3</td>\n",
       "      <td>8</td>\n",
       "      <td>10</td>\n",
       "      <td>4</td>\n",
       "      <td>1</td>\n",
       "      <td>25.333333</td>\n",
       "      <td>0</td>\n",
       "      <td>12</td>\n",
       "      <td>Loyal customers</td>\n",
       "    </tr>\n",
       "    <tr>\n",
       "      <th>1</th>\n",
       "      <td>Single</td>\n",
       "      <td>1</td>\n",
       "      <td>1</td>\n",
       "      <td>38</td>\n",
       "      <td>11</td>\n",
       "      <td>1</td>\n",
       "      <td>6</td>\n",
       "      <td>2</td>\n",
       "      <td>1</td>\n",
       "      <td>6</td>\n",
       "      <td>2</td>\n",
       "      <td>1</td>\n",
       "      <td>1</td>\n",
       "      <td>2</td>\n",
       "      <td>0</td>\n",
       "      <td>7.000000</td>\n",
       "      <td>0</td>\n",
       "      <td>12</td>\n",
       "      <td>Promising</td>\n",
       "    </tr>\n",
       "    <tr>\n",
       "      <th>2</th>\n",
       "      <td>Together</td>\n",
       "      <td>0</td>\n",
       "      <td>0</td>\n",
       "      <td>26</td>\n",
       "      <td>426</td>\n",
       "      <td>49</td>\n",
       "      <td>127</td>\n",
       "      <td>111</td>\n",
       "      <td>21</td>\n",
       "      <td>42</td>\n",
       "      <td>1</td>\n",
       "      <td>8</td>\n",
       "      <td>2</td>\n",
       "      <td>10</td>\n",
       "      <td>0</td>\n",
       "      <td>13.633333</td>\n",
       "      <td>0</td>\n",
       "      <td>12</td>\n",
       "      <td>Loyal customers</td>\n",
       "    </tr>\n",
       "    <tr>\n",
       "      <th>3</th>\n",
       "      <td>Together</td>\n",
       "      <td>1</td>\n",
       "      <td>0</td>\n",
       "      <td>26</td>\n",
       "      <td>11</td>\n",
       "      <td>4</td>\n",
       "      <td>20</td>\n",
       "      <td>10</td>\n",
       "      <td>3</td>\n",
       "      <td>5</td>\n",
       "      <td>2</td>\n",
       "      <td>2</td>\n",
       "      <td>0</td>\n",
       "      <td>4</td>\n",
       "      <td>0</td>\n",
       "      <td>7.866667</td>\n",
       "      <td>0</td>\n",
       "      <td>12</td>\n",
       "      <td>Promising</td>\n",
       "    </tr>\n",
       "    <tr>\n",
       "      <th>4</th>\n",
       "      <td>Married</td>\n",
       "      <td>1</td>\n",
       "      <td>0</td>\n",
       "      <td>94</td>\n",
       "      <td>173</td>\n",
       "      <td>43</td>\n",
       "      <td>118</td>\n",
       "      <td>46</td>\n",
       "      <td>27</td>\n",
       "      <td>15</td>\n",
       "      <td>5</td>\n",
       "      <td>5</td>\n",
       "      <td>3</td>\n",
       "      <td>6</td>\n",
       "      <td>0</td>\n",
       "      <td>8.600000</td>\n",
       "      <td>0</td>\n",
       "      <td>21</td>\n",
       "      <td>At risk</td>\n",
       "    </tr>\n",
       "    <tr>\n",
       "      <th>...</th>\n",
       "      <td>...</td>\n",
       "      <td>...</td>\n",
       "      <td>...</td>\n",
       "      <td>...</td>\n",
       "      <td>...</td>\n",
       "      <td>...</td>\n",
       "      <td>...</td>\n",
       "      <td>...</td>\n",
       "      <td>...</td>\n",
       "      <td>...</td>\n",
       "      <td>...</td>\n",
       "      <td>...</td>\n",
       "      <td>...</td>\n",
       "      <td>...</td>\n",
       "      <td>...</td>\n",
       "      <td>...</td>\n",
       "      <td>...</td>\n",
       "      <td>...</td>\n",
       "      <td>...</td>\n",
       "    </tr>\n",
       "    <tr>\n",
       "      <th>2228</th>\n",
       "      <td>Married</td>\n",
       "      <td>0</td>\n",
       "      <td>1</td>\n",
       "      <td>46</td>\n",
       "      <td>709</td>\n",
       "      <td>43</td>\n",
       "      <td>182</td>\n",
       "      <td>42</td>\n",
       "      <td>118</td>\n",
       "      <td>247</td>\n",
       "      <td>2</td>\n",
       "      <td>9</td>\n",
       "      <td>3</td>\n",
       "      <td>4</td>\n",
       "      <td>0</td>\n",
       "      <td>15.933333</td>\n",
       "      <td>0</td>\n",
       "      <td>12</td>\n",
       "      <td>Need attention</td>\n",
       "    </tr>\n",
       "    <tr>\n",
       "      <th>2229</th>\n",
       "      <td>Together</td>\n",
       "      <td>2</td>\n",
       "      <td>1</td>\n",
       "      <td>56</td>\n",
       "      <td>406</td>\n",
       "      <td>0</td>\n",
       "      <td>30</td>\n",
       "      <td>0</td>\n",
       "      <td>0</td>\n",
       "      <td>8</td>\n",
       "      <td>7</td>\n",
       "      <td>8</td>\n",
       "      <td>2</td>\n",
       "      <td>5</td>\n",
       "      <td>0</td>\n",
       "      <td>3.866667</td>\n",
       "      <td>1</td>\n",
       "      <td>21</td>\n",
       "      <td>Need attention</td>\n",
       "    </tr>\n",
       "    <tr>\n",
       "      <th>2230</th>\n",
       "      <td>Divorced</td>\n",
       "      <td>0</td>\n",
       "      <td>0</td>\n",
       "      <td>91</td>\n",
       "      <td>908</td>\n",
       "      <td>48</td>\n",
       "      <td>217</td>\n",
       "      <td>32</td>\n",
       "      <td>12</td>\n",
       "      <td>24</td>\n",
       "      <td>1</td>\n",
       "      <td>2</td>\n",
       "      <td>3</td>\n",
       "      <td>13</td>\n",
       "      <td>0</td>\n",
       "      <td>8.400000</td>\n",
       "      <td>1</td>\n",
       "      <td>12</td>\n",
       "      <td>At risk</td>\n",
       "    </tr>\n",
       "    <tr>\n",
       "      <th>2231</th>\n",
       "      <td>Together</td>\n",
       "      <td>0</td>\n",
       "      <td>1</td>\n",
       "      <td>8</td>\n",
       "      <td>428</td>\n",
       "      <td>30</td>\n",
       "      <td>214</td>\n",
       "      <td>80</td>\n",
       "      <td>30</td>\n",
       "      <td>61</td>\n",
       "      <td>2</td>\n",
       "      <td>6</td>\n",
       "      <td>5</td>\n",
       "      <td>10</td>\n",
       "      <td>0</td>\n",
       "      <td>8.433333</td>\n",
       "      <td>0</td>\n",
       "      <td>18</td>\n",
       "      <td>Champions</td>\n",
       "    </tr>\n",
       "    <tr>\n",
       "      <th>2232</th>\n",
       "      <td>Married</td>\n",
       "      <td>1</td>\n",
       "      <td>1</td>\n",
       "      <td>40</td>\n",
       "      <td>84</td>\n",
       "      <td>3</td>\n",
       "      <td>61</td>\n",
       "      <td>2</td>\n",
       "      <td>1</td>\n",
       "      <td>21</td>\n",
       "      <td>3</td>\n",
       "      <td>3</td>\n",
       "      <td>1</td>\n",
       "      <td>4</td>\n",
       "      <td>1</td>\n",
       "      <td>23.966667</td>\n",
       "      <td>0</td>\n",
       "      <td>21</td>\n",
       "      <td>Potential loyalist</td>\n",
       "    </tr>\n",
       "  </tbody>\n",
       "</table>\n",
       "<p>2233 rows × 19 columns</p>\n",
       "</div>"
      ],
      "text/plain": [
       "     Marital_Status  Kidhome  Teenhome  Recency  MntWines  MntFruits  \\\n",
       "0            Single        0         0       58       635         88   \n",
       "1            Single        1         1       38        11          1   \n",
       "2          Together        0         0       26       426         49   \n",
       "3          Together        1         0       26        11          4   \n",
       "4           Married        1         0       94       173         43   \n",
       "...             ...      ...       ...      ...       ...        ...   \n",
       "2228        Married        0         1       46       709         43   \n",
       "2229       Together        2         1       56       406          0   \n",
       "2230       Divorced        0         0       91       908         48   \n",
       "2231       Together        0         1        8       428         30   \n",
       "2232        Married        1         1       40        84          3   \n",
       "\n",
       "      MntMeatProducts  MntFishProducts  MntSweetProducts  MntGoldProds  \\\n",
       "0                 546              172                88            88   \n",
       "1                   6                2                 1             6   \n",
       "2                 127              111                21            42   \n",
       "3                  20               10                 3             5   \n",
       "4                 118               46                27            15   \n",
       "...               ...              ...               ...           ...   \n",
       "2228              182               42               118           247   \n",
       "2229               30                0                 0             8   \n",
       "2230              217               32                12            24   \n",
       "2231              214               80                30            61   \n",
       "2232               61                2                 1            21   \n",
       "\n",
       "      NumDealsPurchases  NumWebPurchases  NumCatalogPurchases  \\\n",
       "0                     3                8                   10   \n",
       "1                     2                1                    1   \n",
       "2                     1                8                    2   \n",
       "3                     2                2                    0   \n",
       "4                     5                5                    3   \n",
       "...                 ...              ...                  ...   \n",
       "2228                  2                9                    3   \n",
       "2229                  7                8                    2   \n",
       "2230                  1                2                    3   \n",
       "2231                  2                6                    5   \n",
       "2232                  3                3                    1   \n",
       "\n",
       "      NumStorePurchases  Response  Seniority  Accepted_offers  \\\n",
       "0                     4         1  25.333333                0   \n",
       "1                     2         0   7.000000                0   \n",
       "2                    10         0  13.633333                0   \n",
       "3                     4         0   7.866667                0   \n",
       "4                     6         0   8.600000                0   \n",
       "...                 ...       ...        ...              ...   \n",
       "2228                  4         0  15.933333                0   \n",
       "2229                  5         0   3.866667                1   \n",
       "2230                 13         0   8.400000                1   \n",
       "2231                 10         0   8.433333                0   \n",
       "2232                  4         1  23.966667                0   \n",
       "\n",
       "      Educationnal_years             Segment  \n",
       "0                     12     Loyal customers  \n",
       "1                     12           Promising  \n",
       "2                     12     Loyal customers  \n",
       "3                     12           Promising  \n",
       "4                     21             At risk  \n",
       "...                  ...                 ...  \n",
       "2228                  12      Need attention  \n",
       "2229                  21      Need attention  \n",
       "2230                  12             At risk  \n",
       "2231                  18           Champions  \n",
       "2232                  21  Potential loyalist  \n",
       "\n",
       "[2233 rows x 19 columns]"
      ]
     },
     "execution_count": 87,
     "metadata": {},
     "output_type": "execute_result"
    }
   ],
   "source": [
    "dataset=dataset.drop(columns=['Income','NumWebVisitsMonth','ID','Complain','Year_Birth'])\n",
    "#Final dataset before modeling\n",
    "dataset"
   ]
  },
  {
   "cell_type": "markdown",
   "metadata": {
    "papermill": {
     "duration": 0.076284,
     "end_time": "2021-03-16T23:16:43.056316",
     "exception": false,
     "start_time": "2021-03-16T23:16:42.980032",
     "status": "completed"
    },
    "tags": []
   },
   "source": [
    "### Split data into train test"
   ]
  },
  {
   "cell_type": "markdown",
   "metadata": {
    "papermill": {
     "duration": 0.075215,
     "end_time": "2021-03-16T23:16:43.210282",
     "exception": false,
     "start_time": "2021-03-16T23:16:43.135067",
     "status": "completed"
    },
    "tags": []
   },
   "source": [
    "We keep 20% of our dataset as unseen data to test the performance of our final model.  \n",
    "We will perform a stratified train-test split to ensure we have the same proportion of examples in each class for both the train and test set"
   ]
  },
  {
   "cell_type": "code",
   "execution_count": 88,
   "metadata": {
    "_kg_hide-input": true,
    "execution": {
     "iopub.execute_input": "2021-03-16T23:16:43.364623Z",
     "iopub.status.busy": "2021-03-16T23:16:43.363920Z",
     "iopub.status.idle": "2021-03-16T23:16:43.379274Z",
     "shell.execute_reply": "2021-03-16T23:16:43.378694Z"
    },
    "papermill": {
     "duration": 0.09394,
     "end_time": "2021-03-16T23:16:43.379450",
     "exception": false,
     "start_time": "2021-03-16T23:16:43.285510",
     "status": "completed"
    },
    "tags": []
   },
   "outputs": [
    {
     "name": "stdout",
     "output_type": "stream",
     "text": [
      "Class=1, Count=267, Percentage=14.95%\n",
      "Class=0, Count=1519, Percentage=85.05%\n"
     ]
    }
   ],
   "source": [
    "X=dataset.drop(columns=['Response'])\n",
    "Y=dataset['Response']\n",
    "#1. Split data into X and Y. We use stratify to keep an equal proportion of examples in each class between train set and test set\n",
    "X_train, X_test, y_train, y_test = train_test_split(X,Y ,test_size=0.2, random_state=1,shuffle=True, stratify=Y)\n",
    "target = y_train\n",
    "counter = Counter(target)\n",
    "for k,v in counter.items():\n",
    "    per = v / len(target) * 100\n",
    "    print('Class=%s, Count=%d, Percentage=%.2f%%' % (k, v, per))"
   ]
  },
  {
   "cell_type": "markdown",
   "metadata": {
    "papermill": {
     "duration": 0.075683,
     "end_time": "2021-03-16T23:16:43.530452",
     "exception": false,
     "start_time": "2021-03-16T23:16:43.454769",
     "status": "completed"
    },
    "tags": []
   },
   "source": [
    "### Pipeline creation"
   ]
  },
  {
   "cell_type": "code",
   "execution_count": 89,
   "metadata": {
    "execution": {
     "iopub.execute_input": "2021-03-16T23:16:43.690406Z",
     "iopub.status.busy": "2021-03-16T23:16:43.689618Z",
     "iopub.status.idle": "2021-03-16T23:16:43.692762Z",
     "shell.execute_reply": "2021-03-16T23:16:43.692192Z"
    },
    "papermill": {
     "duration": 0.086128,
     "end_time": "2021-03-16T23:16:43.692913",
     "exception": false,
     "start_time": "2021-03-16T23:16:43.606785",
     "status": "completed"
    },
    "tags": []
   },
   "outputs": [],
   "source": [
    "numeric_pipe = Pipeline([('fs', feat_sel(dtype='numeric')),  # Select only the numeric features\n",
    "                         ('unskewed', df_unskewed()), #Unskew data\n",
    "                         ('scl', df_scaler()) # Scale data\n",
    "                        ])  \n",
    "categorical_pipeline = Pipeline( steps = [( 'fs', feat_sel(dtype='category')), # Select only the categorical features\n",
    "                                          ('label_encoder', Label_encode()), #Label encoder\n",
    "                                          ])\n",
    "processing_pipe = FeatureUnion_df(transformer_list=[('cat_pipe', categorical_pipeline),\n",
    "                                                    ('num_pipe', numeric_pipe)\n",
    "                                                   ])"
   ]
  },
  {
   "cell_type": "markdown",
   "metadata": {
    "papermill": {
     "duration": 0.075729,
     "end_time": "2021-03-16T23:16:43.843869",
     "exception": false,
     "start_time": "2021-03-16T23:16:43.768140",
     "status": "completed"
    },
    "tags": []
   },
   "source": [
    "### 2. Model creation <a class=\"anchor\" id=\"section_2\"></a>"
   ]
  },
  {
   "cell_type": "markdown",
   "metadata": {
    "papermill": {
     "duration": 0.075099,
     "end_time": "2021-03-16T23:16:43.995020",
     "exception": false,
     "start_time": "2021-03-16T23:16:43.919921",
     "status": "completed"
    },
    "tags": []
   },
   "source": [
    "### A. Evaluate algorithm baseline performance with nested cross-validation<a class=\"anchor\" id=\"section_2_1\"></a>"
   ]
  },
  {
   "cell_type": "markdown",
   "metadata": {
    "papermill": {
     "duration": 0.075135,
     "end_time": "2021-03-16T23:16:44.146344",
     "exception": false,
     "start_time": "2021-03-16T23:16:44.071209",
     "status": "completed"
    },
    "tags": []
   },
   "source": [
    "Our first step will be to test different models without heavy hyperparameter tuning.  \n",
    "We will evaluate the different models with weighted F1-score.  \n",
    "As we are running model selection and hyperparameter tunning at the same time, we will do a nested cross-validation to get an unbiaised estimate of model performance. **Two cross-validation loops are performed in parallel:** \n",
    "- One inner loop by the GridSearchCV estimator for hyperparameter otpimization, preprocessing steps and feature selection \n",
    "- One outer loop to measure the prediction performance of the estimator.  \n",
    "\n",
    "The resulting scores are unbiased estimates of the prediction score on new data. Nested cross-validation along the use of pipelines enables us to prevent data leakage."
   ]
  },
  {
   "cell_type": "markdown",
   "metadata": {
    "papermill": {
     "duration": 0.075666,
     "end_time": "2021-03-16T23:16:44.298337",
     "exception": false,
     "start_time": "2021-03-16T23:16:44.222671",
     "status": "completed"
    },
    "tags": []
   },
   "source": [
    "We use a mix of different models :\n",
    "- 2 linear models (Logistic Regression and Linear Discriminant Analysis)\n",
    "- 2 nonlinear models (Support Vector Machine and K-Nearest Neighbors)\n",
    "- 2 ensemble algorithms (Random Forest and Catboost)\n",
    "\n",
    "Our Nested cross validation will evaluate a total of 3690 combinations (246x3x5)"
   ]
  },
  {
   "cell_type": "code",
   "execution_count": 92,
   "metadata": {
    "execution": {
     "iopub.execute_input": "2021-03-16T23:16:44.453490Z",
     "iopub.status.busy": "2021-03-16T23:16:44.452707Z",
     "iopub.status.idle": "2021-03-16T23:45:32.662911Z",
     "shell.execute_reply": "2021-03-16T23:45:32.663397Z"
    },
    "papermill": {
     "duration": 1728.289597,
     "end_time": "2021-03-16T23:45:32.663546",
     "exception": false,
     "start_time": "2021-03-16T23:16:44.373949",
     "status": "completed"
    },
    "tags": []
   },
   "outputs": [
    {
     "ename": "TypeError",
     "evalue": "FeatureUnion_df.__init__() got an unexpected keyword argument 'verbose_feature_names_out'",
     "output_type": "error",
     "traceback": [
      "\u001b[0;31m---------------------------------------------------------------------------\u001b[0m",
      "\u001b[0;31mTypeError\u001b[0m                                 Traceback (most recent call last)",
      "File \u001b[0;32m<timed exec>:65\u001b[0m\n",
      "File \u001b[0;32m~/anaconda3/envs/cic1205/lib/python3.12/site-packages/sklearn/base.py:1473\u001b[0m, in \u001b[0;36m_fit_context.<locals>.decorator.<locals>.wrapper\u001b[0;34m(estimator, *args, **kwargs)\u001b[0m\n\u001b[1;32m   1466\u001b[0m     estimator\u001b[38;5;241m.\u001b[39m_validate_params()\n\u001b[1;32m   1468\u001b[0m \u001b[38;5;28;01mwith\u001b[39;00m config_context(\n\u001b[1;32m   1469\u001b[0m     skip_parameter_validation\u001b[38;5;241m=\u001b[39m(\n\u001b[1;32m   1470\u001b[0m         prefer_skip_nested_validation \u001b[38;5;129;01mor\u001b[39;00m global_skip_validation\n\u001b[1;32m   1471\u001b[0m     )\n\u001b[1;32m   1472\u001b[0m ):\n\u001b[0;32m-> 1473\u001b[0m     \u001b[38;5;28;01mreturn\u001b[39;00m \u001b[43mfit_method\u001b[49m\u001b[43m(\u001b[49m\u001b[43mestimator\u001b[49m\u001b[43m,\u001b[49m\u001b[43m \u001b[49m\u001b[38;5;241;43m*\u001b[39;49m\u001b[43margs\u001b[49m\u001b[43m,\u001b[49m\u001b[43m \u001b[49m\u001b[38;5;241;43m*\u001b[39;49m\u001b[38;5;241;43m*\u001b[39;49m\u001b[43mkwargs\u001b[49m\u001b[43m)\u001b[49m\n",
      "File \u001b[0;32m~/anaconda3/envs/cic1205/lib/python3.12/site-packages/sklearn/model_selection/_search.py:931\u001b[0m, in \u001b[0;36mBaseSearchCV.fit\u001b[0;34m(self, X, y, **params)\u001b[0m\n\u001b[1;32m    928\u001b[0m cv_orig \u001b[38;5;241m=\u001b[39m check_cv(\u001b[38;5;28mself\u001b[39m\u001b[38;5;241m.\u001b[39mcv, y, classifier\u001b[38;5;241m=\u001b[39mis_classifier(estimator))\n\u001b[1;32m    929\u001b[0m n_splits \u001b[38;5;241m=\u001b[39m cv_orig\u001b[38;5;241m.\u001b[39mget_n_splits(X, y, \u001b[38;5;241m*\u001b[39m\u001b[38;5;241m*\u001b[39mrouted_params\u001b[38;5;241m.\u001b[39msplitter\u001b[38;5;241m.\u001b[39msplit)\n\u001b[0;32m--> 931\u001b[0m base_estimator \u001b[38;5;241m=\u001b[39m \u001b[43mclone\u001b[49m\u001b[43m(\u001b[49m\u001b[38;5;28;43mself\u001b[39;49m\u001b[38;5;241;43m.\u001b[39;49m\u001b[43mestimator\u001b[49m\u001b[43m)\u001b[49m\n\u001b[1;32m    933\u001b[0m parallel \u001b[38;5;241m=\u001b[39m Parallel(n_jobs\u001b[38;5;241m=\u001b[39m\u001b[38;5;28mself\u001b[39m\u001b[38;5;241m.\u001b[39mn_jobs, pre_dispatch\u001b[38;5;241m=\u001b[39m\u001b[38;5;28mself\u001b[39m\u001b[38;5;241m.\u001b[39mpre_dispatch)\n\u001b[1;32m    935\u001b[0m fit_and_score_kwargs \u001b[38;5;241m=\u001b[39m \u001b[38;5;28mdict\u001b[39m(\n\u001b[1;32m    936\u001b[0m     scorer\u001b[38;5;241m=\u001b[39mscorers,\n\u001b[1;32m    937\u001b[0m     fit_params\u001b[38;5;241m=\u001b[39mrouted_params\u001b[38;5;241m.\u001b[39mestimator\u001b[38;5;241m.\u001b[39mfit,\n\u001b[0;32m   (...)\u001b[0m\n\u001b[1;32m    944\u001b[0m     verbose\u001b[38;5;241m=\u001b[39m\u001b[38;5;28mself\u001b[39m\u001b[38;5;241m.\u001b[39mverbose,\n\u001b[1;32m    945\u001b[0m )\n",
      "File \u001b[0;32m~/anaconda3/envs/cic1205/lib/python3.12/site-packages/sklearn/base.py:90\u001b[0m, in \u001b[0;36mclone\u001b[0;34m(estimator, safe)\u001b[0m\n\u001b[1;32m     41\u001b[0m \u001b[38;5;250m\u001b[39m\u001b[38;5;124;03m\"\"\"Construct a new unfitted estimator with the same parameters.\u001b[39;00m\n\u001b[1;32m     42\u001b[0m \n\u001b[1;32m     43\u001b[0m \u001b[38;5;124;03mClone does a deep copy of the model in an estimator\u001b[39;00m\n\u001b[0;32m   (...)\u001b[0m\n\u001b[1;32m     87\u001b[0m \u001b[38;5;124;03mFalse\u001b[39;00m\n\u001b[1;32m     88\u001b[0m \u001b[38;5;124;03m\"\"\"\u001b[39;00m\n\u001b[1;32m     89\u001b[0m \u001b[38;5;28;01mif\u001b[39;00m \u001b[38;5;28mhasattr\u001b[39m(estimator, \u001b[38;5;124m\"\u001b[39m\u001b[38;5;124m__sklearn_clone__\u001b[39m\u001b[38;5;124m\"\u001b[39m) \u001b[38;5;129;01mand\u001b[39;00m \u001b[38;5;129;01mnot\u001b[39;00m inspect\u001b[38;5;241m.\u001b[39misclass(estimator):\n\u001b[0;32m---> 90\u001b[0m     \u001b[38;5;28;01mreturn\u001b[39;00m \u001b[43mestimator\u001b[49m\u001b[38;5;241;43m.\u001b[39;49m\u001b[43m__sklearn_clone__\u001b[49m\u001b[43m(\u001b[49m\u001b[43m)\u001b[49m\n\u001b[1;32m     91\u001b[0m \u001b[38;5;28;01mreturn\u001b[39;00m _clone_parametrized(estimator, safe\u001b[38;5;241m=\u001b[39msafe)\n",
      "File \u001b[0;32m~/anaconda3/envs/cic1205/lib/python3.12/site-packages/sklearn/base.py:296\u001b[0m, in \u001b[0;36mBaseEstimator.__sklearn_clone__\u001b[0;34m(self)\u001b[0m\n\u001b[1;32m    295\u001b[0m \u001b[38;5;28;01mdef\u001b[39;00m \u001b[38;5;21m__sklearn_clone__\u001b[39m(\u001b[38;5;28mself\u001b[39m):\n\u001b[0;32m--> 296\u001b[0m     \u001b[38;5;28;01mreturn\u001b[39;00m \u001b[43m_clone_parametrized\u001b[49m\u001b[43m(\u001b[49m\u001b[38;5;28;43mself\u001b[39;49m\u001b[43m)\u001b[49m\n",
      "File \u001b[0;32m~/anaconda3/envs/cic1205/lib/python3.12/site-packages/sklearn/base.py:123\u001b[0m, in \u001b[0;36m_clone_parametrized\u001b[0;34m(estimator, safe)\u001b[0m\n\u001b[1;32m    121\u001b[0m new_object_params \u001b[38;5;241m=\u001b[39m estimator\u001b[38;5;241m.\u001b[39mget_params(deep\u001b[38;5;241m=\u001b[39m\u001b[38;5;28;01mFalse\u001b[39;00m)\n\u001b[1;32m    122\u001b[0m \u001b[38;5;28;01mfor\u001b[39;00m name, param \u001b[38;5;129;01min\u001b[39;00m new_object_params\u001b[38;5;241m.\u001b[39mitems():\n\u001b[0;32m--> 123\u001b[0m     new_object_params[name] \u001b[38;5;241m=\u001b[39m \u001b[43mclone\u001b[49m\u001b[43m(\u001b[49m\u001b[43mparam\u001b[49m\u001b[43m,\u001b[49m\u001b[43m \u001b[49m\u001b[43msafe\u001b[49m\u001b[38;5;241;43m=\u001b[39;49m\u001b[38;5;28;43;01mFalse\u001b[39;49;00m\u001b[43m)\u001b[49m\n\u001b[1;32m    125\u001b[0m new_object \u001b[38;5;241m=\u001b[39m klass(\u001b[38;5;241m*\u001b[39m\u001b[38;5;241m*\u001b[39mnew_object_params)\n\u001b[1;32m    126\u001b[0m \u001b[38;5;28;01mtry\u001b[39;00m:\n",
      "File \u001b[0;32m~/anaconda3/envs/cic1205/lib/python3.12/site-packages/sklearn/base.py:91\u001b[0m, in \u001b[0;36mclone\u001b[0;34m(estimator, safe)\u001b[0m\n\u001b[1;32m     89\u001b[0m \u001b[38;5;28;01mif\u001b[39;00m \u001b[38;5;28mhasattr\u001b[39m(estimator, \u001b[38;5;124m\"\u001b[39m\u001b[38;5;124m__sklearn_clone__\u001b[39m\u001b[38;5;124m\"\u001b[39m) \u001b[38;5;129;01mand\u001b[39;00m \u001b[38;5;129;01mnot\u001b[39;00m inspect\u001b[38;5;241m.\u001b[39misclass(estimator):\n\u001b[1;32m     90\u001b[0m     \u001b[38;5;28;01mreturn\u001b[39;00m estimator\u001b[38;5;241m.\u001b[39m__sklearn_clone__()\n\u001b[0;32m---> 91\u001b[0m \u001b[38;5;28;01mreturn\u001b[39;00m \u001b[43m_clone_parametrized\u001b[49m\u001b[43m(\u001b[49m\u001b[43mestimator\u001b[49m\u001b[43m,\u001b[49m\u001b[43m \u001b[49m\u001b[43msafe\u001b[49m\u001b[38;5;241;43m=\u001b[39;49m\u001b[43msafe\u001b[49m\u001b[43m)\u001b[49m\n",
      "File \u001b[0;32m~/anaconda3/envs/cic1205/lib/python3.12/site-packages/sklearn/base.py:101\u001b[0m, in \u001b[0;36m_clone_parametrized\u001b[0;34m(estimator, safe)\u001b[0m\n\u001b[1;32m     99\u001b[0m     \u001b[38;5;28;01mreturn\u001b[39;00m {k: clone(v, safe\u001b[38;5;241m=\u001b[39msafe) \u001b[38;5;28;01mfor\u001b[39;00m k, v \u001b[38;5;129;01min\u001b[39;00m estimator\u001b[38;5;241m.\u001b[39mitems()}\n\u001b[1;32m    100\u001b[0m \u001b[38;5;28;01melif\u001b[39;00m estimator_type \u001b[38;5;129;01min\u001b[39;00m (\u001b[38;5;28mlist\u001b[39m, \u001b[38;5;28mtuple\u001b[39m, \u001b[38;5;28mset\u001b[39m, \u001b[38;5;28mfrozenset\u001b[39m):\n\u001b[0;32m--> 101\u001b[0m     \u001b[38;5;28;01mreturn\u001b[39;00m estimator_type([\u001b[43mclone\u001b[49m\u001b[43m(\u001b[49m\u001b[43me\u001b[49m\u001b[43m,\u001b[49m\u001b[43m \u001b[49m\u001b[43msafe\u001b[49m\u001b[38;5;241;43m=\u001b[39;49m\u001b[43msafe\u001b[49m\u001b[43m)\u001b[49m \u001b[38;5;28;01mfor\u001b[39;00m e \u001b[38;5;129;01min\u001b[39;00m estimator])\n\u001b[1;32m    102\u001b[0m \u001b[38;5;28;01melif\u001b[39;00m \u001b[38;5;129;01mnot\u001b[39;00m \u001b[38;5;28mhasattr\u001b[39m(estimator, \u001b[38;5;124m\"\u001b[39m\u001b[38;5;124mget_params\u001b[39m\u001b[38;5;124m\"\u001b[39m) \u001b[38;5;129;01mor\u001b[39;00m \u001b[38;5;28misinstance\u001b[39m(estimator, \u001b[38;5;28mtype\u001b[39m):\n\u001b[1;32m    103\u001b[0m     \u001b[38;5;28;01mif\u001b[39;00m \u001b[38;5;129;01mnot\u001b[39;00m safe:\n",
      "File \u001b[0;32m~/anaconda3/envs/cic1205/lib/python3.12/site-packages/sklearn/base.py:91\u001b[0m, in \u001b[0;36mclone\u001b[0;34m(estimator, safe)\u001b[0m\n\u001b[1;32m     89\u001b[0m \u001b[38;5;28;01mif\u001b[39;00m \u001b[38;5;28mhasattr\u001b[39m(estimator, \u001b[38;5;124m\"\u001b[39m\u001b[38;5;124m__sklearn_clone__\u001b[39m\u001b[38;5;124m\"\u001b[39m) \u001b[38;5;129;01mand\u001b[39;00m \u001b[38;5;129;01mnot\u001b[39;00m inspect\u001b[38;5;241m.\u001b[39misclass(estimator):\n\u001b[1;32m     90\u001b[0m     \u001b[38;5;28;01mreturn\u001b[39;00m estimator\u001b[38;5;241m.\u001b[39m__sklearn_clone__()\n\u001b[0;32m---> 91\u001b[0m \u001b[38;5;28;01mreturn\u001b[39;00m \u001b[43m_clone_parametrized\u001b[49m\u001b[43m(\u001b[49m\u001b[43mestimator\u001b[49m\u001b[43m,\u001b[49m\u001b[43m \u001b[49m\u001b[43msafe\u001b[49m\u001b[38;5;241;43m=\u001b[39;49m\u001b[43msafe\u001b[49m\u001b[43m)\u001b[49m\n",
      "File \u001b[0;32m~/anaconda3/envs/cic1205/lib/python3.12/site-packages/sklearn/base.py:101\u001b[0m, in \u001b[0;36m_clone_parametrized\u001b[0;34m(estimator, safe)\u001b[0m\n\u001b[1;32m     99\u001b[0m     \u001b[38;5;28;01mreturn\u001b[39;00m {k: clone(v, safe\u001b[38;5;241m=\u001b[39msafe) \u001b[38;5;28;01mfor\u001b[39;00m k, v \u001b[38;5;129;01min\u001b[39;00m estimator\u001b[38;5;241m.\u001b[39mitems()}\n\u001b[1;32m    100\u001b[0m \u001b[38;5;28;01melif\u001b[39;00m estimator_type \u001b[38;5;129;01min\u001b[39;00m (\u001b[38;5;28mlist\u001b[39m, \u001b[38;5;28mtuple\u001b[39m, \u001b[38;5;28mset\u001b[39m, \u001b[38;5;28mfrozenset\u001b[39m):\n\u001b[0;32m--> 101\u001b[0m     \u001b[38;5;28;01mreturn\u001b[39;00m estimator_type([\u001b[43mclone\u001b[49m\u001b[43m(\u001b[49m\u001b[43me\u001b[49m\u001b[43m,\u001b[49m\u001b[43m \u001b[49m\u001b[43msafe\u001b[49m\u001b[38;5;241;43m=\u001b[39;49m\u001b[43msafe\u001b[49m\u001b[43m)\u001b[49m \u001b[38;5;28;01mfor\u001b[39;00m e \u001b[38;5;129;01min\u001b[39;00m estimator])\n\u001b[1;32m    102\u001b[0m \u001b[38;5;28;01melif\u001b[39;00m \u001b[38;5;129;01mnot\u001b[39;00m \u001b[38;5;28mhasattr\u001b[39m(estimator, \u001b[38;5;124m\"\u001b[39m\u001b[38;5;124mget_params\u001b[39m\u001b[38;5;124m\"\u001b[39m) \u001b[38;5;129;01mor\u001b[39;00m \u001b[38;5;28misinstance\u001b[39m(estimator, \u001b[38;5;28mtype\u001b[39m):\n\u001b[1;32m    103\u001b[0m     \u001b[38;5;28;01mif\u001b[39;00m \u001b[38;5;129;01mnot\u001b[39;00m safe:\n",
      "File \u001b[0;32m~/anaconda3/envs/cic1205/lib/python3.12/site-packages/sklearn/base.py:90\u001b[0m, in \u001b[0;36mclone\u001b[0;34m(estimator, safe)\u001b[0m\n\u001b[1;32m     41\u001b[0m \u001b[38;5;250m\u001b[39m\u001b[38;5;124;03m\"\"\"Construct a new unfitted estimator with the same parameters.\u001b[39;00m\n\u001b[1;32m     42\u001b[0m \n\u001b[1;32m     43\u001b[0m \u001b[38;5;124;03mClone does a deep copy of the model in an estimator\u001b[39;00m\n\u001b[0;32m   (...)\u001b[0m\n\u001b[1;32m     87\u001b[0m \u001b[38;5;124;03mFalse\u001b[39;00m\n\u001b[1;32m     88\u001b[0m \u001b[38;5;124;03m\"\"\"\u001b[39;00m\n\u001b[1;32m     89\u001b[0m \u001b[38;5;28;01mif\u001b[39;00m \u001b[38;5;28mhasattr\u001b[39m(estimator, \u001b[38;5;124m\"\u001b[39m\u001b[38;5;124m__sklearn_clone__\u001b[39m\u001b[38;5;124m\"\u001b[39m) \u001b[38;5;129;01mand\u001b[39;00m \u001b[38;5;129;01mnot\u001b[39;00m inspect\u001b[38;5;241m.\u001b[39misclass(estimator):\n\u001b[0;32m---> 90\u001b[0m     \u001b[38;5;28;01mreturn\u001b[39;00m \u001b[43mestimator\u001b[49m\u001b[38;5;241;43m.\u001b[39;49m\u001b[43m__sklearn_clone__\u001b[49m\u001b[43m(\u001b[49m\u001b[43m)\u001b[49m\n\u001b[1;32m     91\u001b[0m \u001b[38;5;28;01mreturn\u001b[39;00m _clone_parametrized(estimator, safe\u001b[38;5;241m=\u001b[39msafe)\n",
      "File \u001b[0;32m~/anaconda3/envs/cic1205/lib/python3.12/site-packages/sklearn/base.py:296\u001b[0m, in \u001b[0;36mBaseEstimator.__sklearn_clone__\u001b[0;34m(self)\u001b[0m\n\u001b[1;32m    295\u001b[0m \u001b[38;5;28;01mdef\u001b[39;00m \u001b[38;5;21m__sklearn_clone__\u001b[39m(\u001b[38;5;28mself\u001b[39m):\n\u001b[0;32m--> 296\u001b[0m     \u001b[38;5;28;01mreturn\u001b[39;00m \u001b[43m_clone_parametrized\u001b[49m\u001b[43m(\u001b[49m\u001b[38;5;28;43mself\u001b[39;49m\u001b[43m)\u001b[49m\n",
      "File \u001b[0;32m~/anaconda3/envs/cic1205/lib/python3.12/site-packages/sklearn/base.py:125\u001b[0m, in \u001b[0;36m_clone_parametrized\u001b[0;34m(estimator, safe)\u001b[0m\n\u001b[1;32m    122\u001b[0m \u001b[38;5;28;01mfor\u001b[39;00m name, param \u001b[38;5;129;01min\u001b[39;00m new_object_params\u001b[38;5;241m.\u001b[39mitems():\n\u001b[1;32m    123\u001b[0m     new_object_params[name] \u001b[38;5;241m=\u001b[39m clone(param, safe\u001b[38;5;241m=\u001b[39m\u001b[38;5;28;01mFalse\u001b[39;00m)\n\u001b[0;32m--> 125\u001b[0m new_object \u001b[38;5;241m=\u001b[39m \u001b[43mklass\u001b[49m\u001b[43m(\u001b[49m\u001b[38;5;241;43m*\u001b[39;49m\u001b[38;5;241;43m*\u001b[39;49m\u001b[43mnew_object_params\u001b[49m\u001b[43m)\u001b[49m\n\u001b[1;32m    126\u001b[0m \u001b[38;5;28;01mtry\u001b[39;00m:\n\u001b[1;32m    127\u001b[0m     new_object\u001b[38;5;241m.\u001b[39m_metadata_request \u001b[38;5;241m=\u001b[39m copy\u001b[38;5;241m.\u001b[39mdeepcopy(estimator\u001b[38;5;241m.\u001b[39m_metadata_request)\n",
      "\u001b[0;31mTypeError\u001b[0m: FeatureUnion_df.__init__() got an unexpected keyword argument 'verbose_feature_names_out'"
     ]
    }
   ],
   "source": [
    "%%time\n",
    "\n",
    "#Outer loop\n",
    "cv_outer = StratifiedKFold(n_splits=5, shuffle=True, random_state=1)\n",
    "outer_results = list()\n",
    "\n",
    "for train_ix, valid_ix in cv_outer.split(X_train,y_train):\n",
    "    Xtrain, X_valid = X_train.iloc[train_ix, :], X_train.iloc[valid_ix, :]\n",
    "    ytrain, y_valid = y_train.iloc[train_ix], y_train.iloc[valid_ix]\n",
    "       \n",
    "    #our pipeline    \n",
    "    pipe = Pipeline([\n",
    "    ('prep',processing_pipe),\n",
    "    ('selector', SelectKBest(f_classif, k=10)),\n",
    "    ('resample' ,SMOTETomek(sampling_strategy=0.7,random_state=1)),\n",
    "    ('est', Model_selection())])\n",
    "    \n",
    "    #search space containing feature selection, preprocessing steps and model hyperparameters\n",
    "    search_space = [\n",
    "                {'est__estimator':[SVC()],\n",
    "                 'selector__k': [10,14,18],\n",
    "                 'est__estimator__C': [0.1,1,10],\n",
    "                 'est__estimator__kernel': ['rbf', 'poly'],\n",
    "                 'est__estimator__random_state' : [1],\n",
    "                 'est__estimator__verbose' : [False],\n",
    "                 'prep__num_pipe__unskewed__method': ['yeo-johnson','None'],\n",
    "                 'prep__num_pipe__scl__method': [StandardScaler(),RobustScaler()]},\n",
    "        \n",
    "                {'est__estimator':[LogisticRegression()],\n",
    "                'selector__k': [10,14,18],\n",
    "                'est__estimator__random_state' : [1],\n",
    "                 'est__estimator__verbose' : [False],\n",
    "                 'prep__num_pipe__unskewed__method': ['yeo-johnson','None'],\n",
    "                 'prep__num_pipe__scl__method': [StandardScaler(),RobustScaler()]},    \n",
    "        \n",
    "                {'est__estimator':[KNeighborsClassifier()],\n",
    "                 'selector__k': [10,14,18],\n",
    "                 'est__estimator__n_neighbors': [3,5,11,15],\n",
    "                 'est__estimator__metric' : ['euclidean', 'manhattan'],\n",
    "                 'prep__num_pipe__unskewed__method': ['yeo-johnson','None'],\n",
    "                 'prep__num_pipe__scl__method': [StandardScaler(),RobustScaler()]},\n",
    "        \n",
    "                {'est__estimator':[LinearDiscriminantAnalysis()],\n",
    "                 'selector__k': [10,14,18],\n",
    "                 'est__estimator__solver':  ['svd', 'lsqr'],\n",
    "                 'prep__num_pipe__unskewed__method': ['yeo-johnson','None'],\n",
    "                 'prep__num_pipe__scl__method': [StandardScaler(),RobustScaler()]},\n",
    "        \n",
    "                {'est__estimator':[RandomForestClassifier()],\n",
    "                 'selector__k': [10,14,18],\n",
    "                 'est__estimator__random_state' : [1],\n",
    "                 'est__estimator__n_estimators': [10, 100, 1000],\n",
    "                 'est__estimator__max_features' : ['sqrt', 'log2'],\n",
    "                 'prep__num_pipe__scl__method': [StandardScaler(),RobustScaler()]}, \n",
    "\n",
    "                {'est__estimator': [CatBoostClassifier()],\n",
    "                 'selector__k': [10,14,18],\n",
    "                 'est__estimator__random_state' : [1],\n",
    "                 'est__estimator__silent' : [True],\n",
    "                 'est__estimator__early_stopping_rounds':[100],\n",
    "                 'est__estimator__loss_function':['CrossEntropy'],\n",
    "                 'prep__num_pipe__scl__method': [StandardScaler(),RobustScaler()]},\n",
    "                  ]\n",
    "    #inner loop\n",
    "    cv_inner=StratifiedKFold(n_splits=3, shuffle=True, random_state=1)\n",
    "    clf = GridSearchCV(pipe, search_space,cv=cv_inner, scoring='f1_weighted',refit=True)\n",
    "    clf.fit(Xtrain, ytrain)\n",
    "\n",
    "    best_model = clf.best_estimator_\n",
    "    # evaluate model on the hold out dataset\n",
    "    yhat = best_model.predict(X_valid)\n",
    "    # F1 score\n",
    "    F1 = f1_score(y_valid, yhat,average='weighted')\n",
    "    # store the result\n",
    "    outer_results.append(F1)\n",
    "    # report best model for each fold of the outer loop\n",
    "    print('>F1=%.3f, best score=%.3f, model=%s' % (F1, clf.best_score_, clf.best_params_))\n",
    "# Get a summarized result\n",
    "print('Weighted F1-score: %.3f (%.3f)' % (mean(outer_results), std(outer_results)))"
   ]
  },
  {
   "cell_type": "markdown",
   "metadata": {
    "papermill": {
     "duration": 0.073566,
     "end_time": "2021-03-16T23:45:32.810416",
     "exception": false,
     "start_time": "2021-03-16T23:45:32.736850",
     "status": "completed"
    },
    "tags": []
   },
   "source": [
    "We can have a look at the result of the last fold. we can see the top models are indeed SVC, Catboost and Random Forest with 18 features.  \n",
    "These 3 estimators seem to be the most promising and we will retain them for deeper hyperparameter tuning.  \n",
    "Regarding our preprocessing steps, we will retain RobustScaler and no power transformation."
   ]
  },
  {
   "cell_type": "code",
   "execution_count": 95,
   "metadata": {
    "execution": {
     "iopub.execute_input": "2021-03-16T23:45:32.969177Z",
     "iopub.status.busy": "2021-03-16T23:45:32.968392Z",
     "iopub.status.idle": "2021-03-16T23:45:33.006142Z",
     "shell.execute_reply": "2021-03-16T23:45:33.005648Z"
    },
    "papermill": {
     "duration": 0.122783,
     "end_time": "2021-03-16T23:45:33.006294",
     "exception": false,
     "start_time": "2021-03-16T23:45:32.883511",
     "status": "completed"
    },
    "tags": []
   },
   "outputs": [
    {
     "ename": "AttributeError",
     "evalue": "'GridSearchCV' object has no attribute 'cv_results_'",
     "output_type": "error",
     "traceback": [
      "\u001b[0;31m---------------------------------------------------------------------------\u001b[0m",
      "\u001b[0;31mAttributeError\u001b[0m                            Traceback (most recent call last)",
      "Cell \u001b[0;32mIn[95], line 5\u001b[0m\n\u001b[1;32m      3\u001b[0m     df \u001b[38;5;241m=\u001b[39m df\u001b[38;5;241m.\u001b[39msort_values(\u001b[38;5;124m\"\u001b[39m\u001b[38;5;124mScore\u001b[39m\u001b[38;5;124m\"\u001b[39m, ascending\u001b[38;5;241m=\u001b[39m\u001b[38;5;28;01mFalse\u001b[39;00m)\n\u001b[1;32m      4\u001b[0m     \u001b[38;5;28;01mreturn\u001b[39;00m df\u001b[38;5;241m.\u001b[39mfillna(value\u001b[38;5;241m=\u001b[39m\u001b[38;5;124m\"\u001b[39m\u001b[38;5;124m\"\u001b[39m)\n\u001b[0;32m----> 5\u001b[0m df_res \u001b[38;5;241m=\u001b[39m \u001b[43mformat_cv_results\u001b[49m\u001b[43m(\u001b[49m\u001b[43mclf\u001b[49m\u001b[43m)\u001b[49m\n\u001b[1;32m      6\u001b[0m df_res\u001b[38;5;241m.\u001b[39mhead(\u001b[38;5;241m10\u001b[39m)\n",
      "Cell \u001b[0;32mIn[95], line 2\u001b[0m, in \u001b[0;36mformat_cv_results\u001b[0;34m(clf)\u001b[0m\n\u001b[1;32m      1\u001b[0m \u001b[38;5;28;01mdef\u001b[39;00m \u001b[38;5;21mformat_cv_results\u001b[39m(clf):\n\u001b[0;32m----> 2\u001b[0m     df \u001b[38;5;241m=\u001b[39m pd\u001b[38;5;241m.\u001b[39mconcat([pd\u001b[38;5;241m.\u001b[39mDataFrame(\u001b[43mclf\u001b[49m\u001b[38;5;241;43m.\u001b[39;49m\u001b[43mcv_results_\u001b[49m[\u001b[38;5;124m\"\u001b[39m\u001b[38;5;124mparams\u001b[39m\u001b[38;5;124m\"\u001b[39m]),pd\u001b[38;5;241m.\u001b[39mDataFrame(clf\u001b[38;5;241m.\u001b[39mcv_results_[\u001b[38;5;124m\"\u001b[39m\u001b[38;5;124mmean_test_score\u001b[39m\u001b[38;5;124m\"\u001b[39m], columns\u001b[38;5;241m=\u001b[39m[\u001b[38;5;124m\"\u001b[39m\u001b[38;5;124mScore\u001b[39m\u001b[38;5;124m\"\u001b[39m])],axis\u001b[38;5;241m=\u001b[39m\u001b[38;5;241m1\u001b[39m)\n\u001b[1;32m      3\u001b[0m     df \u001b[38;5;241m=\u001b[39m df\u001b[38;5;241m.\u001b[39msort_values(\u001b[38;5;124m\"\u001b[39m\u001b[38;5;124mScore\u001b[39m\u001b[38;5;124m\"\u001b[39m, ascending\u001b[38;5;241m=\u001b[39m\u001b[38;5;28;01mFalse\u001b[39;00m)\n\u001b[1;32m      4\u001b[0m     \u001b[38;5;28;01mreturn\u001b[39;00m df\u001b[38;5;241m.\u001b[39mfillna(value\u001b[38;5;241m=\u001b[39m\u001b[38;5;124m\"\u001b[39m\u001b[38;5;124m\"\u001b[39m)\n",
      "\u001b[0;31mAttributeError\u001b[0m: 'GridSearchCV' object has no attribute 'cv_results_'"
     ]
    }
   ],
   "source": [
    "def format_cv_results(clf):\n",
    "    df = pd.concat([pd.DataFrame(clf.cv_results_[\"params\"]),pd.DataFrame(clf.cv_results_[\"mean_test_score\"], columns=[\"Score\"])],axis=1)\n",
    "    df = df.sort_values(\"Score\", ascending=False)\n",
    "    return df.fillna(value=\"\")\n",
    "df_res = format_cv_results(clf)\n",
    "df_res.head(10)"
   ]
  },
  {
   "cell_type": "markdown",
   "metadata": {
    "papermill": {
     "duration": 0.080026,
     "end_time": "2021-03-16T23:45:33.158351",
     "exception": false,
     "start_time": "2021-03-16T23:45:33.078325",
     "status": "completed"
    },
    "tags": []
   },
   "source": [
    "### B. Hyperparameter tuning with Optuna <a class=\"anchor\" id=\"section_2_2\"></a>"
   ]
  },
  {
   "cell_type": "markdown",
   "metadata": {
    "papermill": {
     "duration": 0.072673,
     "end_time": "2021-03-16T23:45:33.305117",
     "exception": false,
     "start_time": "2021-03-16T23:45:33.232444",
     "status": "completed"
    },
    "tags": []
   },
   "source": [
    "#### Catboost Classifier"
   ]
  },
  {
   "cell_type": "code",
   "execution_count": 25,
   "metadata": {
    "execution": {
     "iopub.execute_input": "2021-03-16T23:45:33.461285Z",
     "iopub.status.busy": "2021-03-16T23:45:33.460655Z",
     "iopub.status.idle": "2021-03-16T23:45:33.464969Z",
     "shell.execute_reply": "2021-03-16T23:45:33.464491Z"
    },
    "papermill": {
     "duration": 0.08739,
     "end_time": "2021-03-16T23:45:33.465143",
     "exception": false,
     "start_time": "2021-03-16T23:45:33.377753",
     "status": "completed"
    },
    "tags": []
   },
   "outputs": [],
   "source": [
    "def objective_catboost(trial):\n",
    "    numeric_pipe = Pipeline([('fs', feat_sel(dtype='numeric')),  # Select only the numeric features\n",
    "                             ('scl', df_scaler(method=RobustScaler())) # Scale data\n",
    "                             ]) \n",
    "                         \n",
    "    categorical_pipeline = Pipeline( steps = [( 'fs', feat_sel(dtype='category')), # Select only the categorical features\n",
    "                                              ('label_encoder', Label_encode()), #Label encoder\n",
    "                                             ])\n",
    "    processing_pipe = FeatureUnion_df(transformer_list=[('cat_pipe', categorical_pipeline),\n",
    "                                                        ('num_pipe', numeric_pipe)])        \n",
    "    \n",
    "    cv_outer=StratifiedKFold(n_splits=5, random_state=1,shuffle=True)  \n",
    "    param = {        \n",
    "        'learning_rate': trial.suggest_float('learning_rate', 0.01,0.1),\n",
    "        'n_estimators': trial.suggest_int( \"n_estimators\",  50,300,20),\n",
    "        'max_depth': trial.suggest_int( 'max_depth',  1,5,1),\n",
    "        'l2_leaf_reg': trial.suggest_int('l2_leaf_reg',1,5,1),\n",
    "        'random_state': trial.suggest_categorical('random_state',[1]),\n",
    "        'loss_function': trial.suggest_categorical('loss_function',['CrossEntropy']),\n",
    "        'eval_metric': trial.suggest_categorical('eval_metric',['F1']),\n",
    "        'silent':trial.suggest_categorical('silent',[True]), \n",
    "        'early_stopping_rounds':trial.suggest_categorical('early_stopping_rounds',[100])}   \n",
    "    pipe = Pipeline([\n",
    "        ('prep',processing_pipe),\n",
    "        ('resample' ,SMOTETomek(sampling_strategy=0.7,random_state=1)),\n",
    "        ('est', CatBoostClassifier(**param))])     \n",
    "    return cross_val_score(pipe, X_train, y_train,cv=cv_outer,scoring=\"f1_weighted\").mean()"
   ]
  },
  {
   "cell_type": "code",
   "execution_count": 26,
   "metadata": {
    "_kg_hide-output": true,
    "execution": {
     "iopub.execute_input": "2021-03-16T23:45:33.617855Z",
     "iopub.status.busy": "2021-03-16T23:45:33.617203Z",
     "iopub.status.idle": "2021-03-16T23:48:13.641491Z",
     "shell.execute_reply": "2021-03-16T23:48:13.641930Z"
    },
    "papermill": {
     "duration": 160.103254,
     "end_time": "2021-03-16T23:48:13.642109",
     "exception": false,
     "start_time": "2021-03-16T23:45:33.538855",
     "status": "completed"
    },
    "tags": []
   },
   "outputs": [
    {
     "name": "stderr",
     "output_type": "stream",
     "text": [
      "\u001b[32m[I 2021-03-16 23:45:33,615]\u001b[0m A new study created in memory with name: no-name-d9e300e9-68bd-44c7-ad87-58fe049ab3c9\u001b[0m\n",
      "\u001b[32m[I 2021-03-16 23:45:37,125]\u001b[0m Trial 0 finished with value: 0.8788011270382657 and parameters: {'learning_rate': 0.047569964400878864, 'n_estimators': 250, 'max_depth': 3, 'l2_leaf_reg': 2, 'random_state': 1, 'loss_function': 'CrossEntropy', 'eval_metric': 'F1', 'silent': True, 'early_stopping_rounds': 100}. Best is trial 0 with value: 0.8788011270382657.\u001b[0m\n",
      "\u001b[32m[I 2021-03-16 23:45:39,853]\u001b[0m Trial 1 finished with value: 0.8826339198431077 and parameters: {'learning_rate': 0.09662753780421007, 'n_estimators': 210, 'max_depth': 2, 'l2_leaf_reg': 2, 'random_state': 1, 'loss_function': 'CrossEntropy', 'eval_metric': 'F1', 'silent': True, 'early_stopping_rounds': 100}. Best is trial 1 with value: 0.8826339198431077.\u001b[0m\n",
      "\u001b[32m[I 2021-03-16 23:45:42,348]\u001b[0m Trial 2 finished with value: 0.862937904817851 and parameters: {'learning_rate': 0.02763718868997584, 'n_estimators': 250, 'max_depth': 1, 'l2_leaf_reg': 5, 'random_state': 1, 'loss_function': 'CrossEntropy', 'eval_metric': 'F1', 'silent': True, 'early_stopping_rounds': 100}. Best is trial 1 with value: 0.8826339198431077.\u001b[0m\n",
      "\u001b[32m[I 2021-03-16 23:45:43,929]\u001b[0m Trial 3 finished with value: 0.8703131907077933 and parameters: {'learning_rate': 0.0985152645310633, 'n_estimators': 150, 'max_depth': 1, 'l2_leaf_reg': 1, 'random_state': 1, 'loss_function': 'CrossEntropy', 'eval_metric': 'F1', 'silent': True, 'early_stopping_rounds': 100}. Best is trial 1 with value: 0.8826339198431077.\u001b[0m\n",
      "\u001b[32m[I 2021-03-16 23:45:46,624]\u001b[0m Trial 4 finished with value: 0.8697007480484187 and parameters: {'learning_rate': 0.04104750591340097, 'n_estimators': 270, 'max_depth': 1, 'l2_leaf_reg': 5, 'random_state': 1, 'loss_function': 'CrossEntropy', 'eval_metric': 'F1', 'silent': True, 'early_stopping_rounds': 100}. Best is trial 1 with value: 0.8826339198431077.\u001b[0m\n",
      "\u001b[32m[I 2021-03-16 23:45:47,956]\u001b[0m Trial 5 finished with value: 0.8445362777685805 and parameters: {'learning_rate': 0.03558354983318777, 'n_estimators': 90, 'max_depth': 1, 'l2_leaf_reg': 1, 'random_state': 1, 'loss_function': 'CrossEntropy', 'eval_metric': 'F1', 'silent': True, 'early_stopping_rounds': 100}. Best is trial 1 with value: 0.8826339198431077.\u001b[0m\n",
      "\u001b[32m[I 2021-03-16 23:45:53,374]\u001b[0m Trial 6 finished with value: 0.880527994160685 and parameters: {'learning_rate': 0.04022518037547038, 'n_estimators': 270, 'max_depth': 5, 'l2_leaf_reg': 1, 'random_state': 1, 'loss_function': 'CrossEntropy', 'eval_metric': 'F1', 'silent': True, 'early_stopping_rounds': 100}. Best is trial 1 with value: 0.8826339198431077.\u001b[0m\n",
      "\u001b[32m[I 2021-03-16 23:45:55,321]\u001b[0m Trial 7 finished with value: 0.8719995000777201 and parameters: {'learning_rate': 0.07107969547893765, 'n_estimators': 110, 'max_depth': 3, 'l2_leaf_reg': 1, 'random_state': 1, 'loss_function': 'CrossEntropy', 'eval_metric': 'F1', 'silent': True, 'early_stopping_rounds': 100}. Best is trial 1 with value: 0.8826339198431077.\u001b[0m\n",
      "\u001b[32m[I 2021-03-16 23:45:57,328]\u001b[0m Trial 8 finished with value: 0.8711853599621227 and parameters: {'learning_rate': 0.03513597737037361, 'n_estimators': 130, 'max_depth': 3, 'l2_leaf_reg': 5, 'random_state': 1, 'loss_function': 'CrossEntropy', 'eval_metric': 'F1', 'silent': True, 'early_stopping_rounds': 100}. Best is trial 1 with value: 0.8826339198431077.\u001b[0m\n",
      "\u001b[32m[I 2021-03-16 23:46:02,803]\u001b[0m Trial 9 finished with value: 0.8767977417936492 and parameters: {'learning_rate': 0.09406211938959472, 'n_estimators': 270, 'max_depth': 5, 'l2_leaf_reg': 1, 'random_state': 1, 'loss_function': 'CrossEntropy', 'eval_metric': 'F1', 'silent': True, 'early_stopping_rounds': 100}. Best is trial 1 with value: 0.8826339198431077.\u001b[0m\n",
      "\u001b[32m[I 2021-03-16 23:46:04,891]\u001b[0m Trial 10 finished with value: 0.8711761223069312 and parameters: {'learning_rate': 0.07763929851549752, 'n_estimators': 190, 'max_depth': 2, 'l2_leaf_reg': 3, 'random_state': 1, 'loss_function': 'CrossEntropy', 'eval_metric': 'F1', 'silent': True, 'early_stopping_rounds': 100}. Best is trial 1 with value: 0.8826339198431077.\u001b[0m\n",
      "\u001b[32m[I 2021-03-16 23:46:09,223]\u001b[0m Trial 11 finished with value: 0.8748385187278759 and parameters: {'learning_rate': 0.014577594906687398, 'n_estimators': 210, 'max_depth': 5, 'l2_leaf_reg': 3, 'random_state': 1, 'loss_function': 'CrossEntropy', 'eval_metric': 'F1', 'silent': True, 'early_stopping_rounds': 100}. Best is trial 1 with value: 0.8826339198431077.\u001b[0m\n",
      "\u001b[32m[I 2021-03-16 23:46:12,876]\u001b[0m Trial 12 finished with value: 0.8826142803884498 and parameters: {'learning_rate': 0.061332316209293886, 'n_estimators': 210, 'max_depth': 4, 'l2_leaf_reg': 2, 'random_state': 1, 'loss_function': 'CrossEntropy', 'eval_metric': 'F1', 'silent': True, 'early_stopping_rounds': 100}. Best is trial 1 with value: 0.8826339198431077.\u001b[0m\n",
      "\u001b[32m[I 2021-03-16 23:46:14,342]\u001b[0m Trial 13 finished with value: 0.872037306139825 and parameters: {'learning_rate': 0.06317995756793787, 'n_estimators': 50, 'max_depth': 4, 'l2_leaf_reg': 2, 'random_state': 1, 'loss_function': 'CrossEntropy', 'eval_metric': 'F1', 'silent': True, 'early_stopping_rounds': 100}. Best is trial 1 with value: 0.8826339198431077.\u001b[0m\n",
      "\u001b[32m[I 2021-03-16 23:46:17,380]\u001b[0m Trial 14 finished with value: 0.8803620122803395 and parameters: {'learning_rate': 0.08472454015426484, 'n_estimators': 190, 'max_depth': 4, 'l2_leaf_reg': 2, 'random_state': 1, 'loss_function': 'CrossEntropy', 'eval_metric': 'F1', 'silent': True, 'early_stopping_rounds': 100}. Best is trial 1 with value: 0.8826339198431077.\u001b[0m\n",
      "\u001b[32m[I 2021-03-16 23:46:20,057]\u001b[0m Trial 15 finished with value: 0.8738739679298366 and parameters: {'learning_rate': 0.05723084722574135, 'n_estimators': 210, 'max_depth': 2, 'l2_leaf_reg': 4, 'random_state': 1, 'loss_function': 'CrossEntropy', 'eval_metric': 'F1', 'silent': True, 'early_stopping_rounds': 100}. Best is trial 1 with value: 0.8826339198431077.\u001b[0m\n",
      "\u001b[32m[I 2021-03-16 23:46:24,007]\u001b[0m Trial 16 finished with value: 0.8834584784055926 and parameters: {'learning_rate': 0.08590493086047044, 'n_estimators': 230, 'max_depth': 4, 'l2_leaf_reg': 2, 'random_state': 1, 'loss_function': 'CrossEntropy', 'eval_metric': 'F1', 'silent': True, 'early_stopping_rounds': 100}. Best is trial 16 with value: 0.8834584784055926.\u001b[0m\n",
      "\u001b[32m[I 2021-03-16 23:46:26,845]\u001b[0m Trial 17 finished with value: 0.8779267408369369 and parameters: {'learning_rate': 0.08934776057665064, 'n_estimators': 230, 'max_depth': 2, 'l2_leaf_reg': 3, 'random_state': 1, 'loss_function': 'CrossEntropy', 'eval_metric': 'F1', 'silent': True, 'early_stopping_rounds': 100}. Best is trial 16 with value: 0.8834584784055926.\u001b[0m\n",
      "\u001b[32m[I 2021-03-16 23:46:29,774]\u001b[0m Trial 18 finished with value: 0.8801976246555074 and parameters: {'learning_rate': 0.07741606674469945, 'n_estimators': 170, 'max_depth': 4, 'l2_leaf_reg': 4, 'random_state': 1, 'loss_function': 'CrossEntropy', 'eval_metric': 'F1', 'silent': True, 'early_stopping_rounds': 100}. Best is trial 16 with value: 0.8834584784055926.\u001b[0m\n",
      "\u001b[32m[I 2021-03-16 23:46:33,112]\u001b[0m Trial 19 finished with value: 0.8854476608317915 and parameters: {'learning_rate': 0.0967441066561421, 'n_estimators': 290, 'max_depth': 2, 'l2_leaf_reg': 2, 'random_state': 1, 'loss_function': 'CrossEntropy', 'eval_metric': 'F1', 'silent': True, 'early_stopping_rounds': 100}. Best is trial 19 with value: 0.8854476608317915.\u001b[0m\n",
      "\u001b[32m[I 2021-03-16 23:46:37,000]\u001b[0m Trial 20 finished with value: 0.8775398545024464 and parameters: {'learning_rate': 0.08397940335680594, 'n_estimators': 290, 'max_depth': 3, 'l2_leaf_reg': 4, 'random_state': 1, 'loss_function': 'CrossEntropy', 'eval_metric': 'F1', 'silent': True, 'early_stopping_rounds': 100}. Best is trial 19 with value: 0.8854476608317915.\u001b[0m\n",
      "\u001b[32m[I 2021-03-16 23:46:40,351]\u001b[0m Trial 21 finished with value: 0.8783915993082096 and parameters: {'learning_rate': 0.09972524444294416, 'n_estimators': 290, 'max_depth': 2, 'l2_leaf_reg': 2, 'random_state': 1, 'loss_function': 'CrossEntropy', 'eval_metric': 'F1', 'silent': True, 'early_stopping_rounds': 100}. Best is trial 19 with value: 0.8854476608317915.\u001b[0m\n",
      "\u001b[32m[I 2021-03-16 23:46:43,198]\u001b[0m Trial 22 finished with value: 0.8811042112089847 and parameters: {'learning_rate': 0.09329451372886745, 'n_estimators': 230, 'max_depth': 2, 'l2_leaf_reg': 2, 'random_state': 1, 'loss_function': 'CrossEntropy', 'eval_metric': 'F1', 'silent': True, 'early_stopping_rounds': 100}. Best is trial 19 with value: 0.8854476608317915.\u001b[0m\n",
      "\u001b[32m[I 2021-03-16 23:46:45,167]\u001b[0m Trial 23 finished with value: 0.8738122399892703 and parameters: {'learning_rate': 0.07135969472804304, 'n_estimators': 170, 'max_depth': 2, 'l2_leaf_reg': 2, 'random_state': 1, 'loss_function': 'CrossEntropy', 'eval_metric': 'F1', 'silent': True, 'early_stopping_rounds': 100}. Best is trial 19 with value: 0.8854476608317915.\u001b[0m\n",
      "\u001b[32m[I 2021-03-16 23:46:48,637]\u001b[0m Trial 24 finished with value: 0.8827879604852467 and parameters: {'learning_rate': 0.09980427367409067, 'n_estimators': 250, 'max_depth': 3, 'l2_leaf_reg': 3, 'random_state': 1, 'loss_function': 'CrossEntropy', 'eval_metric': 'F1', 'silent': True, 'early_stopping_rounds': 100}. Best is trial 19 with value: 0.8854476608317915.\u001b[0m\n",
      "\u001b[32m[I 2021-03-16 23:46:53,317]\u001b[0m Trial 25 finished with value: 0.8808791357234214 and parameters: {'learning_rate': 0.0840604395451022, 'n_estimators': 290, 'max_depth': 4, 'l2_leaf_reg': 3, 'random_state': 1, 'loss_function': 'CrossEntropy', 'eval_metric': 'F1', 'silent': True, 'early_stopping_rounds': 100}. Best is trial 19 with value: 0.8854476608317915.\u001b[0m\n",
      "\u001b[32m[I 2021-03-16 23:46:56,829]\u001b[0m Trial 26 finished with value: 0.8780982324562621 and parameters: {'learning_rate': 0.0998738875972106, 'n_estimators': 250, 'max_depth': 3, 'l2_leaf_reg': 3, 'random_state': 1, 'loss_function': 'CrossEntropy', 'eval_metric': 'F1', 'silent': True, 'early_stopping_rounds': 100}. Best is trial 19 with value: 0.8854476608317915.\u001b[0m\n",
      "\u001b[32m[I 2021-03-16 23:47:00,901]\u001b[0m Trial 27 finished with value: 0.8759281989660277 and parameters: {'learning_rate': 0.09044946927428013, 'n_estimators': 230, 'max_depth': 4, 'l2_leaf_reg': 4, 'random_state': 1, 'loss_function': 'CrossEntropy', 'eval_metric': 'F1', 'silent': True, 'early_stopping_rounds': 100}. Best is trial 19 with value: 0.8854476608317915.\u001b[0m\n",
      "\u001b[32m[I 2021-03-16 23:47:04,602]\u001b[0m Trial 28 finished with value: 0.8761857803685329 and parameters: {'learning_rate': 0.0787071341111347, 'n_estimators': 270, 'max_depth': 3, 'l2_leaf_reg': 3, 'random_state': 1, 'loss_function': 'CrossEntropy', 'eval_metric': 'F1', 'silent': True, 'early_stopping_rounds': 100}. Best is trial 19 with value: 0.8854476608317915.\u001b[0m\n",
      "\u001b[32m[I 2021-03-16 23:47:08,131]\u001b[0m Trial 29 finished with value: 0.8846871219000285 and parameters: {'learning_rate': 0.08786765938354844, 'n_estimators': 250, 'max_depth': 3, 'l2_leaf_reg': 2, 'random_state': 1, 'loss_function': 'CrossEntropy', 'eval_metric': 'F1', 'silent': True, 'early_stopping_rounds': 100}. Best is trial 19 with value: 0.8854476608317915.\u001b[0m\n",
      "\u001b[32m[I 2021-03-16 23:47:12,155]\u001b[0m Trial 30 finished with value: 0.8828727560123053 and parameters: {'learning_rate': 0.06984661516634119, 'n_estimators': 290, 'max_depth': 3, 'l2_leaf_reg': 2, 'random_state': 1, 'loss_function': 'CrossEntropy', 'eval_metric': 'F1', 'silent': True, 'early_stopping_rounds': 100}. Best is trial 19 with value: 0.8854476608317915.\u001b[0m\n",
      "\u001b[32m[I 2021-03-16 23:47:16,030]\u001b[0m Trial 31 finished with value: 0.8850851043319012 and parameters: {'learning_rate': 0.07170519364370832, 'n_estimators': 290, 'max_depth': 3, 'l2_leaf_reg': 2, 'random_state': 1, 'loss_function': 'CrossEntropy', 'eval_metric': 'F1', 'silent': True, 'early_stopping_rounds': 100}. Best is trial 19 with value: 0.8854476608317915.\u001b[0m\n",
      "\u001b[32m[I 2021-03-16 23:47:19,534]\u001b[0m Trial 32 finished with value: 0.8806292493602319 and parameters: {'learning_rate': 0.08638045580460213, 'n_estimators': 250, 'max_depth': 3, 'l2_leaf_reg': 2, 'random_state': 1, 'loss_function': 'CrossEntropy', 'eval_metric': 'F1', 'silent': True, 'early_stopping_rounds': 100}. Best is trial 19 with value: 0.8854476608317915.\u001b[0m\n",
      "\u001b[32m[I 2021-03-16 23:47:23,894]\u001b[0m Trial 33 finished with value: 0.8812543531782101 and parameters: {'learning_rate': 0.050739822690719805, 'n_estimators': 270, 'max_depth': 4, 'l2_leaf_reg': 1, 'random_state': 1, 'loss_function': 'CrossEntropy', 'eval_metric': 'F1', 'silent': True, 'early_stopping_rounds': 100}. Best is trial 19 with value: 0.8854476608317915.\u001b[0m\n",
      "\u001b[32m[I 2021-03-16 23:47:27,293]\u001b[0m Trial 34 finished with value: 0.8811459511890491 and parameters: {'learning_rate': 0.08043093644661546, 'n_estimators': 290, 'max_depth': 2, 'l2_leaf_reg': 2, 'random_state': 1, 'loss_function': 'CrossEntropy', 'eval_metric': 'F1', 'silent': True, 'early_stopping_rounds': 100}. Best is trial 19 with value: 0.8854476608317915.\u001b[0m\n",
      "\u001b[32m[I 2021-03-16 23:47:30,730]\u001b[0m Trial 35 finished with value: 0.8834510619186735 and parameters: {'learning_rate': 0.06611044982341846, 'n_estimators': 230, 'max_depth': 3, 'l2_leaf_reg': 2, 'random_state': 1, 'loss_function': 'CrossEntropy', 'eval_metric': 'F1', 'silent': True, 'early_stopping_rounds': 100}. Best is trial 19 with value: 0.8854476608317915.\u001b[0m\n",
      "\u001b[32m[I 2021-03-16 23:47:33,361]\u001b[0m Trial 36 finished with value: 0.8747628818656326 and parameters: {'learning_rate': 0.07428010104254518, 'n_estimators': 270, 'max_depth': 1, 'l2_leaf_reg': 1, 'random_state': 1, 'loss_function': 'CrossEntropy', 'eval_metric': 'F1', 'silent': True, 'early_stopping_rounds': 100}. Best is trial 19 with value: 0.8854476608317915.\u001b[0m\n",
      "\u001b[32m[I 2021-03-16 23:47:37,522]\u001b[0m Trial 37 finished with value: 0.8755462364512738 and parameters: {'learning_rate': 0.09279836298562695, 'n_estimators': 250, 'max_depth': 4, 'l2_leaf_reg': 2, 'random_state': 1, 'loss_function': 'CrossEntropy', 'eval_metric': 'F1', 'silent': True, 'early_stopping_rounds': 100}. Best is trial 19 with value: 0.8854476608317915.\u001b[0m\n",
      "\u001b[32m[I 2021-03-16 23:47:40,562]\u001b[0m Trial 38 finished with value: 0.8850836423786953 and parameters: {'learning_rate': 0.08822365246842229, 'n_estimators': 250, 'max_depth': 2, 'l2_leaf_reg': 1, 'random_state': 1, 'loss_function': 'CrossEntropy', 'eval_metric': 'F1', 'silent': True, 'early_stopping_rounds': 100}. Best is trial 19 with value: 0.8854476608317915.\u001b[0m\n",
      "\u001b[32m[I 2021-03-16 23:47:43,178]\u001b[0m Trial 39 finished with value: 0.8790885894156485 and parameters: {'learning_rate': 0.0964275650163498, 'n_estimators': 270, 'max_depth': 1, 'l2_leaf_reg': 1, 'random_state': 1, 'loss_function': 'CrossEntropy', 'eval_metric': 'F1', 'silent': True, 'early_stopping_rounds': 100}. Best is trial 19 with value: 0.8854476608317915.\u001b[0m\n",
      "\u001b[32m[I 2021-03-16 23:47:46,493]\u001b[0m Trial 40 finished with value: 0.879395422847988 and parameters: {'learning_rate': 0.08996930238420528, 'n_estimators': 290, 'max_depth': 2, 'l2_leaf_reg': 1, 'random_state': 1, 'loss_function': 'CrossEntropy', 'eval_metric': 'F1', 'silent': True, 'early_stopping_rounds': 100}. Best is trial 19 with value: 0.8854476608317915.\u001b[0m\n",
      "\u001b[32m[I 2021-03-16 23:47:49,599]\u001b[0m Trial 41 finished with value: 0.8816101236897576 and parameters: {'learning_rate': 0.08119608842094658, 'n_estimators': 250, 'max_depth': 2, 'l2_leaf_reg': 2, 'random_state': 1, 'loss_function': 'CrossEntropy', 'eval_metric': 'F1', 'silent': True, 'early_stopping_rounds': 100}. Best is trial 19 with value: 0.8854476608317915.\u001b[0m\n",
      "\u001b[32m[I 2021-03-16 23:47:52,837]\u001b[0m Trial 42 finished with value: 0.8822557547638702 and parameters: {'learning_rate': 0.08798177921052618, 'n_estimators': 230, 'max_depth': 3, 'l2_leaf_reg': 1, 'random_state': 1, 'loss_function': 'CrossEntropy', 'eval_metric': 'F1', 'silent': True, 'early_stopping_rounds': 100}. Best is trial 19 with value: 0.8854476608317915.\u001b[0m\n",
      "\u001b[32m[I 2021-03-16 23:47:54,590]\u001b[0m Trial 43 finished with value: 0.8717972234305433 and parameters: {'learning_rate': 0.09600703974510663, 'n_estimators': 190, 'max_depth': 1, 'l2_leaf_reg': 2, 'random_state': 1, 'loss_function': 'CrossEntropy', 'eval_metric': 'F1', 'silent': True, 'early_stopping_rounds': 100}. Best is trial 19 with value: 0.8854476608317915.\u001b[0m\n",
      "\u001b[32m[I 2021-03-16 23:47:59,935]\u001b[0m Trial 44 finished with value: 0.8807448558850615 and parameters: {'learning_rate': 0.07473049292034745, 'n_estimators': 270, 'max_depth': 5, 'l2_leaf_reg': 1, 'random_state': 1, 'loss_function': 'CrossEntropy', 'eval_metric': 'F1', 'silent': True, 'early_stopping_rounds': 100}. Best is trial 19 with value: 0.8854476608317915.\u001b[0m\n",
      "\u001b[32m[I 2021-03-16 23:48:03,128]\u001b[0m Trial 45 finished with value: 0.8813112576266441 and parameters: {'learning_rate': 0.08135532832911926, 'n_estimators': 250, 'max_depth': 2, 'l2_leaf_reg': 2, 'random_state': 1, 'loss_function': 'CrossEntropy', 'eval_metric': 'F1', 'silent': True, 'early_stopping_rounds': 100}. Best is trial 19 with value: 0.8854476608317915.\u001b[0m\n",
      "\u001b[32m[I 2021-03-16 23:48:06,261]\u001b[0m Trial 46 finished with value: 0.8857987031945209 and parameters: {'learning_rate': 0.0683140134738639, 'n_estimators': 210, 'max_depth': 3, 'l2_leaf_reg': 1, 'random_state': 1, 'loss_function': 'CrossEntropy', 'eval_metric': 'F1', 'silent': True, 'early_stopping_rounds': 100}. Best is trial 46 with value: 0.8857987031945209.\u001b[0m\n",
      "\u001b[32m[I 2021-03-16 23:48:09,412]\u001b[0m Trial 47 finished with value: 0.8806766672623041 and parameters: {'learning_rate': 0.06083211664911761, 'n_estimators': 210, 'max_depth': 3, 'l2_leaf_reg': 1, 'random_state': 1, 'loss_function': 'CrossEntropy', 'eval_metric': 'F1', 'silent': True, 'early_stopping_rounds': 100}. Best is trial 46 with value: 0.8857987031945209.\u001b[0m\n",
      "\u001b[32m[I 2021-03-16 23:48:11,577]\u001b[0m Trial 48 finished with value: 0.8756873873490456 and parameters: {'learning_rate': 0.06729499568566003, 'n_estimators': 150, 'max_depth': 3, 'l2_leaf_reg': 1, 'random_state': 1, 'loss_function': 'CrossEntropy', 'eval_metric': 'F1', 'silent': True, 'early_stopping_rounds': 100}. Best is trial 46 with value: 0.8857987031945209.\u001b[0m\n",
      "\u001b[32m[I 2021-03-16 23:48:13,633]\u001b[0m Trial 49 finished with value: 0.8500695527654599 and parameters: {'learning_rate': 0.010951426544070261, 'n_estimators': 190, 'max_depth': 2, 'l2_leaf_reg': 1, 'random_state': 1, 'loss_function': 'CrossEntropy', 'eval_metric': 'F1', 'silent': True, 'early_stopping_rounds': 100}. Best is trial 46 with value: 0.8857987031945209.\u001b[0m\n"
     ]
    },
    {
     "name": "stdout",
     "output_type": "stream",
     "text": [
      "CPU times: user 4min 47s, sys: 29.8 s, total: 5min 17s\n",
      "Wall time: 2min 40s\n"
     ]
    }
   ],
   "source": [
    "%%time\n",
    "models=[]\n",
    "scores=[]\n",
    "catboost_study = optuna.create_study(direction='maximize')\n",
    "catboost_study.optimize(objective_catboost, n_trials=50)\n",
    "model='Catboost'\n",
    "score=catboost_study.best_trial.value\n",
    "models.append(model)\n",
    "scores.append(score)"
   ]
  },
  {
   "cell_type": "code",
   "execution_count": 27,
   "metadata": {
    "execution": {
     "iopub.execute_input": "2021-03-16T23:48:13.838540Z",
     "iopub.status.busy": "2021-03-16T23:48:13.837549Z",
     "iopub.status.idle": "2021-03-16T23:48:13.840652Z",
     "shell.execute_reply": "2021-03-16T23:48:13.841222Z"
    },
    "papermill": {
     "duration": 0.109874,
     "end_time": "2021-03-16T23:48:13.841386",
     "exception": false,
     "start_time": "2021-03-16T23:48:13.731512",
     "status": "completed"
    },
    "tags": []
   },
   "outputs": [
    {
     "name": "stdout",
     "output_type": "stream",
     "text": [
      "Number of finished trials: 50\n",
      "Best trial: score 0.8857987031945209, params {'learning_rate': 0.0683140134738639, 'n_estimators': 210, 'max_depth': 3, 'l2_leaf_reg': 1, 'random_state': 1, 'loss_function': 'CrossEntropy', 'eval_metric': 'F1', 'silent': True, 'early_stopping_rounds': 100}\n"
     ]
    }
   ],
   "source": [
    "print('Number of finished trials:', len(catboost_study.trials))\n",
    "print('Best trial: score {}, params {}'.format(catboost_study.best_trial.value, catboost_study.best_trial.params))"
   ]
  },
  {
   "cell_type": "markdown",
   "metadata": {
    "papermill": {
     "duration": 0.088807,
     "end_time": "2021-03-16T23:48:14.020527",
     "exception": false,
     "start_time": "2021-03-16T23:48:13.931720",
     "status": "completed"
    },
    "tags": []
   },
   "source": [
    "#### RandomForest Classifier"
   ]
  },
  {
   "cell_type": "code",
   "execution_count": 28,
   "metadata": {
    "execution": {
     "iopub.execute_input": "2021-03-16T23:48:14.212416Z",
     "iopub.status.busy": "2021-03-16T23:48:14.211659Z",
     "iopub.status.idle": "2021-03-16T23:48:14.215162Z",
     "shell.execute_reply": "2021-03-16T23:48:14.214671Z"
    },
    "papermill": {
     "duration": 0.10469,
     "end_time": "2021-03-16T23:48:14.215316",
     "exception": false,
     "start_time": "2021-03-16T23:48:14.110626",
     "status": "completed"
    },
    "tags": []
   },
   "outputs": [],
   "source": [
    "def objective_random_forest(trial):\n",
    "    numeric_pipe = Pipeline([('fs', feat_sel(dtype='numeric')),  # Select only the numeric features\n",
    "                         ('scl', df_scaler(method=RobustScaler())) # Scale data\n",
    "                        ])  \n",
    "    categorical_pipeline = Pipeline( steps = [( 'fs', feat_sel(dtype='category')), # Select only the categorical features\n",
    "                                          ('label_encoder', Label_encode()), #Label encoder\n",
    "                                          ])\n",
    "    processing_pipe = FeatureUnion_df(transformer_list=[('cat_pipe', categorical_pipeline),\n",
    "                                                    ('num_pipe', numeric_pipe)\n",
    "                                                   ])\n",
    "    \n",
    "    cv_outer=StratifiedKFold(n_splits=5, random_state=1,shuffle=True)\n",
    "    param = {        \n",
    "        'n_estimators': trial.suggest_int( 'n_estimators',  10,1000,200),\n",
    "        'max_features': trial.suggest_categorical( 'max_features', ['sqrt', 'log2']),\n",
    "        'max_depth': trial.suggest_categorical('max_depth',[10, 20, 30,None]),\n",
    "        'bootstrap': trial.suggest_categorical('bootstrap',[True, False]),\n",
    "        'min_samples_leaf': trial.suggest_int('min_samples_leaf',1,9,2),\n",
    "        'random_state': trial.suggest_categorical('random_state',[1]),\n",
    "        'criterion':trial.suggest_categorical('criterion',['gini', 'entropy']),\n",
    "        'verbose':trial.suggest_categorical('verbose',[0]), \n",
    "        }\n",
    "        \n",
    "    pipe = Pipeline([\n",
    "        ('prep',processing_pipe),\n",
    "        ('resample' ,SMOTETomek(sampling_strategy=0.7,random_state=1)),\n",
    "        ('est', RandomForestClassifier(**param))])     \n",
    "    return cross_val_score(pipe, X_train, y_train,  cv=cv_outer,scoring=\"f1_weighted\").mean()"
   ]
  },
  {
   "cell_type": "code",
   "execution_count": 29,
   "metadata": {
    "_kg_hide-output": true,
    "execution": {
     "iopub.execute_input": "2021-03-16T23:48:14.406310Z",
     "iopub.status.busy": "2021-03-16T23:48:14.405284Z",
     "iopub.status.idle": "2021-03-16T23:52:42.571651Z",
     "shell.execute_reply": "2021-03-16T23:52:42.571109Z"
    },
    "papermill": {
     "duration": 268.264308,
     "end_time": "2021-03-16T23:52:42.571838",
     "exception": false,
     "start_time": "2021-03-16T23:48:14.307530",
     "status": "completed"
    },
    "tags": []
   },
   "outputs": [
    {
     "name": "stderr",
     "output_type": "stream",
     "text": [
      "\u001b[32m[I 2021-03-16 23:48:14,403]\u001b[0m A new study created in memory with name: no-name-3d6d920b-b07f-4a06-a733-f2193b11f77c\u001b[0m\n",
      "\u001b[32m[I 2021-03-16 23:48:23,384]\u001b[0m Trial 0 finished with value: 0.8731067663279981 and parameters: {'n_estimators': 410, 'max_features': 'log2', 'max_depth': 30, 'bootstrap': True, 'min_samples_leaf': 9, 'random_state': 1, 'criterion': 'gini', 'verbose': 0}. Best is trial 0 with value: 0.8731067663279981.\u001b[0m\n",
      "\u001b[32m[I 2021-03-16 23:48:33,512]\u001b[0m Trial 1 finished with value: 0.8643089705605964 and parameters: {'n_estimators': 410, 'max_features': 'sqrt', 'max_depth': 20, 'bootstrap': True, 'min_samples_leaf': 1, 'random_state': 1, 'criterion': 'gini', 'verbose': 0}. Best is trial 0 with value: 0.8731067663279981.\u001b[0m\n",
      "\u001b[32m[I 2021-03-16 23:48:53,099]\u001b[0m Trial 2 finished with value: 0.8691998547587992 and parameters: {'n_estimators': 610, 'max_features': 'log2', 'max_depth': 20, 'bootstrap': True, 'min_samples_leaf': 1, 'random_state': 1, 'criterion': 'entropy', 'verbose': 0}. Best is trial 0 with value: 0.8731067663279981.\u001b[0m\n",
      "\u001b[32m[I 2021-03-16 23:49:05,824]\u001b[0m Trial 3 finished with value: 0.8702799010821838 and parameters: {'n_estimators': 410, 'max_features': 'log2', 'max_depth': 30, 'bootstrap': True, 'min_samples_leaf': 3, 'random_state': 1, 'criterion': 'entropy', 'verbose': 0}. Best is trial 0 with value: 0.8731067663279981.\u001b[0m\n",
      "\u001b[32m[I 2021-03-16 23:49:23,362]\u001b[0m Trial 4 finished with value: 0.8697214144457632 and parameters: {'n_estimators': 610, 'max_features': 'sqrt', 'max_depth': 30, 'bootstrap': False, 'min_samples_leaf': 1, 'random_state': 1, 'criterion': 'gini', 'verbose': 0}. Best is trial 0 with value: 0.8731067663279981.\u001b[0m\n",
      "\u001b[32m[I 2021-03-16 23:49:45,071]\u001b[0m Trial 5 finished with value: 0.8719409507295538 and parameters: {'n_estimators': 610, 'max_features': 'sqrt', 'max_depth': 10, 'bootstrap': False, 'min_samples_leaf': 9, 'random_state': 1, 'criterion': 'entropy', 'verbose': 0}. Best is trial 0 with value: 0.8731067663279981.\u001b[0m\n",
      "\u001b[32m[I 2021-03-16 23:49:46,027]\u001b[0m Trial 6 finished with value: 0.8716596923581857 and parameters: {'n_estimators': 10, 'max_features': 'sqrt', 'max_depth': 20, 'bootstrap': True, 'min_samples_leaf': 9, 'random_state': 1, 'criterion': 'gini', 'verbose': 0}. Best is trial 0 with value: 0.8731067663279981.\u001b[0m\n",
      "\u001b[32m[I 2021-03-16 23:49:47,062]\u001b[0m Trial 7 finished with value: 0.8657767986699849 and parameters: {'n_estimators': 10, 'max_features': 'sqrt', 'max_depth': None, 'bootstrap': True, 'min_samples_leaf': 5, 'random_state': 1, 'criterion': 'entropy', 'verbose': 0}. Best is trial 0 with value: 0.8731067663279981.\u001b[0m\n",
      "\u001b[32m[I 2021-03-16 23:49:56,496]\u001b[0m Trial 8 finished with value: 0.8744575383215711 and parameters: {'n_estimators': 410, 'max_features': 'sqrt', 'max_depth': 30, 'bootstrap': True, 'min_samples_leaf': 5, 'random_state': 1, 'criterion': 'gini', 'verbose': 0}. Best is trial 8 with value: 0.8744575383215711.\u001b[0m\n",
      "\u001b[32m[I 2021-03-16 23:49:57,489]\u001b[0m Trial 9 finished with value: 0.8736106637013137 and parameters: {'n_estimators': 10, 'max_features': 'log2', 'max_depth': 30, 'bootstrap': False, 'min_samples_leaf': 3, 'random_state': 1, 'criterion': 'gini', 'verbose': 0}. Best is trial 8 with value: 0.8744575383215711.\u001b[0m\n",
      "\u001b[32m[I 2021-03-16 23:50:15,085]\u001b[0m Trial 10 finished with value: 0.8722115980360368 and parameters: {'n_estimators': 810, 'max_features': 'sqrt', 'max_depth': None, 'bootstrap': True, 'min_samples_leaf': 7, 'random_state': 1, 'criterion': 'gini', 'verbose': 0}. Best is trial 8 with value: 0.8744575383215711.\u001b[0m\n",
      "\u001b[32m[I 2021-03-16 23:50:21,096]\u001b[0m Trial 11 finished with value: 0.8678702648462202 and parameters: {'n_estimators': 210, 'max_features': 'log2', 'max_depth': 30, 'bootstrap': False, 'min_samples_leaf': 5, 'random_state': 1, 'criterion': 'gini', 'verbose': 0}. Best is trial 8 with value: 0.8744575383215711.\u001b[0m\n",
      "\u001b[32m[I 2021-03-16 23:50:27,408]\u001b[0m Trial 12 finished with value: 0.8670174948982379 and parameters: {'n_estimators': 210, 'max_features': 'log2', 'max_depth': 30, 'bootstrap': False, 'min_samples_leaf': 3, 'random_state': 1, 'criterion': 'gini', 'verbose': 0}. Best is trial 8 with value: 0.8744575383215711.\u001b[0m\n",
      "\u001b[32m[I 2021-03-16 23:50:33,704]\u001b[0m Trial 13 finished with value: 0.8670174948982379 and parameters: {'n_estimators': 210, 'max_features': 'log2', 'max_depth': 30, 'bootstrap': False, 'min_samples_leaf': 3, 'random_state': 1, 'criterion': 'gini', 'verbose': 0}. Best is trial 8 with value: 0.8744575383215711.\u001b[0m\n",
      "\u001b[32m[I 2021-03-16 23:50:39,638]\u001b[0m Trial 14 finished with value: 0.8709773862138386 and parameters: {'n_estimators': 210, 'max_features': 'sqrt', 'max_depth': 10, 'bootstrap': False, 'min_samples_leaf': 7, 'random_state': 1, 'criterion': 'gini', 'verbose': 0}. Best is trial 8 with value: 0.8744575383215711.\u001b[0m\n",
      "\u001b[32m[I 2021-03-16 23:50:40,698]\u001b[0m Trial 15 finished with value: 0.8764074970750283 and parameters: {'n_estimators': 10, 'max_features': 'log2', 'max_depth': 30, 'bootstrap': False, 'min_samples_leaf': 5, 'random_state': 1, 'criterion': 'gini', 'verbose': 0}. Best is trial 15 with value: 0.8764074970750283.\u001b[0m\n",
      "\u001b[32m[I 2021-03-16 23:51:01,720]\u001b[0m Trial 16 finished with value: 0.8683819173681219 and parameters: {'n_estimators': 810, 'max_features': 'sqrt', 'max_depth': 30, 'bootstrap': False, 'min_samples_leaf': 7, 'random_state': 1, 'criterion': 'gini', 'verbose': 0}. Best is trial 15 with value: 0.8764074970750283.\u001b[0m\n",
      "\u001b[32m[I 2021-03-16 23:51:15,462]\u001b[0m Trial 17 finished with value: 0.872465011587275 and parameters: {'n_estimators': 610, 'max_features': 'log2', 'max_depth': 10, 'bootstrap': True, 'min_samples_leaf': 5, 'random_state': 1, 'criterion': 'gini', 'verbose': 0}. Best is trial 15 with value: 0.8764074970750283.\u001b[0m\n",
      "\u001b[32m[I 2021-03-16 23:51:26,366]\u001b[0m Trial 18 finished with value: 0.8713930891029683 and parameters: {'n_estimators': 410, 'max_features': 'sqrt', 'max_depth': 30, 'bootstrap': False, 'min_samples_leaf': 7, 'random_state': 1, 'criterion': 'gini', 'verbose': 0}. Best is trial 15 with value: 0.8764074970750283.\u001b[0m\n",
      "\u001b[32m[I 2021-03-16 23:51:31,635]\u001b[0m Trial 19 finished with value: 0.8742948565744199 and parameters: {'n_estimators': 210, 'max_features': 'log2', 'max_depth': None, 'bootstrap': True, 'min_samples_leaf': 5, 'random_state': 1, 'criterion': 'gini', 'verbose': 0}. Best is trial 15 with value: 0.8764074970750283.\u001b[0m\n",
      "\u001b[32m[I 2021-03-16 23:51:32,589]\u001b[0m Trial 20 finished with value: 0.8684172838722539 and parameters: {'n_estimators': 10, 'max_features': 'sqrt', 'max_depth': 30, 'bootstrap': True, 'min_samples_leaf': 5, 'random_state': 1, 'criterion': 'gini', 'verbose': 0}. Best is trial 15 with value: 0.8764074970750283.\u001b[0m\n",
      "\u001b[32m[I 2021-03-16 23:51:37,779]\u001b[0m Trial 21 finished with value: 0.8742948565744199 and parameters: {'n_estimators': 210, 'max_features': 'log2', 'max_depth': None, 'bootstrap': True, 'min_samples_leaf': 5, 'random_state': 1, 'criterion': 'gini', 'verbose': 0}. Best is trial 15 with value: 0.8764074970750283.\u001b[0m\n",
      "\u001b[32m[I 2021-03-16 23:51:43,274]\u001b[0m Trial 22 finished with value: 0.8679282257458031 and parameters: {'n_estimators': 210, 'max_features': 'log2', 'max_depth': None, 'bootstrap': True, 'min_samples_leaf': 3, 'random_state': 1, 'criterion': 'gini', 'verbose': 0}. Best is trial 15 with value: 0.8764074970750283.\u001b[0m\n",
      "\u001b[32m[I 2021-03-16 23:51:44,252]\u001b[0m Trial 23 finished with value: 0.8793854456703534 and parameters: {'n_estimators': 10, 'max_features': 'log2', 'max_depth': None, 'bootstrap': True, 'min_samples_leaf': 7, 'random_state': 1, 'criterion': 'gini', 'verbose': 0}. Best is trial 23 with value: 0.8793854456703534.\u001b[0m\n",
      "\u001b[32m[I 2021-03-16 23:51:45,231]\u001b[0m Trial 24 finished with value: 0.8793854456703534 and parameters: {'n_estimators': 10, 'max_features': 'log2', 'max_depth': None, 'bootstrap': True, 'min_samples_leaf': 7, 'random_state': 1, 'criterion': 'gini', 'verbose': 0}. Best is trial 23 with value: 0.8793854456703534.\u001b[0m\n",
      "\u001b[32m[I 2021-03-16 23:51:46,211]\u001b[0m Trial 25 finished with value: 0.8793854456703534 and parameters: {'n_estimators': 10, 'max_features': 'log2', 'max_depth': None, 'bootstrap': True, 'min_samples_leaf': 7, 'random_state': 1, 'criterion': 'gini', 'verbose': 0}. Best is trial 23 with value: 0.8793854456703534.\u001b[0m\n",
      "\u001b[32m[I 2021-03-16 23:51:47,278]\u001b[0m Trial 26 finished with value: 0.8685692938134485 and parameters: {'n_estimators': 10, 'max_features': 'log2', 'max_depth': None, 'bootstrap': True, 'min_samples_leaf': 7, 'random_state': 1, 'criterion': 'entropy', 'verbose': 0}. Best is trial 23 with value: 0.8793854456703534.\u001b[0m\n",
      "\u001b[32m[I 2021-03-16 23:51:48,272]\u001b[0m Trial 27 finished with value: 0.8793854456703534 and parameters: {'n_estimators': 10, 'max_features': 'log2', 'max_depth': None, 'bootstrap': True, 'min_samples_leaf': 7, 'random_state': 1, 'criterion': 'gini', 'verbose': 0}. Best is trial 23 with value: 0.8793854456703534.\u001b[0m\n",
      "\u001b[32m[I 2021-03-16 23:51:49,262]\u001b[0m Trial 28 finished with value: 0.8716596923581857 and parameters: {'n_estimators': 10, 'max_features': 'log2', 'max_depth': None, 'bootstrap': True, 'min_samples_leaf': 9, 'random_state': 1, 'criterion': 'gini', 'verbose': 0}. Best is trial 23 with value: 0.8793854456703534.\u001b[0m\n",
      "\u001b[32m[I 2021-03-16 23:51:50,258]\u001b[0m Trial 29 finished with value: 0.8793854456703534 and parameters: {'n_estimators': 10, 'max_features': 'log2', 'max_depth': None, 'bootstrap': True, 'min_samples_leaf': 7, 'random_state': 1, 'criterion': 'gini', 'verbose': 0}. Best is trial 23 with value: 0.8793854456703534.\u001b[0m\n",
      "\u001b[32m[I 2021-03-16 23:51:55,436]\u001b[0m Trial 30 finished with value: 0.8769522184547144 and parameters: {'n_estimators': 210, 'max_features': 'log2', 'max_depth': None, 'bootstrap': True, 'min_samples_leaf': 9, 'random_state': 1, 'criterion': 'gini', 'verbose': 0}. Best is trial 23 with value: 0.8793854456703534.\u001b[0m\n",
      "\u001b[32m[I 2021-03-16 23:51:56,420]\u001b[0m Trial 31 finished with value: 0.8793854456703534 and parameters: {'n_estimators': 10, 'max_features': 'log2', 'max_depth': None, 'bootstrap': True, 'min_samples_leaf': 7, 'random_state': 1, 'criterion': 'gini', 'verbose': 0}. Best is trial 23 with value: 0.8793854456703534.\u001b[0m\n",
      "\u001b[32m[I 2021-03-16 23:51:57,410]\u001b[0m Trial 32 finished with value: 0.8793854456703534 and parameters: {'n_estimators': 10, 'max_features': 'log2', 'max_depth': None, 'bootstrap': True, 'min_samples_leaf': 7, 'random_state': 1, 'criterion': 'gini', 'verbose': 0}. Best is trial 23 with value: 0.8793854456703534.\u001b[0m\n",
      "\u001b[32m[I 2021-03-16 23:51:58,402]\u001b[0m Trial 33 finished with value: 0.8716596923581857 and parameters: {'n_estimators': 10, 'max_features': 'log2', 'max_depth': None, 'bootstrap': True, 'min_samples_leaf': 9, 'random_state': 1, 'criterion': 'gini', 'verbose': 0}. Best is trial 23 with value: 0.8793854456703534.\u001b[0m\n",
      "\u001b[32m[I 2021-03-16 23:51:59,398]\u001b[0m Trial 34 finished with value: 0.8793854456703534 and parameters: {'n_estimators': 10, 'max_features': 'log2', 'max_depth': None, 'bootstrap': True, 'min_samples_leaf': 7, 'random_state': 1, 'criterion': 'gini', 'verbose': 0}. Best is trial 23 with value: 0.8793854456703534.\u001b[0m\n",
      "\u001b[32m[I 2021-03-16 23:52:00,381]\u001b[0m Trial 35 finished with value: 0.8793854456703534 and parameters: {'n_estimators': 10, 'max_features': 'log2', 'max_depth': 20, 'bootstrap': True, 'min_samples_leaf': 7, 'random_state': 1, 'criterion': 'gini', 'verbose': 0}. Best is trial 23 with value: 0.8793854456703534.\u001b[0m\n",
      "\u001b[32m[I 2021-03-16 23:52:06,717]\u001b[0m Trial 36 finished with value: 0.8751817156504998 and parameters: {'n_estimators': 210, 'max_features': 'log2', 'max_depth': 20, 'bootstrap': True, 'min_samples_leaf': 9, 'random_state': 1, 'criterion': 'entropy', 'verbose': 0}. Best is trial 23 with value: 0.8793854456703534.\u001b[0m\n",
      "\u001b[32m[I 2021-03-16 23:52:07,668]\u001b[0m Trial 37 finished with value: 0.8793854456703534 and parameters: {'n_estimators': 10, 'max_features': 'log2', 'max_depth': None, 'bootstrap': True, 'min_samples_leaf': 7, 'random_state': 1, 'criterion': 'gini', 'verbose': 0}. Best is trial 23 with value: 0.8793854456703534.\u001b[0m\n",
      "\u001b[32m[I 2021-03-16 23:52:08,678]\u001b[0m Trial 38 finished with value: 0.8693529631969621 and parameters: {'n_estimators': 10, 'max_features': 'log2', 'max_depth': 20, 'bootstrap': True, 'min_samples_leaf': 9, 'random_state': 1, 'criterion': 'entropy', 'verbose': 0}. Best is trial 23 with value: 0.8793854456703534.\u001b[0m\n",
      "\u001b[32m[I 2021-03-16 23:52:13,914]\u001b[0m Trial 39 finished with value: 0.8739302622388262 and parameters: {'n_estimators': 210, 'max_features': 'log2', 'max_depth': 20, 'bootstrap': True, 'min_samples_leaf': 7, 'random_state': 1, 'criterion': 'gini', 'verbose': 0}. Best is trial 23 with value: 0.8793854456703534.\u001b[0m\n",
      "\u001b[32m[I 2021-03-16 23:52:14,944]\u001b[0m Trial 40 finished with value: 0.8716596923581857 and parameters: {'n_estimators': 10, 'max_features': 'log2', 'max_depth': 20, 'bootstrap': True, 'min_samples_leaf': 9, 'random_state': 1, 'criterion': 'gini', 'verbose': 0}. Best is trial 23 with value: 0.8793854456703534.\u001b[0m\n",
      "\u001b[32m[I 2021-03-16 23:52:15,924]\u001b[0m Trial 41 finished with value: 0.8793854456703534 and parameters: {'n_estimators': 10, 'max_features': 'log2', 'max_depth': None, 'bootstrap': True, 'min_samples_leaf': 7, 'random_state': 1, 'criterion': 'gini', 'verbose': 0}. Best is trial 23 with value: 0.8793854456703534.\u001b[0m\n",
      "\u001b[32m[I 2021-03-16 23:52:16,861]\u001b[0m Trial 42 finished with value: 0.8793854456703534 and parameters: {'n_estimators': 10, 'max_features': 'log2', 'max_depth': 20, 'bootstrap': True, 'min_samples_leaf': 7, 'random_state': 1, 'criterion': 'gini', 'verbose': 0}. Best is trial 23 with value: 0.8793854456703534.\u001b[0m\n",
      "\u001b[32m[I 2021-03-16 23:52:17,817]\u001b[0m Trial 43 finished with value: 0.8793854456703534 and parameters: {'n_estimators': 10, 'max_features': 'log2', 'max_depth': 20, 'bootstrap': True, 'min_samples_leaf': 7, 'random_state': 1, 'criterion': 'gini', 'verbose': 0}. Best is trial 23 with value: 0.8793854456703534.\u001b[0m\n",
      "\u001b[32m[I 2021-03-16 23:52:18,775]\u001b[0m Trial 44 finished with value: 0.8793854456703534 and parameters: {'n_estimators': 10, 'max_features': 'log2', 'max_depth': 20, 'bootstrap': True, 'min_samples_leaf': 7, 'random_state': 1, 'criterion': 'gini', 'verbose': 0}. Best is trial 23 with value: 0.8793854456703534.\u001b[0m\n",
      "\u001b[32m[I 2021-03-16 23:52:19,734]\u001b[0m Trial 45 finished with value: 0.8716596923581857 and parameters: {'n_estimators': 10, 'max_features': 'log2', 'max_depth': None, 'bootstrap': True, 'min_samples_leaf': 9, 'random_state': 1, 'criterion': 'gini', 'verbose': 0}. Best is trial 23 with value: 0.8793854456703534.\u001b[0m\n",
      "\u001b[32m[I 2021-03-16 23:52:24,970]\u001b[0m Trial 46 finished with value: 0.8739302622388262 and parameters: {'n_estimators': 210, 'max_features': 'log2', 'max_depth': None, 'bootstrap': True, 'min_samples_leaf': 7, 'random_state': 1, 'criterion': 'gini', 'verbose': 0}. Best is trial 23 with value: 0.8793854456703534.\u001b[0m\n",
      "\u001b[32m[I 2021-03-16 23:52:25,963]\u001b[0m Trial 47 finished with value: 0.8793854456703534 and parameters: {'n_estimators': 10, 'max_features': 'log2', 'max_depth': None, 'bootstrap': True, 'min_samples_leaf': 7, 'random_state': 1, 'criterion': 'gini', 'verbose': 0}. Best is trial 23 with value: 0.8793854456703534.\u001b[0m\n",
      "\u001b[32m[I 2021-03-16 23:52:32,926]\u001b[0m Trial 48 finished with value: 0.8770082595334315 and parameters: {'n_estimators': 210, 'max_features': 'log2', 'max_depth': 20, 'bootstrap': True, 'min_samples_leaf': 5, 'random_state': 1, 'criterion': 'entropy', 'verbose': 0}. Best is trial 23 with value: 0.8793854456703534.\u001b[0m\n",
      "\u001b[32m[I 2021-03-16 23:52:42,453]\u001b[0m Trial 49 finished with value: 0.8729384066686944 and parameters: {'n_estimators': 410, 'max_features': 'log2', 'max_depth': 20, 'bootstrap': True, 'min_samples_leaf': 7, 'random_state': 1, 'criterion': 'gini', 'verbose': 0}. Best is trial 23 with value: 0.8793854456703534.\u001b[0m\n"
     ]
    },
    {
     "name": "stdout",
     "output_type": "stream",
     "text": [
      "CPU times: user 4min 27s, sys: 285 ms, total: 4min 28s\n",
      "Wall time: 4min 28s\n"
     ]
    }
   ],
   "source": [
    "%%time\n",
    "RF_study = optuna.create_study(direction='maximize')\n",
    "RF_study.optimize(objective_random_forest, n_trials=50)\n",
    "model='Random Forest'\n",
    "score=RF_study.best_trial.value\n",
    "models.append(model)\n",
    "scores.append(score)"
   ]
  },
  {
   "cell_type": "code",
   "execution_count": 30,
   "metadata": {
    "execution": {
     "iopub.execute_input": "2021-03-16T23:52:42.807632Z",
     "iopub.status.busy": "2021-03-16T23:52:42.806853Z",
     "iopub.status.idle": "2021-03-16T23:52:42.811969Z",
     "shell.execute_reply": "2021-03-16T23:52:42.812449Z"
    },
    "papermill": {
     "duration": 0.13046,
     "end_time": "2021-03-16T23:52:42.812618",
     "exception": false,
     "start_time": "2021-03-16T23:52:42.682158",
     "status": "completed"
    },
    "tags": []
   },
   "outputs": [
    {
     "name": "stdout",
     "output_type": "stream",
     "text": [
      "Number of finished trials: 50\n",
      "Best trial: score 0.8793854456703534, params {'n_estimators': 10, 'max_features': 'log2', 'max_depth': None, 'bootstrap': True, 'min_samples_leaf': 7, 'random_state': 1, 'criterion': 'gini', 'verbose': 0}\n"
     ]
    }
   ],
   "source": [
    "print('Number of finished trials:', len(RF_study.trials))\n",
    "print('Best trial: score {}, params {}'.format(RF_study.best_trial.value, RF_study.best_trial.params))"
   ]
  },
  {
   "cell_type": "markdown",
   "metadata": {
    "papermill": {
     "duration": 0.110769,
     "end_time": "2021-03-16T23:52:43.032820",
     "exception": false,
     "start_time": "2021-03-16T23:52:42.922051",
     "status": "completed"
    },
    "tags": []
   },
   "source": [
    "#### SVC Classifier"
   ]
  },
  {
   "cell_type": "code",
   "execution_count": 31,
   "metadata": {
    "execution": {
     "iopub.execute_input": "2021-03-16T23:52:43.263094Z",
     "iopub.status.busy": "2021-03-16T23:52:43.262421Z",
     "iopub.status.idle": "2021-03-16T23:52:43.265953Z",
     "shell.execute_reply": "2021-03-16T23:52:43.265488Z"
    },
    "papermill": {
     "duration": 0.12285,
     "end_time": "2021-03-16T23:52:43.266126",
     "exception": false,
     "start_time": "2021-03-16T23:52:43.143276",
     "status": "completed"
    },
    "tags": []
   },
   "outputs": [],
   "source": [
    "def objective_SVC(trial):\n",
    "    numeric_pipe = Pipeline([('fs', feat_sel(dtype='numeric')),  # Select only the numeric features\n",
    "                         ('scl', df_scaler(method=RobustScaler())) # Scale data\n",
    "                        ])  \n",
    "    categorical_pipeline = Pipeline( steps = [( 'fs', feat_sel(dtype='category')), # Select only the categorical features\n",
    "                                          ('label_encoder', Label_encode()), #Label encoder\n",
    "                                          ])\n",
    "    processing_pipe = FeatureUnion_df(transformer_list=[('cat_pipe', categorical_pipeline),\n",
    "                                                    ('num_pipe', numeric_pipe)\n",
    "                                                   ])\n",
    "    cv_outer=StratifiedKFold(n_splits=5, random_state=7,shuffle=True)\n",
    "    param = {        \n",
    "        'C': trial.suggest_loguniform('C', 1e-5, 1e2),\n",
    "        'gamma': trial.suggest_loguniform('gamma',1e-4, 1e1), \n",
    "        'kernel': trial.suggest_categorical('kernel', ['rbf', 'poly']),\n",
    "        'random_state': trial.suggest_categorical('random_state',[1]),\n",
    "        'verbose':trial.suggest_categorical('verbose',[0]), \n",
    "            }\n",
    "        \n",
    "    pipe = Pipeline([\n",
    "        ('prep',processing_pipe),\n",
    "        ('resample' ,SMOTETomek(sampling_strategy=0.7,random_state=1)),\n",
    "        ('est', SVC(**param))])     \n",
    "    return cross_val_score(pipe, X_train, y_train, cv=cv_outer, scoring=\"f1_weighted\").mean()"
   ]
  },
  {
   "cell_type": "code",
   "execution_count": 32,
   "metadata": {
    "_kg_hide-output": true,
    "execution": {
     "iopub.execute_input": "2021-03-16T23:52:43.488623Z",
     "iopub.status.busy": "2021-03-16T23:52:43.487918Z",
     "iopub.status.idle": "2021-03-16T23:54:13.868121Z",
     "shell.execute_reply": "2021-03-16T23:54:13.867537Z"
    },
    "papermill": {
     "duration": 90.49259,
     "end_time": "2021-03-16T23:54:13.868273",
     "exception": false,
     "start_time": "2021-03-16T23:52:43.375683",
     "status": "completed"
    },
    "tags": []
   },
   "outputs": [
    {
     "name": "stderr",
     "output_type": "stream",
     "text": [
      "\u001b[32m[I 2021-03-16 23:52:43,486]\u001b[0m A new study created in memory with name: no-name-a3b55fb0-55ac-4e74-85d7-926bf6cb309a\u001b[0m\n",
      "\u001b[32m[I 2021-03-16 23:52:45,478]\u001b[0m Trial 0 finished with value: 0.871285235103981 and parameters: {'C': 37.358881808019724, 'gamma': 0.029341292090277946, 'kernel': 'poly', 'random_state': 1, 'verbose': 0}. Best is trial 0 with value: 0.871285235103981.\u001b[0m\n",
      "\u001b[32m[I 2021-03-16 23:52:47,364]\u001b[0m Trial 1 finished with value: 0.7817961039137007 and parameters: {'C': 2.2482326996487175e-05, 'gamma': 0.012799858936741158, 'kernel': 'rbf', 'random_state': 1, 'verbose': 0}. Best is trial 0 with value: 0.871285235103981.\u001b[0m\n",
      "\u001b[32m[I 2021-03-16 23:52:48,999]\u001b[0m Trial 2 finished with value: 0.8712963187981261 and parameters: {'C': 6.48035561272967, 'gamma': 0.0002842267870698038, 'kernel': 'rbf', 'random_state': 1, 'verbose': 0}. Best is trial 2 with value: 0.8712963187981261.\u001b[0m\n",
      "\u001b[32m[I 2021-03-16 23:52:50,353]\u001b[0m Trial 3 finished with value: 0.7817961039137007 and parameters: {'C': 1.2659144527979298e-05, 'gamma': 0.03888938310092369, 'kernel': 'poly', 'random_state': 1, 'verbose': 0}. Best is trial 2 with value: 0.8712963187981261.\u001b[0m\n",
      "\u001b[32m[I 2021-03-16 23:52:51,694]\u001b[0m Trial 4 finished with value: 0.7817961039137007 and parameters: {'C': 1.2990093591273069e-05, 'gamma': 0.0028886307505657793, 'kernel': 'poly', 'random_state': 1, 'verbose': 0}. Best is trial 2 with value: 0.8712963187981261.\u001b[0m\n",
      "\u001b[32m[I 2021-03-16 23:52:53,053]\u001b[0m Trial 5 finished with value: 0.7817961039137007 and parameters: {'C': 17.706564968106544, 'gamma': 0.00014446850059493296, 'kernel': 'poly', 'random_state': 1, 'verbose': 0}. Best is trial 2 with value: 0.8712963187981261.\u001b[0m\n",
      "\u001b[32m[I 2021-03-16 23:52:54,314]\u001b[0m Trial 6 finished with value: 0.8603644249960194 and parameters: {'C': 30.119304557387164, 'gamma': 0.008839923656224734, 'kernel': 'poly', 'random_state': 1, 'verbose': 0}. Best is trial 2 with value: 0.8712963187981261.\u001b[0m\n",
      "\u001b[32m[I 2021-03-16 23:52:55,676]\u001b[0m Trial 7 finished with value: 0.7817961039137007 and parameters: {'C': 0.07475827399705298, 'gamma': 0.00013380966271169775, 'kernel': 'poly', 'random_state': 1, 'verbose': 0}. Best is trial 2 with value: 0.8712963187981261.\u001b[0m\n",
      "\u001b[32m[I 2021-03-16 23:53:01,653]\u001b[0m Trial 8 finished with value: 0.8600805769597362 and parameters: {'C': 0.36459672058879994, 'gamma': 0.6401163628111798, 'kernel': 'poly', 'random_state': 1, 'verbose': 0}. Best is trial 2 with value: 0.8712963187981261.\u001b[0m\n",
      "\u001b[32m[I 2021-03-16 23:53:03,489]\u001b[0m Trial 9 finished with value: 0.8303968544362432 and parameters: {'C': 0.12791729802263532, 'gamma': 0.0010572650766918603, 'kernel': 'rbf', 'random_state': 1, 'verbose': 0}. Best is trial 2 with value: 0.8712963187981261.\u001b[0m\n",
      "\u001b[32m[I 2021-03-16 23:53:05,408]\u001b[0m Trial 10 finished with value: 0.7817961039137007 and parameters: {'C': 0.00042140123560031303, 'gamma': 8.077094128202955, 'kernel': 'rbf', 'random_state': 1, 'verbose': 0}. Best is trial 2 with value: 0.8712963187981261.\u001b[0m\n",
      "\u001b[32m[I 2021-03-16 23:53:06,804]\u001b[0m Trial 11 finished with value: 0.8760475503667144 and parameters: {'C': 2.585301272989038, 'gamma': 0.107812957833193, 'kernel': 'rbf', 'random_state': 1, 'verbose': 0}. Best is trial 11 with value: 0.8760475503667144.\u001b[0m\n",
      "\u001b[32m[I 2021-03-16 23:53:08,404]\u001b[0m Trial 12 finished with value: 0.840450008835376 and parameters: {'C': 1.999965255190536, 'gamma': 0.29219648304252044, 'kernel': 'rbf', 'random_state': 1, 'verbose': 0}. Best is trial 11 with value: 0.8760475503667144.\u001b[0m\n",
      "\u001b[32m[I 2021-03-16 23:53:10,207]\u001b[0m Trial 13 finished with value: 0.7817961039137007 and parameters: {'C': 0.004181812196830906, 'gamma': 0.41747151555185946, 'kernel': 'rbf', 'random_state': 1, 'verbose': 0}. Best is trial 11 with value: 0.8760475503667144.\u001b[0m\n",
      "\u001b[32m[I 2021-03-16 23:53:12,515]\u001b[0m Trial 14 finished with value: 0.8031953082388771 and parameters: {'C': 2.5086245265231883, 'gamma': 7.508359276015946, 'kernel': 'rbf', 'random_state': 1, 'verbose': 0}. Best is trial 11 with value: 0.8760475503667144.\u001b[0m\n",
      "\u001b[32m[I 2021-03-16 23:53:13,931]\u001b[0m Trial 15 finished with value: 0.8656134413611097 and parameters: {'C': 4.555241823238207, 'gamma': 0.15344585196694957, 'kernel': 'rbf', 'random_state': 1, 'verbose': 0}. Best is trial 11 with value: 0.8760475503667144.\u001b[0m\n",
      "\u001b[32m[I 2021-03-16 23:53:15,996]\u001b[0m Trial 16 finished with value: 0.8023871786985113 and parameters: {'C': 0.4864607319451248, 'gamma': 1.7850012851789243, 'kernel': 'rbf', 'random_state': 1, 'verbose': 0}. Best is trial 11 with value: 0.8760475503667144.\u001b[0m\n",
      "\u001b[32m[I 2021-03-16 23:53:17,908]\u001b[0m Trial 17 finished with value: 0.7817961039137007 and parameters: {'C': 0.011766154957595702, 'gamma': 0.0006730665495035469, 'kernel': 'rbf', 'random_state': 1, 'verbose': 0}. Best is trial 11 with value: 0.8760475503667144.\u001b[0m\n",
      "\u001b[32m[I 2021-03-16 23:53:19,375]\u001b[0m Trial 18 finished with value: 0.8659630009193634 and parameters: {'C': 98.61309655211106, 'gamma': 0.07679815439001528, 'kernel': 'rbf', 'random_state': 1, 'verbose': 0}. Best is trial 11 with value: 0.8760475503667144.\u001b[0m\n",
      "\u001b[32m[I 2021-03-16 23:53:20,908]\u001b[0m Trial 19 finished with value: 0.8692730686426042 and parameters: {'C': 8.074705208003527, 'gamma': 0.0005141315367135858, 'kernel': 'rbf', 'random_state': 1, 'verbose': 0}. Best is trial 11 with value: 0.8760475503667144.\u001b[0m\n",
      "\u001b[32m[I 2021-03-16 23:53:23,130]\u001b[0m Trial 20 finished with value: 0.8032940400783769 and parameters: {'C': 98.56850002623838, 'gamma': 2.0981519732970977, 'kernel': 'rbf', 'random_state': 1, 'verbose': 0}. Best is trial 11 with value: 0.8760475503667144.\u001b[0m\n",
      "\u001b[32m[I 2021-03-16 23:53:24,484]\u001b[0m Trial 21 finished with value: 0.8598104213232425 and parameters: {'C': 39.94562502080814, 'gamma': 0.011705137839741324, 'kernel': 'poly', 'random_state': 1, 'verbose': 0}. Best is trial 11 with value: 0.8760475503667144.\u001b[0m\n",
      "\u001b[32m[I 2021-03-16 23:53:25,904]\u001b[0m Trial 22 finished with value: 0.860046826813902 and parameters: {'C': 0.8060912758298546, 'gamma': 0.04260362739108904, 'kernel': 'poly', 'random_state': 1, 'verbose': 0}. Best is trial 11 with value: 0.8760475503667144.\u001b[0m\n",
      "\u001b[32m[I 2021-03-16 23:53:27,274]\u001b[0m Trial 23 finished with value: 0.8620676234510555 and parameters: {'C': 10.053370119651495, 'gamma': 0.0030251788656028645, 'kernel': 'rbf', 'random_state': 1, 'verbose': 0}. Best is trial 11 with value: 0.8760475503667144.\u001b[0m\n",
      "\u001b[32m[I 2021-03-16 23:53:32,910]\u001b[0m Trial 24 finished with value: 0.8602507497639266 and parameters: {'C': 81.74099765982066, 'gamma': 0.10712230784770609, 'kernel': 'poly', 'random_state': 1, 'verbose': 0}. Best is trial 11 with value: 0.8760475503667144.\u001b[0m\n",
      "\u001b[32m[I 2021-03-16 23:53:34,392]\u001b[0m Trial 25 finished with value: 0.8661860188377656 and parameters: {'C': 1.4946061318964856, 'gamma': 0.0046888221064426356, 'kernel': 'rbf', 'random_state': 1, 'verbose': 0}. Best is trial 11 with value: 0.8760475503667144.\u001b[0m\n",
      "\u001b[32m[I 2021-03-16 23:53:40,760]\u001b[0m Trial 26 finished with value: 0.8529757564353174 and parameters: {'C': 18.79178994150542, 'gamma': 1.175912021515675, 'kernel': 'poly', 'random_state': 1, 'verbose': 0}. Best is trial 11 with value: 0.8760475503667144.\u001b[0m\n",
      "\u001b[32m[I 2021-03-16 23:53:42,406]\u001b[0m Trial 27 finished with value: 0.8655852594616718 and parameters: {'C': 0.16222224226667878, 'gamma': 0.02136542596788693, 'kernel': 'rbf', 'random_state': 1, 'verbose': 0}. Best is trial 11 with value: 0.8760475503667144.\u001b[0m\n",
      "\u001b[32m[I 2021-03-16 23:53:43,909]\u001b[0m Trial 28 finished with value: 0.8506844258423435 and parameters: {'C': 5.1807198143320665, 'gamma': 0.21639123251507963, 'kernel': 'rbf', 'random_state': 1, 'verbose': 0}. Best is trial 11 with value: 0.8760475503667144.\u001b[0m\n",
      "\u001b[32m[I 2021-03-16 23:53:45,363]\u001b[0m Trial 29 finished with value: 0.865303781773741 and parameters: {'C': 47.66914118363086, 'gamma': 0.0002297018836130809, 'kernel': 'rbf', 'random_state': 1, 'verbose': 0}. Best is trial 11 with value: 0.8760475503667144.\u001b[0m\n",
      "\u001b[32m[I 2021-03-16 23:53:46,601]\u001b[0m Trial 30 finished with value: 0.8556759257519015 and parameters: {'C': 0.030498343691455928, 'gamma': 0.06650777949925447, 'kernel': 'poly', 'random_state': 1, 'verbose': 0}. Best is trial 11 with value: 0.8760475503667144.\u001b[0m\n",
      "\u001b[32m[I 2021-03-16 23:53:48,176]\u001b[0m Trial 31 finished with value: 0.8692794171880266 and parameters: {'C': 7.247039233294075, 'gamma': 0.0005187233333313026, 'kernel': 'rbf', 'random_state': 1, 'verbose': 0}. Best is trial 11 with value: 0.8760475503667144.\u001b[0m\n",
      "\u001b[32m[I 2021-03-16 23:53:49,612]\u001b[0m Trial 32 finished with value: 0.860858026447018 and parameters: {'C': 12.422112340489525, 'gamma': 0.0014696363379827358, 'kernel': 'rbf', 'random_state': 1, 'verbose': 0}. Best is trial 11 with value: 0.8760475503667144.\u001b[0m\n",
      "\u001b[32m[I 2021-03-16 23:53:50,954]\u001b[0m Trial 33 finished with value: 0.8765869448623589 and parameters: {'C': 3.9133778801608146, 'gamma': 0.024881086430775173, 'kernel': 'rbf', 'random_state': 1, 'verbose': 0}. Best is trial 33 with value: 0.8765869448623589.\u001b[0m\n",
      "\u001b[32m[I 2021-03-16 23:53:52,422]\u001b[0m Trial 34 finished with value: 0.8657881759892792 and parameters: {'C': 0.7403822780400761, 'gamma': 0.021317976405672224, 'kernel': 'rbf', 'random_state': 1, 'verbose': 0}. Best is trial 33 with value: 0.8765869448623589.\u001b[0m\n",
      "\u001b[32m[I 2021-03-16 23:53:53,774]\u001b[0m Trial 35 finished with value: 0.8720541871860531 and parameters: {'C': 25.566920418032378, 'gamma': 0.004922891490260894, 'kernel': 'rbf', 'random_state': 1, 'verbose': 0}. Best is trial 33 with value: 0.8765869448623589.\u001b[0m\n",
      "\u001b[32m[I 2021-03-16 23:53:55,219]\u001b[0m Trial 36 finished with value: 0.8635623735498932 and parameters: {'C': 2.178682672581218, 'gamma': 0.004887453517006289, 'kernel': 'rbf', 'random_state': 1, 'verbose': 0}. Best is trial 33 with value: 0.8765869448623589.\u001b[0m\n",
      "\u001b[32m[I 2021-03-16 23:53:56,624]\u001b[0m Trial 37 finished with value: 0.8776760171134599 and parameters: {'C': 18.220271325059798, 'gamma': 0.03124348283126824, 'kernel': 'rbf', 'random_state': 1, 'verbose': 0}. Best is trial 37 with value: 0.8776760171134599.\u001b[0m\n",
      "\u001b[32m[I 2021-03-16 23:53:58,040]\u001b[0m Trial 38 finished with value: 0.8762091791849403 and parameters: {'C': 25.31978422627596, 'gamma': 0.03897030599684541, 'kernel': 'rbf', 'random_state': 1, 'verbose': 0}. Best is trial 37 with value: 0.8776760171134599.\u001b[0m\n",
      "\u001b[32m[I 2021-03-16 23:53:59,558]\u001b[0m Trial 39 finished with value: 0.8758361076559025 and parameters: {'C': 61.67800871127841, 'gamma': 0.039028091640710035, 'kernel': 'rbf', 'random_state': 1, 'verbose': 0}. Best is trial 37 with value: 0.8776760171134599.\u001b[0m\n",
      "\u001b[32m[I 2021-03-16 23:54:01,155]\u001b[0m Trial 40 finished with value: 0.8675629751401844 and parameters: {'C': 0.22354600149505557, 'gamma': 0.022948660716100702, 'kernel': 'rbf', 'random_state': 1, 'verbose': 0}. Best is trial 37 with value: 0.8776760171134599.\u001b[0m\n",
      "\u001b[32m[I 2021-03-16 23:54:02,540]\u001b[0m Trial 41 finished with value: 0.8752500609758075 and parameters: {'C': 41.79871550161514, 'gamma': 0.05152539174185822, 'kernel': 'rbf', 'random_state': 1, 'verbose': 0}. Best is trial 37 with value: 0.8776760171134599.\u001b[0m\n",
      "\u001b[32m[I 2021-03-16 23:54:03,909]\u001b[0m Trial 42 finished with value: 0.8800004433882018 and parameters: {'C': 17.482171278245975, 'gamma': 0.03083451323019164, 'kernel': 'rbf', 'random_state': 1, 'verbose': 0}. Best is trial 42 with value: 0.8800004433882018.\u001b[0m\n",
      "\u001b[32m[I 2021-03-16 23:54:05,291]\u001b[0m Trial 43 finished with value: 0.8728669911190187 and parameters: {'C': 3.822382791018042, 'gamma': 0.1304383171088873, 'kernel': 'rbf', 'random_state': 1, 'verbose': 0}. Best is trial 42 with value: 0.8800004433882018.\u001b[0m\n",
      "\u001b[32m[I 2021-03-16 23:54:06,612]\u001b[0m Trial 44 finished with value: 0.8722610064325724 and parameters: {'C': 16.015823173632803, 'gamma': 0.009450815496833048, 'kernel': 'rbf', 'random_state': 1, 'verbose': 0}. Best is trial 42 with value: 0.8800004433882018.\u001b[0m\n",
      "\u001b[32m[I 2021-03-16 23:54:08,040]\u001b[0m Trial 45 finished with value: 0.8626057957669611 and parameters: {'C': 1.1647804246196327, 'gamma': 0.014928839983694762, 'kernel': 'rbf', 'random_state': 1, 'verbose': 0}. Best is trial 42 with value: 0.8800004433882018.\u001b[0m\n",
      "\u001b[32m[I 2021-03-16 23:54:09,837]\u001b[0m Trial 46 finished with value: 0.7817961039137007 and parameters: {'C': 0.0007674707795142756, 'gamma': 0.09505410287933301, 'kernel': 'rbf', 'random_state': 1, 'verbose': 0}. Best is trial 42 with value: 0.8800004433882018.\u001b[0m\n",
      "\u001b[32m[I 2021-03-16 23:54:11,169]\u001b[0m Trial 47 finished with value: 0.876427025514193 and parameters: {'C': 3.146251052579039, 'gamma': 0.029469475147335205, 'kernel': 'rbf', 'random_state': 1, 'verbose': 0}. Best is trial 42 with value: 0.8800004433882018.\u001b[0m\n",
      "\u001b[32m[I 2021-03-16 23:54:12,518]\u001b[0m Trial 48 finished with value: 0.8744623637400164 and parameters: {'C': 26.34122270407637, 'gamma': 0.03228857649524882, 'kernel': 'rbf', 'random_state': 1, 'verbose': 0}. Best is trial 42 with value: 0.8800004433882018.\u001b[0m\n",
      "\u001b[32m[I 2021-03-16 23:54:13,861]\u001b[0m Trial 49 finished with value: 0.8698775342641827 and parameters: {'C': 4.459322263146725, 'gamma': 0.015719060802212963, 'kernel': 'rbf', 'random_state': 1, 'verbose': 0}. Best is trial 42 with value: 0.8800004433882018.\u001b[0m\n"
     ]
    },
    {
     "name": "stdout",
     "output_type": "stream",
     "text": [
      "CPU times: user 1min 30s, sys: 4.95 ms, total: 1min 30s\n",
      "Wall time: 1min 30s\n"
     ]
    }
   ],
   "source": [
    "%%time\n",
    "SVC_study = optuna.create_study(direction='maximize')\n",
    "SVC_study.optimize(objective_SVC, n_trials=50)\n",
    "model='SVC'\n",
    "score=SVC_study.best_trial.value\n",
    "models.append(model)\n",
    "scores.append(score)"
   ]
  },
  {
   "cell_type": "code",
   "execution_count": 33,
   "metadata": {
    "execution": {
     "iopub.execute_input": "2021-03-16T23:54:14.130786Z",
     "iopub.status.busy": "2021-03-16T23:54:14.130078Z",
     "iopub.status.idle": "2021-03-16T23:54:14.146274Z",
     "shell.execute_reply": "2021-03-16T23:54:14.145615Z"
    },
    "papermill": {
     "duration": 0.156777,
     "end_time": "2021-03-16T23:54:14.146455",
     "exception": false,
     "start_time": "2021-03-16T23:54:13.989678",
     "status": "completed"
    },
    "tags": []
   },
   "outputs": [
    {
     "name": "stdout",
     "output_type": "stream",
     "text": [
      "Number of finished trials: 50\n",
      "Best trial: score 0.8800004433882018, params {'C': 17.482171278245975, 'gamma': 0.03083451323019164, 'kernel': 'rbf', 'random_state': 1, 'verbose': 0}\n"
     ]
    }
   ],
   "source": [
    "print('Number of finished trials:', len(SVC_study.trials))\n",
    "print('Best trial: score {}, params {}'.format(SVC_study.best_trial.value, SVC_study.best_trial.params))"
   ]
  },
  {
   "cell_type": "markdown",
   "metadata": {
    "papermill": {
     "duration": 0.119841,
     "end_time": "2021-03-16T23:54:14.407573",
     "exception": false,
     "start_time": "2021-03-16T23:54:14.287732",
     "status": "completed"
    },
    "tags": []
   },
   "source": [
    "#### Best model"
   ]
  },
  {
   "cell_type": "code",
   "execution_count": 34,
   "metadata": {
    "_kg_hide-input": true,
    "execution": {
     "iopub.execute_input": "2021-03-16T23:54:14.653871Z",
     "iopub.status.busy": "2021-03-16T23:54:14.653267Z",
     "iopub.status.idle": "2021-03-16T23:54:14.663300Z",
     "shell.execute_reply": "2021-03-16T23:54:14.663817Z"
    },
    "papermill": {
     "duration": 0.136615,
     "end_time": "2021-03-16T23:54:14.663985",
     "exception": false,
     "start_time": "2021-03-16T23:54:14.527370",
     "status": "completed"
    },
    "tags": []
   },
   "outputs": [
    {
     "data": {
      "text/html": [
       "<div>\n",
       "<style scoped>\n",
       "    .dataframe tbody tr th:only-of-type {\n",
       "        vertical-align: middle;\n",
       "    }\n",
       "\n",
       "    .dataframe tbody tr th {\n",
       "        vertical-align: top;\n",
       "    }\n",
       "\n",
       "    .dataframe thead th {\n",
       "        text-align: right;\n",
       "    }\n",
       "</style>\n",
       "<table border=\"1\" class=\"dataframe\">\n",
       "  <thead>\n",
       "    <tr style=\"text-align: right;\">\n",
       "      <th></th>\n",
       "      <th>Model</th>\n",
       "      <th>Score</th>\n",
       "    </tr>\n",
       "  </thead>\n",
       "  <tbody>\n",
       "    <tr>\n",
       "      <th>0</th>\n",
       "      <td>Catboost</td>\n",
       "      <td>0.885799</td>\n",
       "    </tr>\n",
       "    <tr>\n",
       "      <th>2</th>\n",
       "      <td>SVC</td>\n",
       "      <td>0.880000</td>\n",
       "    </tr>\n",
       "    <tr>\n",
       "      <th>1</th>\n",
       "      <td>Random Forest</td>\n",
       "      <td>0.879385</td>\n",
       "    </tr>\n",
       "  </tbody>\n",
       "</table>\n",
       "</div>"
      ],
      "text/plain": [
       "           Model     Score\n",
       "0       Catboost  0.885799\n",
       "2            SVC  0.880000\n",
       "1  Random Forest  0.879385"
      ]
     },
     "execution_count": 34,
     "metadata": {},
     "output_type": "execute_result"
    }
   ],
   "source": [
    "best_model = pd.DataFrame(list(zip(models, scores)), columns =['Model', 'Score']).sort_values(ascending=False,by='Score')\n",
    "best_model"
   ]
  },
  {
   "cell_type": "markdown",
   "metadata": {
    "papermill": {
     "duration": 0.120722,
     "end_time": "2021-03-16T23:54:14.906068",
     "exception": false,
     "start_time": "2021-03-16T23:54:14.785346",
     "status": "completed"
    },
    "tags": []
   },
   "source": [
    "After Hyperparameter tuning, we can see Catboost Classifier get the highest score.\n",
    "We will therefore select Catboost with the parameters presented below :"
   ]
  },
  {
   "cell_type": "code",
   "execution_count": 35,
   "metadata": {
    "_kg_hide-input": true,
    "execution": {
     "iopub.execute_input": "2021-03-16T23:54:15.155520Z",
     "iopub.status.busy": "2021-03-16T23:54:15.154878Z",
     "iopub.status.idle": "2021-03-16T23:54:15.160726Z",
     "shell.execute_reply": "2021-03-16T23:54:15.160251Z"
    },
    "papermill": {
     "duration": 0.131968,
     "end_time": "2021-03-16T23:54:15.160848",
     "exception": false,
     "start_time": "2021-03-16T23:54:15.028880",
     "status": "completed"
    },
    "tags": []
   },
   "outputs": [
    {
     "data": {
      "text/plain": [
       "{'learning_rate': 0.0683140134738639,\n",
       " 'n_estimators': 210,\n",
       " 'max_depth': 3,\n",
       " 'l2_leaf_reg': 1,\n",
       " 'random_state': 1,\n",
       " 'loss_function': 'CrossEntropy',\n",
       " 'eval_metric': 'F1',\n",
       " 'silent': True,\n",
       " 'early_stopping_rounds': 100}"
      ]
     },
     "execution_count": 35,
     "metadata": {},
     "output_type": "execute_result"
    }
   ],
   "source": [
    "best_params = catboost_study.best_params\n",
    "best_params"
   ]
  },
  {
   "cell_type": "markdown",
   "metadata": {
    "papermill": {
     "duration": 0.121859,
     "end_time": "2021-03-16T23:54:15.402538",
     "exception": false,
     "start_time": "2021-03-16T23:54:15.280679",
     "status": "completed"
    },
    "tags": []
   },
   "source": [
    "If desired, we can have  look at the trials done by Optuna. We display here the Top 5 trials ranked by weighted F1-score"
   ]
  },
  {
   "cell_type": "code",
   "execution_count": 36,
   "metadata": {
    "_kg_hide-input": true,
    "execution": {
     "iopub.execute_input": "2021-03-16T23:54:15.656515Z",
     "iopub.status.busy": "2021-03-16T23:54:15.655877Z",
     "iopub.status.idle": "2021-03-16T23:54:15.680739Z",
     "shell.execute_reply": "2021-03-16T23:54:15.680098Z"
    },
    "papermill": {
     "duration": 0.153028,
     "end_time": "2021-03-16T23:54:15.680872",
     "exception": false,
     "start_time": "2021-03-16T23:54:15.527844",
     "status": "completed"
    },
    "tags": []
   },
   "outputs": [
    {
     "data": {
      "text/html": [
       "<div>\n",
       "<style scoped>\n",
       "    .dataframe tbody tr th:only-of-type {\n",
       "        vertical-align: middle;\n",
       "    }\n",
       "\n",
       "    .dataframe tbody tr th {\n",
       "        vertical-align: top;\n",
       "    }\n",
       "\n",
       "    .dataframe thead th {\n",
       "        text-align: right;\n",
       "    }\n",
       "</style>\n",
       "<table border=\"1\" class=\"dataframe\">\n",
       "  <thead>\n",
       "    <tr style=\"text-align: right;\">\n",
       "      <th></th>\n",
       "      <th>number</th>\n",
       "      <th>value</th>\n",
       "      <th>datetime_start</th>\n",
       "      <th>datetime_complete</th>\n",
       "      <th>duration</th>\n",
       "      <th>params_early_stopping_rounds</th>\n",
       "      <th>params_eval_metric</th>\n",
       "      <th>params_l2_leaf_reg</th>\n",
       "      <th>params_learning_rate</th>\n",
       "      <th>params_loss_function</th>\n",
       "      <th>params_max_depth</th>\n",
       "      <th>params_n_estimators</th>\n",
       "      <th>params_random_state</th>\n",
       "      <th>params_silent</th>\n",
       "      <th>state</th>\n",
       "    </tr>\n",
       "  </thead>\n",
       "  <tbody>\n",
       "    <tr>\n",
       "      <th>46</th>\n",
       "      <td>46</td>\n",
       "      <td>0.885799</td>\n",
       "      <td>2021-03-16 23:48:03.129806</td>\n",
       "      <td>2021-03-16 23:48:06.260905</td>\n",
       "      <td>0 days 00:00:03.131099</td>\n",
       "      <td>100</td>\n",
       "      <td>F1</td>\n",
       "      <td>1</td>\n",
       "      <td>0.068314</td>\n",
       "      <td>CrossEntropy</td>\n",
       "      <td>3</td>\n",
       "      <td>210</td>\n",
       "      <td>1</td>\n",
       "      <td>True</td>\n",
       "      <td>COMPLETE</td>\n",
       "    </tr>\n",
       "    <tr>\n",
       "      <th>19</th>\n",
       "      <td>19</td>\n",
       "      <td>0.885448</td>\n",
       "      <td>2021-03-16 23:46:29.775873</td>\n",
       "      <td>2021-03-16 23:46:33.111807</td>\n",
       "      <td>0 days 00:00:03.335934</td>\n",
       "      <td>100</td>\n",
       "      <td>F1</td>\n",
       "      <td>2</td>\n",
       "      <td>0.096744</td>\n",
       "      <td>CrossEntropy</td>\n",
       "      <td>2</td>\n",
       "      <td>290</td>\n",
       "      <td>1</td>\n",
       "      <td>True</td>\n",
       "      <td>COMPLETE</td>\n",
       "    </tr>\n",
       "    <tr>\n",
       "      <th>31</th>\n",
       "      <td>31</td>\n",
       "      <td>0.885085</td>\n",
       "      <td>2021-03-16 23:47:12.156322</td>\n",
       "      <td>2021-03-16 23:47:16.030206</td>\n",
       "      <td>0 days 00:00:03.873884</td>\n",
       "      <td>100</td>\n",
       "      <td>F1</td>\n",
       "      <td>2</td>\n",
       "      <td>0.071705</td>\n",
       "      <td>CrossEntropy</td>\n",
       "      <td>3</td>\n",
       "      <td>290</td>\n",
       "      <td>1</td>\n",
       "      <td>True</td>\n",
       "      <td>COMPLETE</td>\n",
       "    </tr>\n",
       "    <tr>\n",
       "      <th>38</th>\n",
       "      <td>38</td>\n",
       "      <td>0.885084</td>\n",
       "      <td>2021-03-16 23:47:37.523850</td>\n",
       "      <td>2021-03-16 23:47:40.561778</td>\n",
       "      <td>0 days 00:00:03.037928</td>\n",
       "      <td>100</td>\n",
       "      <td>F1</td>\n",
       "      <td>1</td>\n",
       "      <td>0.088224</td>\n",
       "      <td>CrossEntropy</td>\n",
       "      <td>2</td>\n",
       "      <td>250</td>\n",
       "      <td>1</td>\n",
       "      <td>True</td>\n",
       "      <td>COMPLETE</td>\n",
       "    </tr>\n",
       "    <tr>\n",
       "      <th>29</th>\n",
       "      <td>29</td>\n",
       "      <td>0.884687</td>\n",
       "      <td>2021-03-16 23:47:04.603875</td>\n",
       "      <td>2021-03-16 23:47:08.130634</td>\n",
       "      <td>0 days 00:00:03.526759</td>\n",
       "      <td>100</td>\n",
       "      <td>F1</td>\n",
       "      <td>2</td>\n",
       "      <td>0.087868</td>\n",
       "      <td>CrossEntropy</td>\n",
       "      <td>3</td>\n",
       "      <td>250</td>\n",
       "      <td>1</td>\n",
       "      <td>True</td>\n",
       "      <td>COMPLETE</td>\n",
       "    </tr>\n",
       "  </tbody>\n",
       "</table>\n",
       "</div>"
      ],
      "text/plain": [
       "    number     value             datetime_start          datetime_complete  \\\n",
       "46      46  0.885799 2021-03-16 23:48:03.129806 2021-03-16 23:48:06.260905   \n",
       "19      19  0.885448 2021-03-16 23:46:29.775873 2021-03-16 23:46:33.111807   \n",
       "31      31  0.885085 2021-03-16 23:47:12.156322 2021-03-16 23:47:16.030206   \n",
       "38      38  0.885084 2021-03-16 23:47:37.523850 2021-03-16 23:47:40.561778   \n",
       "29      29  0.884687 2021-03-16 23:47:04.603875 2021-03-16 23:47:08.130634   \n",
       "\n",
       "                 duration  params_early_stopping_rounds params_eval_metric  \\\n",
       "46 0 days 00:00:03.131099                           100                 F1   \n",
       "19 0 days 00:00:03.335934                           100                 F1   \n",
       "31 0 days 00:00:03.873884                           100                 F1   \n",
       "38 0 days 00:00:03.037928                           100                 F1   \n",
       "29 0 days 00:00:03.526759                           100                 F1   \n",
       "\n",
       "    params_l2_leaf_reg  params_learning_rate params_loss_function  \\\n",
       "46                   1              0.068314         CrossEntropy   \n",
       "19                   2              0.096744         CrossEntropy   \n",
       "31                   2              0.071705         CrossEntropy   \n",
       "38                   1              0.088224         CrossEntropy   \n",
       "29                   2              0.087868         CrossEntropy   \n",
       "\n",
       "    params_max_depth  params_n_estimators  params_random_state  params_silent  \\\n",
       "46                 3                  210                    1           True   \n",
       "19                 2                  290                    1           True   \n",
       "31                 3                  290                    1           True   \n",
       "38                 2                  250                    1           True   \n",
       "29                 3                  250                    1           True   \n",
       "\n",
       "       state  \n",
       "46  COMPLETE  \n",
       "19  COMPLETE  \n",
       "31  COMPLETE  \n",
       "38  COMPLETE  \n",
       "29  COMPLETE  "
      ]
     },
     "metadata": {},
     "output_type": "display_data"
    }
   ],
   "source": [
    "trials_df = catboost_study.trials_dataframe().sort_values(ascending=False,by='value')\n",
    "display(trials_df.head(5))"
   ]
  },
  {
   "cell_type": "markdown",
   "metadata": {
    "papermill": {
     "duration": 0.133743,
     "end_time": "2021-03-16T23:54:15.941554",
     "exception": false,
     "start_time": "2021-03-16T23:54:15.807811",
     "status": "completed"
    },
    "tags": []
   },
   "source": [
    "### 3. Model results <a class=\"anchor\" id=\"section_3\"></a>"
   ]
  },
  {
   "cell_type": "markdown",
   "metadata": {
    "papermill": {
     "duration": 0.124769,
     "end_time": "2021-03-16T23:54:16.192281",
     "exception": false,
     "start_time": "2021-03-16T23:54:16.067512",
     "status": "completed"
    },
    "tags": []
   },
   "source": [
    "### A. Visual Hyperparameter Optimization Analysis <a class=\"anchor\" id=\"section_3_1\"></a>"
   ]
  },
  {
   "cell_type": "markdown",
   "metadata": {
    "papermill": {
     "duration": 0.126174,
     "end_time": "2021-03-16T23:54:16.445737",
     "exception": false,
     "start_time": "2021-03-16T23:54:16.319563",
     "status": "completed"
    },
    "tags": []
   },
   "source": [
    "#### Hyperparameter Importance"
   ]
  },
  {
   "cell_type": "code",
   "execution_count": 37,
   "metadata": {
    "_kg_hide-input": true,
    "execution": {
     "iopub.execute_input": "2021-03-16T23:54:16.701607Z",
     "iopub.status.busy": "2021-03-16T23:54:16.700958Z",
     "iopub.status.idle": "2021-03-16T23:54:18.314555Z",
     "shell.execute_reply": "2021-03-16T23:54:18.315099Z"
    },
    "papermill": {
     "duration": 1.743811,
     "end_time": "2021-03-16T23:54:18.315281",
     "exception": false,
     "start_time": "2021-03-16T23:54:16.571470",
     "status": "completed"
    },
    "tags": []
   },
   "outputs": [
    {
     "data": {
      "text/html": [
       "        <script type=\"text/javascript\">\n",
       "        window.PlotlyConfig = {MathJaxConfig: 'local'};\n",
       "        if (window.MathJax) {MathJax.Hub.Config({SVG: {font: \"STIX-Web\"}});}\n",
       "        if (typeof require !== 'undefined') {\n",
       "        require.undef(\"plotly\");\n",
       "        requirejs.config({\n",
       "            paths: {\n",
       "                'plotly': ['https://cdn.plot.ly/plotly-latest.min']\n",
       "            }\n",
       "        });\n",
       "        require(['plotly'], function(Plotly) {\n",
       "            window._Plotly = Plotly;\n",
       "        });\n",
       "        }\n",
       "        </script>\n",
       "        "
      ]
     },
     "metadata": {},
     "output_type": "display_data"
    },
    {
     "data": {
      "text/html": [
       "<div>                            <div id=\"f62ea285-7298-4f00-a50c-dc64e973e3d5\" class=\"plotly-graph-div\" style=\"height:525px; width:100%;\"></div>            <script type=\"text/javascript\">                require([\"plotly\"], function(Plotly) {                    window.PLOTLYENV=window.PLOTLYENV || {};                                    if (document.getElementById(\"f62ea285-7298-4f00-a50c-dc64e973e3d5\")) {                    Plotly.newPlot(                        \"f62ea285-7298-4f00-a50c-dc64e973e3d5\",                        [{\"cliponaxis\": false, \"hovertemplate\": [\"early_stopping_rounds (CategoricalDistribution): 0.0<extra></extra>\", \"eval_metric (CategoricalDistribution): 0.0<extra></extra>\", \"loss_function (CategoricalDistribution): 0.0<extra></extra>\", \"random_state (CategoricalDistribution): 0.0<extra></extra>\", \"silent (CategoricalDistribution): 0.0<extra></extra>\", \"max_depth (IntUniformDistribution): 0.11278739935202028<extra></extra>\", \"l2_leaf_reg (IntUniformDistribution): 0.13044786907602662<extra></extra>\", \"n_estimators (IntUniformDistribution): 0.20725883651153026<extra></extra>\", \"learning_rate (UniformDistribution): 0.5495058950604228<extra></extra>\"], \"marker\": {\"color\": [\"rgb(66,146,198)\", \"rgb(66,146,198)\", \"rgb(66,146,198)\", \"rgb(66,146,198)\", \"rgb(66,146,198)\", \"rgb(8,81,156)\", \"rgb(8,81,156)\", \"rgb(8,81,156)\", \"rgb(8,48,107)\"]}, \"orientation\": \"h\", \"text\": [\"0.0\", \"0.0\", \"0.0\", \"0.0\", \"0.0\", \"0.11278739935202028\", \"0.13044786907602662\", \"0.20725883651153026\", \"0.5495058950604228\"], \"textposition\": \"outside\", \"texttemplate\": \"%{text:.2f}\", \"type\": \"bar\", \"x\": [0.0, 0.0, 0.0, 0.0, 0.0, 0.11278739935202028, 0.13044786907602662, 0.20725883651153026, 0.5495058950604228], \"y\": [\"early_stopping_rounds\", \"eval_metric\", \"loss_function\", \"random_state\", \"silent\", \"max_depth\", \"l2_leaf_reg\", \"n_estimators\", \"learning_rate\"]}],                        {\"showlegend\": false, \"template\": {\"data\": {\"bar\": [{\"error_x\": {\"color\": \"#2a3f5f\"}, \"error_y\": {\"color\": \"#2a3f5f\"}, \"marker\": {\"line\": {\"color\": \"#E5ECF6\", \"width\": 0.5}}, \"type\": \"bar\"}], \"barpolar\": [{\"marker\": {\"line\": {\"color\": \"#E5ECF6\", \"width\": 0.5}}, \"type\": \"barpolar\"}], \"carpet\": [{\"aaxis\": {\"endlinecolor\": \"#2a3f5f\", \"gridcolor\": \"white\", \"linecolor\": \"white\", \"minorgridcolor\": \"white\", \"startlinecolor\": \"#2a3f5f\"}, \"baxis\": {\"endlinecolor\": \"#2a3f5f\", \"gridcolor\": \"white\", \"linecolor\": \"white\", \"minorgridcolor\": \"white\", \"startlinecolor\": \"#2a3f5f\"}, \"type\": \"carpet\"}], \"choropleth\": [{\"colorbar\": {\"outlinewidth\": 0, \"ticks\": \"\"}, \"type\": \"choropleth\"}], \"contour\": [{\"colorbar\": {\"outlinewidth\": 0, \"ticks\": \"\"}, \"colorscale\": [[0.0, \"#0d0887\"], [0.1111111111111111, \"#46039f\"], [0.2222222222222222, \"#7201a8\"], [0.3333333333333333, \"#9c179e\"], [0.4444444444444444, \"#bd3786\"], [0.5555555555555556, \"#d8576b\"], [0.6666666666666666, \"#ed7953\"], [0.7777777777777778, \"#fb9f3a\"], [0.8888888888888888, \"#fdca26\"], [1.0, \"#f0f921\"]], \"type\": \"contour\"}], \"contourcarpet\": [{\"colorbar\": {\"outlinewidth\": 0, \"ticks\": \"\"}, \"type\": \"contourcarpet\"}], \"heatmap\": [{\"colorbar\": {\"outlinewidth\": 0, \"ticks\": \"\"}, \"colorscale\": [[0.0, \"#0d0887\"], [0.1111111111111111, \"#46039f\"], [0.2222222222222222, \"#7201a8\"], [0.3333333333333333, \"#9c179e\"], [0.4444444444444444, \"#bd3786\"], [0.5555555555555556, \"#d8576b\"], [0.6666666666666666, \"#ed7953\"], [0.7777777777777778, \"#fb9f3a\"], [0.8888888888888888, \"#fdca26\"], [1.0, \"#f0f921\"]], \"type\": \"heatmap\"}], \"heatmapgl\": [{\"colorbar\": {\"outlinewidth\": 0, \"ticks\": \"\"}, \"colorscale\": [[0.0, \"#0d0887\"], [0.1111111111111111, \"#46039f\"], [0.2222222222222222, \"#7201a8\"], [0.3333333333333333, \"#9c179e\"], [0.4444444444444444, \"#bd3786\"], [0.5555555555555556, \"#d8576b\"], [0.6666666666666666, \"#ed7953\"], [0.7777777777777778, \"#fb9f3a\"], [0.8888888888888888, \"#fdca26\"], [1.0, \"#f0f921\"]], \"type\": \"heatmapgl\"}], \"histogram\": [{\"marker\": {\"colorbar\": {\"outlinewidth\": 0, \"ticks\": \"\"}}, \"type\": \"histogram\"}], \"histogram2d\": [{\"colorbar\": {\"outlinewidth\": 0, \"ticks\": \"\"}, \"colorscale\": [[0.0, \"#0d0887\"], [0.1111111111111111, \"#46039f\"], [0.2222222222222222, \"#7201a8\"], [0.3333333333333333, \"#9c179e\"], [0.4444444444444444, \"#bd3786\"], [0.5555555555555556, \"#d8576b\"], [0.6666666666666666, \"#ed7953\"], [0.7777777777777778, \"#fb9f3a\"], [0.8888888888888888, \"#fdca26\"], [1.0, \"#f0f921\"]], \"type\": \"histogram2d\"}], \"histogram2dcontour\": [{\"colorbar\": {\"outlinewidth\": 0, \"ticks\": \"\"}, \"colorscale\": [[0.0, \"#0d0887\"], [0.1111111111111111, \"#46039f\"], [0.2222222222222222, \"#7201a8\"], [0.3333333333333333, \"#9c179e\"], [0.4444444444444444, \"#bd3786\"], [0.5555555555555556, \"#d8576b\"], [0.6666666666666666, \"#ed7953\"], [0.7777777777777778, \"#fb9f3a\"], [0.8888888888888888, \"#fdca26\"], [1.0, \"#f0f921\"]], \"type\": \"histogram2dcontour\"}], \"mesh3d\": [{\"colorbar\": {\"outlinewidth\": 0, \"ticks\": \"\"}, \"type\": \"mesh3d\"}], \"parcoords\": [{\"line\": {\"colorbar\": {\"outlinewidth\": 0, \"ticks\": \"\"}}, \"type\": \"parcoords\"}], \"pie\": [{\"automargin\": true, \"type\": \"pie\"}], \"scatter\": [{\"marker\": {\"colorbar\": {\"outlinewidth\": 0, \"ticks\": \"\"}}, \"type\": \"scatter\"}], \"scatter3d\": [{\"line\": {\"colorbar\": {\"outlinewidth\": 0, \"ticks\": \"\"}}, \"marker\": {\"colorbar\": {\"outlinewidth\": 0, \"ticks\": \"\"}}, \"type\": \"scatter3d\"}], \"scattercarpet\": [{\"marker\": {\"colorbar\": {\"outlinewidth\": 0, \"ticks\": \"\"}}, \"type\": \"scattercarpet\"}], \"scattergeo\": [{\"marker\": {\"colorbar\": {\"outlinewidth\": 0, \"ticks\": \"\"}}, \"type\": \"scattergeo\"}], \"scattergl\": [{\"marker\": {\"colorbar\": {\"outlinewidth\": 0, \"ticks\": \"\"}}, \"type\": \"scattergl\"}], \"scattermapbox\": [{\"marker\": {\"colorbar\": {\"outlinewidth\": 0, \"ticks\": \"\"}}, \"type\": \"scattermapbox\"}], \"scatterpolar\": [{\"marker\": {\"colorbar\": {\"outlinewidth\": 0, \"ticks\": \"\"}}, \"type\": \"scatterpolar\"}], \"scatterpolargl\": [{\"marker\": {\"colorbar\": {\"outlinewidth\": 0, \"ticks\": \"\"}}, \"type\": \"scatterpolargl\"}], \"scatterternary\": [{\"marker\": {\"colorbar\": {\"outlinewidth\": 0, \"ticks\": \"\"}}, \"type\": \"scatterternary\"}], \"surface\": [{\"colorbar\": {\"outlinewidth\": 0, \"ticks\": \"\"}, \"colorscale\": [[0.0, \"#0d0887\"], [0.1111111111111111, \"#46039f\"], [0.2222222222222222, \"#7201a8\"], [0.3333333333333333, \"#9c179e\"], [0.4444444444444444, \"#bd3786\"], [0.5555555555555556, \"#d8576b\"], [0.6666666666666666, \"#ed7953\"], [0.7777777777777778, \"#fb9f3a\"], [0.8888888888888888, \"#fdca26\"], [1.0, \"#f0f921\"]], \"type\": \"surface\"}], \"table\": [{\"cells\": {\"fill\": {\"color\": \"#EBF0F8\"}, \"line\": {\"color\": \"white\"}}, \"header\": {\"fill\": {\"color\": \"#C8D4E3\"}, \"line\": {\"color\": \"white\"}}, \"type\": \"table\"}]}, \"layout\": {\"annotationdefaults\": {\"arrowcolor\": \"#2a3f5f\", \"arrowhead\": 0, \"arrowwidth\": 1}, \"autotypenumbers\": \"strict\", \"coloraxis\": {\"colorbar\": {\"outlinewidth\": 0, \"ticks\": \"\"}}, \"colorscale\": {\"diverging\": [[0, \"#8e0152\"], [0.1, \"#c51b7d\"], [0.2, \"#de77ae\"], [0.3, \"#f1b6da\"], [0.4, \"#fde0ef\"], [0.5, \"#f7f7f7\"], [0.6, \"#e6f5d0\"], [0.7, \"#b8e186\"], [0.8, \"#7fbc41\"], [0.9, \"#4d9221\"], [1, \"#276419\"]], \"sequential\": [[0.0, \"#0d0887\"], [0.1111111111111111, \"#46039f\"], [0.2222222222222222, \"#7201a8\"], [0.3333333333333333, \"#9c179e\"], [0.4444444444444444, \"#bd3786\"], [0.5555555555555556, \"#d8576b\"], [0.6666666666666666, \"#ed7953\"], [0.7777777777777778, \"#fb9f3a\"], [0.8888888888888888, \"#fdca26\"], [1.0, \"#f0f921\"]], \"sequentialminus\": [[0.0, \"#0d0887\"], [0.1111111111111111, \"#46039f\"], [0.2222222222222222, \"#7201a8\"], [0.3333333333333333, \"#9c179e\"], [0.4444444444444444, \"#bd3786\"], [0.5555555555555556, \"#d8576b\"], [0.6666666666666666, \"#ed7953\"], [0.7777777777777778, \"#fb9f3a\"], [0.8888888888888888, \"#fdca26\"], [1.0, \"#f0f921\"]]}, \"colorway\": [\"#636efa\", \"#EF553B\", \"#00cc96\", \"#ab63fa\", \"#FFA15A\", \"#19d3f3\", \"#FF6692\", \"#B6E880\", \"#FF97FF\", \"#FECB52\"], \"font\": {\"color\": \"#2a3f5f\"}, \"geo\": {\"bgcolor\": \"white\", \"lakecolor\": \"white\", \"landcolor\": \"#E5ECF6\", \"showlakes\": true, \"showland\": true, \"subunitcolor\": \"white\"}, \"hoverlabel\": {\"align\": \"left\"}, \"hovermode\": \"closest\", \"mapbox\": {\"style\": \"light\"}, \"paper_bgcolor\": \"white\", \"plot_bgcolor\": \"#E5ECF6\", \"polar\": {\"angularaxis\": {\"gridcolor\": \"white\", \"linecolor\": \"white\", \"ticks\": \"\"}, \"bgcolor\": \"#E5ECF6\", \"radialaxis\": {\"gridcolor\": \"white\", \"linecolor\": \"white\", \"ticks\": \"\"}}, \"scene\": {\"xaxis\": {\"backgroundcolor\": \"#E5ECF6\", \"gridcolor\": \"white\", \"gridwidth\": 2, \"linecolor\": \"white\", \"showbackground\": true, \"ticks\": \"\", \"zerolinecolor\": \"white\"}, \"yaxis\": {\"backgroundcolor\": \"#E5ECF6\", \"gridcolor\": \"white\", \"gridwidth\": 2, \"linecolor\": \"white\", \"showbackground\": true, \"ticks\": \"\", \"zerolinecolor\": \"white\"}, \"zaxis\": {\"backgroundcolor\": \"#E5ECF6\", \"gridcolor\": \"white\", \"gridwidth\": 2, \"linecolor\": \"white\", \"showbackground\": true, \"ticks\": \"\", \"zerolinecolor\": \"white\"}}, \"shapedefaults\": {\"line\": {\"color\": \"#2a3f5f\"}}, \"ternary\": {\"aaxis\": {\"gridcolor\": \"white\", \"linecolor\": \"white\", \"ticks\": \"\"}, \"baxis\": {\"gridcolor\": \"white\", \"linecolor\": \"white\", \"ticks\": \"\"}, \"bgcolor\": \"#E5ECF6\", \"caxis\": {\"gridcolor\": \"white\", \"linecolor\": \"white\", \"ticks\": \"\"}}, \"title\": {\"x\": 0.05}, \"xaxis\": {\"automargin\": true, \"gridcolor\": \"white\", \"linecolor\": \"white\", \"ticks\": \"\", \"title\": {\"standoff\": 15}, \"zerolinecolor\": \"white\", \"zerolinewidth\": 2}, \"yaxis\": {\"automargin\": true, \"gridcolor\": \"white\", \"linecolor\": \"white\", \"ticks\": \"\", \"title\": {\"standoff\": 15}, \"zerolinecolor\": \"white\", \"zerolinewidth\": 2}}}, \"title\": {\"text\": \"Hyperparameter Importances\"}, \"xaxis\": {\"title\": {\"text\": \"Importance for Objective Value\"}}, \"yaxis\": {\"title\": {\"text\": \"Hyperparameter\"}}},                        {\"responsive\": true}                    ).then(function(){\n",
       "                            \n",
       "var gd = document.getElementById('f62ea285-7298-4f00-a50c-dc64e973e3d5');\n",
       "var x = new MutationObserver(function (mutations, observer) {{\n",
       "        var display = window.getComputedStyle(gd).display;\n",
       "        if (!display || display === 'none') {{\n",
       "            console.log([gd, 'removed!']);\n",
       "            Plotly.purge(gd);\n",
       "            observer.disconnect();\n",
       "        }}\n",
       "}});\n",
       "\n",
       "// Listen for the removal of the full notebook cells\n",
       "var notebookContainer = gd.closest('#notebook-container');\n",
       "if (notebookContainer) {{\n",
       "    x.observe(notebookContainer, {childList: true});\n",
       "}}\n",
       "\n",
       "// Listen for the clearing of the current output cell\n",
       "var outputEl = gd.closest('.output');\n",
       "if (outputEl) {{\n",
       "    x.observe(outputEl, {childList: true});\n",
       "}}\n",
       "\n",
       "                        })                };                });            </script>        </div>"
      ]
     },
     "metadata": {},
     "output_type": "display_data"
    }
   ],
   "source": [
    "# plot feature importance for algorithm parameters\n",
    "visualization.plot_param_importances(catboost_study)"
   ]
  },
  {
   "cell_type": "markdown",
   "metadata": {
    "papermill": {
     "duration": 0.123002,
     "end_time": "2021-03-16T23:54:18.561998",
     "exception": false,
     "start_time": "2021-03-16T23:54:18.438996",
     "status": "completed"
    },
    "tags": []
   },
   "source": [
    "#### Weighted F1-score History"
   ]
  },
  {
   "cell_type": "code",
   "execution_count": 38,
   "metadata": {
    "_kg_hide-input": true,
    "execution": {
     "iopub.execute_input": "2021-03-16T23:54:18.816614Z",
     "iopub.status.busy": "2021-03-16T23:54:18.816016Z",
     "iopub.status.idle": "2021-03-16T23:54:18.853537Z",
     "shell.execute_reply": "2021-03-16T23:54:18.852911Z"
    },
    "papermill": {
     "duration": 0.166574,
     "end_time": "2021-03-16T23:54:18.853695",
     "exception": false,
     "start_time": "2021-03-16T23:54:18.687121",
     "status": "completed"
    },
    "tags": []
   },
   "outputs": [
    {
     "data": {
      "text/html": [
       "<div>                            <div id=\"e7356d3b-bd40-442f-9718-ac589d69588e\" class=\"plotly-graph-div\" style=\"height:525px; width:100%;\"></div>            <script type=\"text/javascript\">                require([\"plotly\"], function(Plotly) {                    window.PLOTLYENV=window.PLOTLYENV || {};                                    if (document.getElementById(\"e7356d3b-bd40-442f-9718-ac589d69588e\")) {                    Plotly.newPlot(                        \"e7356d3b-bd40-442f-9718-ac589d69588e\",                        [{\"mode\": \"markers\", \"name\": \"Objective Value\", \"type\": \"scatter\", \"x\": [0, 1, 2, 3, 4, 5, 6, 7, 8, 9, 10, 11, 12, 13, 14, 15, 16, 17, 18, 19, 20, 21, 22, 23, 24, 25, 26, 27, 28, 29, 30, 31, 32, 33, 34, 35, 36, 37, 38, 39, 40, 41, 42, 43, 44, 45, 46, 47, 48, 49], \"y\": [0.8788011270382657, 0.8826339198431077, 0.862937904817851, 0.8703131907077933, 0.8697007480484187, 0.8445362777685805, 0.880527994160685, 0.8719995000777201, 0.8711853599621227, 0.8767977417936492, 0.8711761223069312, 0.8748385187278759, 0.8826142803884498, 0.872037306139825, 0.8803620122803395, 0.8738739679298366, 0.8834584784055926, 0.8779267408369369, 0.8801976246555074, 0.8854476608317915, 0.8775398545024464, 0.8783915993082096, 0.8811042112089847, 0.8738122399892703, 0.8827879604852467, 0.8808791357234214, 0.8780982324562621, 0.8759281989660277, 0.8761857803685329, 0.8846871219000285, 0.8828727560123053, 0.8850851043319012, 0.8806292493602319, 0.8812543531782101, 0.8811459511890491, 0.8834510619186735, 0.8747628818656326, 0.8755462364512738, 0.8850836423786953, 0.8790885894156485, 0.879395422847988, 0.8816101236897576, 0.8822557547638702, 0.8717972234305433, 0.8807448558850615, 0.8813112576266441, 0.8857987031945209, 0.8806766672623041, 0.8756873873490456, 0.8500695527654599]}, {\"name\": \"Best Value\", \"type\": \"scatter\", \"x\": [0, 1, 2, 3, 4, 5, 6, 7, 8, 9, 10, 11, 12, 13, 14, 15, 16, 17, 18, 19, 20, 21, 22, 23, 24, 25, 26, 27, 28, 29, 30, 31, 32, 33, 34, 35, 36, 37, 38, 39, 40, 41, 42, 43, 44, 45, 46, 47, 48, 49], \"y\": [0.8788011270382657, 0.8826339198431077, 0.8826339198431077, 0.8826339198431077, 0.8826339198431077, 0.8826339198431077, 0.8826339198431077, 0.8826339198431077, 0.8826339198431077, 0.8826339198431077, 0.8826339198431077, 0.8826339198431077, 0.8826339198431077, 0.8826339198431077, 0.8826339198431077, 0.8826339198431077, 0.8834584784055926, 0.8834584784055926, 0.8834584784055926, 0.8854476608317915, 0.8854476608317915, 0.8854476608317915, 0.8854476608317915, 0.8854476608317915, 0.8854476608317915, 0.8854476608317915, 0.8854476608317915, 0.8854476608317915, 0.8854476608317915, 0.8854476608317915, 0.8854476608317915, 0.8854476608317915, 0.8854476608317915, 0.8854476608317915, 0.8854476608317915, 0.8854476608317915, 0.8854476608317915, 0.8854476608317915, 0.8854476608317915, 0.8854476608317915, 0.8854476608317915, 0.8854476608317915, 0.8854476608317915, 0.8854476608317915, 0.8854476608317915, 0.8854476608317915, 0.8857987031945209, 0.8857987031945209, 0.8857987031945209, 0.8857987031945209]}],                        {\"template\": {\"data\": {\"bar\": [{\"error_x\": {\"color\": \"#2a3f5f\"}, \"error_y\": {\"color\": \"#2a3f5f\"}, \"marker\": {\"line\": {\"color\": \"#E5ECF6\", \"width\": 0.5}}, \"type\": \"bar\"}], \"barpolar\": [{\"marker\": {\"line\": {\"color\": \"#E5ECF6\", \"width\": 0.5}}, \"type\": \"barpolar\"}], \"carpet\": [{\"aaxis\": {\"endlinecolor\": \"#2a3f5f\", \"gridcolor\": \"white\", \"linecolor\": \"white\", \"minorgridcolor\": \"white\", \"startlinecolor\": \"#2a3f5f\"}, \"baxis\": {\"endlinecolor\": \"#2a3f5f\", \"gridcolor\": \"white\", \"linecolor\": \"white\", \"minorgridcolor\": \"white\", \"startlinecolor\": \"#2a3f5f\"}, \"type\": \"carpet\"}], \"choropleth\": [{\"colorbar\": {\"outlinewidth\": 0, \"ticks\": \"\"}, \"type\": \"choropleth\"}], \"contour\": [{\"colorbar\": {\"outlinewidth\": 0, \"ticks\": \"\"}, \"colorscale\": [[0.0, \"#0d0887\"], [0.1111111111111111, \"#46039f\"], [0.2222222222222222, \"#7201a8\"], [0.3333333333333333, \"#9c179e\"], [0.4444444444444444, \"#bd3786\"], [0.5555555555555556, \"#d8576b\"], [0.6666666666666666, \"#ed7953\"], [0.7777777777777778, \"#fb9f3a\"], [0.8888888888888888, \"#fdca26\"], [1.0, \"#f0f921\"]], \"type\": \"contour\"}], \"contourcarpet\": [{\"colorbar\": {\"outlinewidth\": 0, \"ticks\": \"\"}, \"type\": \"contourcarpet\"}], \"heatmap\": [{\"colorbar\": {\"outlinewidth\": 0, \"ticks\": \"\"}, \"colorscale\": [[0.0, \"#0d0887\"], [0.1111111111111111, \"#46039f\"], [0.2222222222222222, \"#7201a8\"], [0.3333333333333333, \"#9c179e\"], [0.4444444444444444, \"#bd3786\"], [0.5555555555555556, \"#d8576b\"], [0.6666666666666666, \"#ed7953\"], [0.7777777777777778, \"#fb9f3a\"], [0.8888888888888888, \"#fdca26\"], [1.0, \"#f0f921\"]], \"type\": \"heatmap\"}], \"heatmapgl\": [{\"colorbar\": {\"outlinewidth\": 0, \"ticks\": \"\"}, \"colorscale\": [[0.0, \"#0d0887\"], [0.1111111111111111, \"#46039f\"], [0.2222222222222222, \"#7201a8\"], [0.3333333333333333, \"#9c179e\"], [0.4444444444444444, \"#bd3786\"], [0.5555555555555556, \"#d8576b\"], [0.6666666666666666, \"#ed7953\"], [0.7777777777777778, \"#fb9f3a\"], [0.8888888888888888, \"#fdca26\"], [1.0, \"#f0f921\"]], \"type\": \"heatmapgl\"}], \"histogram\": [{\"marker\": {\"colorbar\": {\"outlinewidth\": 0, \"ticks\": \"\"}}, \"type\": \"histogram\"}], \"histogram2d\": [{\"colorbar\": {\"outlinewidth\": 0, \"ticks\": \"\"}, \"colorscale\": [[0.0, \"#0d0887\"], [0.1111111111111111, \"#46039f\"], [0.2222222222222222, \"#7201a8\"], [0.3333333333333333, \"#9c179e\"], [0.4444444444444444, \"#bd3786\"], [0.5555555555555556, \"#d8576b\"], [0.6666666666666666, \"#ed7953\"], [0.7777777777777778, \"#fb9f3a\"], [0.8888888888888888, \"#fdca26\"], [1.0, \"#f0f921\"]], \"type\": \"histogram2d\"}], \"histogram2dcontour\": [{\"colorbar\": {\"outlinewidth\": 0, \"ticks\": \"\"}, \"colorscale\": [[0.0, \"#0d0887\"], [0.1111111111111111, \"#46039f\"], [0.2222222222222222, \"#7201a8\"], [0.3333333333333333, \"#9c179e\"], [0.4444444444444444, \"#bd3786\"], [0.5555555555555556, \"#d8576b\"], [0.6666666666666666, \"#ed7953\"], [0.7777777777777778, \"#fb9f3a\"], [0.8888888888888888, \"#fdca26\"], [1.0, \"#f0f921\"]], \"type\": \"histogram2dcontour\"}], \"mesh3d\": [{\"colorbar\": {\"outlinewidth\": 0, \"ticks\": \"\"}, \"type\": \"mesh3d\"}], \"parcoords\": [{\"line\": {\"colorbar\": {\"outlinewidth\": 0, \"ticks\": \"\"}}, \"type\": \"parcoords\"}], \"pie\": [{\"automargin\": true, \"type\": \"pie\"}], \"scatter\": [{\"marker\": {\"colorbar\": {\"outlinewidth\": 0, \"ticks\": \"\"}}, \"type\": \"scatter\"}], \"scatter3d\": [{\"line\": {\"colorbar\": {\"outlinewidth\": 0, \"ticks\": \"\"}}, \"marker\": {\"colorbar\": {\"outlinewidth\": 0, \"ticks\": \"\"}}, \"type\": \"scatter3d\"}], \"scattercarpet\": [{\"marker\": {\"colorbar\": {\"outlinewidth\": 0, \"ticks\": \"\"}}, \"type\": \"scattercarpet\"}], \"scattergeo\": [{\"marker\": {\"colorbar\": {\"outlinewidth\": 0, \"ticks\": \"\"}}, \"type\": \"scattergeo\"}], \"scattergl\": [{\"marker\": {\"colorbar\": {\"outlinewidth\": 0, \"ticks\": \"\"}}, \"type\": \"scattergl\"}], \"scattermapbox\": [{\"marker\": {\"colorbar\": {\"outlinewidth\": 0, \"ticks\": \"\"}}, \"type\": \"scattermapbox\"}], \"scatterpolar\": [{\"marker\": {\"colorbar\": {\"outlinewidth\": 0, \"ticks\": \"\"}}, \"type\": \"scatterpolar\"}], \"scatterpolargl\": [{\"marker\": {\"colorbar\": {\"outlinewidth\": 0, \"ticks\": \"\"}}, \"type\": \"scatterpolargl\"}], \"scatterternary\": [{\"marker\": {\"colorbar\": {\"outlinewidth\": 0, \"ticks\": \"\"}}, \"type\": \"scatterternary\"}], \"surface\": [{\"colorbar\": {\"outlinewidth\": 0, \"ticks\": \"\"}, \"colorscale\": [[0.0, \"#0d0887\"], [0.1111111111111111, \"#46039f\"], [0.2222222222222222, \"#7201a8\"], [0.3333333333333333, \"#9c179e\"], [0.4444444444444444, \"#bd3786\"], [0.5555555555555556, \"#d8576b\"], [0.6666666666666666, \"#ed7953\"], [0.7777777777777778, \"#fb9f3a\"], [0.8888888888888888, \"#fdca26\"], [1.0, \"#f0f921\"]], \"type\": \"surface\"}], \"table\": [{\"cells\": {\"fill\": {\"color\": \"#EBF0F8\"}, \"line\": {\"color\": \"white\"}}, \"header\": {\"fill\": {\"color\": \"#C8D4E3\"}, \"line\": {\"color\": \"white\"}}, \"type\": \"table\"}]}, \"layout\": {\"annotationdefaults\": {\"arrowcolor\": \"#2a3f5f\", \"arrowhead\": 0, \"arrowwidth\": 1}, \"autotypenumbers\": \"strict\", \"coloraxis\": {\"colorbar\": {\"outlinewidth\": 0, \"ticks\": \"\"}}, \"colorscale\": {\"diverging\": [[0, \"#8e0152\"], [0.1, \"#c51b7d\"], [0.2, \"#de77ae\"], [0.3, \"#f1b6da\"], [0.4, \"#fde0ef\"], [0.5, \"#f7f7f7\"], [0.6, \"#e6f5d0\"], [0.7, \"#b8e186\"], [0.8, \"#7fbc41\"], [0.9, \"#4d9221\"], [1, \"#276419\"]], \"sequential\": [[0.0, \"#0d0887\"], [0.1111111111111111, \"#46039f\"], [0.2222222222222222, \"#7201a8\"], [0.3333333333333333, \"#9c179e\"], [0.4444444444444444, \"#bd3786\"], [0.5555555555555556, \"#d8576b\"], [0.6666666666666666, \"#ed7953\"], [0.7777777777777778, \"#fb9f3a\"], [0.8888888888888888, \"#fdca26\"], [1.0, \"#f0f921\"]], \"sequentialminus\": [[0.0, \"#0d0887\"], [0.1111111111111111, \"#46039f\"], [0.2222222222222222, \"#7201a8\"], [0.3333333333333333, \"#9c179e\"], [0.4444444444444444, \"#bd3786\"], [0.5555555555555556, \"#d8576b\"], [0.6666666666666666, \"#ed7953\"], [0.7777777777777778, \"#fb9f3a\"], [0.8888888888888888, \"#fdca26\"], [1.0, \"#f0f921\"]]}, \"colorway\": [\"#636efa\", \"#EF553B\", \"#00cc96\", \"#ab63fa\", \"#FFA15A\", \"#19d3f3\", \"#FF6692\", \"#B6E880\", \"#FF97FF\", \"#FECB52\"], \"font\": {\"color\": \"#2a3f5f\"}, \"geo\": {\"bgcolor\": \"white\", \"lakecolor\": \"white\", \"landcolor\": \"#E5ECF6\", \"showlakes\": true, \"showland\": true, \"subunitcolor\": \"white\"}, \"hoverlabel\": {\"align\": \"left\"}, \"hovermode\": \"closest\", \"mapbox\": {\"style\": \"light\"}, \"paper_bgcolor\": \"white\", \"plot_bgcolor\": \"#E5ECF6\", \"polar\": {\"angularaxis\": {\"gridcolor\": \"white\", \"linecolor\": \"white\", \"ticks\": \"\"}, \"bgcolor\": \"#E5ECF6\", \"radialaxis\": {\"gridcolor\": \"white\", \"linecolor\": \"white\", \"ticks\": \"\"}}, \"scene\": {\"xaxis\": {\"backgroundcolor\": \"#E5ECF6\", \"gridcolor\": \"white\", \"gridwidth\": 2, \"linecolor\": \"white\", \"showbackground\": true, \"ticks\": \"\", \"zerolinecolor\": \"white\"}, \"yaxis\": {\"backgroundcolor\": \"#E5ECF6\", \"gridcolor\": \"white\", \"gridwidth\": 2, \"linecolor\": \"white\", \"showbackground\": true, \"ticks\": \"\", \"zerolinecolor\": \"white\"}, \"zaxis\": {\"backgroundcolor\": \"#E5ECF6\", \"gridcolor\": \"white\", \"gridwidth\": 2, \"linecolor\": \"white\", \"showbackground\": true, \"ticks\": \"\", \"zerolinecolor\": \"white\"}}, \"shapedefaults\": {\"line\": {\"color\": \"#2a3f5f\"}}, \"ternary\": {\"aaxis\": {\"gridcolor\": \"white\", \"linecolor\": \"white\", \"ticks\": \"\"}, \"baxis\": {\"gridcolor\": \"white\", \"linecolor\": \"white\", \"ticks\": \"\"}, \"bgcolor\": \"#E5ECF6\", \"caxis\": {\"gridcolor\": \"white\", \"linecolor\": \"white\", \"ticks\": \"\"}}, \"title\": {\"x\": 0.05}, \"xaxis\": {\"automargin\": true, \"gridcolor\": \"white\", \"linecolor\": \"white\", \"ticks\": \"\", \"title\": {\"standoff\": 15}, \"zerolinecolor\": \"white\", \"zerolinewidth\": 2}, \"yaxis\": {\"automargin\": true, \"gridcolor\": \"white\", \"linecolor\": \"white\", \"ticks\": \"\", \"title\": {\"standoff\": 15}, \"zerolinecolor\": \"white\", \"zerolinewidth\": 2}}}, \"title\": {\"text\": \"Optimization History Plot\"}, \"xaxis\": {\"title\": {\"text\": \"#Trials\"}}, \"yaxis\": {\"title\": {\"text\": \"Objective Value\"}}},                        {\"responsive\": true}                    ).then(function(){\n",
       "                            \n",
       "var gd = document.getElementById('e7356d3b-bd40-442f-9718-ac589d69588e');\n",
       "var x = new MutationObserver(function (mutations, observer) {{\n",
       "        var display = window.getComputedStyle(gd).display;\n",
       "        if (!display || display === 'none') {{\n",
       "            console.log([gd, 'removed!']);\n",
       "            Plotly.purge(gd);\n",
       "            observer.disconnect();\n",
       "        }}\n",
       "}});\n",
       "\n",
       "// Listen for the removal of the full notebook cells\n",
       "var notebookContainer = gd.closest('#notebook-container');\n",
       "if (notebookContainer) {{\n",
       "    x.observe(notebookContainer, {childList: true});\n",
       "}}\n",
       "\n",
       "// Listen for the clearing of the current output cell\n",
       "var outputEl = gd.closest('.output');\n",
       "if (outputEl) {{\n",
       "    x.observe(outputEl, {childList: true});\n",
       "}}\n",
       "\n",
       "                        })                };                });            </script>        </div>"
      ]
     },
     "metadata": {},
     "output_type": "display_data"
    }
   ],
   "source": [
    "optuna.visualization.plot_optimization_history(catboost_study)"
   ]
  },
  {
   "cell_type": "markdown",
   "metadata": {
    "papermill": {
     "duration": 0.123917,
     "end_time": "2021-03-16T23:54:19.105320",
     "exception": false,
     "start_time": "2021-03-16T23:54:18.981403",
     "status": "completed"
    },
    "tags": []
   },
   "source": [
    "### B. Model Evaluation Metrics and Confusion Matrix<a class=\"anchor\" id=\"section_3_2\"></a>"
   ]
  },
  {
   "cell_type": "markdown",
   "metadata": {
    "papermill": {
     "duration": 0.12937,
     "end_time": "2021-03-16T23:54:19.361657",
     "exception": false,
     "start_time": "2021-03-16T23:54:19.232287",
     "status": "completed"
    },
    "tags": []
   },
   "source": [
    "### Predictions and Classification report"
   ]
  },
  {
   "cell_type": "code",
   "execution_count": 39,
   "metadata": {
    "_kg_hide-input": true,
    "execution": {
     "iopub.execute_input": "2021-03-16T23:54:19.627291Z",
     "iopub.status.busy": "2021-03-16T23:54:19.626616Z",
     "iopub.status.idle": "2021-03-16T23:54:20.414547Z",
     "shell.execute_reply": "2021-03-16T23:54:20.413834Z"
    },
    "papermill": {
     "duration": 0.926552,
     "end_time": "2021-03-16T23:54:20.414711",
     "exception": false,
     "start_time": "2021-03-16T23:54:19.488159",
     "status": "completed"
    },
    "tags": []
   },
   "outputs": [
    {
     "name": "stdout",
     "output_type": "stream",
     "text": [
      "Weighted F1_score: 90% \n",
      "              precision    recall  f1-score   support\n",
      "\n",
      "           0       0.93      0.97      0.95       380\n",
      "           1       0.78      0.57      0.66        67\n",
      "\n",
      "    accuracy                           0.91       447\n",
      "   macro avg       0.85      0.77      0.80       447\n",
      "weighted avg       0.90      0.91      0.90       447\n",
      "\n"
     ]
    }
   ],
   "source": [
    "numeric_pipe = Pipeline([('fs', feat_sel(dtype='numeric')),  # Select only the numeric features\n",
    "                         ('scl', df_scaler(method=StandardScaler())) # Scale data\n",
    "                        ])  \n",
    "categorical_pipeline = Pipeline( steps = [( 'fs', feat_sel(dtype='category')), # Select only the categorical features\n",
    "                                          ('label_encoder', Label_encode()), #Label encoder\n",
    "                                          ])\n",
    "processing_pipe = FeatureUnion_df(transformer_list=[('cat_pipe', categorical_pipeline),\n",
    "                                                    ('num_pipe', numeric_pipe)\n",
    "                                                   ])\n",
    "\n",
    "pipe = Pipeline([\n",
    "        ('prep',processing_pipe),\n",
    "        ('resample' ,SMOTETomek(sampling_strategy=0.7,random_state=1)),\n",
    "        ('est', CatBoostClassifier(**best_params))])     \n",
    "\n",
    "pipe.fit(X_train,y_train)\n",
    "prediction = pipe.predict(X_test)\n",
    "\n",
    "print('Weighted F1_score: %.0f%% ' % (f1_score(y_test, prediction, average='weighted')*100)) \n",
    "print(classification_report(y_test, prediction))"
   ]
  },
  {
   "cell_type": "markdown",
   "metadata": {
    "papermill": {
     "duration": 0.125617,
     "end_time": "2021-03-16T23:54:20.667597",
     "exception": false,
     "start_time": "2021-03-16T23:54:20.541980",
     "status": "completed"
    },
    "tags": []
   },
   "source": [
    "Weighted F1-score and Precision of the Class 1 score on the unseen test dataset are very statisfying for this business case"
   ]
  },
  {
   "cell_type": "markdown",
   "metadata": {
    "papermill": {
     "duration": 0.128875,
     "end_time": "2021-03-16T23:54:20.932790",
     "exception": false,
     "start_time": "2021-03-16T23:54:20.803915",
     "status": "completed"
    },
    "tags": []
   },
   "source": [
    "### Confusion matrix"
   ]
  },
  {
   "cell_type": "code",
   "execution_count": 40,
   "metadata": {
    "_kg_hide-input": true,
    "execution": {
     "iopub.execute_input": "2021-03-16T23:54:21.207648Z",
     "iopub.status.busy": "2021-03-16T23:54:21.192620Z",
     "iopub.status.idle": "2021-03-16T23:54:21.402848Z",
     "shell.execute_reply": "2021-03-16T23:54:21.402341Z"
    },
    "papermill": {
     "duration": 0.344772,
     "end_time": "2021-03-16T23:54:21.402980",
     "exception": false,
     "start_time": "2021-03-16T23:54:21.058208",
     "status": "completed"
    },
    "tags": []
   },
   "outputs": [
    {
     "data": {
      "image/png": "[encoded data removed]",
      "text/plain": [
       "<Figure size 720x720 with 2 Axes>"
      ]
     },
     "metadata": {
      "needs_background": "light"
     },
     "output_type": "display_data"
    }
   ],
   "source": [
    "# confusion marix for the test data\n",
    "cm = confusion_matrix(y_test, prediction,  labels=[1,0])\n",
    "\n",
    "fig, ax= plt.subplots(figsize=(10,10))\n",
    "sns.heatmap(cm, annot=True, fmt='g', ax = ax); \n",
    "\n",
    "# labels, title and ticks\n",
    "ax.set_xlabel('Predicted labels');\n",
    "ax.set_ylabel('True labels'); \n",
    "ax.set_title('Confusion Matrix'); \n",
    "ax.xaxis.set_ticklabels(['Responsive','Not responsive']); \n",
    "ax.yaxis.set_ticklabels(['Responsive','Not responsive']);"
   ]
  },
  {
   "cell_type": "markdown",
   "metadata": {
    "papermill": {
     "duration": 0.12632,
     "end_time": "2021-03-16T23:54:21.655151",
     "exception": false,
     "start_time": "2021-03-16T23:54:21.528831",
     "status": "completed"
    },
    "tags": []
   },
   "source": [
    "### C. Cumulative Gains and Lift charts<a class=\"anchor\" id=\"section_3_3\"></a>"
   ]
  },
  {
   "cell_type": "markdown",
   "metadata": {
    "papermill": {
     "duration": 0.12559,
     "end_time": "2021-03-16T23:54:21.908020",
     "exception": false,
     "start_time": "2021-03-16T23:54:21.782430",
     "status": "completed"
    },
    "tags": []
   },
   "source": [
    "In addition to the confusion matrix and F1-score, we can use two other meaningful metrics to measure the efficiency of our model : Cumulative gains and the lift chart.\n",
    "- **Cumulative gains :** by ordering customers with the highest probability of accepting the marketing offer, it shows the proportion of customers that would be converted considering a sample size. \n",
    "- **Lift chart :** the lift is a measure of the performance of a targeting model at classifying cases as having an enhanced response, measured against a random choice targeting model"
   ]
  },
  {
   "cell_type": "code",
   "execution_count": 41,
   "metadata": {
    "_kg_hide-input": true,
    "execution": {
     "iopub.execute_input": "2021-03-16T23:54:22.195580Z",
     "iopub.status.busy": "2021-03-16T23:54:22.194845Z",
     "iopub.status.idle": "2021-03-16T23:54:22.362604Z",
     "shell.execute_reply": "2021-03-16T23:54:22.362012Z"
    },
    "papermill": {
     "duration": 0.329958,
     "end_time": "2021-03-16T23:54:22.362758",
     "exception": false,
     "start_time": "2021-03-16T23:54:22.032800",
     "status": "completed"
    },
    "tags": []
   },
   "outputs": [
    {
     "data": {
      "image/png": "[encoded data removed]",
      "text/plain": [
       "<Figure size 432x288 with 1 Axes>"
      ]
     },
     "metadata": {
      "needs_background": "light"
     },
     "output_type": "display_data"
    }
   ],
   "source": [
    "predicted_probabilities = pipe.predict_proba(X_test)\n",
    "skplt.metrics.plot_cumulative_gain(y_test, predicted_probabilities);"
   ]
  },
  {
   "cell_type": "markdown",
   "metadata": {
    "papermill": {
     "duration": 0.127682,
     "end_time": "2021-03-16T23:54:22.620962",
     "exception": false,
     "start_time": "2021-03-16T23:54:22.493280",
     "status": "completed"
    },
    "tags": []
   },
   "source": [
    "If we target only the **top 20%** of customers, we would expect to convert almost **80%** of the total customers that would actually accept our marketing campaign offer.  \n",
    "The diagonal line is the \"baseline\" curve, if we select 10% of the customers at random, we would expect to \"gain\" approximately 10% of all of the cases that actually accepted the marketing campaign offer."
   ]
  },
  {
   "cell_type": "code",
   "execution_count": 42,
   "metadata": {
    "_kg_hide-input": true,
    "execution": {
     "iopub.execute_input": "2021-03-16T23:54:22.884638Z",
     "iopub.status.busy": "2021-03-16T23:54:22.883961Z",
     "iopub.status.idle": "2021-03-16T23:54:23.050900Z",
     "shell.execute_reply": "2021-03-16T23:54:23.050393Z"
    },
    "papermill": {
     "duration": 0.300148,
     "end_time": "2021-03-16T23:54:23.051047",
     "exception": false,
     "start_time": "2021-03-16T23:54:22.750899",
     "status": "completed"
    },
    "tags": []
   },
   "outputs": [
    {
     "data": {
      "image/png": "[encoded data removed]",
      "text/plain": [
       "<Figure size 432x288 with 1 Axes>"
      ]
     },
     "metadata": {
      "needs_background": "light"
     },
     "output_type": "display_data"
    }
   ],
   "source": [
    "skplt.metrics.plot_lift_curve(y_test, predicted_probabilities);"
   ]
  },
  {
   "cell_type": "markdown",
   "metadata": {
    "papermill": {
     "duration": 0.128306,
     "end_time": "2021-03-16T23:54:23.311126",
     "exception": false,
     "start_time": "2021-03-16T23:54:23.182820",
     "status": "completed"
    },
    "tags": []
   },
   "source": [
    "From the lift chart, we can see that by targeting 20% of customers, the model addresses almost **4 times** more targets for this group, compared with addressing without the model, meaning randomly."
   ]
  }
 ],
 "metadata": {
  "kernelspec": {
   "display_name": "cic1205",
   "language": "python",
   "name": "python3"
  },
  "language_info": {
   "codemirror_mode": {
    "name": "ipython",
    "version": 3
   },
   "file_extension": ".py",
   "mimetype": "text/x-python",
   "name": "python",
   "nbconvert_exporter": "python",
   "pygments_lexer": "ipython3",
   "version": "3.12.0"
  },
  "papermill": {
   "default_parameters": {},
   "duration": 2317.945097,
   "end_time": "2021-03-16T23:54:24.251744",
   "environment_variables": {},
   "exception": null,
   "input_path": "__notebook__.ipynb",
   "output_path": "__notebook__.ipynb",
   "parameters": {},
   "start_time": "2021-03-16T23:15:46.306647",
   "version": "2.2.2"
  }
 },
 "nbformat": 4,
 "nbformat_minor": 4
}
