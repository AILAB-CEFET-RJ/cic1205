{
 "cells": [
  {
   "cell_type": "code",
   "execution_count": 1,
   "metadata": {},
   "outputs": [
    {
     "name": "stdout",
     "output_type": "stream",
     "text": [
      "Loss: 0.995657205581665\n",
      "Output after forward pass: tensor([[ 0.0088, -0.1625, -0.1861, -0.3881,  0.4383, -0.1211, -0.0072, -0.1537,\n",
      "          0.0852,  0.2645],\n",
      "        [-0.2608, -0.1121, -0.0072, -0.4790,  0.6099, -0.2876,  0.1976, -0.2671,\n",
      "         -0.0041,  0.5061],\n",
      "        [-0.6919, -0.0327, -0.3127, -0.6034,  0.4075, -0.4959,  0.1068, -0.5159,\n",
      "          0.2424,  0.7285],\n",
      "        [-0.2799, -0.1389, -0.1849, -0.4471,  0.3725, -0.3389,  0.0032, -0.3422,\n",
      "          0.0844,  0.3969],\n",
      "        [-0.0377, -0.2455,  0.3117, -0.0493,  0.5215, -0.1721, -0.1258, -0.1279,\n",
      "         -0.0952, -0.0500]], grad_fn=<AddmmBackward0>)\n"
     ]
    }
   ],
   "source": [
    "import torch\n",
    "import torch.nn as nn\n",
    "import torch.optim as optim\n",
    "import torch.nn.functional as F\n",
    "\n",
    "# Define a simple neural network with skip connections\n",
    "class SkipConnectionNet(nn.Module):\n",
    "    def __init__(self):\n",
    "        super(SkipConnectionNet, self).__init__()\n",
    "        self.fc1 = nn.Linear(10, 20)  # First layer\n",
    "        self.fc2 = nn.Linear(20, 20)  # Second layer\n",
    "        self.fc3 = nn.Linear(20, 10)  # Third layer\n",
    "        \n",
    "    def forward(self, x):\n",
    "        # First layer\n",
    "        out = F.relu(self.fc1(x))\n",
    "        \n",
    "        # Second layer with a skip connection\n",
    "        out = F.relu(self.fc2(out)) + out  # Skip connection adds input to output\n",
    "        \n",
    "        # Third layer\n",
    "        out = self.fc3(out)\n",
    "        \n",
    "        return out\n",
    "\n",
    "# Create a random input tensor\n",
    "input_data = torch.randn(5, 10)  # Batch of 5, 10 features each\n",
    "\n",
    "# Instantiate the model, define a loss function and an optimizer\n",
    "model = SkipConnectionNet()\n",
    "criterion = nn.MSELoss()\n",
    "optimizer = optim.Adam(model.parameters(), lr=0.001)\n",
    "\n",
    "# Forward pass: Compute predicted y by passing x to the model\n",
    "output = model(input_data)\n",
    "\n",
    "# Example target output (for demonstration purposes)\n",
    "target = torch.randn(5, 10)\n",
    "\n",
    "# Compute and print loss\n",
    "loss = criterion(output, target)\n",
    "print('Loss:', loss.item())\n",
    "\n",
    "# Backward pass and optimize\n",
    "loss.backward()\n",
    "optimizer.step()\n",
    "\n",
    "print(\"Output after forward pass:\", output)\n"
   ]
  }
 ],
 "metadata": {
  "kernelspec": {
   "display_name": "cic1205",
   "language": "python",
   "name": "python3"
  },
  "language_info": {
   "codemirror_mode": {
    "name": "ipython",
    "version": 3
   },
   "file_extension": ".py",
   "mimetype": "text/x-python",
   "name": "python",
   "nbconvert_exporter": "python",
   "pygments_lexer": "ipython3",
   "version": "3.12.0"
  }
 },
 "nbformat": 4,
 "nbformat_minor": 2
}
