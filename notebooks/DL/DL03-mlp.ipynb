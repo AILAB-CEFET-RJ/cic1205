{
 "cells": [
  {
   "cell_type": "markdown",
   "metadata": {
    "id": "a0s-zrusMHLk"
   },
   "source": [
    "## Créditos\n",
    "\n",
    "O conteúdo deste notebook usa material das seguines fontes:\n",
    "\n",
    "- [Deep Learning Wizard](https://www.deeplearningwizard.com/deep_learning/practical_pytorch/pytorch_logistic_regression/)\n",
    "\n",
    "- [Deep Learning with PyTorch: Zero to GANs](https://jovian.ai/learn/deep-learning-with-pytorch-zero-to-gans)"
   ]
  },
  {
   "cell_type": "markdown",
   "metadata": {
    "id": "zRMQYXirpeT5"
   },
   "source": [
    "# Redes Multi-Layer Perceptron (MLP)\n",
    "\n",
    "Uma rede MLP (Multi-layer Perceptron) é um tipo de rede neural artificial composta por várias camadas de neurônios (também chamados de unidades ou nós), organizadas em uma arquitetura feedforward. O MLP é um dos modelos mais básicos e fundamentais em aprendizado de máquina e é amplamente utilizado em tarefas de classificação e regressão.\n",
    "\n",
    "Uma rede MLP consiste em três tipos principais de camadas:\n",
    "\n",
    "- Camada de Entrada (Input Layer). Esta é a primeira camada da rede e recebe os dados de entrada. Cada neurônio nesta camada representa uma característica do vetor de entrada. A camada de entrada apenas distribui os dados para a próxima camada, sem realizar cálculos.\n",
    "\n",
    "- Camadas Ocultas (Hidden Layers). Estas são as camadas intermediárias entre a camada de entrada e a camada de saída. Uma MLP pode ter uma ou mais camadas ocultas. Cada neurônio em uma camada oculta aplica uma transformação linear aos seus inputs (soma ponderada) seguida por uma função de ativação não linear (como ReLU, sigmoid, ou tanh). Essa não linearidade é o que permite que a rede MLP aprenda representações complexas dos dados.\n",
    "A quantidade de neurônios em cada camada oculta e o número de camadas ocultas são hiperparâmetros que precisam ser ajustados de acordo com a tarefa específica.\n",
    "\n",
    "- Camada de Saída (Output Layer). Esta é a última camada da rede e produz a saída final da MLP. O número de neurônios nesta camada depende da tarefa. Para classificação binária, geralmente há um único neurônio com uma função de ativação sigmoide. Para classificação multiclasse, o número de neurônios corresponde ao número de classes, e a função de ativação mais comum é softmax. Para regressão, pode haver um neurônio com uma ativação linear.\n",
    "\n",
    "Este notebook aborda os seguintes tópicos:\n",
    " \n",
    " * Criação de uma rede neural MLP para classificação\n",
    " * Função de ativação\n",
    " * Uso de GPUs para acelerar o treinamento\n",
    " * Experimentos com hiperparâmetros para melhorar o modelo"
   ]
  },
  {
   "cell_type": "markdown",
   "metadata": {
    "id": "h1N-aPtrpeT5"
   },
   "source": [
    "# Criando um modelo MLP\n",
    "\n",
    "Anteriormente, treinamos um modelo de classificação para identificar dígitos manuscritos do conjunto de dados MNIST com uma acurácia de cerca de 86%. O conjunto de dados consiste em imagens em tons de cinza de 28 x 28 pixels de dígitos manuscritos (0 a 9) e rótulos para cada imagem indicando qual dígito ela representa. Aqui estão alguns exemplos de imagens do conjunto de dados:\n",
    "\n",
    "<center><img src='https://i.imgur.com/CAYnuo1.jpg'></center>\n",
    "\n",
    "Percebemos que é bastante desafiador melhorar a acurácia daquele modelo além de 86%, uma vez que aquele modelo foi definido de tal forma a considerar que há uma **relação linear** entre intensidades de pixel e rótulos de imagem. De fato, mesmo que adicionassemos mais camadas `nn.Linear` ao modelo anterior, isso não faria com que esse modelo produzisse resultados melhores, porque a composição de funções lineares é também uma função linear.\n",
    "\n",
    "Agora, vamos tentar criar um modelo melhor usando uma *rede neural feed-forward* que pode capturar relacionamentos não lineares entre entradas e alvos.\n",
    "\n",
    "Vamos começar importando os módulos e classes necessários de `torch`,` torchvision`, `numpy` e `matplotlib`."
   ]
  },
  {
   "cell_type": "code",
   "execution_count": 60,
   "metadata": {
    "executionInfo": {
     "elapsed": 7097,
     "status": "ok",
     "timestamp": 1645706224980,
     "user": {
      "displayName": "Eduardo Bezerra",
      "photoUrl": "https://lh3.googleusercontent.com/a-/AOh14GgtLlrVPd1NAOukzvdhFbWNfJNyiPGoaltpqHbN_A=s64",
      "userId": "15338717559428153474"
     },
     "user_tz": 180
    },
    "id": "WapU423CpeT5"
   },
   "outputs": [],
   "source": [
    "import torch\n",
    "import torchvision\n",
    "import numpy as np\n",
    "import matplotlib\n",
    "import matplotlib.pyplot as plt\n",
    "import torch.nn as nn\n",
    "import torch.nn.functional as F\n",
    "from torchvision.datasets import MNIST\n",
    "from torchvision.transforms import ToTensor\n",
    "from torchvision.utils import make_grid\n",
    "from torch.utils.data.dataloader import DataLoader\n",
    "from torch.utils.data import random_split\n",
    "%matplotlib inline\n",
    "\n",
    "# Use a white background for matplotlib figures\n",
    "matplotlib.rcParams['figure.facecolor'] = '#ffffff'"
   ]
  },
  {
   "cell_type": "markdown",
   "metadata": {
    "id": "wa8Y7hGhpeT5"
   },
   "source": [
    "Podemos baixar os dados e criar um conjunto de dados PyTorch usando a classe `MNIST` fornecida no pacote `torchvision.datasets`."
   ]
  },
  {
   "cell_type": "code",
   "execution_count": 61,
   "metadata": {
    "colab": {
     "base_uri": "https://localhost:8080/",
     "height": 422,
     "referenced_widgets": [
      "b16b0686926b4684a192119ca7667798",
      "cf6ab9d44a394388b8e18f83b82768ba",
      "3a7b949d99754f6a99cd9f07e152b829",
      "a477eeb28cd14c519a6c673d15a7c41d",
      "832ea84b46944fe9b54417dd372bac57",
      "80522a3637c14f3d91075ce44012afed",
      "7a450f04266e44a89f08a6e850847a0f",
      "5c3788a7c0984370a6e73e00b44b8c41",
      "ce7c9452374b41fa8593c9111a3329d7",
      "649e895ac3ac4c009b2fb0294a59e3bf",
      "c10fd9787699498290cef0476e68487f",
      "d50e5f6ebdde4736bd125c9e25cbc15b",
      "b7be8a06b346446d914b28ec7881ebd8",
      "f673074f75174e0ca9784fe9ed57b972",
      "8d2577e6c7644d16b2e63f2446739044",
      "253e838578fd4f648a75157acd315cc1",
      "853f921d7c604cdd883a72e068525827",
      "80a8bcbdce0141a58efc9ba3dac4ecd3",
      "6f833f37eea744308dc4d9a0e46ca619",
      "0e8aa0e505f94aac8be3c032ca0e92b1",
      "e5e69d76a4b34c5ca5e2876ac6c71998",
      "d1b78b53595c42468f80023ef958d2bd",
      "ed4375c510a244b592221887e62d6de6",
      "ea61e7f36ad145b88291419b0f863711",
      "b79659be85044ab691e50b0d97b86dfc",
      "ed5d315b03c84d9794debd9021bdb409",
      "7b500af7e09843d5bae01fc925049ced",
      "9e3d5391ed21491aa56a3d14ab71ac59",
      "08947121cd6f4921911e4c28956b9af1",
      "57a2f4e854c94fc38546b88888830ece",
      "ff2c547ffb2a4b98adef1dbdf46f81f1",
      "484bf9e9900543af98d19b4c8a1f7004",
      "4cadf19bddad40eea9c63d67d2ab282b",
      "db838d6fab9141099b65d6b7036425f8",
      "ca2978c3e01d4b0fb3aea7b92f9a2df3",
      "819396ee4c6f4068bc7459d606b52b71",
      "16fd7919c3c743118ca5c0fb9492b89a",
      "8a3b29d48606456c87c7d6c97f978020",
      "58c48bfaebd241aa87e9019b59640741",
      "7794421a8a9347629ecf186f731459c4",
      "1d0523ff16bd4691af3b3924041a6917",
      "a0b9230e2a964e20ba65671943685dc3",
      "9c17a3aeb370430f8a96791a55837b8f",
      "26c85eefc4dd4278b18cf01b12ef94ff"
     ]
    },
    "executionInfo": {
     "elapsed": 2873,
     "status": "ok",
     "timestamp": 1645706227846,
     "user": {
      "displayName": "Eduardo Bezerra",
      "photoUrl": "https://lh3.googleusercontent.com/a-/AOh14GgtLlrVPd1NAOukzvdhFbWNfJNyiPGoaltpqHbN_A=s64",
      "userId": "15338717559428153474"
     },
     "user_tz": 180
    },
    "id": "CCfhGj-IpeT5",
    "outputId": "7007db8d-1270-4036-badc-e755086d1b71"
   },
   "outputs": [],
   "source": [
    "dataset = MNIST(root='data/', download=True, transform=ToTensor())"
   ]
  },
  {
   "cell_type": "markdown",
   "metadata": {
    "id": "BNfEV0B-LUdp"
   },
   "source": [
    "Vejamos algumas imagens do conjunto de dados. As imagens são convertidas em tensores PyTorch com a forma `1x28x28`. Essas dimensões representam, nesta ordem, o quantidade de canais de cores (igual a 1, pois as imagens são monocromáticas), a largura e a altura. \n",
    "\n",
    "Podemos usar `plt.imshow` para exibir as imagens. No entanto, a função `plt.imshow` espera que as imagens sejam estruturadas como (linhas, colunas) para imagens monocromáticas, e (linhas, colunas, canais) valores para imagens RGB. Sendo assim, temos que usar o método `reshape` para transformar os tensores de 3D para 2D."
   ]
  },
  {
   "cell_type": "code",
   "execution_count": 62,
   "metadata": {
    "colab": {
     "base_uri": "https://localhost:8080/",
     "height": 300
    },
    "executionInfo": {
     "elapsed": 782,
     "status": "ok",
     "timestamp": 1645706228626,
     "user": {
      "displayName": "Eduardo Bezerra",
      "photoUrl": "https://lh3.googleusercontent.com/a-/AOh14GgtLlrVPd1NAOukzvdhFbWNfJNyiPGoaltpqHbN_A=s64",
      "userId": "15338717559428153474"
     },
     "user_tz": 180
    },
    "id": "yzdpxX6xLUdq",
    "outputId": "137bdbbc-ee3d-4b14-f5db-2b62a7505d37"
   },
   "outputs": [
    {
     "name": "stdout",
     "output_type": "stream",
     "text": [
      "image.shape: torch.Size([1, 28, 28])\n",
      "Label: 5\n"
     ]
    },
    {
     "data": {
      "image/png": "[encoded data removed]",
      "text/plain": [
       "<Figure size 640x480 with 1 Axes>"
      ]
     },
     "metadata": {},
     "output_type": "display_data"
    }
   ],
   "source": [
    "image, label = dataset[0]\n",
    "print('image.shape:', image.shape)\n",
    "plt.imshow(image.reshape(28, 28), cmap='gray')\n",
    "print('Label:', label)"
   ]
  },
  {
   "cell_type": "markdown",
   "metadata": {
    "id": "3mwPxZxxM3ZF"
   },
   "source": [
    "No código acima, em vez de usar `reshape`, podemos alternativamente usar a função [`squeeze`](https://pytorch.org/docs/main/generated/torch.squeeze.html). Veja o bloco de código a seguir."
   ]
  },
  {
   "cell_type": "code",
   "execution_count": 63,
   "metadata": {
    "colab": {
     "base_uri": "https://localhost:8080/",
     "height": 282
    },
    "executionInfo": {
     "elapsed": 482,
     "status": "ok",
     "timestamp": 1645706229096,
     "user": {
      "displayName": "Eduardo Bezerra",
      "photoUrl": "https://lh3.googleusercontent.com/a-/AOh14GgtLlrVPd1NAOukzvdhFbWNfJNyiPGoaltpqHbN_A=s64",
      "userId": "15338717559428153474"
     },
     "user_tz": 180
    },
    "id": "l-_sw14HMyt6",
    "outputId": "23007af0-6134-40ad-cbfa-4ea66489c9c1"
   },
   "outputs": [
    {
     "data": {
      "text/plain": [
       "<matplotlib.image.AxesImage at 0x7f145ef73590>"
      ]
     },
     "execution_count": 63,
     "metadata": {},
     "output_type": "execute_result"
    },
    {
     "data": {
      "image/png": "[encoded data removed]",
      "text/plain": [
       "<Figure size 640x480 with 1 Axes>"
      ]
     },
     "metadata": {},
     "output_type": "display_data"
    }
   ],
   "source": [
    "plt.imshow(image.squeeze(0), cmap='gray')"
   ]
  },
  {
   "cell_type": "markdown",
   "metadata": {
    "id": "CuZG12CaO0Xv"
   },
   "source": [
    "Uma terceira alternativa é usar o tensor `image[0]` como argumento na chamada de `plt.imgshow`."
   ]
  },
  {
   "cell_type": "code",
   "execution_count": 64,
   "metadata": {
    "colab": {
     "base_uri": "https://localhost:8080/",
     "height": 282
    },
    "executionInfo": {
     "elapsed": 369,
     "status": "ok",
     "timestamp": 1645706229462,
     "user": {
      "displayName": "Eduardo Bezerra",
      "photoUrl": "https://lh3.googleusercontent.com/a-/AOh14GgtLlrVPd1NAOukzvdhFbWNfJNyiPGoaltpqHbN_A=s64",
      "userId": "15338717559428153474"
     },
     "user_tz": 180
    },
    "id": "83q9daknOzRk",
    "outputId": "e3c2c738-a8bb-496e-b992-fc344c601b57"
   },
   "outputs": [
    {
     "name": "stdout",
     "output_type": "stream",
     "text": [
      "Label: 5\n"
     ]
    },
    {
     "data": {
      "image/png": "[encoded data removed]",
      "text/plain": [
       "<Figure size 640x480 with 1 Axes>"
      ]
     },
     "metadata": {},
     "output_type": "display_data"
    }
   ],
   "source": [
    "image, label = dataset[0]\n",
    "plt.imshow(image[0], cmap='gray')\n",
    "print('Label:', label)"
   ]
  },
  {
   "cell_type": "markdown",
   "metadata": {
    "id": "4vjwsyaDpeT5"
   },
   "source": [
    "A seguir, vamos usar a função auxiliar `random_split` para separar 10.000 imagens para o [conjunto de validação](https://developers.google.com/machine-learning/crash-course/overfitting/dividing-datasets?hl=pt-br)."
   ]
  },
  {
   "cell_type": "code",
   "execution_count": 65,
   "metadata": {
    "colab": {
     "base_uri": "https://localhost:8080/"
    },
    "executionInfo": {
     "elapsed": 18,
     "status": "ok",
     "timestamp": 1645706229463,
     "user": {
      "displayName": "Eduardo Bezerra",
      "photoUrl": "https://lh3.googleusercontent.com/a-/AOh14GgtLlrVPd1NAOukzvdhFbWNfJNyiPGoaltpqHbN_A=s64",
      "userId": "15338717559428153474"
     },
     "user_tz": 180
    },
    "id": "Cgek18qlpeT5",
    "outputId": "31e39738-be4f-4eea-d26f-fb5e51d2bbf8"
   },
   "outputs": [
    {
     "data": {
      "text/plain": [
       "(50000, 10000)"
      ]
     },
     "execution_count": 65,
     "metadata": {},
     "output_type": "execute_result"
    }
   ],
   "source": [
    "val_size = 10000\n",
    "train_size = len(dataset) - val_size\n",
    "\n",
    "train_ds, val_ds = random_split(dataset, [train_size, val_size])\n",
    "len(train_ds), len(val_ds)"
   ]
  },
  {
   "cell_type": "markdown",
   "metadata": {
    "id": "PxB8SiaYpeT6"
   },
   "source": [
    "Agora podemos criar carregadores de dados PyTorch para serem usados durante o treinamento e validação do modelo de classificação.\n",
    "\n",
    "Um parâmetro importante na criação de um carregador é o `tamanho do batch`. O treinamento de uma rede neural é normalmente feito usando gradiente descendente estocástico ([Stochastic Gradient Descent](https://en.wikipedia.org/wiki/Stochastic_gradient_descent) - SGD) ou alguma de suas variantes. Como geralmente os datasets são muito grandes, o treinamento não é feito com todas as amostras de uma vez (gradiente descendente em lote) nem uma amostra por vez (gradiente descendente estocástico puro), mas sim em mini-lotes (mini-batch gradient descent)."
   ]
  },
  {
   "cell_type": "code",
   "execution_count": 66,
   "metadata": {
    "executionInfo": {
     "elapsed": 12,
     "status": "ok",
     "timestamp": 1645706229464,
     "user": {
      "displayName": "Eduardo Bezerra",
      "photoUrl": "https://lh3.googleusercontent.com/a-/AOh14GgtLlrVPd1NAOukzvdhFbWNfJNyiPGoaltpqHbN_A=s64",
      "userId": "15338717559428153474"
     },
     "user_tz": 180
    },
    "id": "cK_hoRYSpeT6"
   },
   "outputs": [],
   "source": [
    "batch_size = 128"
   ]
  },
  {
   "cell_type": "markdown",
   "metadata": {},
   "source": [
    "Se `batch_size = 128`, significa que, a cada iteração do treinamento, a rede neural processará 128 amostras antes de calcular o gradiente e atualizar os pesos.\n",
    "\n",
    "Esse valor é usado ao carregar os dados com um `DataLoader` em PyTorch:"
   ]
  },
  {
   "cell_type": "code",
   "execution_count": 67,
   "metadata": {
    "executionInfo": {
     "elapsed": 11,
     "status": "ok",
     "timestamp": 1645706229465,
     "user": {
      "displayName": "Eduardo Bezerra",
      "photoUrl": "https://lh3.googleusercontent.com/a-/AOh14GgtLlrVPd1NAOukzvdhFbWNfJNyiPGoaltpqHbN_A=s64",
      "userId": "15338717559428153474"
     },
     "user_tz": 180
    },
    "id": "iShTOn-vpeT6"
   },
   "outputs": [],
   "source": [
    "train_loader = DataLoader(train_ds, batch_size, shuffle=True, num_workers=2, pin_memory=True)\n",
    "val_loader = DataLoader(val_ds, batch_size*2, num_workers=2, pin_memory=True)"
   ]
  },
  {
   "cell_type": "markdown",
   "metadata": {},
   "source": [
    "No bloco de código acima, são instanciados objetos das classes [DataLoader](https://pytorch.org/docs/stable/data.html).\n",
    "\n",
    "`train_loader = DataLoader(train_ds, batch_size, shuffle=True, num_workers=2, pin_memory=True)`\n",
    "\n",
    "- `train_ds`: the training dataset.\n",
    "\n",
    "- `batch_size`: the number of samples per batch. Each iteration will yield a batch of this size from train_ds.\n",
    "\n",
    "- `shuffle=True`: randomly shuffles the dataset at the beginning of each epoch, which is crucial for training to reduce bias and improve generalization.\n",
    "\n",
    "- `num_workers=2`: two subprocesses are used to load the data in parallel, which can speed up data loading.\n",
    "\n",
    "- `pin_memory=True`: if True, the DataLoader will copy tensors into CUDA pinned memory before returning them. This can speed up transfer of data to GPU.\n",
    "\n",
    "`val_loader = DataLoader(val_ds, batch_size*2, num_workers=2, pin_memory=True)`\n",
    "\n",
    "- `val_ds`: the validation dataset.\n",
    "\n",
    "- `batch_size*2`: validation batches are twice the size of training batches. This is a common practice when validation doesn't need backpropagation and thus uses less GPU memory.\n",
    "\n",
    "- `shuffle` is not set: defaults to False, which is typical for validation to ensure reproducibility.\n",
    "\n",
    "- Other parameters are the same as in the training loader."
   ]
  },
  {
   "cell_type": "markdown",
   "metadata": {
    "id": "fjucG3lnpeT6"
   },
   "source": [
    "Para fins de inspeção e análise exploratória, vamos visualizar um lote de exemplos em uma grade usando a função [`make_grid`](https://pytorch.org/vision/main/generated/torchvision.utils.make_grid.html) da biblioteca `torchvision`. Também usamos o método `.permute` no tensor para mover os canais para a última dimensão, porque essa é a ordem de dimensões esperada pela função [`imshow`](https://matplotlib.org/stable/api/_as_gen/matplotlib.pyplot.imshow.html) da biblioteca `matplotlib`."
   ]
  },
  {
   "cell_type": "code",
   "execution_count": 68,
   "metadata": {
    "colab": {
     "base_uri": "https://localhost:8080/",
     "height": 501
    },
    "executionInfo": {
     "elapsed": 10368,
     "status": "ok",
     "timestamp": 1645706239823,
     "user": {
      "displayName": "Eduardo Bezerra",
      "photoUrl": "https://lh3.googleusercontent.com/a-/AOh14GgtLlrVPd1NAOukzvdhFbWNfJNyiPGoaltpqHbN_A=s64",
      "userId": "15338717559428153474"
     },
     "user_tz": 180
    },
    "id": "YshQj9srpeT6",
    "outputId": "14e2a38c-b487-44c1-eb44-983c00dd3669"
   },
   "outputs": [
    {
     "name": "stdout",
     "output_type": "stream",
     "text": [
      "images.shape: torch.Size([128, 1, 28, 28])\n",
      "torch.Size([3, 242, 482])\n"
     ]
    },
    {
     "data": {
      "image/png": "[encoded data removed]",
      "text/plain": [
       "<Figure size 1600x800 with 1 Axes>"
      ]
     },
     "metadata": {},
     "output_type": "display_data"
    }
   ],
   "source": [
    "for images, _ in train_loader:\n",
    "    # Prints the shape of the batch of images. The shape is typically (batch_size, channels, height, width).\n",
    "    print('images.shape:', images.shape)\n",
    "\n",
    "    # Creates a new figure for plotting, setting its size to 16x8 inches. \n",
    "    # plt.axis('off') removes the axes for a cleaner display.\n",
    "    plt.figure(figsize=(16,8))\n",
    "    plt.axis('off')\n",
    "\n",
    "    # Uses torchvision.utils.make_grid to arrange a batch of images into a single image grid. \n",
    "    # The nrow=16 argument specifies that 16 images should be displayed per row.\n",
    "    img_grid = make_grid(images, nrow=16)\n",
    "\n",
    "    # Prints the shape of the resulting image grid. The shape is typically (channels, new_height, new_width).\n",
    "    print(img_grid.shape)\n",
    "\n",
    "    # Displays the image grid using Matplotlib. The tensor is permuted \n",
    "    # from (C, H, W) to (H, W, C) to match the expected format of imshow.\n",
    "    plt.imshow(img_grid.permute((1, 2, 0)))\n",
    "\n",
    "    # Stops the loop after displaying the first batch. This ensures that only one batch is visualized.\n",
    "    break"
   ]
  },
  {
   "cell_type": "markdown",
   "metadata": {
    "id": "OKEjn2zvpeT6"
   },
   "source": [
    "# Camadas ocultas, funções de ativação e não linearidade\n",
    "\n",
    "Vamos criar uma rede neural com duas camadas: uma _camada oculta_ e uma _camada de saída_. Além disso, usaremos uma _função de ativação_ entre as duas camadas. Vejamos um exemplo passo a passo para aprender como camadas ocultas e funções de ativação podem ajudar a capturar relacionamentos não lineares entre entradas e saídas.\n",
    "\n",
    "Primeiro, vamos criar um lote de tensores de entrada. Vamos nivelar as imagens `1x28x28` em vetores 1D de tamanho `784` para que possam ser passadas para um objeto `nn.Linear`."
   ]
  },
  {
   "cell_type": "code",
   "execution_count": 69,
   "metadata": {
    "colab": {
     "base_uri": "https://localhost:8080/"
    },
    "executionInfo": {
     "elapsed": 544,
     "status": "ok",
     "timestamp": 1645706240360,
     "user": {
      "displayName": "Eduardo Bezerra",
      "photoUrl": "https://lh3.googleusercontent.com/a-/AOh14GgtLlrVPd1NAOukzvdhFbWNfJNyiPGoaltpqHbN_A=s64",
      "userId": "15338717559428153474"
     },
     "user_tz": 180
    },
    "id": "B5iPCdqEpeT6",
    "outputId": "15ff603a-9093-413d-89ce-6d15f8ea4f81"
   },
   "outputs": [
    {
     "name": "stdout",
     "output_type": "stream",
     "text": [
      "images.shape: torch.Size([128, 1, 28, 28])\n",
      "inputs.shape: torch.Size([128, 784])\n"
     ]
    }
   ],
   "source": [
    "for images, labels in train_loader:\n",
    "    print('images.shape:', images.shape)\n",
    "    inputs = images.reshape(-1, 784)\n",
    "    print('inputs.shape:', inputs.shape)\n",
    "    break"
   ]
  },
  {
   "cell_type": "markdown",
   "metadata": {
    "id": "mF__u2QfpeT6"
   },
   "source": [
    "A seguir, vamos criar um objeto `nn.Linear`, que irá corresponder à camada _oculta_. Definiremos o tamanho da saída da camada oculta para 32. Esse número pode ser aumentado ou diminuído para alterar a _capacidade de aprendizado_ do modelo."
   ]
  },
  {
   "cell_type": "code",
   "execution_count": 70,
   "metadata": {
    "executionInfo": {
     "elapsed": 42,
     "status": "ok",
     "timestamp": 1645706240360,
     "user": {
      "displayName": "Eduardo Bezerra",
      "photoUrl": "https://lh3.googleusercontent.com/a-/AOh14GgtLlrVPd1NAOukzvdhFbWNfJNyiPGoaltpqHbN_A=s64",
      "userId": "15338717559428153474"
     },
     "user_tz": 180
    },
    "id": "6zXN1c4PpeT6"
   },
   "outputs": [],
   "source": [
    "input_size = inputs.shape[-1]\n",
    "hidden_size = 32"
   ]
  },
  {
   "cell_type": "code",
   "execution_count": 71,
   "metadata": {
    "colab": {
     "base_uri": "https://localhost:8080/"
    },
    "executionInfo": {
     "elapsed": 39,
     "status": "ok",
     "timestamp": 1645706240360,
     "user": {
      "displayName": "Eduardo Bezerra",
      "photoUrl": "https://lh3.googleusercontent.com/a-/AOh14GgtLlrVPd1NAOukzvdhFbWNfJNyiPGoaltpqHbN_A=s64",
      "userId": "15338717559428153474"
     },
     "user_tz": 180
    },
    "id": "FAoWSa0jv3if",
    "outputId": "bfd8fcff-32d7-48e0-e3db-611971e825ad"
   },
   "outputs": [
    {
     "name": "stdout",
     "output_type": "stream",
     "text": [
      "784\n"
     ]
    }
   ],
   "source": [
    "print(input_size)"
   ]
  },
  {
   "cell_type": "code",
   "execution_count": 72,
   "metadata": {
    "executionInfo": {
     "elapsed": 38,
     "status": "ok",
     "timestamp": 1645706240361,
     "user": {
      "displayName": "Eduardo Bezerra",
      "photoUrl": "https://lh3.googleusercontent.com/a-/AOh14GgtLlrVPd1NAOukzvdhFbWNfJNyiPGoaltpqHbN_A=s64",
      "userId": "15338717559428153474"
     },
     "user_tz": 180
    },
    "id": "oOAh7CLZpeT7"
   },
   "outputs": [],
   "source": [
    "layer1 = nn.Linear(input_size, hidden_size)"
   ]
  },
  {
   "cell_type": "markdown",
   "metadata": {
    "id": "YzqPBDuypeT7"
   },
   "source": [
    "Agora podemos calcular saídas intermediárias para o lote de imagens, passando `inputs` através da `layer1`."
   ]
  },
  {
   "cell_type": "code",
   "execution_count": 73,
   "metadata": {
    "colab": {
     "base_uri": "https://localhost:8080/"
    },
    "executionInfo": {
     "elapsed": 36,
     "status": "ok",
     "timestamp": 1645706240361,
     "user": {
      "displayName": "Eduardo Bezerra",
      "photoUrl": "https://lh3.googleusercontent.com/a-/AOh14GgtLlrVPd1NAOukzvdhFbWNfJNyiPGoaltpqHbN_A=s64",
      "userId": "15338717559428153474"
     },
     "user_tz": 180
    },
    "id": "zd0YcDIlcCKb",
    "outputId": "ef30b226-0f91-4665-b9e6-12717f15d416"
   },
   "outputs": [
    {
     "data": {
      "text/plain": [
       "torch.Size([128, 784])"
      ]
     },
     "execution_count": 73,
     "metadata": {},
     "output_type": "execute_result"
    }
   ],
   "source": [
    "inputs.shape"
   ]
  },
  {
   "cell_type": "code",
   "execution_count": 74,
   "metadata": {
    "colab": {
     "base_uri": "https://localhost:8080/"
    },
    "executionInfo": {
     "elapsed": 33,
     "status": "ok",
     "timestamp": 1645706240361,
     "user": {
      "displayName": "Eduardo Bezerra",
      "photoUrl": "https://lh3.googleusercontent.com/a-/AOh14GgtLlrVPd1NAOukzvdhFbWNfJNyiPGoaltpqHbN_A=s64",
      "userId": "15338717559428153474"
     },
     "user_tz": 180
    },
    "id": "pD_FPxeipeT7",
    "outputId": "a59ff712-4a5f-4f80-976c-c0b9cfc62c22"
   },
   "outputs": [
    {
     "name": "stdout",
     "output_type": "stream",
     "text": [
      "layer1_outputs.shape: torch.Size([128, 32])\n"
     ]
    }
   ],
   "source": [
    "layer1_outputs = layer1(inputs)\n",
    "print('layer1_outputs.shape:', layer1_outputs.shape)"
   ]
  },
  {
   "cell_type": "markdown",
   "metadata": {
    "id": "PK-eA2QTpeT7"
   },
   "source": [
    "Os vetores de imagem de tamanho `784` são transformados em vetores de saída intermediários de comprimento` 32` realizando uma multiplicação da matriz `inputs` com a matriz (trasposta) de pesos `layer1` e adicionando o viés. Podemos verificar isso usando `torch.allclose`."
   ]
  },
  {
   "cell_type": "code",
   "execution_count": 75,
   "metadata": {
    "colab": {
     "base_uri": "https://localhost:8080/"
    },
    "executionInfo": {
     "elapsed": 32,
     "status": "ok",
     "timestamp": 1645706240362,
     "user": {
      "displayName": "Eduardo Bezerra",
      "photoUrl": "https://lh3.googleusercontent.com/a-/AOh14GgtLlrVPd1NAOukzvdhFbWNfJNyiPGoaltpqHbN_A=s64",
      "userId": "15338717559428153474"
     },
     "user_tz": 180
    },
    "id": "0dEnp5VjpeT7",
    "outputId": "759c6070-d76b-4a26-e898-05cff20c6073"
   },
   "outputs": [
    {
     "data": {
      "text/plain": [
       "torch.Size([128, 32])"
      ]
     },
     "execution_count": 75,
     "metadata": {},
     "output_type": "execute_result"
    }
   ],
   "source": [
    "layer1_outputs_direct = inputs @ layer1.weight.t() + layer1.bias\n",
    "layer1_outputs_direct.shape"
   ]
  },
  {
   "cell_type": "code",
   "execution_count": 76,
   "metadata": {
    "colab": {
     "base_uri": "https://localhost:8080/"
    },
    "executionInfo": {
     "elapsed": 31,
     "status": "ok",
     "timestamp": 1645706240362,
     "user": {
      "displayName": "Eduardo Bezerra",
      "photoUrl": "https://lh3.googleusercontent.com/a-/AOh14GgtLlrVPd1NAOukzvdhFbWNfJNyiPGoaltpqHbN_A=s64",
      "userId": "15338717559428153474"
     },
     "user_tz": 180
    },
    "id": "EdRQ4K-mLUdy",
    "outputId": "f6f25acf-1631-4909-de08-1cc1458478e9"
   },
   "outputs": [
    {
     "data": {
      "text/plain": [
       "True"
      ]
     },
     "execution_count": 76,
     "metadata": {},
     "output_type": "execute_result"
    }
   ],
   "source": [
    "torch.allclose(layer1_outputs, layer1_outputs_direct, 1e-3)"
   ]
  },
  {
   "cell_type": "markdown",
   "metadata": {
    "id": "MW9IXDPtpeT7"
   },
   "source": [
    "Repare que `layer1_outputs` e `inputs` têm uma relação linear, ou seja, cada elemento de `layer_outputs` é uma soma ponderada de elementos de `entradas`. Assim, mesmo enquanto treinamos o modelo e modificamos os pesos, `layer1` só pode capturar relações lineares entre `entradas` e `saídas`.\n",
    "\n",
    "<p align=\"center\">\n",
    "<img src=\"https://i.imgur.com/inXsLuq.png\" width=\"360\">\n",
    "</p>"
   ]
  },
  {
   "cell_type": "markdown",
   "metadata": {
    "id": "Cx4czM1TLUdy"
   },
   "source": [
    "A seguir, usaremos a função de Unidade Linear Retificada (Rectified Linear Unit, [ReLU](https://en.wikipedia.org/wiki/Rectifier_(neural_networks))) como a função de ativação para as saídas. Essa função computa a expressão matemática abaixo:\n",
    "> `relu(x) = max(0, x)` \n",
    "\n",
    "Essa função simplesmente substitui os valores negativos em um determinado tensor pelo valor 0. ReLU é uma função não linear, como visto aqui:\n",
    "\n",
    "<p align=\"center\">\n",
    "<img src=\"https://i.imgur.com/yijV4xF.png\" width=\"420\">\n",
    "</p>\n",
    "\n",
    "Podemos usar o métoto `F.relu` para aplicar ReLU aos elementos de um tensor."
   ]
  },
  {
   "cell_type": "code",
   "execution_count": 77,
   "metadata": {
    "colab": {
     "base_uri": "https://localhost:8080/"
    },
    "executionInfo": {
     "elapsed": 29,
     "status": "ok",
     "timestamp": 1645706240362,
     "user": {
      "displayName": "Eduardo Bezerra",
      "photoUrl": "https://lh3.googleusercontent.com/a-/AOh14GgtLlrVPd1NAOukzvdhFbWNfJNyiPGoaltpqHbN_A=s64",
      "userId": "15338717559428153474"
     },
     "user_tz": 180
    },
    "id": "zHMpGUGRpeT7",
    "outputId": "68234f54-47fb-4c6a-ae77-c4d8f25a946e"
   },
   "outputs": [
    {
     "data": {
      "text/plain": [
       "tensor([[1.0000, 0.0000, 0.0000],\n",
       "        [0.0000, 0.2000, 3.0000]])"
      ]
     },
     "execution_count": 77,
     "metadata": {},
     "output_type": "execute_result"
    }
   ],
   "source": [
    "F.relu(torch.tensor([[1,    -1,  0], \n",
    "                     [-0.1, .2,  3]]))"
   ]
  },
  {
   "cell_type": "markdown",
   "metadata": {
    "id": "Y0QIFoEopeT7"
   },
   "source": [
    "Vamos aplicar a função de ativação a `layer1_outputs` e verificar se os valores negativos foram substituídos por 0."
   ]
  },
  {
   "cell_type": "code",
   "execution_count": 78,
   "metadata": {
    "colab": {
     "base_uri": "https://localhost:8080/"
    },
    "executionInfo": {
     "elapsed": 28,
     "status": "ok",
     "timestamp": 1645706240362,
     "user": {
      "displayName": "Eduardo Bezerra",
      "photoUrl": "https://lh3.googleusercontent.com/a-/AOh14GgtLlrVPd1NAOukzvdhFbWNfJNyiPGoaltpqHbN_A=s64",
      "userId": "15338717559428153474"
     },
     "user_tz": 180
    },
    "id": "QqBj3KsnpeT7",
    "outputId": "c180a205-b55e-4dcf-f631-78b30d32163c"
   },
   "outputs": [
    {
     "name": "stdout",
     "output_type": "stream",
     "text": [
      "min(layer1_outputs): -0.7102540135383606\n",
      "min(relu_outputs): 0.0\n"
     ]
    }
   ],
   "source": [
    "relu_outputs = F.relu(layer1_outputs)\n",
    "print('min(layer1_outputs):', torch.min(layer1_outputs).item())\n",
    "print('min(relu_outputs):', torch.min(relu_outputs).item())"
   ]
  },
  {
   "cell_type": "markdown",
   "metadata": {
    "id": "g42i491NpeT7"
   },
   "source": [
    "Agora que aplicamos uma função de ativação não linear, `relu_outputs` e `inputs` não têm uma relação linear. Nos referimos a `ReLU` como a _função de ativação_, porque para cada entrada certas saídas são ativadas (aquelas com valores diferentes de zero) enquanto outras desligadas (aquelas com valores zero)\n",
    "\n",
    "A seguir, vamos criar uma camada de saída para converter vetores de comprimento `hidden_size` em `relu_outputs` em vetores de comprimento 10, que é a saída desejada de nosso modelo (já que existem 10 classes)."
   ]
  },
  {
   "cell_type": "code",
   "execution_count": 79,
   "metadata": {
    "executionInfo": {
     "elapsed": 28,
     "status": "ok",
     "timestamp": 1645706240363,
     "user": {
      "displayName": "Eduardo Bezerra",
      "photoUrl": "https://lh3.googleusercontent.com/a-/AOh14GgtLlrVPd1NAOukzvdhFbWNfJNyiPGoaltpqHbN_A=s64",
      "userId": "15338717559428153474"
     },
     "user_tz": 180
    },
    "id": "k1qY-KYzpeT7"
   },
   "outputs": [],
   "source": [
    "output_size = 10\n",
    "layer2 = nn.Linear(hidden_size, output_size)"
   ]
  },
  {
   "cell_type": "code",
   "execution_count": 80,
   "metadata": {
    "colab": {
     "base_uri": "https://localhost:8080/"
    },
    "executionInfo": {
     "elapsed": 27,
     "status": "ok",
     "timestamp": 1645706240363,
     "user": {
      "displayName": "Eduardo Bezerra",
      "photoUrl": "https://lh3.googleusercontent.com/a-/AOh14GgtLlrVPd1NAOukzvdhFbWNfJNyiPGoaltpqHbN_A=s64",
      "userId": "15338717559428153474"
     },
     "user_tz": 180
    },
    "id": "D_DuKvL8peT7",
    "outputId": "986a73ad-d7d4-4ab3-b18e-a84436852cc1"
   },
   "outputs": [
    {
     "name": "stdout",
     "output_type": "stream",
     "text": [
      "torch.Size([128, 10])\n"
     ]
    }
   ],
   "source": [
    "layer2_outputs = layer2(relu_outputs)\n",
    "print(layer2_outputs.shape)"
   ]
  },
  {
   "cell_type": "code",
   "execution_count": 81,
   "metadata": {
    "colab": {
     "base_uri": "https://localhost:8080/"
    },
    "executionInfo": {
     "elapsed": 25,
     "status": "ok",
     "timestamp": 1645706240363,
     "user": {
      "displayName": "Eduardo Bezerra",
      "photoUrl": "https://lh3.googleusercontent.com/a-/AOh14GgtLlrVPd1NAOukzvdhFbWNfJNyiPGoaltpqHbN_A=s64",
      "userId": "15338717559428153474"
     },
     "user_tz": 180
    },
    "id": "caxPuaS9dQhH",
    "outputId": "1e0d9bbe-4aee-495b-ed0a-e5f64082c51a"
   },
   "outputs": [
    {
     "data": {
      "text/plain": [
       "torch.Size([128, 784])"
      ]
     },
     "execution_count": 81,
     "metadata": {},
     "output_type": "execute_result"
    }
   ],
   "source": [
    "inputs.shape"
   ]
  },
  {
   "cell_type": "markdown",
   "metadata": {
    "id": "AikFPlJppeT7"
   },
   "source": [
    "Como esperado, `layer2_outputs` contém um lote de vetores de tamanho 10. Podemos agora usar esta saída para calcular a função de custo usando `F.cross_entropy` e ajustar os pesos de `layer1` e de `layer2` usando o algoritmo gradiente descendente."
   ]
  },
  {
   "cell_type": "code",
   "execution_count": 82,
   "metadata": {
    "colab": {
     "base_uri": "https://localhost:8080/"
    },
    "executionInfo": {
     "elapsed": 25,
     "status": "ok",
     "timestamp": 1645706240364,
     "user": {
      "displayName": "Eduardo Bezerra",
      "photoUrl": "https://lh3.googleusercontent.com/a-/AOh14GgtLlrVPd1NAOukzvdhFbWNfJNyiPGoaltpqHbN_A=s64",
      "userId": "15338717559428153474"
     },
     "user_tz": 180
    },
    "id": "CQ_ArLNApeT7",
    "outputId": "cdc138c9-bf68-4641-f520-19ff41f03d4b"
   },
   "outputs": [
    {
     "data": {
      "text/plain": [
       "tensor(2.2980, grad_fn=<NllLossBackward0>)"
      ]
     },
     "execution_count": 82,
     "metadata": {},
     "output_type": "execute_result"
    }
   ],
   "source": [
    "F.cross_entropy(layer2_outputs, labels)"
   ]
  },
  {
   "cell_type": "markdown",
   "metadata": {
    "id": "UazxyCKHpeT7"
   },
   "source": [
    "Assim, nosso modelo transforma `inputs` em `layer2_outputs` aplicando uma transformação linear (usando `layer1`), seguida por uma ativação não linear (usando `F.relu`), seguida por outra transformação linear (usando `layer2`) Vamos verificar isso recalculando a saída usando operações matriciais básicas."
   ]
  },
  {
   "cell_type": "code",
   "execution_count": 83,
   "metadata": {
    "executionInfo": {
     "elapsed": 24,
     "status": "ok",
     "timestamp": 1645706240364,
     "user": {
      "displayName": "Eduardo Bezerra",
      "photoUrl": "https://lh3.googleusercontent.com/a-/AOh14GgtLlrVPd1NAOukzvdhFbWNfJNyiPGoaltpqHbN_A=s64",
      "userId": "15338717559428153474"
     },
     "user_tz": 180
    },
    "id": "vNQ2nPijpeT7"
   },
   "outputs": [],
   "source": [
    "# Expanded version of layer2(F.relu(layer1(inputs)))\n",
    "outputs = (F.relu(inputs @ layer1.weight.t() + layer1.bias)) @ layer2.weight.t() + layer2.bias"
   ]
  },
  {
   "cell_type": "code",
   "execution_count": 84,
   "metadata": {
    "colab": {
     "base_uri": "https://localhost:8080/"
    },
    "executionInfo": {
     "elapsed": 23,
     "status": "ok",
     "timestamp": 1645706240364,
     "user": {
      "displayName": "Eduardo Bezerra",
      "photoUrl": "https://lh3.googleusercontent.com/a-/AOh14GgtLlrVPd1NAOukzvdhFbWNfJNyiPGoaltpqHbN_A=s64",
      "userId": "15338717559428153474"
     },
     "user_tz": 180
    },
    "id": "4BgaRib-peT7",
    "outputId": "422e6f42-e554-4ab2-f163-c49e63646015"
   },
   "outputs": [
    {
     "data": {
      "text/plain": [
       "True"
      ]
     },
     "execution_count": 84,
     "metadata": {},
     "output_type": "execute_result"
    }
   ],
   "source": [
    "torch.allclose(outputs, layer2_outputs, 1e-3)"
   ]
  },
  {
   "cell_type": "markdown",
   "metadata": {
    "id": "ZLOjL89WpeT7"
   },
   "source": [
    "Observe que `outputs` e `inputs` não têm uma relação linear devido à função de ativação não linear `F.relu`. À medida que treinamos o modelo e ajustamos os pesos de `layer1` e de `layer2`, podemos agora capturar relações não lineares entre as imagens e seus rótulos. Em outras palavras, a introdução da não linearidade torna o modelo mais poderoso e versátil. Além disso, como `hidden_size` não depende das dimensões das entradas ou saídas, nós o variamos para aumentar o número de parâmetros dentro do modelo. Também podemos introduzir novas camadas ocultas e aplicar a mesma ativação não linear após cada camada oculta.\n",
    "\n",
    "O modelo que acabamos de criar é chamado de rede neural. Uma _rede neural profunda_ é simplesmente uma rede neural com uma ou mais camadas ocultas. \n",
    "\n",
    "O [Teorema de Aproximação Universal](http://neuralnetworksanddeeplearning.com/chap4.html) afirma que uma rede neural de apenas uma camada e com uma quantidade neurônios suficientemente grande é capaz de computar qualquer função arbitrária, ou seja, pode _aprender_ relações não lineares complexas entre entradas e alvos. Aqui estão alguns exemplos:\n",
    "\n",
    "* Identificar se uma imagem contém um gato ou um cachorro (ou [outra coisa](https://machinelearningmastery.com/introduction-to-the-imagenet-large-scale-visual-recognition-challenge-ilsvrc/));\n",
    "* Identificar o gênero de uma música usando uma amostra de 10 segundos;\n",
    "* Classificar resenhas de filmes como positivas ou negativas com base em seu conteúdo;\n",
    "* Navegar em carros autônomos usando um feed de vídeo da estrada;\n",
    "* Tradução de frases do inglês para o francês (e centenas de outras línguas);\n",
    "* Converter uma gravação de fala em texto e vice-versa\n",
    "* E muitos mais...\n",
    "\n",
    "É difícil imaginar como o processo simples de multiplicar entradas com matrizes inicializadas aleatoriamente, aplicar ativações não lineares e ajustar pesos repetidamente usando gradiente descendente pode produzir resultados surpreendentes. Modelos de aprendizado profundo geralmente contêm milhões de parâmetros, que juntos podem capturar relacionamentos muito mais complexos do que o cérebro humano pode compreender.\n",
    "\n",
    "Se não tivéssemos incluído uma ativação não linear entre as duas camadas lineares, a relação final entre entradas e saídas ainda seria linear. Uma simples refatoração dos cálculos ilustra isso."
   ]
  },
  {
   "cell_type": "code",
   "execution_count": 85,
   "metadata": {
    "executionInfo": {
     "elapsed": 23,
     "status": "ok",
     "timestamp": 1645706240365,
     "user": {
      "displayName": "Eduardo Bezerra",
      "photoUrl": "https://lh3.googleusercontent.com/a-/AOh14GgtLlrVPd1NAOukzvdhFbWNfJNyiPGoaltpqHbN_A=s64",
      "userId": "15338717559428153474"
     },
     "user_tz": 180
    },
    "id": "AHWruKwlpeT7"
   },
   "outputs": [],
   "source": [
    "# Same as layer2(layer1(inputs))\n",
    "outputs2 = (inputs @ layer1.weight.t() + layer1.bias) @ layer2.weight.t() + layer2.bias"
   ]
  },
  {
   "cell_type": "code",
   "execution_count": 86,
   "metadata": {
    "executionInfo": {
     "elapsed": 23,
     "status": "ok",
     "timestamp": 1645706240365,
     "user": {
      "displayName": "Eduardo Bezerra",
      "photoUrl": "https://lh3.googleusercontent.com/a-/AOh14GgtLlrVPd1NAOukzvdhFbWNfJNyiPGoaltpqHbN_A=s64",
      "userId": "15338717559428153474"
     },
     "user_tz": 180
    },
    "id": "BTUU8qRRpeT8"
   },
   "outputs": [],
   "source": [
    "# Create a single layer to replace the two linear layers\n",
    "combined_layer = nn.Linear(input_size, output_size)\n",
    "\n",
    "combined_layer.weight.data = layer2.weight @ layer1.weight\n",
    "combined_layer.bias.data = layer1.bias @ layer2.weight.t() + layer2.bias"
   ]
  },
  {
   "cell_type": "code",
   "execution_count": 87,
   "metadata": {
    "executionInfo": {
     "elapsed": 22,
     "status": "ok",
     "timestamp": 1645706240365,
     "user": {
      "displayName": "Eduardo Bezerra",
      "photoUrl": "https://lh3.googleusercontent.com/a-/AOh14GgtLlrVPd1NAOukzvdhFbWNfJNyiPGoaltpqHbN_A=s64",
      "userId": "15338717559428153474"
     },
     "user_tz": 180
    },
    "id": "H2I6iFZvLUd1"
   },
   "outputs": [],
   "source": [
    "# Same as combined_layer(inputs)\n",
    "outputs3 = inputs @ combined_layer.weight.t() + combined_layer.bias"
   ]
  },
  {
   "cell_type": "code",
   "execution_count": 88,
   "metadata": {
    "colab": {
     "base_uri": "https://localhost:8080/"
    },
    "executionInfo": {
     "elapsed": 22,
     "status": "ok",
     "timestamp": 1645706240365,
     "user": {
      "displayName": "Eduardo Bezerra",
      "photoUrl": "https://lh3.googleusercontent.com/a-/AOh14GgtLlrVPd1NAOukzvdhFbWNfJNyiPGoaltpqHbN_A=s64",
      "userId": "15338717559428153474"
     },
     "user_tz": 180
    },
    "id": "It7A4nzQpeT8",
    "outputId": "ebdb99fe-e76a-4539-d714-5d880d29d6a2"
   },
   "outputs": [
    {
     "data": {
      "text/plain": [
       "True"
      ]
     },
     "execution_count": 88,
     "metadata": {},
     "output_type": "execute_result"
    }
   ],
   "source": [
    "torch.allclose(outputs2, outputs3, 1e-3)"
   ]
  },
  {
   "cell_type": "markdown",
   "metadata": {
    "id": "l8dOeJyfpeT8"
   },
   "source": [
    "# Ajuste do Modelo\n",
    "\n",
    "Agora estamos prontos para definir nosso modelo. Conforme discutido acima, criaremos uma rede neural com uma camada oculta. Aqui está o que isso significa:\n",
    "\n",
    "* Em vez de usar um único objeto `nn.Linear` para transformar um lote de entradas (intensidades de pixel) em saídas (probabilidades de classe), usaremos dois objetos `nn.Linear`. Cada um deles é chamado de _camada_ na rede.\n",
    "\n",
    "* A primeira camada (também conhecida como camada oculta) transformará a matriz de entrada da forma `batch_size x 784` em uma matriz de saída intermediária da forma `batch_size x hidden_size`. O parâmetro `hidden_size` pode ser configurado manualmente (por exemplo, 32 ou 64).\n",
    "\n",
    "* Aplicamos então uma *função de ativação* não linear às saídas intermediárias. A função de ativação transforma elementos individuais da matriz.\n",
    "\n",
    "* O resultado da função de ativação, que também tem o tamanho `batch_size x hidden_size`, é passado para a segunda camada (também conhecida como camada de saída). A segunda camada o transforma em uma matriz de tamanho `batch_size x 10`. Podemos usar essa saída para calcular a perda e ajustar os pesos usando gradiente descendente.\n",
    "\n",
    "\n",
    "Conforme discutido acima, nosso modelo conterá uma camada oculta. Aqui está o que parece visualmente:\n",
    "\n",
    "<p align=\"center\">\n",
    "<img src=\"https://i.imgur.com/eN7FrpF.png\" width=\"480\">\n",
    "</p>\n",
    "\n",
    "Vamos definir o modelo estendendo a classe `nn.Module` do PyTorch.\n",
    "\n"
   ]
  },
  {
   "cell_type": "code",
   "execution_count": 89,
   "metadata": {
    "executionInfo": {
     "elapsed": 22,
     "status": "ok",
     "timestamp": 1645706240366,
     "user": {
      "displayName": "Eduardo Bezerra",
      "photoUrl": "https://lh3.googleusercontent.com/a-/AOh14GgtLlrVPd1NAOukzvdhFbWNfJNyiPGoaltpqHbN_A=s64",
      "userId": "15338717559428153474"
     },
     "user_tz": 180
    },
    "id": "_fKPW6tSpeT8"
   },
   "outputs": [],
   "source": [
    "class MnistModel(nn.Module):\n",
    "    \"\"\"Feedfoward neural network with 1 hidden layer\"\"\"\n",
    "    def __init__(self, in_size, hidden_size, out_size):\n",
    "        super().__init__()\n",
    "        # hidden layer\n",
    "        self.linear1 = nn.Linear(in_size, hidden_size)\n",
    "        # output layer\n",
    "        self.linear2 = nn.Linear(hidden_size, out_size)\n",
    "        \n",
    "    def forward(self, xb):\n",
    "        # Flatten the image tensors\n",
    "        xb = xb.view(xb.size(0), -1)\n",
    "        # Get intermediate outputs using hidden layer\n",
    "        out = self.linear1(xb)\n",
    "        # Apply activation function\n",
    "        out = F.relu(out)\n",
    "        # Get predictions using output layer\n",
    "        out = self.linear2(out)\n",
    "        return out\n",
    "    \n",
    "    def training_step(self, batch):\n",
    "        images, labels = batch \n",
    "        out = self(images)                  # Generate predictions\n",
    "        loss = F.cross_entropy(out, labels) # Calculate loss\n",
    "        return loss\n",
    "    \n",
    "    def validation_step(self, batch):\n",
    "        images, labels = batch \n",
    "        out = self(images)                    # Generate predictions\n",
    "        loss = F.cross_entropy(out, labels)   # Calculate loss\n",
    "        acc = accuracy(out, labels)           # Calculate accuracy\n",
    "        return {'val_loss': loss, 'val_acc': acc}\n",
    "        \n",
    "    def validation_epoch_end(self, outputs):\n",
    "        batch_losses = [x['val_loss'] for x in outputs]\n",
    "        epoch_loss = torch.stack(batch_losses).mean()   # Combine losses\n",
    "        batch_accs = [x['val_acc'] for x in outputs]\n",
    "        epoch_acc = torch.stack(batch_accs).mean()      # Combine accuracies\n",
    "        return {'val_loss': epoch_loss.item(), 'val_acc': epoch_acc.item()}\n",
    "    \n",
    "    def epoch_end(self, epoch, result):\n",
    "        print(\"Epoch [{}], val_loss: {:.4f}, val_acc: {:.4f}\".format(epoch, result['val_loss'], result['val_acc']))"
   ]
  },
  {
   "cell_type": "markdown",
   "metadata": {
    "id": "hWeLbS7RLUd3"
   },
   "source": [
    "Também precisamos definir uma função denominada `accuracy` que calcula a acurácia da previsão do modelo em um lote de entradas. Essa função é usada em `validation_step` acima."
   ]
  },
  {
   "cell_type": "code",
   "execution_count": 90,
   "metadata": {
    "executionInfo": {
     "elapsed": 21,
     "status": "ok",
     "timestamp": 1645706240366,
     "user": {
      "displayName": "Eduardo Bezerra",
      "photoUrl": "https://lh3.googleusercontent.com/a-/AOh14GgtLlrVPd1NAOukzvdhFbWNfJNyiPGoaltpqHbN_A=s64",
      "userId": "15338717559428153474"
     },
     "user_tz": 180
    },
    "id": "ooA0PwVipeT8"
   },
   "outputs": [],
   "source": [
    "def accuracy(outputs, labels):\n",
    "    _, preds = torch.max(outputs, dim=1)\n",
    "    return torch.tensor(torch.sum(preds == labels).item() / len(preds))"
   ]
  },
  {
   "cell_type": "markdown",
   "metadata": {
    "id": "4sSd532VpeT8"
   },
   "source": [
    "Vamos criar um modelo que contém uma camada oculta com 32 unidades."
   ]
  },
  {
   "cell_type": "code",
   "execution_count": 91,
   "metadata": {
    "executionInfo": {
     "elapsed": 21,
     "status": "ok",
     "timestamp": 1645706240366,
     "user": {
      "displayName": "Eduardo Bezerra",
      "photoUrl": "https://lh3.googleusercontent.com/a-/AOh14GgtLlrVPd1NAOukzvdhFbWNfJNyiPGoaltpqHbN_A=s64",
      "userId": "15338717559428153474"
     },
     "user_tz": 180
    },
    "id": "beSRnIQTpeT8"
   },
   "outputs": [],
   "source": [
    "input_size = 784\n",
    "hidden_size = 32 # you can change this\n",
    "num_classes = 10"
   ]
  },
  {
   "cell_type": "code",
   "execution_count": 92,
   "metadata": {
    "executionInfo": {
     "elapsed": 22,
     "status": "ok",
     "timestamp": 1645706240367,
     "user": {
      "displayName": "Eduardo Bezerra",
      "photoUrl": "https://lh3.googleusercontent.com/a-/AOh14GgtLlrVPd1NAOukzvdhFbWNfJNyiPGoaltpqHbN_A=s64",
      "userId": "15338717559428153474"
     },
     "user_tz": 180
    },
    "id": "IvSp6BFppeT8"
   },
   "outputs": [],
   "source": [
    "model = MnistModel(input_size, hidden_size=32, out_size=num_classes)"
   ]
  },
  {
   "cell_type": "markdown",
   "metadata": {
    "id": "EtWfv0N9peT8"
   },
   "source": [
    "Vamos dar uma olhada nos parâmetros do modelo. Esperamos ver uma matriz de pesos e outras de viés para cada uma das camadas."
   ]
  },
  {
   "cell_type": "code",
   "execution_count": 93,
   "metadata": {
    "colab": {
     "base_uri": "https://localhost:8080/"
    },
    "executionInfo": {
     "elapsed": 21,
     "status": "ok",
     "timestamp": 1645706240367,
     "user": {
      "displayName": "Eduardo Bezerra",
      "photoUrl": "https://lh3.googleusercontent.com/a-/AOh14GgtLlrVPd1NAOukzvdhFbWNfJNyiPGoaltpqHbN_A=s64",
      "userId": "15338717559428153474"
     },
     "user_tz": 180
    },
    "id": "psecOJfZpeT8",
    "outputId": "5e7f7426-7500-4eda-b188-7d1e36098b01"
   },
   "outputs": [
    {
     "name": "stdout",
     "output_type": "stream",
     "text": [
      "torch.Size([32, 784])\n",
      "torch.Size([32])\n",
      "torch.Size([10, 32])\n",
      "torch.Size([10])\n"
     ]
    }
   ],
   "source": [
    "for t in model.parameters():\n",
    "    print(t.shape)"
   ]
  },
  {
   "cell_type": "markdown",
   "metadata": {
    "id": "zeFGsljIpeT8"
   },
   "source": [
    "Vamos tentar gerar algumas saídas usando nosso modelo. Vamos pegar o primeiro lote de 128 imagens de nosso conjunto de dados e passá-las para nosso modelo."
   ]
  },
  {
   "cell_type": "code",
   "execution_count": 94,
   "metadata": {
    "colab": {
     "base_uri": "https://localhost:8080/"
    },
    "executionInfo": {
     "elapsed": 20,
     "status": "ok",
     "timestamp": 1645706240367,
     "user": {
      "displayName": "Eduardo Bezerra",
      "photoUrl": "https://lh3.googleusercontent.com/a-/AOh14GgtLlrVPd1NAOukzvdhFbWNfJNyiPGoaltpqHbN_A=s64",
      "userId": "15338717559428153474"
     },
     "user_tz": 180
    },
    "id": "jajA6VFYpeT8",
    "outputId": "d408268f-a339-4156-823c-dcc0180dda49"
   },
   "outputs": [
    {
     "name": "stdout",
     "output_type": "stream",
     "text": [
      "Loss: 2.301710605621338\n",
      "outputs.shape :  torch.Size([128, 10])\n",
      "Sample outputs :\n",
      " tensor([[ 0.1319, -0.0772,  0.0977, -0.1251,  0.2183, -0.1261,  0.0309,  0.1059,\n",
      "          0.3223, -0.0794],\n",
      "        [ 0.0884, -0.0663,  0.1382, -0.1100,  0.1867, -0.1737,  0.0193,  0.0259,\n",
      "          0.1994, -0.1610]])\n"
     ]
    }
   ],
   "source": [
    "for images, labels in train_loader:\n",
    "    outputs = model(images)\n",
    "    loss = F.cross_entropy(outputs, labels)\n",
    "    print('Loss:', loss.item())\n",
    "    break\n",
    "\n",
    "print('outputs.shape : ', outputs.shape)\n",
    "print('Sample outputs :\\n', outputs[:2].data)"
   ]
  },
  {
   "cell_type": "markdown",
   "metadata": {
    "id": "vmw6iiTXpeT8"
   },
   "source": [
    "## Usando uma GPU\n",
    "\n",
    "Conforme os tamanhos de nossos modelos e conjuntos de dados aumentam, é recomendável usar uma ou mais [Unidades de Processamento Gráfico](https://en.wikipedia.org/wiki/Graphics_processing_unit) (GPU). Uma GPU contém centenas de núcleos otimizados para realizar operações matriciais dispendiosas em números de ponto flutuante rapidamente, tornando-as ideais para o treinamento de redes neurais profundas. Você pode usar GPUs gratuitamente nas plataformas [Google Colab](https://colab.research.google.com/) e [Kaggle](https://www.kaggle.com/kernels). Você também pode alugar máquinas com GPU em serviços como [Google Cloud Platform](https://cloud.google.com/gpu/), [Amazon Web Services](https://docs.aws.amazon.com/dlami/latest/devguide/gpu.html), e [Paperspace](https://www.paperspace.com/).\n",
    "\n",
    "> No _Google Colab_, use a opção de menu \"Runtime> Change Runtime Type\" e selecione \"GPU\" no menu suspenso \"Hardware Accelerator\".\n",
    "\n",
    "Podemos verificar se uma GPU está disponível e se os drivers NVIDIA CUDA necessários estão instalados usando `torch.cuda.is_available`."
   ]
  },
  {
   "cell_type": "code",
   "execution_count": 95,
   "metadata": {
    "colab": {
     "base_uri": "https://localhost:8080/"
    },
    "executionInfo": {
     "elapsed": 17,
     "status": "ok",
     "timestamp": 1645706240367,
     "user": {
      "displayName": "Eduardo Bezerra",
      "photoUrl": "https://lh3.googleusercontent.com/a-/AOh14GgtLlrVPd1NAOukzvdhFbWNfJNyiPGoaltpqHbN_A=s64",
      "userId": "15338717559428153474"
     },
     "user_tz": 180
    },
    "id": "gt2Ve_cFpeT8",
    "outputId": "c3ac1897-ca50-47d4-ddff-d8120ebbd3a0"
   },
   "outputs": [
    {
     "data": {
      "text/plain": [
       "True"
      ]
     },
     "execution_count": 95,
     "metadata": {},
     "output_type": "execute_result"
    }
   ],
   "source": [
    "import torch \n",
    "torch.cuda.is_available()"
   ]
  },
  {
   "cell_type": "markdown",
   "metadata": {
    "id": "El6-WZdHkQJf"
   },
   "source": [
    "Podemos também verificar a quantidade de GPUs disponíveis por meio da função `torch.cuda.device_count()`."
   ]
  },
  {
   "cell_type": "code",
   "execution_count": 96,
   "metadata": {
    "colab": {
     "base_uri": "https://localhost:8080/"
    },
    "executionInfo": {
     "elapsed": 16,
     "status": "ok",
     "timestamp": 1645706240368,
     "user": {
      "displayName": "Eduardo Bezerra",
      "photoUrl": "https://lh3.googleusercontent.com/a-/AOh14GgtLlrVPd1NAOukzvdhFbWNfJNyiPGoaltpqHbN_A=s64",
      "userId": "15338717559428153474"
     },
     "user_tz": 180
    },
    "id": "e4H5LCJRjaax",
    "outputId": "e3bfbb4f-7c75-4ee6-82ae-9bd55bd00d6f"
   },
   "outputs": [
    {
     "data": {
      "text/plain": [
       "1"
      ]
     },
     "execution_count": 96,
     "metadata": {},
     "output_type": "execute_result"
    }
   ],
   "source": [
    "torch.cuda.device_count()"
   ]
  },
  {
   "cell_type": "markdown",
   "metadata": {
    "id": "S2ffHXrnpeT8"
   },
   "source": [
    "Vamos definir uma função auxiliar para garantir que nosso código use uma GPU, se disponível, e o padrão para usar a CPU se não estiver."
   ]
  },
  {
   "cell_type": "code",
   "execution_count": 97,
   "metadata": {
    "executionInfo": {
     "elapsed": 14,
     "status": "ok",
     "timestamp": 1645706240368,
     "user": {
      "displayName": "Eduardo Bezerra",
      "photoUrl": "https://lh3.googleusercontent.com/a-/AOh14GgtLlrVPd1NAOukzvdhFbWNfJNyiPGoaltpqHbN_A=s64",
      "userId": "15338717559428153474"
     },
     "user_tz": 180
    },
    "id": "oY8kxA4tpeT8"
   },
   "outputs": [],
   "source": [
    "def get_default_device():\n",
    "    \"\"\"Pick GPU if available, else CPU\"\"\"\n",
    "    if torch.cuda.is_available():\n",
    "        return torch.device('cuda')\n",
    "    else:\n",
    "        return torch.device('cpu')"
   ]
  },
  {
   "cell_type": "code",
   "execution_count": 98,
   "metadata": {
    "colab": {
     "base_uri": "https://localhost:8080/"
    },
    "executionInfo": {
     "elapsed": 8,
     "status": "ok",
     "timestamp": 1645706240828,
     "user": {
      "displayName": "Eduardo Bezerra",
      "photoUrl": "https://lh3.googleusercontent.com/a-/AOh14GgtLlrVPd1NAOukzvdhFbWNfJNyiPGoaltpqHbN_A=s64",
      "userId": "15338717559428153474"
     },
     "user_tz": 180
    },
    "id": "rgxTDAjtpeT8",
    "outputId": "127256ab-8ede-4aed-a85b-7dc1dc1ff1ec"
   },
   "outputs": [
    {
     "data": {
      "text/plain": [
       "device(type='cuda')"
      ]
     },
     "execution_count": 98,
     "metadata": {},
     "output_type": "execute_result"
    }
   ],
   "source": [
    "device = get_default_device()\n",
    "device"
   ]
  },
  {
   "cell_type": "markdown",
   "metadata": {
    "id": "U58VabR4peT8"
   },
   "source": [
    "A seguir, vamos definir uma função que pode mover dados e modelo para um dispositivo escolhido."
   ]
  },
  {
   "cell_type": "code",
   "execution_count": 99,
   "metadata": {
    "executionInfo": {
     "elapsed": 8,
     "status": "ok",
     "timestamp": 1645706240829,
     "user": {
      "displayName": "Eduardo Bezerra",
      "photoUrl": "https://lh3.googleusercontent.com/a-/AOh14GgtLlrVPd1NAOukzvdhFbWNfJNyiPGoaltpqHbN_A=s64",
      "userId": "15338717559428153474"
     },
     "user_tz": 180
    },
    "id": "qe39OMPmpeT8"
   },
   "outputs": [],
   "source": [
    "def to_device(data, device):\n",
    "    \"\"\"Move tensor(s) to chosen device\"\"\"\n",
    "    if isinstance(data, (list,tuple)):\n",
    "        return [to_device(x, device) for x in data]\n",
    "    return data.to(device, non_blocking=True)"
   ]
  },
  {
   "cell_type": "code",
   "execution_count": 100,
   "metadata": {
    "colab": {
     "base_uri": "https://localhost:8080/"
    },
    "executionInfo": {
     "elapsed": 8,
     "status": "ok",
     "timestamp": 1645706240829,
     "user": {
      "displayName": "Eduardo Bezerra",
      "photoUrl": "https://lh3.googleusercontent.com/a-/AOh14GgtLlrVPd1NAOukzvdhFbWNfJNyiPGoaltpqHbN_A=s64",
      "userId": "15338717559428153474"
     },
     "user_tz": 180
    },
    "id": "bdouJFtwpeT8",
    "outputId": "a6270770-1d5b-4de6-86f1-d043945292a1"
   },
   "outputs": [
    {
     "name": "stdout",
     "output_type": "stream",
     "text": [
      "torch.Size([128, 1, 28, 28])\n",
      "cuda:0\n"
     ]
    }
   ],
   "source": [
    "for images, labels in train_loader:\n",
    "    print(images.shape)\n",
    "    images = to_device(images, device)\n",
    "    print(images.device)\n",
    "    break"
   ]
  },
  {
   "cell_type": "markdown",
   "metadata": {
    "id": "WiKbIzujpeT9"
   },
   "source": [
    "Finalmente, definimos uma classe `DeviceDataLoader` para empacotar nossos carregadores de dados existentes e mover lotes de dados para o dispositivo selecionado. Curiosamente, não precisamos estender uma classe existente para criar um DataLoader do PyTorch. Tudo o que precisamos é um método `__iter__` para recuperar lotes de dados e um método `__len__` para obter o número de lotes."
   ]
  },
  {
   "cell_type": "code",
   "execution_count": 101,
   "metadata": {
    "executionInfo": {
     "elapsed": 6,
     "status": "ok",
     "timestamp": 1645706240829,
     "user": {
      "displayName": "Eduardo Bezerra",
      "photoUrl": "https://lh3.googleusercontent.com/a-/AOh14GgtLlrVPd1NAOukzvdhFbWNfJNyiPGoaltpqHbN_A=s64",
      "userId": "15338717559428153474"
     },
     "user_tz": 180
    },
    "id": "Mncx5AEcpeT9"
   },
   "outputs": [],
   "source": [
    "class DeviceDataLoader():\n",
    "    \"\"\"Wrap a dataloader to move data to a device\"\"\"\n",
    "    def __init__(self, dl, device):\n",
    "        self.dl = dl\n",
    "        self.device = device\n",
    "        \n",
    "    def __iter__(self):\n",
    "        \"\"\"Yield a batch of data after moving it to device\"\"\"\n",
    "        for b in self.dl: \n",
    "            yield to_device(b, self.device)\n",
    "\n",
    "    def __len__(self):\n",
    "        \"\"\"Number of batches\"\"\"\n",
    "        return len(self.dl)"
   ]
  },
  {
   "cell_type": "markdown",
   "metadata": {
    "id": "RxwvU5eP4r76"
   },
   "source": [
    "A palavra-chave `yield` em Python é usada para criar uma função geradora (*generator function*) que pode ser usada dentro de um loop `for`, conforme ilustrado abaixo."
   ]
  },
  {
   "cell_type": "code",
   "execution_count": 102,
   "metadata": {
    "colab": {
     "base_uri": "https://localhost:8080/"
    },
    "executionInfo": {
     "elapsed": 7,
     "status": "ok",
     "timestamp": 1645706240830,
     "user": {
      "displayName": "Eduardo Bezerra",
      "photoUrl": "https://lh3.googleusercontent.com/a-/AOh14GgtLlrVPd1NAOukzvdhFbWNfJNyiPGoaltpqHbN_A=s64",
      "userId": "15338717559428153474"
     },
     "user_tz": 180
    },
    "id": "7IeHPpx74slh",
    "outputId": "d8ca1052-3cf6-431c-bcd2-780945a65d15"
   },
   "outputs": [
    {
     "name": "stdout",
     "output_type": "stream",
     "text": [
      "10\n",
      "***\n",
      "teste1\n",
      "20\n",
      "***\n",
      "teste2\n",
      "30\n",
      "***\n",
      "teste3\n"
     ]
    }
   ],
   "source": [
    "def some_numbers():\n",
    "    yield 10\n",
    "    print('teste1')\n",
    "    yield 20\n",
    "    print('teste2')\n",
    "    yield 30\n",
    "    print('teste3')\n",
    "\n",
    "for value in some_numbers():\n",
    "    print(value)\n",
    "    print('***')"
   ]
  },
  {
   "cell_type": "markdown",
   "metadata": {
    "id": "9AM28h0ipeT9"
   },
   "source": [
    "Agora podemos encapsular nossos carregadores de dados usando `DeviceDataLoader`."
   ]
  },
  {
   "cell_type": "code",
   "execution_count": 103,
   "metadata": {
    "executionInfo": {
     "elapsed": 5,
     "status": "ok",
     "timestamp": 1645706240830,
     "user": {
      "displayName": "Eduardo Bezerra",
      "photoUrl": "https://lh3.googleusercontent.com/a-/AOh14GgtLlrVPd1NAOukzvdhFbWNfJNyiPGoaltpqHbN_A=s64",
      "userId": "15338717559428153474"
     },
     "user_tz": 180
    },
    "id": "fwZdTIxgpeT9"
   },
   "outputs": [],
   "source": [
    "train_loader = DeviceDataLoader(train_loader, device)\n",
    "val_loader = DeviceDataLoader(val_loader, device)"
   ]
  },
  {
   "cell_type": "markdown",
   "metadata": {
    "id": "Go0zbQTypeT9"
   },
   "source": [
    "Os tensores movidos para a GPU têm uma propriedade `device` que inclui a palavra `cuda`. Vamos verificar isso olhando um lote de dados de `valid_dl`."
   ]
  },
  {
   "cell_type": "code",
   "execution_count": 104,
   "metadata": {
    "colab": {
     "base_uri": "https://localhost:8080/"
    },
    "executionInfo": {
     "elapsed": 363,
     "status": "ok",
     "timestamp": 1645706241188,
     "user": {
      "displayName": "Eduardo Bezerra",
      "photoUrl": "https://lh3.googleusercontent.com/a-/AOh14GgtLlrVPd1NAOukzvdhFbWNfJNyiPGoaltpqHbN_A=s64",
      "userId": "15338717559428153474"
     },
     "user_tz": 180
    },
    "id": "ZdOfMdmxpeT9",
    "outputId": "efddbae1-15c1-4be4-98bd-a88e31dff099"
   },
   "outputs": [
    {
     "name": "stdout",
     "output_type": "stream",
     "text": [
      "xb.device: cuda:0\n",
      "yb: tensor([7, 1, 1, 1, 6, 9, 2, 8, 4, 0, 2, 6, 8, 2, 4, 4, 1, 0, 3, 4, 2, 7, 6, 3,\n",
      "        4, 9, 6, 7, 7, 2, 7, 7, 7, 5, 3, 3, 4, 0, 3, 9, 5, 2, 7, 0, 2, 0, 8, 3,\n",
      "        5, 9, 9, 2, 4, 2, 9, 7, 0, 1, 6, 9, 3, 9, 4, 3, 4, 4, 8, 0, 0, 5, 9, 2,\n",
      "        8, 5, 8, 3, 1, 0, 6, 7, 9, 2, 1, 7, 9, 5, 6, 9, 4, 4, 1, 2, 5, 4, 1, 8,\n",
      "        7, 3, 4, 9, 9, 4, 9, 8, 7, 3, 2, 9, 6, 5, 9, 4, 3, 0, 7, 3, 5, 8, 6, 9,\n",
      "        6, 4, 0, 1, 2, 3, 7, 0, 5, 1, 1, 0, 6, 1, 3, 4, 4, 7, 3, 4, 7, 1, 0, 5,\n",
      "        8, 5, 0, 1, 2, 1, 8, 2, 4, 7, 2, 6, 2, 9, 9, 9, 0, 7, 1, 9, 1, 7, 9, 7,\n",
      "        3, 8, 5, 1, 6, 0, 6, 1, 8, 5, 3, 1, 9, 6, 3, 5, 8, 4, 0, 7, 9, 9, 4, 4,\n",
      "        2, 9, 7, 7, 7, 7, 8, 4, 1, 9, 9, 3, 9, 6, 3, 9, 5, 1, 6, 1, 9, 7, 5, 0,\n",
      "        8, 5, 5, 3, 6, 8, 2, 6, 8, 0, 0, 1, 1, 6, 5, 9, 3, 8, 6, 3, 7, 8, 2, 5,\n",
      "        3, 8, 4, 7, 6, 5, 2, 5, 3, 1, 4, 7, 0, 1, 4, 3], device='cuda:0')\n"
     ]
    }
   ],
   "source": [
    "for xb, yb in val_loader:\n",
    "    print('xb.device:', xb.device)\n",
    "    print('yb:', yb)\n",
    "    break"
   ]
  },
  {
   "cell_type": "markdown",
   "metadata": {
    "id": "sfPhGrIRpeT9"
   },
   "source": [
    "## Treinando o modelo\n",
    "\n",
    "Vamos definir duas funções: `fit` e `evaluate` para treinar o modelo usando gradiente descendente e avaliar seu desempenho sobre o conjunto de validação."
   ]
  },
  {
   "cell_type": "code",
   "execution_count": 105,
   "metadata": {
    "executionInfo": {
     "elapsed": 234,
     "status": "ok",
     "timestamp": 1645706274706,
     "user": {
      "displayName": "Eduardo Bezerra",
      "photoUrl": "https://lh3.googleusercontent.com/a-/AOh14GgtLlrVPd1NAOukzvdhFbWNfJNyiPGoaltpqHbN_A=s64",
      "userId": "15338717559428153474"
     },
     "user_tz": 180
    },
    "id": "JRw6Zf0wpeT9"
   },
   "outputs": [],
   "source": [
    "def evaluate(model, val_loader):\n",
    "    \"\"\"Evaluate the model's performance on the validation set\"\"\"\n",
    "    outputs = [model.validation_step(batch) for batch in val_loader]\n",
    "    return model.validation_epoch_end(outputs)\n",
    "\n",
    "def fit(epochs, lr, model, train_loader, val_loader, opt_func=torch.optim.SGD):\n",
    "    \"\"\"Train the model using gradient descent\"\"\"\n",
    "    history = []\n",
    "    optimizer = opt_func(model.parameters(), lr)\n",
    "    for epoch in range(epochs):\n",
    "        # Training Phase \n",
    "        model.train() # prep model for training\n",
    "        for batch in train_loader:\n",
    "            loss = model.training_step(batch)\n",
    "            loss.backward()\n",
    "            optimizer.step()\n",
    "            optimizer.zero_grad()\n",
    "        # Validation phase\n",
    "        model.eval()\n",
    "        result = evaluate(model, val_loader)\n",
    "        model.epoch_end(epoch, result)\n",
    "        history.append(result)\n",
    "    return history"
   ]
  },
  {
   "cell_type": "markdown",
   "metadata": {
    "id": "JuWv6GKZpeT9"
   },
   "source": [
    "Antes de treinarmos o modelo, precisamos garantir que os dados e os parâmetros do modelo (pesos e vieses) estejam no mesmo dispositivo (CPU ou GPU). Podemos reutilizar a função `to_device` para mover os parâmetros do modelo para o dispositivo certo."
   ]
  },
  {
   "cell_type": "code",
   "execution_count": 106,
   "metadata": {
    "colab": {
     "base_uri": "https://localhost:8080/"
    },
    "executionInfo": {
     "elapsed": 218,
     "status": "ok",
     "timestamp": 1645706277804,
     "user": {
      "displayName": "Eduardo Bezerra",
      "photoUrl": "https://lh3.googleusercontent.com/a-/AOh14GgtLlrVPd1NAOukzvdhFbWNfJNyiPGoaltpqHbN_A=s64",
      "userId": "15338717559428153474"
     },
     "user_tz": 180
    },
    "id": "u1CyEQsJpeT9",
    "outputId": "44b79d3d-a31b-4350-d434-cd58ae61612e"
   },
   "outputs": [
    {
     "data": {
      "text/plain": [
       "MnistModel(\n",
       "  (linear1): Linear(in_features=784, out_features=32, bias=True)\n",
       "  (linear2): Linear(in_features=32, out_features=10, bias=True)\n",
       ")"
      ]
     },
     "execution_count": 106,
     "metadata": {},
     "output_type": "execute_result"
    }
   ],
   "source": [
    "# Model (on GPU)\n",
    "model = MnistModel(input_size, hidden_size=hidden_size, out_size=num_classes)\n",
    "to_device(model, device)"
   ]
  },
  {
   "cell_type": "markdown",
   "metadata": {
    "id": "9N_aE2GRpeT9"
   },
   "source": [
    "Vamos ver o desempenho preditivo do modelo no conjunto de validação com o conjunto inicial de pesos e vieses."
   ]
  },
  {
   "cell_type": "code",
   "execution_count": 107,
   "metadata": {
    "colab": {
     "base_uri": "https://localhost:8080/"
    },
    "executionInfo": {
     "elapsed": 1698,
     "status": "ok",
     "timestamp": 1645706285624,
     "user": {
      "displayName": "Eduardo Bezerra",
      "photoUrl": "https://lh3.googleusercontent.com/a-/AOh14GgtLlrVPd1NAOukzvdhFbWNfJNyiPGoaltpqHbN_A=s64",
      "userId": "15338717559428153474"
     },
     "user_tz": 180
    },
    "id": "bF_wEBAIpeT9",
    "outputId": "bdecd6a1-cffd-4a27-aa56-bbc1e5d4569d"
   },
   "outputs": [
    {
     "data": {
      "text/plain": [
       "[{'val_loss': 2.313509702682495, 'val_acc': 0.09560547024011612}]"
      ]
     },
     "execution_count": 107,
     "metadata": {},
     "output_type": "execute_result"
    }
   ],
   "source": [
    "history = [evaluate(model, val_loader)]\n",
    "history"
   ]
  },
  {
   "cell_type": "markdown",
   "metadata": {
    "id": "BU0tYFcPpeT9"
   },
   "source": [
    "A acurácia inicial é de cerca de 10%, como se poderia esperar de um modelo inicializado aleatoriamente (uma vez que há 1 chance em 10 de acertar um rótulo por acaso).\n",
    "\n",
    "Vamos treinar o modelo por cinco épocas e ver os resultados. Podemos usar uma taxa de aprendizado relativamente alta de $0.5$."
   ]
  },
  {
   "cell_type": "code",
   "execution_count": 108,
   "metadata": {
    "colab": {
     "base_uri": "https://localhost:8080/"
    },
    "executionInfo": {
     "elapsed": 44294,
     "status": "ok",
     "timestamp": 1645706332145,
     "user": {
      "displayName": "Eduardo Bezerra",
      "photoUrl": "https://lh3.googleusercontent.com/a-/AOh14GgtLlrVPd1NAOukzvdhFbWNfJNyiPGoaltpqHbN_A=s64",
      "userId": "15338717559428153474"
     },
     "user_tz": 180
    },
    "id": "DE5_oVckpeT9",
    "outputId": "10df41bc-a2c5-4b91-8a84-2ff4016761fd"
   },
   "outputs": [
    {
     "name": "stdout",
     "output_type": "stream",
     "text": [
      "Epoch [0], val_loss: 0.2340, val_acc: 0.9325\n",
      "Epoch [1], val_loss: 0.1711, val_acc: 0.9504\n",
      "Epoch [2], val_loss: 0.1736, val_acc: 0.9484\n",
      "Epoch [3], val_loss: 0.1593, val_acc: 0.9527\n",
      "Epoch [4], val_loss: 0.1291, val_acc: 0.9607\n"
     ]
    }
   ],
   "source": [
    "history += fit(5, 0.5, model, train_loader, val_loader)"
   ]
  },
  {
   "cell_type": "markdown",
   "metadata": {
    "id": "_by-a2g9peT9"
   },
   "source": [
    "A acurácia obtida é aproximadamente 96%, o que corresponde a uma melhoria significativa quando comparamos com os 86% de acurácia do modelo treinado sem camada oculta e sem função de ativação.\n",
    "\n",
    "Vamos treinar o modelo por mais cinco épocas, desta vez usando uma taxa de aprendizado menor."
   ]
  },
  {
   "cell_type": "code",
   "execution_count": 109,
   "metadata": {
    "colab": {
     "base_uri": "https://localhost:8080/"
    },
    "executionInfo": {
     "elapsed": 43820,
     "status": "ok",
     "timestamp": 1645706391290,
     "user": {
      "displayName": "Eduardo Bezerra",
      "photoUrl": "https://lh3.googleusercontent.com/a-/AOh14GgtLlrVPd1NAOukzvdhFbWNfJNyiPGoaltpqHbN_A=s64",
      "userId": "15338717559428153474"
     },
     "user_tz": 180
    },
    "id": "AjA2dtlrpeT9",
    "outputId": "991b89ed-3f3d-42b7-9b81-c43460a6e096"
   },
   "outputs": [
    {
     "name": "stdout",
     "output_type": "stream",
     "text": [
      "Epoch [0], val_loss: 0.1207, val_acc: 0.9648\n",
      "Epoch [1], val_loss: 0.1187, val_acc: 0.9655\n",
      "Epoch [2], val_loss: 0.1162, val_acc: 0.9661\n",
      "Epoch [3], val_loss: 0.1149, val_acc: 0.9657\n",
      "Epoch [4], val_loss: 0.1158, val_acc: 0.9665\n"
     ]
    }
   ],
   "source": [
    "history += fit(5, 0.1, model, train_loader, val_loader)"
   ]
  },
  {
   "cell_type": "markdown",
   "metadata": {
    "id": "7DXLDSJHn8Tf"
   },
   "source": [
    "Ao que parece, atingimos um novo limite superior (próximo de 96%) para a acurácia do modelo treinado com a nova arquitetura."
   ]
  },
  {
   "cell_type": "markdown",
   "metadata": {
    "id": "W7LAqJCMpeT9"
   },
   "source": [
    "Agora podemos representar graficamente os custos e acurácias para estudar como o modelo melhora ao longo do treinamento."
   ]
  },
  {
   "cell_type": "code",
   "execution_count": 110,
   "metadata": {
    "colab": {
     "base_uri": "https://localhost:8080/",
     "height": 295
    },
    "executionInfo": {
     "elapsed": 535,
     "status": "ok",
     "timestamp": 1640886849850,
     "user": {
      "displayName": "Eduardo Bezerra",
      "photoUrl": "https://lh3.googleusercontent.com/a-/AOh14GgtLlrVPd1NAOukzvdhFbWNfJNyiPGoaltpqHbN_A=s64",
      "userId": "15338717559428153474"
     },
     "user_tz": 180
    },
    "id": "I3g-DRifpeT9",
    "outputId": "63c5c7b7-d5fa-4cc4-e86c-861a93543a8c"
   },
   "outputs": [
    {
     "data": {
      "image/png": "[encoded data removed]",
      "text/plain": [
       "<Figure size 640x480 with 1 Axes>"
      ]
     },
     "metadata": {},
     "output_type": "display_data"
    }
   ],
   "source": [
    "losses = [x['val_loss'] for x in history]\n",
    "plt.plot(losses, '-x')\n",
    "plt.xlabel('epoch')\n",
    "plt.ylabel('loss')\n",
    "plt.title('Loss vs. No. of epochs');"
   ]
  },
  {
   "cell_type": "code",
   "execution_count": 111,
   "metadata": {
    "colab": {
     "base_uri": "https://localhost:8080/",
     "height": 295
    },
    "executionInfo": {
     "elapsed": 421,
     "status": "ok",
     "timestamp": 1640886870790,
     "user": {
      "displayName": "Eduardo Bezerra",
      "photoUrl": "https://lh3.googleusercontent.com/a-/AOh14GgtLlrVPd1NAOukzvdhFbWNfJNyiPGoaltpqHbN_A=s64",
      "userId": "15338717559428153474"
     },
     "user_tz": 180
    },
    "id": "28kJvNmFpeT9",
    "outputId": "181120bb-f31a-4449-f673-8ae980f372f6",
    "scrolled": true
   },
   "outputs": [
    {
     "data": {
      "image/png": "[encoded data removed]",
      "text/plain": [
       "<Figure size 640x480 with 1 Axes>"
      ]
     },
     "metadata": {},
     "output_type": "display_data"
    }
   ],
   "source": [
    "accuracies = [x['val_acc'] for x in history]\n",
    "plt.plot(accuracies, '-x')\n",
    "plt.xlabel('epoch')\n",
    "plt.ylabel('accuracy')\n",
    "plt.title('Accuracy vs. No. of epochs');"
   ]
  },
  {
   "cell_type": "markdown",
   "metadata": {
    "id": "zBmLGRuLpeT9"
   },
   "source": [
    "Nosso modelo atual supera o modelo de regressão logística (que só conseguiu atingir cerca de 86% de acurácia) por uma margem considerável! Ele atinge rapidamente uma acurácia próxima de 97%, mas não melhora muito além disso. Para melhorar ainda mais a acurácia, precisamos tornar o modelo mais poderoso aumentando o tamanho da camada oculta ou adicionando mais camadas ocultas com ativações. Eu o encorajo a experimentar ambas as abordagens e ver qual funciona melhor."
   ]
  },
  {
   "cell_type": "markdown",
   "metadata": {
    "id": "Lf_6nWkCBGB5"
   },
   "source": [
    "## Testando com imagens individuais\n",
    "\n",
    "Embora tenhamos rastreado a acurácia geral de um modelo até agora, também é uma boa ideia olhar os resultados do modelo em algumas imagens de amostra. Vamos testar nosso modelo com algumas imagens do conjunto de dados de teste predefinido de 10.000 imagens. Começamos recriando o conjunto de dados de teste com a transformação `ToTensor`."
   ]
  },
  {
   "cell_type": "code",
   "execution_count": 112,
   "metadata": {
    "id": "ZJ6E4f-iBBTm"
   },
   "outputs": [],
   "source": [
    "# Define test dataset\n",
    "test_dataset = MNIST(root='data/', \n",
    "                     train=False,\n",
    "                     transform=ToTensor())"
   ]
  },
  {
   "cell_type": "markdown",
   "metadata": {
    "id": "uGKvjeJXBTiN"
   },
   "source": [
    "Vamos definir uma função auxiliar `Predict_image`, que retorna o rótulo previsto para um único tensor de imagem."
   ]
  },
  {
   "cell_type": "code",
   "execution_count": 113,
   "metadata": {
    "id": "ZhxrAx6LBTNG"
   },
   "outputs": [],
   "source": [
    "def predict_image(img, model):\n",
    "    xb = to_device(img.unsqueeze(0), device)\n",
    "    yb = model(xb)\n",
    "    _, preds  = torch.max(yb, dim=1)\n",
    "    return preds[0].item()"
   ]
  },
  {
   "cell_type": "markdown",
   "metadata": {
    "id": "N4kUaLBqBZLd"
   },
   "source": [
    "Vamos experimentar com algumas imagens."
   ]
  },
  {
   "cell_type": "code",
   "execution_count": 114,
   "metadata": {
    "colab": {
     "base_uri": "https://localhost:8080/",
     "height": 283
    },
    "executionInfo": {
     "elapsed": 16,
     "status": "ok",
     "timestamp": 1640887025812,
     "user": {
      "displayName": "Eduardo Bezerra",
      "photoUrl": "https://lh3.googleusercontent.com/a-/AOh14GgtLlrVPd1NAOukzvdhFbWNfJNyiPGoaltpqHbN_A=s64",
      "userId": "15338717559428153474"
     },
     "user_tz": 180
    },
    "id": "JsNnl42DBXog",
    "outputId": "8f858a6a-cfac-4727-e5ae-f9ed868c4f36"
   },
   "outputs": [
    {
     "name": "stdout",
     "output_type": "stream",
     "text": [
      "Label: 7 , Predicted: 7\n"
     ]
    },
    {
     "data": {
      "image/png": "[encoded data removed]",
      "text/plain": [
       "<Figure size 640x480 with 1 Axes>"
      ]
     },
     "metadata": {},
     "output_type": "display_data"
    }
   ],
   "source": [
    "img, label = test_dataset[0]\n",
    "plt.imshow(img[0], cmap='gray')\n",
    "print('Label:', label, ', Predicted:', predict_image(img, model))"
   ]
  },
  {
   "cell_type": "code",
   "execution_count": 115,
   "metadata": {
    "colab": {
     "base_uri": "https://localhost:8080/",
     "height": 283
    },
    "executionInfo": {
     "elapsed": 840,
     "status": "ok",
     "timestamp": 1640887040298,
     "user": {
      "displayName": "Eduardo Bezerra",
      "photoUrl": "https://lh3.googleusercontent.com/a-/AOh14GgtLlrVPd1NAOukzvdhFbWNfJNyiPGoaltpqHbN_A=s64",
      "userId": "15338717559428153474"
     },
     "user_tz": 180
    },
    "id": "lu0lN0xnBiD6",
    "outputId": "4f7e12f4-a925-4904-ec44-2fc55e03924d"
   },
   "outputs": [
    {
     "name": "stdout",
     "output_type": "stream",
     "text": [
      "Label: 2 , Predicted: 2\n"
     ]
    },
    {
     "data": {
      "image/png": "[encoded data removed]",
      "text/plain": [
       "<Figure size 640x480 with 1 Axes>"
      ]
     },
     "metadata": {},
     "output_type": "display_data"
    }
   ],
   "source": [
    "img, label = test_dataset[1839]\n",
    "plt.imshow(img[0], cmap='gray')\n",
    "print('Label:', label, ', Predicted:', predict_image(img, model))"
   ]
  },
  {
   "cell_type": "code",
   "execution_count": 116,
   "metadata": {
    "colab": {
     "base_uri": "https://localhost:8080/",
     "height": 283
    },
    "executionInfo": {
     "elapsed": 848,
     "status": "ok",
     "timestamp": 1640887053924,
     "user": {
      "displayName": "Eduardo Bezerra",
      "photoUrl": "https://lh3.googleusercontent.com/a-/AOh14GgtLlrVPd1NAOukzvdhFbWNfJNyiPGoaltpqHbN_A=s64",
      "userId": "15338717559428153474"
     },
     "user_tz": 180
    },
    "id": "ZpzxiYHjBliK",
    "outputId": "77f04d88-5e59-411f-b0ee-363573412ef5"
   },
   "outputs": [
    {
     "name": "stdout",
     "output_type": "stream",
     "text": [
      "Label: 9 , Predicted: 9\n"
     ]
    },
    {
     "data": {
      "image/png": "[encoded data removed]",
      "text/plain": [
       "<Figure size 640x480 with 1 Axes>"
      ]
     },
     "metadata": {},
     "output_type": "display_data"
    }
   ],
   "source": [
    "img, label = test_dataset[193]\n",
    "plt.imshow(img[0], cmap='gray')\n",
    "print('Label:', label, ', Predicted:', predict_image(img, model))"
   ]
  },
  {
   "cell_type": "markdown",
   "metadata": {
    "id": "RqG62k05BqpC"
   },
   "source": [
    "Identificar onde nosso modelo tem um desempenho insatisfatório pode nos ajudar a melhorá-lo, coletando mais dados de treinamento, aumentando/diminuindo a complexidade do modelo e alterando os hipeparâmetros.\n",
    "\n",
    "Como uma etapa final, vamos também examinar os valores médios da função de custo e a acurácia do modelo sobre o conjunto de teste."
   ]
  },
  {
   "cell_type": "code",
   "execution_count": 117,
   "metadata": {
    "colab": {
     "base_uri": "https://localhost:8080/"
    },
    "executionInfo": {
     "elapsed": 1640,
     "status": "ok",
     "timestamp": 1640887125637,
     "user": {
      "displayName": "Eduardo Bezerra",
      "photoUrl": "https://lh3.googleusercontent.com/a-/AOh14GgtLlrVPd1NAOukzvdhFbWNfJNyiPGoaltpqHbN_A=s64",
      "userId": "15338717559428153474"
     },
     "user_tz": 180
    },
    "id": "rvNoyn0RBtBm",
    "outputId": "e3b779e6-c3dd-404b-d4fe-575f71ac3632"
   },
   "outputs": [
    {
     "data": {
      "text/plain": [
       "{'val_loss': 0.10617833584547043, 'val_acc': 0.9686523675918579}"
      ]
     },
     "execution_count": 117,
     "metadata": {},
     "output_type": "execute_result"
    }
   ],
   "source": [
    "test_loader = DeviceDataLoader(DataLoader(test_dataset, batch_size=256), device)\n",
    "result = evaluate(model, test_loader)\n",
    "result"
   ]
  },
  {
   "cell_type": "markdown",
   "metadata": {
    "id": "CZz2M4WPBzlT"
   },
   "source": [
    "Conforme esperado, o desempenho preditivo sobre o conjunto de teste é semelhante ao obtido sobre o conjunto de validação. Se isso não se verificar, talvez precisemos de um conjunto de validação melhor que tenha dados e distribuição semelhantes ao conjunto de teste (que geralmente vem de dados do mundo real)."
   ]
  },
  {
   "cell_type": "markdown",
   "metadata": {
    "id": "sSSOi-g_peT-"
   },
   "source": [
    "# Resumo e leituras adicionais\n",
    "\n",
    "Aqui está um resumo dos tópicos abordados neste tutorial:\n",
    "\n",
    "* Criamos uma rede neural MLP com uma camada oculta para aprimorar o modelo de classificação do tutorial anterior. Também usamos a função de ativação ReLU para introduzir a não linearidade no modelo, permitindo que ele aprendesse relações mais complexas entre as entradas (densidades de pixel) e as saídas (probabilidades de classe).\n",
    "\n",
    "* Definimos alguns utilitários como `get_default_device`,` to_device` e `DeviceDataLoader` para alavancar uma GPU se disponível, movendo os dados de entrada e parâmetros de modelo para o dispositivo apropriado.\n",
    "\n",
    "* Fomos capazes de usar exatamente o mesmo loop de treinamento: a função `fit` que definimos anteriormente para treinar o modelo e avaliá-lo usando o conjunto de dados de validação.\n",
    "\n",
    "Há muito escopo para experimentar aqui, e eu encorajo você a usar a natureza interativa do Jupyter para brincar com os vários parâmetros. Aqui estão algumas idéias:\n",
    "\n",
    "* Tente alterar o tamanho da camada oculta ou adicione mais camadas ocultas e veja se consegue obter uma acurácia maior.\n",
    "\n",
    "* Experimente alterar o tamanho do lote e a taxa de aprendizagem para ver se consegue obter a mesma acurácia em menos épocas.\n",
    "\n",
    "* Compare os tempos de treinamento em uma CPU e GPU. Você vê uma diferença significativa. Como isso varia com o tamanho do conjunto de dados e o tamanho do modelo (número de pesos e parâmetros)?\n",
    "\n",
    "* Tente construir um modelo para um conjunto de dados diferente, como os [conjuntos de dados CIFAR10 ou CIFAR100](https://www.cs.toronto.edu/~kriz/cifar.html)."
   ]
  },
  {
   "cell_type": "markdown",
   "metadata": {},
   "source": [
    "Aqui estão algumas referências para leituras adicionais:\n",
    "\n",
    "1. [Uma animação para obter a intuição de que as redes neurais podem computar qualquer função](http://neuralnetworksanddeeplearning.com/chap4.html), também conhecido como Teorema de Aproximação Universal.\n",
    "\n",
    "2. [Mas o que *é* uma rede neural?](https://www.youtube.com/watch?v=aircAruvnKk) - Uma introdução visual e intuitiva ao que são as redes neurais e o que as camadas intermediárias representam\n",
    "\n",
    "3. [Stanford CS229 Lecture notes on Backpropagation](http://cs229.stanford.edu/notes/cs229-notes-backprop.pdf) - para um tratamento mais matemático de como os gradientes são calculados e os pesos são atualizados para redes neurais com múltiplos camadas.\n",
    "\n",
    "4. [AI by Hand - Multi-Layer Perceptron](https://www.linkedin.com/posts/tom-yeh_mlp-neuralnetwork-aibyhand-activity-7246281602853453824-sTfB)"
   ]
  }
 ],
 "metadata": {
  "accelerator": "GPU",
  "colab": {
   "name": "DL03.ipynb",
   "provenance": [],
   "toc_visible": true
  },
  "kernelspec": {
   "display_name": "cic1205",
   "language": "python",
   "name": "python3"
  },
  "language_info": {
   "codemirror_mode": {
    "name": "ipython",
    "version": 3
   },
   "file_extension": ".py",
   "mimetype": "text/x-python",
   "name": "python",
   "nbconvert_exporter": "python",
   "pygments_lexer": "ipython3",
   "version": "3.12.0"
  },
  "widgets": {
   "application/vnd.jupyter.widget-state+json": {
    "08947121cd6f4921911e4c28956b9af1": {
     "model_module": "@jupyter-widgets/base",
     "model_module_version": "1.2.0",
     "model_name": "LayoutModel",
     "state": {
      "_model_module": "@jupyter-widgets/base",
      "_model_module_version": "1.2.0",
      "_model_name": "LayoutModel",
      "_view_count": null,
      "_view_module": "@jupyter-widgets/base",
      "_view_module_version": "1.2.0",
      "_view_name": "LayoutView",
      "align_content": null,
      "align_items": null,
      "align_self": null,
      "border": null,
      "bottom": null,
      "display": null,
      "flex": null,
      "flex_flow": null,
      "grid_area": null,
      "grid_auto_columns": null,
      "grid_auto_flow": null,
      "grid_auto_rows": null,
      "grid_column": null,
      "grid_gap": null,
      "grid_row": null,
      "grid_template_areas": null,
      "grid_template_columns": null,
      "grid_template_rows": null,
      "height": null,
      "justify_content": null,
      "justify_items": null,
      "left": null,
      "margin": null,
      "max_height": null,
      "max_width": null,
      "min_height": null,
      "min_width": null,
      "object_fit": null,
      "object_position": null,
      "order": null,
      "overflow": null,
      "overflow_x": null,
      "overflow_y": null,
      "padding": null,
      "right": null,
      "top": null,
      "visibility": null,
      "width": null
     }
    },
    "0e8aa0e505f94aac8be3c032ca0e92b1": {
     "model_module": "@jupyter-widgets/base",
     "model_module_version": "1.2.0",
     "model_name": "LayoutModel",
     "state": {
      "_model_module": "@jupyter-widgets/base",
      "_model_module_version": "1.2.0",
      "_model_name": "LayoutModel",
      "_view_count": null,
      "_view_module": "@jupyter-widgets/base",
      "_view_module_version": "1.2.0",
      "_view_name": "LayoutView",
      "align_content": null,
      "align_items": null,
      "align_self": null,
      "border": null,
      "bottom": null,
      "display": null,
      "flex": null,
      "flex_flow": null,
      "grid_area": null,
      "grid_auto_columns": null,
      "grid_auto_flow": null,
      "grid_auto_rows": null,
      "grid_column": null,
      "grid_gap": null,
      "grid_row": null,
      "grid_template_areas": null,
      "grid_template_columns": null,
      "grid_template_rows": null,
      "height": null,
      "justify_content": null,
      "justify_items": null,
      "left": null,
      "margin": null,
      "max_height": null,
      "max_width": null,
      "min_height": null,
      "min_width": null,
      "object_fit": null,
      "object_position": null,
      "order": null,
      "overflow": null,
      "overflow_x": null,
      "overflow_y": null,
      "padding": null,
      "right": null,
      "top": null,
      "visibility": null,
      "width": null
     }
    },
    "16fd7919c3c743118ca5c0fb9492b89a": {
     "model_module": "@jupyter-widgets/controls",
     "model_module_version": "1.5.0",
     "model_name": "FloatProgressModel",
     "state": {
      "_dom_classes": [],
      "_model_module": "@jupyter-widgets/controls",
      "_model_module_version": "1.5.0",
      "_model_name": "FloatProgressModel",
      "_view_count": null,
      "_view_module": "@jupyter-widgets/controls",
      "_view_module_version": "1.5.0",
      "_view_name": "ProgressView",
      "bar_style": "success",
      "description": "",
      "description_tooltip": null,
      "layout": "IPY_MODEL_a0b9230e2a964e20ba65671943685dc3",
      "max": 4542,
      "min": 0,
      "orientation": "horizontal",
      "style": "IPY_MODEL_1d0523ff16bd4691af3b3924041a6917",
      "value": 4542
     }
    },
    "1d0523ff16bd4691af3b3924041a6917": {
     "model_module": "@jupyter-widgets/controls",
     "model_module_version": "1.5.0",
     "model_name": "ProgressStyleModel",
     "state": {
      "_model_module": "@jupyter-widgets/controls",
      "_model_module_version": "1.5.0",
      "_model_name": "ProgressStyleModel",
      "_view_count": null,
      "_view_module": "@jupyter-widgets/base",
      "_view_module_version": "1.2.0",
      "_view_name": "StyleView",
      "bar_color": null,
      "description_width": ""
     }
    },
    "253e838578fd4f648a75157acd315cc1": {
     "model_module": "@jupyter-widgets/controls",
     "model_module_version": "1.5.0",
     "model_name": "HTMLModel",
     "state": {
      "_dom_classes": [],
      "_model_module": "@jupyter-widgets/controls",
      "_model_module_version": "1.5.0",
      "_model_name": "HTMLModel",
      "_view_count": null,
      "_view_module": "@jupyter-widgets/controls",
      "_view_module_version": "1.5.0",
      "_view_name": "HTMLView",
      "description": "",
      "description_tooltip": null,
      "layout": "IPY_MODEL_d1b78b53595c42468f80023ef958d2bd",
      "placeholder": "​",
      "style": "IPY_MODEL_e5e69d76a4b34c5ca5e2876ac6c71998",
      "value": " 29696/? [00:00&lt;00:00, 297506.45it/s]"
     }
    },
    "26c85eefc4dd4278b18cf01b12ef94ff": {
     "model_module": "@jupyter-widgets/base",
     "model_module_version": "1.2.0",
     "model_name": "LayoutModel",
     "state": {
      "_model_module": "@jupyter-widgets/base",
      "_model_module_version": "1.2.0",
      "_model_name": "LayoutModel",
      "_view_count": null,
      "_view_module": "@jupyter-widgets/base",
      "_view_module_version": "1.2.0",
      "_view_name": "LayoutView",
      "align_content": null,
      "align_items": null,
      "align_self": null,
      "border": null,
      "bottom": null,
      "display": null,
      "flex": null,
      "flex_flow": null,
      "grid_area": null,
      "grid_auto_columns": null,
      "grid_auto_flow": null,
      "grid_auto_rows": null,
      "grid_column": null,
      "grid_gap": null,
      "grid_row": null,
      "grid_template_areas": null,
      "grid_template_columns": null,
      "grid_template_rows": null,
      "height": null,
      "justify_content": null,
      "justify_items": null,
      "left": null,
      "margin": null,
      "max_height": null,
      "max_width": null,
      "min_height": null,
      "min_width": null,
      "object_fit": null,
      "object_position": null,
      "order": null,
      "overflow": null,
      "overflow_x": null,
      "overflow_y": null,
      "padding": null,
      "right": null,
      "top": null,
      "visibility": null,
      "width": null
     }
    },
    "3a7b949d99754f6a99cd9f07e152b829": {
     "model_module": "@jupyter-widgets/controls",
     "model_module_version": "1.5.0",
     "model_name": "HTMLModel",
     "state": {
      "_dom_classes": [],
      "_model_module": "@jupyter-widgets/controls",
      "_model_module_version": "1.5.0",
      "_model_name": "HTMLModel",
      "_view_count": null,
      "_view_module": "@jupyter-widgets/controls",
      "_view_module_version": "1.5.0",
      "_view_name": "HTMLView",
      "description": "",
      "description_tooltip": null,
      "layout": "IPY_MODEL_7a450f04266e44a89f08a6e850847a0f",
      "placeholder": "​",
      "style": "IPY_MODEL_80522a3637c14f3d91075ce44012afed",
      "value": ""
     }
    },
    "484bf9e9900543af98d19b4c8a1f7004": {
     "model_module": "@jupyter-widgets/controls",
     "model_module_version": "1.5.0",
     "model_name": "DescriptionStyleModel",
     "state": {
      "_model_module": "@jupyter-widgets/controls",
      "_model_module_version": "1.5.0",
      "_model_name": "DescriptionStyleModel",
      "_view_count": null,
      "_view_module": "@jupyter-widgets/base",
      "_view_module_version": "1.2.0",
      "_view_name": "StyleView",
      "description_width": ""
     }
    },
    "4cadf19bddad40eea9c63d67d2ab282b": {
     "model_module": "@jupyter-widgets/base",
     "model_module_version": "1.2.0",
     "model_name": "LayoutModel",
     "state": {
      "_model_module": "@jupyter-widgets/base",
      "_model_module_version": "1.2.0",
      "_model_name": "LayoutModel",
      "_view_count": null,
      "_view_module": "@jupyter-widgets/base",
      "_view_module_version": "1.2.0",
      "_view_name": "LayoutView",
      "align_content": null,
      "align_items": null,
      "align_self": null,
      "border": null,
      "bottom": null,
      "display": null,
      "flex": null,
      "flex_flow": null,
      "grid_area": null,
      "grid_auto_columns": null,
      "grid_auto_flow": null,
      "grid_auto_rows": null,
      "grid_column": null,
      "grid_gap": null,
      "grid_row": null,
      "grid_template_areas": null,
      "grid_template_columns": null,
      "grid_template_rows": null,
      "height": null,
      "justify_content": null,
      "justify_items": null,
      "left": null,
      "margin": null,
      "max_height": null,
      "max_width": null,
      "min_height": null,
      "min_width": null,
      "object_fit": null,
      "object_position": null,
      "order": null,
      "overflow": null,
      "overflow_x": null,
      "overflow_y": null,
      "padding": null,
      "right": null,
      "top": null,
      "visibility": null,
      "width": null
     }
    },
    "57a2f4e854c94fc38546b88888830ece": {
     "model_module": "@jupyter-widgets/controls",
     "model_module_version": "1.5.0",
     "model_name": "ProgressStyleModel",
     "state": {
      "_model_module": "@jupyter-widgets/controls",
      "_model_module_version": "1.5.0",
      "_model_name": "ProgressStyleModel",
      "_view_count": null,
      "_view_module": "@jupyter-widgets/base",
      "_view_module_version": "1.2.0",
      "_view_name": "StyleView",
      "bar_color": null,
      "description_width": ""
     }
    },
    "58c48bfaebd241aa87e9019b59640741": {
     "model_module": "@jupyter-widgets/controls",
     "model_module_version": "1.5.0",
     "model_name": "DescriptionStyleModel",
     "state": {
      "_model_module": "@jupyter-widgets/controls",
      "_model_module_version": "1.5.0",
      "_model_name": "DescriptionStyleModel",
      "_view_count": null,
      "_view_module": "@jupyter-widgets/base",
      "_view_module_version": "1.2.0",
      "_view_name": "StyleView",
      "description_width": ""
     }
    },
    "5c3788a7c0984370a6e73e00b44b8c41": {
     "model_module": "@jupyter-widgets/controls",
     "model_module_version": "1.5.0",
     "model_name": "ProgressStyleModel",
     "state": {
      "_model_module": "@jupyter-widgets/controls",
      "_model_module_version": "1.5.0",
      "_model_name": "ProgressStyleModel",
      "_view_count": null,
      "_view_module": "@jupyter-widgets/base",
      "_view_module_version": "1.2.0",
      "_view_name": "StyleView",
      "bar_color": null,
      "description_width": ""
     }
    },
    "649e895ac3ac4c009b2fb0294a59e3bf": {
     "model_module": "@jupyter-widgets/controls",
     "model_module_version": "1.5.0",
     "model_name": "DescriptionStyleModel",
     "state": {
      "_model_module": "@jupyter-widgets/controls",
      "_model_module_version": "1.5.0",
      "_model_name": "DescriptionStyleModel",
      "_view_count": null,
      "_view_module": "@jupyter-widgets/base",
      "_view_module_version": "1.2.0",
      "_view_name": "StyleView",
      "description_width": ""
     }
    },
    "6f833f37eea744308dc4d9a0e46ca619": {
     "model_module": "@jupyter-widgets/controls",
     "model_module_version": "1.5.0",
     "model_name": "ProgressStyleModel",
     "state": {
      "_model_module": "@jupyter-widgets/controls",
      "_model_module_version": "1.5.0",
      "_model_name": "ProgressStyleModel",
      "_view_count": null,
      "_view_module": "@jupyter-widgets/base",
      "_view_module_version": "1.2.0",
      "_view_name": "StyleView",
      "bar_color": null,
      "description_width": ""
     }
    },
    "7794421a8a9347629ecf186f731459c4": {
     "model_module": "@jupyter-widgets/base",
     "model_module_version": "1.2.0",
     "model_name": "LayoutModel",
     "state": {
      "_model_module": "@jupyter-widgets/base",
      "_model_module_version": "1.2.0",
      "_model_name": "LayoutModel",
      "_view_count": null,
      "_view_module": "@jupyter-widgets/base",
      "_view_module_version": "1.2.0",
      "_view_name": "LayoutView",
      "align_content": null,
      "align_items": null,
      "align_self": null,
      "border": null,
      "bottom": null,
      "display": null,
      "flex": null,
      "flex_flow": null,
      "grid_area": null,
      "grid_auto_columns": null,
      "grid_auto_flow": null,
      "grid_auto_rows": null,
      "grid_column": null,
      "grid_gap": null,
      "grid_row": null,
      "grid_template_areas": null,
      "grid_template_columns": null,
      "grid_template_rows": null,
      "height": null,
      "justify_content": null,
      "justify_items": null,
      "left": null,
      "margin": null,
      "max_height": null,
      "max_width": null,
      "min_height": null,
      "min_width": null,
      "object_fit": null,
      "object_position": null,
      "order": null,
      "overflow": null,
      "overflow_x": null,
      "overflow_y": null,
      "padding": null,
      "right": null,
      "top": null,
      "visibility": null,
      "width": null
     }
    },
    "7a450f04266e44a89f08a6e850847a0f": {
     "model_module": "@jupyter-widgets/base",
     "model_module_version": "1.2.0",
     "model_name": "LayoutModel",
     "state": {
      "_model_module": "@jupyter-widgets/base",
      "_model_module_version": "1.2.0",
      "_model_name": "LayoutModel",
      "_view_count": null,
      "_view_module": "@jupyter-widgets/base",
      "_view_module_version": "1.2.0",
      "_view_name": "LayoutView",
      "align_content": null,
      "align_items": null,
      "align_self": null,
      "border": null,
      "bottom": null,
      "display": null,
      "flex": null,
      "flex_flow": null,
      "grid_area": null,
      "grid_auto_columns": null,
      "grid_auto_flow": null,
      "grid_auto_rows": null,
      "grid_column": null,
      "grid_gap": null,
      "grid_row": null,
      "grid_template_areas": null,
      "grid_template_columns": null,
      "grid_template_rows": null,
      "height": null,
      "justify_content": null,
      "justify_items": null,
      "left": null,
      "margin": null,
      "max_height": null,
      "max_width": null,
      "min_height": null,
      "min_width": null,
      "object_fit": null,
      "object_position": null,
      "order": null,
      "overflow": null,
      "overflow_x": null,
      "overflow_y": null,
      "padding": null,
      "right": null,
      "top": null,
      "visibility": null,
      "width": null
     }
    },
    "7b500af7e09843d5bae01fc925049ced": {
     "model_module": "@jupyter-widgets/controls",
     "model_module_version": "1.5.0",
     "model_name": "HTMLModel",
     "state": {
      "_dom_classes": [],
      "_model_module": "@jupyter-widgets/controls",
      "_model_module_version": "1.5.0",
      "_model_name": "HTMLModel",
      "_view_count": null,
      "_view_module": "@jupyter-widgets/controls",
      "_view_module_version": "1.5.0",
      "_view_name": "HTMLView",
      "description": "",
      "description_tooltip": null,
      "layout": "IPY_MODEL_4cadf19bddad40eea9c63d67d2ab282b",
      "placeholder": "​",
      "style": "IPY_MODEL_484bf9e9900543af98d19b4c8a1f7004",
      "value": " 1649664/? [00:00&lt;00:00, 3940279.85it/s]"
     }
    },
    "80522a3637c14f3d91075ce44012afed": {
     "model_module": "@jupyter-widgets/controls",
     "model_module_version": "1.5.0",
     "model_name": "DescriptionStyleModel",
     "state": {
      "_model_module": "@jupyter-widgets/controls",
      "_model_module_version": "1.5.0",
      "_model_name": "DescriptionStyleModel",
      "_view_count": null,
      "_view_module": "@jupyter-widgets/base",
      "_view_module_version": "1.2.0",
      "_view_name": "StyleView",
      "description_width": ""
     }
    },
    "80a8bcbdce0141a58efc9ba3dac4ecd3": {
     "model_module": "@jupyter-widgets/base",
     "model_module_version": "1.2.0",
     "model_name": "LayoutModel",
     "state": {
      "_model_module": "@jupyter-widgets/base",
      "_model_module_version": "1.2.0",
      "_model_name": "LayoutModel",
      "_view_count": null,
      "_view_module": "@jupyter-widgets/base",
      "_view_module_version": "1.2.0",
      "_view_name": "LayoutView",
      "align_content": null,
      "align_items": null,
      "align_self": null,
      "border": null,
      "bottom": null,
      "display": null,
      "flex": null,
      "flex_flow": null,
      "grid_area": null,
      "grid_auto_columns": null,
      "grid_auto_flow": null,
      "grid_auto_rows": null,
      "grid_column": null,
      "grid_gap": null,
      "grid_row": null,
      "grid_template_areas": null,
      "grid_template_columns": null,
      "grid_template_rows": null,
      "height": null,
      "justify_content": null,
      "justify_items": null,
      "left": null,
      "margin": null,
      "max_height": null,
      "max_width": null,
      "min_height": null,
      "min_width": null,
      "object_fit": null,
      "object_position": null,
      "order": null,
      "overflow": null,
      "overflow_x": null,
      "overflow_y": null,
      "padding": null,
      "right": null,
      "top": null,
      "visibility": null,
      "width": null
     }
    },
    "819396ee4c6f4068bc7459d606b52b71": {
     "model_module": "@jupyter-widgets/controls",
     "model_module_version": "1.5.0",
     "model_name": "HTMLModel",
     "state": {
      "_dom_classes": [],
      "_model_module": "@jupyter-widgets/controls",
      "_model_module_version": "1.5.0",
      "_model_name": "HTMLModel",
      "_view_count": null,
      "_view_module": "@jupyter-widgets/controls",
      "_view_module_version": "1.5.0",
      "_view_name": "HTMLView",
      "description": "",
      "description_tooltip": null,
      "layout": "IPY_MODEL_7794421a8a9347629ecf186f731459c4",
      "placeholder": "​",
      "style": "IPY_MODEL_58c48bfaebd241aa87e9019b59640741",
      "value": ""
     }
    },
    "832ea84b46944fe9b54417dd372bac57": {
     "model_module": "@jupyter-widgets/controls",
     "model_module_version": "1.5.0",
     "model_name": "HTMLModel",
     "state": {
      "_dom_classes": [],
      "_model_module": "@jupyter-widgets/controls",
      "_model_module_version": "1.5.0",
      "_model_name": "HTMLModel",
      "_view_count": null,
      "_view_module": "@jupyter-widgets/controls",
      "_view_module_version": "1.5.0",
      "_view_name": "HTMLView",
      "description": "",
      "description_tooltip": null,
      "layout": "IPY_MODEL_c10fd9787699498290cef0476e68487f",
      "placeholder": "​",
      "style": "IPY_MODEL_649e895ac3ac4c009b2fb0294a59e3bf",
      "value": " 9913344/? [00:00&lt;00:00, 12718728.18it/s]"
     }
    },
    "853f921d7c604cdd883a72e068525827": {
     "model_module": "@jupyter-widgets/controls",
     "model_module_version": "1.5.0",
     "model_name": "DescriptionStyleModel",
     "state": {
      "_model_module": "@jupyter-widgets/controls",
      "_model_module_version": "1.5.0",
      "_model_name": "DescriptionStyleModel",
      "_view_count": null,
      "_view_module": "@jupyter-widgets/base",
      "_view_module_version": "1.2.0",
      "_view_name": "StyleView",
      "description_width": ""
     }
    },
    "8a3b29d48606456c87c7d6c97f978020": {
     "model_module": "@jupyter-widgets/controls",
     "model_module_version": "1.5.0",
     "model_name": "HTMLModel",
     "state": {
      "_dom_classes": [],
      "_model_module": "@jupyter-widgets/controls",
      "_model_module_version": "1.5.0",
      "_model_name": "HTMLModel",
      "_view_count": null,
      "_view_module": "@jupyter-widgets/controls",
      "_view_module_version": "1.5.0",
      "_view_name": "HTMLView",
      "description": "",
      "description_tooltip": null,
      "layout": "IPY_MODEL_26c85eefc4dd4278b18cf01b12ef94ff",
      "placeholder": "​",
      "style": "IPY_MODEL_9c17a3aeb370430f8a96791a55837b8f",
      "value": " 5120/? [00:00&lt;00:00, 7077.03it/s]"
     }
    },
    "8d2577e6c7644d16b2e63f2446739044": {
     "model_module": "@jupyter-widgets/controls",
     "model_module_version": "1.5.0",
     "model_name": "FloatProgressModel",
     "state": {
      "_dom_classes": [],
      "_model_module": "@jupyter-widgets/controls",
      "_model_module_version": "1.5.0",
      "_model_name": "FloatProgressModel",
      "_view_count": null,
      "_view_module": "@jupyter-widgets/controls",
      "_view_module_version": "1.5.0",
      "_view_name": "ProgressView",
      "bar_style": "success",
      "description": "",
      "description_tooltip": null,
      "layout": "IPY_MODEL_0e8aa0e505f94aac8be3c032ca0e92b1",
      "max": 28881,
      "min": 0,
      "orientation": "horizontal",
      "style": "IPY_MODEL_6f833f37eea744308dc4d9a0e46ca619",
      "value": 28881
     }
    },
    "9c17a3aeb370430f8a96791a55837b8f": {
     "model_module": "@jupyter-widgets/controls",
     "model_module_version": "1.5.0",
     "model_name": "DescriptionStyleModel",
     "state": {
      "_model_module": "@jupyter-widgets/controls",
      "_model_module_version": "1.5.0",
      "_model_name": "DescriptionStyleModel",
      "_view_count": null,
      "_view_module": "@jupyter-widgets/base",
      "_view_module_version": "1.2.0",
      "_view_name": "StyleView",
      "description_width": ""
     }
    },
    "9e3d5391ed21491aa56a3d14ab71ac59": {
     "model_module": "@jupyter-widgets/controls",
     "model_module_version": "1.5.0",
     "model_name": "DescriptionStyleModel",
     "state": {
      "_model_module": "@jupyter-widgets/controls",
      "_model_module_version": "1.5.0",
      "_model_name": "DescriptionStyleModel",
      "_view_count": null,
      "_view_module": "@jupyter-widgets/base",
      "_view_module_version": "1.2.0",
      "_view_name": "StyleView",
      "description_width": ""
     }
    },
    "a0b9230e2a964e20ba65671943685dc3": {
     "model_module": "@jupyter-widgets/base",
     "model_module_version": "1.2.0",
     "model_name": "LayoutModel",
     "state": {
      "_model_module": "@jupyter-widgets/base",
      "_model_module_version": "1.2.0",
      "_model_name": "LayoutModel",
      "_view_count": null,
      "_view_module": "@jupyter-widgets/base",
      "_view_module_version": "1.2.0",
      "_view_name": "LayoutView",
      "align_content": null,
      "align_items": null,
      "align_self": null,
      "border": null,
      "bottom": null,
      "display": null,
      "flex": null,
      "flex_flow": null,
      "grid_area": null,
      "grid_auto_columns": null,
      "grid_auto_flow": null,
      "grid_auto_rows": null,
      "grid_column": null,
      "grid_gap": null,
      "grid_row": null,
      "grid_template_areas": null,
      "grid_template_columns": null,
      "grid_template_rows": null,
      "height": null,
      "justify_content": null,
      "justify_items": null,
      "left": null,
      "margin": null,
      "max_height": null,
      "max_width": null,
      "min_height": null,
      "min_width": null,
      "object_fit": null,
      "object_position": null,
      "order": null,
      "overflow": null,
      "overflow_x": null,
      "overflow_y": null,
      "padding": null,
      "right": null,
      "top": null,
      "visibility": null,
      "width": null
     }
    },
    "a477eeb28cd14c519a6c673d15a7c41d": {
     "model_module": "@jupyter-widgets/controls",
     "model_module_version": "1.5.0",
     "model_name": "FloatProgressModel",
     "state": {
      "_dom_classes": [],
      "_model_module": "@jupyter-widgets/controls",
      "_model_module_version": "1.5.0",
      "_model_name": "FloatProgressModel",
      "_view_count": null,
      "_view_module": "@jupyter-widgets/controls",
      "_view_module_version": "1.5.0",
      "_view_name": "ProgressView",
      "bar_style": "success",
      "description": "",
      "description_tooltip": null,
      "layout": "IPY_MODEL_ce7c9452374b41fa8593c9111a3329d7",
      "max": 9912422,
      "min": 0,
      "orientation": "horizontal",
      "style": "IPY_MODEL_5c3788a7c0984370a6e73e00b44b8c41",
      "value": 9912422
     }
    },
    "b16b0686926b4684a192119ca7667798": {
     "model_module": "@jupyter-widgets/controls",
     "model_module_version": "1.5.0",
     "model_name": "HBoxModel",
     "state": {
      "_dom_classes": [],
      "_model_module": "@jupyter-widgets/controls",
      "_model_module_version": "1.5.0",
      "_model_name": "HBoxModel",
      "_view_count": null,
      "_view_module": "@jupyter-widgets/controls",
      "_view_module_version": "1.5.0",
      "_view_name": "HBoxView",
      "box_style": "",
      "children": [
       "IPY_MODEL_3a7b949d99754f6a99cd9f07e152b829",
       "IPY_MODEL_a477eeb28cd14c519a6c673d15a7c41d",
       "IPY_MODEL_832ea84b46944fe9b54417dd372bac57"
      ],
      "layout": "IPY_MODEL_cf6ab9d44a394388b8e18f83b82768ba"
     }
    },
    "b79659be85044ab691e50b0d97b86dfc": {
     "model_module": "@jupyter-widgets/controls",
     "model_module_version": "1.5.0",
     "model_name": "HTMLModel",
     "state": {
      "_dom_classes": [],
      "_model_module": "@jupyter-widgets/controls",
      "_model_module_version": "1.5.0",
      "_model_name": "HTMLModel",
      "_view_count": null,
      "_view_module": "@jupyter-widgets/controls",
      "_view_module_version": "1.5.0",
      "_view_name": "HTMLView",
      "description": "",
      "description_tooltip": null,
      "layout": "IPY_MODEL_08947121cd6f4921911e4c28956b9af1",
      "placeholder": "​",
      "style": "IPY_MODEL_9e3d5391ed21491aa56a3d14ab71ac59",
      "value": ""
     }
    },
    "b7be8a06b346446d914b28ec7881ebd8": {
     "model_module": "@jupyter-widgets/base",
     "model_module_version": "1.2.0",
     "model_name": "LayoutModel",
     "state": {
      "_model_module": "@jupyter-widgets/base",
      "_model_module_version": "1.2.0",
      "_model_name": "LayoutModel",
      "_view_count": null,
      "_view_module": "@jupyter-widgets/base",
      "_view_module_version": "1.2.0",
      "_view_name": "LayoutView",
      "align_content": null,
      "align_items": null,
      "align_self": null,
      "border": null,
      "bottom": null,
      "display": null,
      "flex": null,
      "flex_flow": null,
      "grid_area": null,
      "grid_auto_columns": null,
      "grid_auto_flow": null,
      "grid_auto_rows": null,
      "grid_column": null,
      "grid_gap": null,
      "grid_row": null,
      "grid_template_areas": null,
      "grid_template_columns": null,
      "grid_template_rows": null,
      "height": null,
      "justify_content": null,
      "justify_items": null,
      "left": null,
      "margin": null,
      "max_height": null,
      "max_width": null,
      "min_height": null,
      "min_width": null,
      "object_fit": null,
      "object_position": null,
      "order": null,
      "overflow": null,
      "overflow_x": null,
      "overflow_y": null,
      "padding": null,
      "right": null,
      "top": null,
      "visibility": null,
      "width": null
     }
    },
    "c10fd9787699498290cef0476e68487f": {
     "model_module": "@jupyter-widgets/base",
     "model_module_version": "1.2.0",
     "model_name": "LayoutModel",
     "state": {
      "_model_module": "@jupyter-widgets/base",
      "_model_module_version": "1.2.0",
      "_model_name": "LayoutModel",
      "_view_count": null,
      "_view_module": "@jupyter-widgets/base",
      "_view_module_version": "1.2.0",
      "_view_name": "LayoutView",
      "align_content": null,
      "align_items": null,
      "align_self": null,
      "border": null,
      "bottom": null,
      "display": null,
      "flex": null,
      "flex_flow": null,
      "grid_area": null,
      "grid_auto_columns": null,
      "grid_auto_flow": null,
      "grid_auto_rows": null,
      "grid_column": null,
      "grid_gap": null,
      "grid_row": null,
      "grid_template_areas": null,
      "grid_template_columns": null,
      "grid_template_rows": null,
      "height": null,
      "justify_content": null,
      "justify_items": null,
      "left": null,
      "margin": null,
      "max_height": null,
      "max_width": null,
      "min_height": null,
      "min_width": null,
      "object_fit": null,
      "object_position": null,
      "order": null,
      "overflow": null,
      "overflow_x": null,
      "overflow_y": null,
      "padding": null,
      "right": null,
      "top": null,
      "visibility": null,
      "width": null
     }
    },
    "ca2978c3e01d4b0fb3aea7b92f9a2df3": {
     "model_module": "@jupyter-widgets/base",
     "model_module_version": "1.2.0",
     "model_name": "LayoutModel",
     "state": {
      "_model_module": "@jupyter-widgets/base",
      "_model_module_version": "1.2.0",
      "_model_name": "LayoutModel",
      "_view_count": null,
      "_view_module": "@jupyter-widgets/base",
      "_view_module_version": "1.2.0",
      "_view_name": "LayoutView",
      "align_content": null,
      "align_items": null,
      "align_self": null,
      "border": null,
      "bottom": null,
      "display": null,
      "flex": null,
      "flex_flow": null,
      "grid_area": null,
      "grid_auto_columns": null,
      "grid_auto_flow": null,
      "grid_auto_rows": null,
      "grid_column": null,
      "grid_gap": null,
      "grid_row": null,
      "grid_template_areas": null,
      "grid_template_columns": null,
      "grid_template_rows": null,
      "height": null,
      "justify_content": null,
      "justify_items": null,
      "left": null,
      "margin": null,
      "max_height": null,
      "max_width": null,
      "min_height": null,
      "min_width": null,
      "object_fit": null,
      "object_position": null,
      "order": null,
      "overflow": null,
      "overflow_x": null,
      "overflow_y": null,
      "padding": null,
      "right": null,
      "top": null,
      "visibility": null,
      "width": null
     }
    },
    "ce7c9452374b41fa8593c9111a3329d7": {
     "model_module": "@jupyter-widgets/base",
     "model_module_version": "1.2.0",
     "model_name": "LayoutModel",
     "state": {
      "_model_module": "@jupyter-widgets/base",
      "_model_module_version": "1.2.0",
      "_model_name": "LayoutModel",
      "_view_count": null,
      "_view_module": "@jupyter-widgets/base",
      "_view_module_version": "1.2.0",
      "_view_name": "LayoutView",
      "align_content": null,
      "align_items": null,
      "align_self": null,
      "border": null,
      "bottom": null,
      "display": null,
      "flex": null,
      "flex_flow": null,
      "grid_area": null,
      "grid_auto_columns": null,
      "grid_auto_flow": null,
      "grid_auto_rows": null,
      "grid_column": null,
      "grid_gap": null,
      "grid_row": null,
      "grid_template_areas": null,
      "grid_template_columns": null,
      "grid_template_rows": null,
      "height": null,
      "justify_content": null,
      "justify_items": null,
      "left": null,
      "margin": null,
      "max_height": null,
      "max_width": null,
      "min_height": null,
      "min_width": null,
      "object_fit": null,
      "object_position": null,
      "order": null,
      "overflow": null,
      "overflow_x": null,
      "overflow_y": null,
      "padding": null,
      "right": null,
      "top": null,
      "visibility": null,
      "width": null
     }
    },
    "cf6ab9d44a394388b8e18f83b82768ba": {
     "model_module": "@jupyter-widgets/base",
     "model_module_version": "1.2.0",
     "model_name": "LayoutModel",
     "state": {
      "_model_module": "@jupyter-widgets/base",
      "_model_module_version": "1.2.0",
      "_model_name": "LayoutModel",
      "_view_count": null,
      "_view_module": "@jupyter-widgets/base",
      "_view_module_version": "1.2.0",
      "_view_name": "LayoutView",
      "align_content": null,
      "align_items": null,
      "align_self": null,
      "border": null,
      "bottom": null,
      "display": null,
      "flex": null,
      "flex_flow": null,
      "grid_area": null,
      "grid_auto_columns": null,
      "grid_auto_flow": null,
      "grid_auto_rows": null,
      "grid_column": null,
      "grid_gap": null,
      "grid_row": null,
      "grid_template_areas": null,
      "grid_template_columns": null,
      "grid_template_rows": null,
      "height": null,
      "justify_content": null,
      "justify_items": null,
      "left": null,
      "margin": null,
      "max_height": null,
      "max_width": null,
      "min_height": null,
      "min_width": null,
      "object_fit": null,
      "object_position": null,
      "order": null,
      "overflow": null,
      "overflow_x": null,
      "overflow_y": null,
      "padding": null,
      "right": null,
      "top": null,
      "visibility": null,
      "width": null
     }
    },
    "d1b78b53595c42468f80023ef958d2bd": {
     "model_module": "@jupyter-widgets/base",
     "model_module_version": "1.2.0",
     "model_name": "LayoutModel",
     "state": {
      "_model_module": "@jupyter-widgets/base",
      "_model_module_version": "1.2.0",
      "_model_name": "LayoutModel",
      "_view_count": null,
      "_view_module": "@jupyter-widgets/base",
      "_view_module_version": "1.2.0",
      "_view_name": "LayoutView",
      "align_content": null,
      "align_items": null,
      "align_self": null,
      "border": null,
      "bottom": null,
      "display": null,
      "flex": null,
      "flex_flow": null,
      "grid_area": null,
      "grid_auto_columns": null,
      "grid_auto_flow": null,
      "grid_auto_rows": null,
      "grid_column": null,
      "grid_gap": null,
      "grid_row": null,
      "grid_template_areas": null,
      "grid_template_columns": null,
      "grid_template_rows": null,
      "height": null,
      "justify_content": null,
      "justify_items": null,
      "left": null,
      "margin": null,
      "max_height": null,
      "max_width": null,
      "min_height": null,
      "min_width": null,
      "object_fit": null,
      "object_position": null,
      "order": null,
      "overflow": null,
      "overflow_x": null,
      "overflow_y": null,
      "padding": null,
      "right": null,
      "top": null,
      "visibility": null,
      "width": null
     }
    },
    "d50e5f6ebdde4736bd125c9e25cbc15b": {
     "model_module": "@jupyter-widgets/controls",
     "model_module_version": "1.5.0",
     "model_name": "HBoxModel",
     "state": {
      "_dom_classes": [],
      "_model_module": "@jupyter-widgets/controls",
      "_model_module_version": "1.5.0",
      "_model_name": "HBoxModel",
      "_view_count": null,
      "_view_module": "@jupyter-widgets/controls",
      "_view_module_version": "1.5.0",
      "_view_name": "HBoxView",
      "box_style": "",
      "children": [
       "IPY_MODEL_f673074f75174e0ca9784fe9ed57b972",
       "IPY_MODEL_8d2577e6c7644d16b2e63f2446739044",
       "IPY_MODEL_253e838578fd4f648a75157acd315cc1"
      ],
      "layout": "IPY_MODEL_b7be8a06b346446d914b28ec7881ebd8"
     }
    },
    "db838d6fab9141099b65d6b7036425f8": {
     "model_module": "@jupyter-widgets/controls",
     "model_module_version": "1.5.0",
     "model_name": "HBoxModel",
     "state": {
      "_dom_classes": [],
      "_model_module": "@jupyter-widgets/controls",
      "_model_module_version": "1.5.0",
      "_model_name": "HBoxModel",
      "_view_count": null,
      "_view_module": "@jupyter-widgets/controls",
      "_view_module_version": "1.5.0",
      "_view_name": "HBoxView",
      "box_style": "",
      "children": [
       "IPY_MODEL_819396ee4c6f4068bc7459d606b52b71",
       "IPY_MODEL_16fd7919c3c743118ca5c0fb9492b89a",
       "IPY_MODEL_8a3b29d48606456c87c7d6c97f978020"
      ],
      "layout": "IPY_MODEL_ca2978c3e01d4b0fb3aea7b92f9a2df3"
     }
    },
    "e5e69d76a4b34c5ca5e2876ac6c71998": {
     "model_module": "@jupyter-widgets/controls",
     "model_module_version": "1.5.0",
     "model_name": "DescriptionStyleModel",
     "state": {
      "_model_module": "@jupyter-widgets/controls",
      "_model_module_version": "1.5.0",
      "_model_name": "DescriptionStyleModel",
      "_view_count": null,
      "_view_module": "@jupyter-widgets/base",
      "_view_module_version": "1.2.0",
      "_view_name": "StyleView",
      "description_width": ""
     }
    },
    "ea61e7f36ad145b88291419b0f863711": {
     "model_module": "@jupyter-widgets/base",
     "model_module_version": "1.2.0",
     "model_name": "LayoutModel",
     "state": {
      "_model_module": "@jupyter-widgets/base",
      "_model_module_version": "1.2.0",
      "_model_name": "LayoutModel",
      "_view_count": null,
      "_view_module": "@jupyter-widgets/base",
      "_view_module_version": "1.2.0",
      "_view_name": "LayoutView",
      "align_content": null,
      "align_items": null,
      "align_self": null,
      "border": null,
      "bottom": null,
      "display": null,
      "flex": null,
      "flex_flow": null,
      "grid_area": null,
      "grid_auto_columns": null,
      "grid_auto_flow": null,
      "grid_auto_rows": null,
      "grid_column": null,
      "grid_gap": null,
      "grid_row": null,
      "grid_template_areas": null,
      "grid_template_columns": null,
      "grid_template_rows": null,
      "height": null,
      "justify_content": null,
      "justify_items": null,
      "left": null,
      "margin": null,
      "max_height": null,
      "max_width": null,
      "min_height": null,
      "min_width": null,
      "object_fit": null,
      "object_position": null,
      "order": null,
      "overflow": null,
      "overflow_x": null,
      "overflow_y": null,
      "padding": null,
      "right": null,
      "top": null,
      "visibility": null,
      "width": null
     }
    },
    "ed4375c510a244b592221887e62d6de6": {
     "model_module": "@jupyter-widgets/controls",
     "model_module_version": "1.5.0",
     "model_name": "HBoxModel",
     "state": {
      "_dom_classes": [],
      "_model_module": "@jupyter-widgets/controls",
      "_model_module_version": "1.5.0",
      "_model_name": "HBoxModel",
      "_view_count": null,
      "_view_module": "@jupyter-widgets/controls",
      "_view_module_version": "1.5.0",
      "_view_name": "HBoxView",
      "box_style": "",
      "children": [
       "IPY_MODEL_b79659be85044ab691e50b0d97b86dfc",
       "IPY_MODEL_ed5d315b03c84d9794debd9021bdb409",
       "IPY_MODEL_7b500af7e09843d5bae01fc925049ced"
      ],
      "layout": "IPY_MODEL_ea61e7f36ad145b88291419b0f863711"
     }
    },
    "ed5d315b03c84d9794debd9021bdb409": {
     "model_module": "@jupyter-widgets/controls",
     "model_module_version": "1.5.0",
     "model_name": "FloatProgressModel",
     "state": {
      "_dom_classes": [],
      "_model_module": "@jupyter-widgets/controls",
      "_model_module_version": "1.5.0",
      "_model_name": "FloatProgressModel",
      "_view_count": null,
      "_view_module": "@jupyter-widgets/controls",
      "_view_module_version": "1.5.0",
      "_view_name": "ProgressView",
      "bar_style": "success",
      "description": "",
      "description_tooltip": null,
      "layout": "IPY_MODEL_ff2c547ffb2a4b98adef1dbdf46f81f1",
      "max": 1648877,
      "min": 0,
      "orientation": "horizontal",
      "style": "IPY_MODEL_57a2f4e854c94fc38546b88888830ece",
      "value": 1648877
     }
    },
    "f673074f75174e0ca9784fe9ed57b972": {
     "model_module": "@jupyter-widgets/controls",
     "model_module_version": "1.5.0",
     "model_name": "HTMLModel",
     "state": {
      "_dom_classes": [],
      "_model_module": "@jupyter-widgets/controls",
      "_model_module_version": "1.5.0",
      "_model_name": "HTMLModel",
      "_view_count": null,
      "_view_module": "@jupyter-widgets/controls",
      "_view_module_version": "1.5.0",
      "_view_name": "HTMLView",
      "description": "",
      "description_tooltip": null,
      "layout": "IPY_MODEL_80a8bcbdce0141a58efc9ba3dac4ecd3",
      "placeholder": "​",
      "style": "IPY_MODEL_853f921d7c604cdd883a72e068525827",
      "value": ""
     }
    },
    "ff2c547ffb2a4b98adef1dbdf46f81f1": {
     "model_module": "@jupyter-widgets/base",
     "model_module_version": "1.2.0",
     "model_name": "LayoutModel",
     "state": {
      "_model_module": "@jupyter-widgets/base",
      "_model_module_version": "1.2.0",
      "_model_name": "LayoutModel",
      "_view_count": null,
      "_view_module": "@jupyter-widgets/base",
      "_view_module_version": "1.2.0",
      "_view_name": "LayoutView",
      "align_content": null,
      "align_items": null,
      "align_self": null,
      "border": null,
      "bottom": null,
      "display": null,
      "flex": null,
      "flex_flow": null,
      "grid_area": null,
      "grid_auto_columns": null,
      "grid_auto_flow": null,
      "grid_auto_rows": null,
      "grid_column": null,
      "grid_gap": null,
      "grid_row": null,
      "grid_template_areas": null,
      "grid_template_columns": null,
      "grid_template_rows": null,
      "height": null,
      "justify_content": null,
      "justify_items": null,
      "left": null,
      "margin": null,
      "max_height": null,
      "max_width": null,
      "min_height": null,
      "min_width": null,
      "object_fit": null,
      "object_position": null,
      "order": null,
      "overflow": null,
      "overflow_x": null,
      "overflow_y": null,
      "padding": null,
      "right": null,
      "top": null,
      "visibility": null,
      "width": null
     }
    }
   }
  }
 },
 "nbformat": 4,
 "nbformat_minor": 0
}
