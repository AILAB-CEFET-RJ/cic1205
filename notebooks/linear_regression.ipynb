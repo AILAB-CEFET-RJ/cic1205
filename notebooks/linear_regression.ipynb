{
 "cells": [
  {
   "cell_type": "markdown",
   "metadata": {},
   "source": [
    "## Option 1: Linear Regression using the Normal Equation\n",
    "\n",
    "This option implement linear regression using the Normal Equation to find the best fit line for the synthetic data."
   ]
  },
  {
   "cell_type": "code",
   "execution_count": 2,
   "metadata": {},
   "outputs": [],
   "source": [
    "import numpy as np\n",
    "\n",
    "# Set the random seed for reproducibility\n",
    "np.random.seed(0)\n",
    "\n",
    "# Generate synthetic square feet data (feature)\n",
    "square_feet = np.random.uniform(500, 4000, 100)  # random values between 500 and 4000\n",
    "\n",
    "# Define the true relationship (e.g., price per square foot is 300, with a base price of 50,000)\n",
    "base_price = 50000\n",
    "price_per_sqft = 300\n",
    "\n",
    "# Generate the target values with some noise\n",
    "noise = np.random.normal(0, 20000, 100)  # adding some noise\n",
    "house_price = base_price + price_per_sqft * square_feet + noise"
   ]
  },
  {
   "cell_type": "code",
   "execution_count": 5,
   "metadata": {},
   "outputs": [
    {
     "name": "stdout",
     "output_type": "stream",
     "text": [
      "Intercept (theta_0): 54623.20720208263\n",
      "Slope (theta_1): 299.6396286937254\n"
     ]
    }
   ],
   "source": [
    "# Add bias term to the feature matrix\n",
    "X = np.c_[np.ones(square_feet.shape[0]), square_feet]  # Adding a column of ones for the intercept term\n",
    "y = house_price.reshape(-1, 1)  # Target variable in column vector form\n",
    "\n",
    "# Calculate the parameters using the Normal Equation\n",
    "theta = np.linalg.inv(X.T.dot(X)).dot(X.T).dot(y)\n",
    "\n",
    "# Print the parameters\n",
    "print(f\"Intercept (theta_0): {theta[0][0]}\")\n",
    "print(f\"Slope (theta_1): {theta[1][0]}\")\n"
   ]
  },
  {
   "cell_type": "code",
   "execution_count": 6,
   "metadata": {},
   "outputs": [
    {
     "name": "stdout",
     "output_type": "stream",
     "text": [
      "Predicted house price for 2000 square feet: $653902.46\n"
     ]
    }
   ],
   "source": [
    "def predict(square_feet):\n",
    "    return theta[0][0] + theta[1][0] * square_feet\n",
    "\n",
    "# Example prediction\n",
    "sample_square_feet = 2000\n",
    "predicted_price = predict(sample_square_feet)\n",
    "print(f\"Predicted house price for {sample_square_feet} square feet: ${predicted_price:.2f}\")\n"
   ]
  },
  {
   "cell_type": "markdown",
   "metadata": {},
   "source": [
    "## Option 2: Linear Regression using Gradient Descent\n",
    "\n",
    "This version implements linear regression using gradient descent, where the parameters `theta_0` (intercept) and `theta_1` (slope) are iteratively updated. If the learning rate is too small, convergence may take longer; if it’s too high, the model may not converge at all. Adjust learning_rate and iterations to find a good balance."
   ]
  },
  {
   "cell_type": "code",
   "execution_count": 7,
   "metadata": {},
   "outputs": [],
   "source": [
    "import numpy as np\n",
    "\n",
    "# Set the random seed for reproducibility\n",
    "np.random.seed(0)\n",
    "\n",
    "# Generate synthetic square feet data (feature)\n",
    "square_feet = np.random.uniform(500, 4000, 100)  # random values between 500 and 4000\n",
    "\n",
    "# Define the true relationship (e.g., price per square foot is 300, with a base price of 50,000)\n",
    "base_price = 50000\n",
    "price_per_sqft = 300\n",
    "\n",
    "# Generate the target values with some noise\n",
    "noise = np.random.normal(0, 20000, 100)  # adding some noise\n",
    "house_price = base_price + price_per_sqft * square_feet + noise\n"
   ]
  },
  {
   "cell_type": "markdown",
   "metadata": {},
   "source": [
    "For gradient descent, we’ll initialize the parameters and iteratively update them based on the gradient of the loss function."
   ]
  },
  {
   "cell_type": "code",
   "execution_count": 8,
   "metadata": {},
   "outputs": [
    {
     "name": "stdout",
     "output_type": "stream",
     "text": [
      "Intercept (theta_0): 1.104363188714821\n",
      "Slope (theta_1): 320.4297820144939\n"
     ]
    }
   ],
   "source": [
    "# Hyperparameters for gradient descent\n",
    "learning_rate = 0.0000001\n",
    "iterations = 1000\n",
    "\n",
    "# Initialize parameters\n",
    "theta_0 = 0  # intercept\n",
    "theta_1 = 0  # slope\n",
    "\n",
    "# Convert the data to match the gradient descent approach\n",
    "X = square_feet\n",
    "y = house_price\n",
    "m = len(y)  # number of data points\n",
    "\n",
    "# Gradient descent loop\n",
    "for _ in range(iterations):\n",
    "    # Compute predictions\n",
    "    y_pred = theta_0 + theta_1 * X\n",
    "\n",
    "    # Calculate the gradients\n",
    "    d_theta_0 = (1 / m) * np.sum(y_pred - y)\n",
    "    d_theta_1 = (1 / m) * np.sum((y_pred - y) * X)\n",
    "\n",
    "    # Update parameters\n",
    "    theta_0 -= learning_rate * d_theta_0\n",
    "    theta_1 -= learning_rate * d_theta_1\n",
    "\n",
    "# Print the final parameters\n",
    "print(f\"Intercept (theta_0): {theta_0}\")\n",
    "print(f\"Slope (theta_1): {theta_1}\")\n"
   ]
  },
  {
   "cell_type": "markdown",
   "metadata": {},
   "source": [
    "With the parameters learned from gradient descent, we can predict the house price for a new `square_feet` value."
   ]
  },
  {
   "cell_type": "code",
   "execution_count": 9,
   "metadata": {},
   "outputs": [
    {
     "name": "stdout",
     "output_type": "stream",
     "text": [
      "Predicted house price for 2000 square feet: $640860.67\n"
     ]
    }
   ],
   "source": [
    "def predict(square_feet):\n",
    "    return theta_0 + theta_1 * square_feet\n",
    "\n",
    "# Example prediction\n",
    "sample_square_feet = 2000\n",
    "predicted_price = predict(sample_square_feet)\n",
    "print(f\"Predicted house price for {sample_square_feet} square feet: ${predicted_price:.2f}\")\n"
   ]
  }
 ],
 "metadata": {
  "kernelspec": {
   "display_name": "cic1205",
   "language": "python",
   "name": "python3"
  },
  "language_info": {
   "codemirror_mode": {
    "name": "ipython",
    "version": 3
   },
   "file_extension": ".py",
   "mimetype": "text/x-python",
   "name": "python",
   "nbconvert_exporter": "python",
   "pygments_lexer": "ipython3",
   "version": "3.12.0"
  }
 },
 "nbformat": 4,
 "nbformat_minor": 2
}
